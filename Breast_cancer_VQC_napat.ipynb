{
 "cells": [
  {
   "cell_type": "markdown",
   "metadata": {},
   "source": [
    "# The breast cancer dataset\n",
    "Now we run our algorithm with the real-world dataset: the breast cancer dataset, we use the first two principal components as features."
   ]
  },
  {
   "cell_type": "code",
   "execution_count": 60,
   "metadata": {},
   "outputs": [],
   "source": [
    "import matplotlib.pyplot as plt\n",
    "import numpy as np\n",
    "from qiskit import BasicAer\n",
    "from qiskit.ml.datasets import *\n",
    "from qiskit.circuit.library import ZZFeatureMap\n",
    "from qiskit.aqua.components.feature_maps import SecondOrderExpansion\n",
    "from qiskit.aqua.utils import split_dataset_to_data_and_labels, map_label_to_class_name\n",
    "from qiskit.aqua import QuantumInstance\n",
    "from qiskit.aqua.algorithms import QSVM\n",
    "from qiskit.aqua.components import variational_forms\n",
    "from qiskit.aqua.components.optimizers import COBYLA\n",
    "\n",
    "# setup aqua logging\n",
    "import logging\n",
    "from qiskit.aqua import set_qiskit_aqua_logging\n",
    "set_qiskit_aqua_logging(logging.DEBUG)  # choose INFO, DEBUG to see the log"
   ]
  },
  {
   "cell_type": "code",
   "execution_count": 2,
   "metadata": {},
   "outputs": [],
   "source": [
    "import pandas as pd\n",
    "\n",
    "# Read stuff\n",
    "df = pd.read_csv('breast-cancer.data', header=None, \n",
    "                 names=['target','age', 'menopause', 'tumor-size','inv-nodes','node-caps','deg-malig','breast','breast-quad', 'irradiat'])"
   ]
  },
  {
   "cell_type": "code",
   "execution_count": 3,
   "metadata": {},
   "outputs": [],
   "source": [
    "from sklearn import preprocessing\n",
    "\n",
    "# Encode to number\n",
    "for col in df.columns:\n",
    "    le = preprocessing.LabelEncoder().fit(df[col])\n",
    "    df[col] = le.transform(df[col])"
   ]
  },
  {
   "cell_type": "code",
   "execution_count": 4,
   "metadata": {},
   "outputs": [],
   "source": [
    "# Split data and target\n",
    "df_data = df.drop(['target'], axis=1)\n",
    "y = df.target"
   ]
  },
  {
   "cell_type": "code",
   "execution_count": 5,
   "metadata": {},
   "outputs": [],
   "source": [
    "from sklearn.model_selection import train_test_split\n",
    "\n",
    "np.random.seed(123123)\n",
    "\n",
    "# Split train, test\n",
    "df_train, df_test, y_train, y_test = train_test_split(df_data, y.values, test_size=0.2)"
   ]
  },
  {
   "cell_type": "code",
   "execution_count": 6,
   "metadata": {},
   "outputs": [
    {
     "data": {
      "text/plain": [
       "RandomForestClassifier(bootstrap=True, ccp_alpha=0.0, class_weight=None,\n",
       "                       criterion='gini', max_depth=None, max_features='auto',\n",
       "                       max_leaf_nodes=None, max_samples=None,\n",
       "                       min_impurity_decrease=0.0, min_impurity_split=None,\n",
       "                       min_samples_leaf=1, min_samples_split=2,\n",
       "                       min_weight_fraction_leaf=0.0, n_estimators=100,\n",
       "                       n_jobs=None, oob_score=False, random_state=None,\n",
       "                       verbose=0, warm_start=False)"
      ]
     },
     "execution_count": 6,
     "metadata": {},
     "output_type": "execute_result"
    }
   ],
   "source": [
    "from sklearn.ensemble import RandomForestClassifier\n",
    "\n",
    "model = RandomForestClassifier()\n",
    "\n",
    "model.fit(df_train, y_train)"
   ]
  },
  {
   "cell_type": "code",
   "execution_count": 7,
   "metadata": {},
   "outputs": [
    {
     "data": {
      "text/plain": [
       "0.7758620689655172"
      ]
     },
     "execution_count": 7,
     "metadata": {},
     "output_type": "execute_result"
    }
   ],
   "source": [
    "# Test score\n",
    "model.score(df_test, y_test)"
   ]
  },
  {
   "cell_type": "code",
   "execution_count": 8,
   "metadata": {},
   "outputs": [
    {
     "data": {
      "text/plain": [
       "0.38095238095238093"
      ]
     },
     "execution_count": 8,
     "metadata": {},
     "output_type": "execute_result"
    }
   ],
   "source": [
    "# F1 score \n",
    "from sklearn.metrics import f1_score\n",
    "\n",
    "f1_score(y_test, model.predict(df_test))"
   ]
  },
  {
   "cell_type": "code",
   "execution_count": 9,
   "metadata": {},
   "outputs": [
    {
     "data": {
      "text/plain": [
       "<BarContainer object of 9 artists>"
      ]
     },
     "execution_count": 9,
     "metadata": {},
     "output_type": "execute_result"
    },
    {
     "data": {
      "image/png": "[encoded data removed]",
      "text/plain": [
       "<Figure size 720x576 with 1 Axes>"
      ]
     },
     "metadata": {},
     "output_type": "display_data"
    }
   ],
   "source": [
    "plt.figure(figsize=(10,8))\n",
    "plt.bar(df_train.columns, model.feature_importances_)"
   ]
  },
  {
   "cell_type": "markdown",
   "metadata": {},
   "source": [
    "# Quantum dude"
   ]
  },
  {
   "cell_type": "code",
   "execution_count": 158,
   "metadata": {},
   "outputs": [],
   "source": [
    "# Get most important col\n",
    "# 2 columns\n",
    "col_num = 3\n",
    "# mvp_col = [x[1] for x in sorted(zip(model.feature_importances_, df.columns), reverse=True)[:col_num]]\n",
    "mvp_col = ['tumor-size', 'breast-quad', 'deg-malig']"
   ]
  },
  {
   "cell_type": "code",
   "execution_count": 159,
   "metadata": {},
   "outputs": [],
   "source": [
    "# Get only MVP columns\n",
    "\n",
    "df_train_q = df_train[mvp_col].values\n",
    "df_test_q = df_test[mvp_col].values"
   ]
  },
  {
   "cell_type": "code",
   "execution_count": 148,
   "metadata": {},
   "outputs": [
    {
     "name": "stderr",
     "output_type": "stream",
     "text": [
      "ibmqfactory.load_account:WARNING:2020-07-07 22:07:35,564: Credentials are already in use. The existing account in the session will be replaced.\n"
     ]
    }
   ],
   "source": [
    "from qiskit import IBMQ\n",
    "provider = IBMQ.load_account()"
   ]
  },
  {
   "cell_type": "code",
   "execution_count": 149,
   "metadata": {},
   "outputs": [],
   "source": [
    "# Choose balance 50 sample\n",
    "# 25 pos, 25 neg\n",
    "\n",
    "np.random.seed(777)\n",
    "\n",
    "pos_sample = 30\n",
    "neg_sample = 30\n",
    "\n",
    "pos_label = np.argwhere(y_train == 1).reshape([-1])\n",
    "chosen_pos_label_idx = pos_label[np.random.permutation(len(pos_label))[:pos_sample]]\n",
    "\n",
    "neg_label = np.argwhere(y_train == 0).reshape([-1])\n",
    "chosen_neg_label_idx = neg_label[np.random.permutation(len(neg_label))[:neg_sample]]\n",
    "\n",
    "# Construct dict to feed QSVM\n",
    "training_input = {\n",
    "    0: df_train_q[chosen_neg_label_idx],\n",
    "    1: df_train_q[chosen_pos_label_idx]\n",
    "}\n",
    "\n",
    "test_input = {\n",
    "    0: df_test_q[y_test == 0],\n",
    "    1: df_test_q[y_test == 1]\n",
    "}\n",
    "\n"
   ]
  },
  {
   "cell_type": "code",
   "execution_count": 161,
   "metadata": {},
   "outputs": [],
   "source": [
    "def double(x):\n",
    "    return np.concatenate([x, x], axis=0)\n",
    "\n",
    "# len(double(df_train_encode[y_train == 0]))"
   ]
  },
  {
   "cell_type": "code",
   "execution_count": 162,
   "metadata": {},
   "outputs": [],
   "source": [
    "training_input = {\n",
    "    0: df_train_q[y_train == 0],\n",
    "    1: double(df_train_q[y_train == 1])\n",
    "}\n",
    "\n",
    "test_input = {\n",
    "    0: df_test_q[y_test == 0],\n",
    "    1: df_test_q[y_test == 1]\n",
    "}"
   ]
  },
  {
   "cell_type": "code",
   "execution_count": 154,
   "metadata": {
    "scrolled": true
   },
   "outputs": [
    {
     "data": {
      "text/plain": [
       "(138, 3)"
      ]
     },
     "execution_count": 154,
     "metadata": {},
     "output_type": "execute_result"
    }
   ],
   "source": [
    "training_input[1].shape"
   ]
  },
  {
   "cell_type": "code",
   "execution_count": 163,
   "metadata": {
    "scrolled": true
   },
   "outputs": [
    {
     "name": "stderr",
     "output_type": "stream",
     "text": [
      "/Users/barnrang/miniconda3/envs/liigo/lib/python3.6/site-packages/ipykernel_launcher.py:6: DeprecationWarning: The qiskit.aqua.components.variational_forms.RYRZ object is deprecated as of 0.7.0 and will be removed no sooner than 3 months after the release. You should use qiskit.circuit.library.EfficientSU2 (uses CX entangling) or qiskit.circuit.library.TwoLocal instead.\n",
      "  \n",
      "/Users/barnrang/miniconda3/envs/liigo/lib/python3.6/site-packages/ipykernel_launcher.py:10: DeprecationWarning: \n",
      "            The <class 'qiskit.circuit.library.data_preparation.zz_feature_map.ZZFeatureMap'> object as input for the VQC is deprecated as of 0.7.0 and will\n",
      "            be removed no earlier than 3 months after the release.\n",
      "            You should pass a QuantumCircuit object instead.\n",
      "            See also qiskit.circuit.library.n_local for a collection\n",
      "            of suitable circuits.\n",
      "  # Remove the CWD from sys.path while we load stuff.\n",
      "2020-07-07 22:18:42,519:qiskit.aqua.quantum_instance:INFO: \n",
      "Qiskit Terra version: 0.14.1\n",
      "Backend: 'qasm_simulator (BasicAer)', with following setting:\n",
      "{'basis_gates': ['u1', 'u2', 'u3', 'cx', 'id', 'unitary'], 'coupling_map': None}\n",
      "{'pass_manager': None, 'initial_layout': None, 'seed_transpiler': 10598, 'optimization_level': 3}\n",
      "RunConfig(max_credits=10, seed_simulator=10598, shots=1024)\n",
      "{'timeout': None}\n",
      "{}\n",
      "{}\n",
      "Measurement mitigation: None\n",
      "2020-07-07 22:18:42,521:qiskit.aqua.algorithms.vq_algorithm:INFO: Starting optimizer.\n",
      "bounds=[(-3.141592653589793, 3.141592653589793), (-3.141592653589793, 3.141592653589793), (-3.141592653589793, 3.141592653589793), (-3.141592653589793, 3.141592653589793), (-3.141592653589793, 3.141592653589793), (-3.141592653589793, 3.141592653589793), (-3.141592653589793, 3.141592653589793), (-3.141592653589793, 3.141592653589793), (-3.141592653589793, 3.141592653589793), (-3.141592653589793, 3.141592653589793), (-3.141592653589793, 3.141592653589793), (-3.141592653589793, 3.141592653589793), (-3.141592653589793, 3.141592653589793), (-3.141592653589793, 3.141592653589793), (-3.141592653589793, 3.141592653589793), (-3.141592653589793, 3.141592653589793)]\n",
      "initial point=[-0.31692054  0.19679875 -0.41147716  1.26086425  0.51111147 -0.86125485\n",
      " -2.57423814  1.21332657 -0.91835996 -0.42676877  1.19313492  0.99792732\n",
      " -0.22368386  0.32584174  0.43662589 -0.45915999]\n",
      "2020-07-07 22:18:42,524:qiskit.aqua.components.optimizers.optimizer:DEBUG: WARNING: COBYLA does not support bounds. It will be ignored.\n",
      "2020-07-07 22:18:48,587:qiskit.aqua.algorithms.classifiers.vqc:DEBUG: Intermediate batch cost: 0.8380526013625182\n",
      "2020-07-07 22:18:53,991:qiskit.aqua.algorithms.classifiers.vqc:DEBUG: Intermediate batch cost: 0.8193107553525486\n",
      "2020-07-07 22:18:59,575:qiskit.aqua.algorithms.classifiers.vqc:DEBUG: Intermediate batch cost: 0.8569451018170116\n",
      "2020-07-07 22:19:04,744:qiskit.aqua.algorithms.classifiers.vqc:DEBUG: Intermediate batch cost: 0.8497406543045105\n",
      "2020-07-07 22:19:10,053:qiskit.aqua.algorithms.classifiers.vqc:DEBUG: Intermediate batch cost: 0.8704721830743186\n",
      "2020-07-07 22:19:15,519:qiskit.aqua.algorithms.classifiers.vqc:DEBUG: Intermediate batch cost: 0.7902179516065113\n",
      "2020-07-07 22:19:20,838:qiskit.aqua.algorithms.classifiers.vqc:DEBUG: Intermediate batch cost: 0.7881260098757817\n",
      "2020-07-07 22:19:25,938:qiskit.aqua.algorithms.classifiers.vqc:DEBUG: Intermediate batch cost: 0.7640666979999967\n",
      "2020-07-07 22:19:30,938:qiskit.aqua.algorithms.classifiers.vqc:DEBUG: Intermediate batch cost: 0.7184541928448142\n",
      "2020-07-07 22:19:36,839:qiskit.aqua.algorithms.classifiers.vqc:DEBUG: Intermediate batch cost: 0.6942762152581468\n",
      "2020-07-07 22:19:41,809:qiskit.aqua.algorithms.classifiers.vqc:DEBUG: Intermediate batch cost: 0.6917000747762376\n",
      "2020-07-07 22:19:47,014:qiskit.aqua.algorithms.classifiers.vqc:DEBUG: Intermediate batch cost: 0.6960878000532722\n",
      "2020-07-07 22:19:51,988:qiskit.aqua.algorithms.classifiers.vqc:DEBUG: Intermediate batch cost: 0.6917863163433121\n",
      "2020-07-07 22:19:57,125:qiskit.aqua.algorithms.classifiers.vqc:DEBUG: Intermediate batch cost: 0.6810898124091421\n",
      "2020-07-07 22:20:02,920:qiskit.aqua.algorithms.classifiers.vqc:DEBUG: Intermediate batch cost: 0.6810898124091421\n",
      "2020-07-07 22:20:07,977:qiskit.aqua.algorithms.classifiers.vqc:DEBUG: Intermediate batch cost: 0.7080252530114299\n",
      "2020-07-07 22:20:13,144:qiskit.aqua.algorithms.classifiers.vqc:DEBUG: Intermediate batch cost: 0.6810898124091421\n",
      "2020-07-07 22:20:18,590:qiskit.aqua.algorithms.classifiers.vqc:DEBUG: Intermediate batch cost: 0.7749531798022867\n",
      "2020-07-07 22:20:25,629:qiskit.aqua.algorithms.classifiers.vqc:DEBUG: Intermediate batch cost: 0.7055522034026309\n",
      "2020-07-07 22:20:32,008:qiskit.aqua.algorithms.classifiers.vqc:DEBUG: Intermediate batch cost: 0.7101342391892296\n",
      "2020-07-07 22:20:39,182:qiskit.aqua.algorithms.classifiers.vqc:DEBUG: Intermediate batch cost: 0.6866346101679971\n",
      "2020-07-07 22:20:44,827:qiskit.aqua.algorithms.classifiers.vqc:DEBUG: Intermediate batch cost: 0.722695776006235\n",
      "2020-07-07 22:20:51,142:qiskit.aqua.algorithms.classifiers.vqc:DEBUG: Intermediate batch cost: 0.692531964900308\n",
      "2020-07-07 22:20:56,492:qiskit.aqua.algorithms.classifiers.vqc:DEBUG: Intermediate batch cost: 0.722719761111686\n",
      "2020-07-07 22:21:01,810:qiskit.aqua.algorithms.classifiers.vqc:DEBUG: Intermediate batch cost: 0.6885131305477284\n",
      "2020-07-07 22:21:06,833:qiskit.aqua.algorithms.classifiers.vqc:DEBUG: Intermediate batch cost: 0.6849432444370095\n",
      "2020-07-07 22:21:12,021:qiskit.aqua.algorithms.classifiers.vqc:DEBUG: Intermediate batch cost: 0.6865939270983605\n",
      "2020-07-07 22:21:17,043:qiskit.aqua.algorithms.classifiers.vqc:DEBUG: Intermediate batch cost: 0.6813546989678793\n",
      "2020-07-07 22:21:22,470:qiskit.aqua.algorithms.classifiers.vqc:DEBUG: Intermediate batch cost: 0.6723878063613292\n",
      "2020-07-07 22:21:27,443:qiskit.aqua.algorithms.classifiers.vqc:DEBUG: Intermediate batch cost: 0.6811043509473826\n",
      "2020-07-07 22:21:32,661:qiskit.aqua.algorithms.classifiers.vqc:DEBUG: Intermediate batch cost: 0.6750744264802853\n",
      "2020-07-07 22:21:37,655:qiskit.aqua.algorithms.classifiers.vqc:DEBUG: Intermediate batch cost: 0.682792890953629\n",
      "2020-07-07 22:21:42,567:qiskit.aqua.algorithms.classifiers.vqc:DEBUG: Intermediate batch cost: 0.6684671555764355\n",
      "2020-07-07 22:21:47,757:qiskit.aqua.algorithms.classifiers.vqc:DEBUG: Intermediate batch cost: 0.672980446783702\n",
      "2020-07-07 22:21:52,776:qiskit.aqua.algorithms.classifiers.vqc:DEBUG: Intermediate batch cost: 0.6735757920581498\n",
      "2020-07-07 22:21:57,662:qiskit.aqua.algorithms.classifiers.vqc:DEBUG: Intermediate batch cost: 0.66687334472827\n",
      "2020-07-07 22:22:02,818:qiskit.aqua.algorithms.classifiers.vqc:DEBUG: Intermediate batch cost: 0.6781305226196813\n",
      "2020-07-07 22:22:07,688:qiskit.aqua.algorithms.classifiers.vqc:DEBUG: Intermediate batch cost: 0.66527062880282\n",
      "2020-07-07 22:22:12,874:qiskit.aqua.algorithms.classifiers.vqc:DEBUG: Intermediate batch cost: 0.665396633500368\n",
      "2020-07-07 22:22:17,777:qiskit.aqua.algorithms.classifiers.vqc:DEBUG: Intermediate batch cost: 0.6685568040715069\n",
      "2020-07-07 22:22:22,968:qiskit.aqua.algorithms.classifiers.vqc:DEBUG: Intermediate batch cost: 0.6662862760292082\n",
      "2020-07-07 22:22:27,957:qiskit.aqua.algorithms.classifiers.vqc:DEBUG: Intermediate batch cost: 0.6733220528717807\n",
      "2020-07-07 22:22:32,870:qiskit.aqua.algorithms.classifiers.vqc:DEBUG: Intermediate batch cost: 0.6634825536478751\n",
      "2020-07-07 22:22:38,020:qiskit.aqua.algorithms.classifiers.vqc:DEBUG: Intermediate batch cost: 0.6716200739957598\n",
      "2020-07-07 22:22:42,920:qiskit.aqua.algorithms.classifiers.vqc:DEBUG: Intermediate batch cost: 0.6612293602798979\n",
      "2020-07-07 22:22:48,108:qiskit.aqua.algorithms.classifiers.vqc:DEBUG: Intermediate batch cost: 0.6653778733056882\n",
      "2020-07-07 22:22:53,056:qiskit.aqua.algorithms.classifiers.vqc:DEBUG: Intermediate batch cost: 0.6657296633825623\n",
      "2020-07-07 22:22:58,232:qiskit.aqua.algorithms.classifiers.vqc:DEBUG: Intermediate batch cost: 0.6658765409521769\n",
      "2020-07-07 22:23:03,231:qiskit.aqua.algorithms.classifiers.vqc:DEBUG: Intermediate batch cost: 0.6679348158614798\n",
      "2020-07-07 22:23:08,149:qiskit.aqua.algorithms.classifiers.vqc:DEBUG: Intermediate batch cost: 0.66743789449425\n",
      "2020-07-07 22:23:13,388:qiskit.aqua.algorithms.classifiers.vqc:DEBUG: Intermediate batch cost: 0.6610594486859556\n"
     ]
    },
    {
     "name": "stderr",
     "output_type": "stream",
     "text": [
      "2020-07-07 22:23:18,859:qiskit.aqua.algorithms.classifiers.vqc:DEBUG: Intermediate batch cost: 0.6629370447174501\n",
      "2020-07-07 22:23:24,093:qiskit.aqua.algorithms.classifiers.vqc:DEBUG: Intermediate batch cost: 0.6625903176272679\n",
      "2020-07-07 22:23:29,101:qiskit.aqua.algorithms.classifiers.vqc:DEBUG: Intermediate batch cost: 0.6657162554698203\n",
      "2020-07-07 22:23:34,034:qiskit.aqua.algorithms.classifiers.vqc:DEBUG: Intermediate batch cost: 0.6599694467345384\n",
      "2020-07-07 22:23:39,222:qiskit.aqua.algorithms.classifiers.vqc:DEBUG: Intermediate batch cost: 0.6600240436289604\n",
      "2020-07-07 22:23:44,612:qiskit.aqua.algorithms.classifiers.vqc:DEBUG: Intermediate batch cost: 0.661196341431465\n",
      "2020-07-07 22:23:49,818:qiskit.aqua.algorithms.classifiers.vqc:DEBUG: Intermediate batch cost: 0.6623693766679829\n",
      "2020-07-07 22:23:54,853:qiskit.aqua.algorithms.classifiers.vqc:DEBUG: Intermediate batch cost: 0.6632301287052467\n",
      "2020-07-07 22:23:59,813:qiskit.aqua.algorithms.classifiers.vqc:DEBUG: Intermediate batch cost: 0.6570100093980299\n",
      "2020-07-07 22:24:05,205:qiskit.aqua.algorithms.classifiers.vqc:DEBUG: Intermediate batch cost: 0.6581750435262228\n",
      "2020-07-07 22:24:11,015:qiskit.aqua.algorithms.classifiers.vqc:DEBUG: Intermediate batch cost: 0.6571449060309578\n",
      "2020-07-07 22:24:16,324:qiskit.aqua.algorithms.classifiers.vqc:DEBUG: Intermediate batch cost: 0.656915746277221\n",
      "2020-07-07 22:24:21,291:qiskit.aqua.algorithms.classifiers.vqc:DEBUG: Intermediate batch cost: 0.6583903788255857\n",
      "2020-07-07 22:24:26,229:qiskit.aqua.algorithms.classifiers.vqc:DEBUG: Intermediate batch cost: 0.6575088289078881\n",
      "2020-07-07 22:24:31,446:qiskit.aqua.algorithms.classifiers.vqc:DEBUG: Intermediate batch cost: 0.6572123607630077\n",
      "2020-07-07 22:24:36,741:qiskit.aqua.algorithms.classifiers.vqc:DEBUG: Intermediate batch cost: 0.6667079096908712\n",
      "2020-07-07 22:24:41,944:qiskit.aqua.algorithms.classifiers.vqc:DEBUG: Intermediate batch cost: 0.6587499979325027\n",
      "2020-07-07 22:24:46,963:qiskit.aqua.algorithms.classifiers.vqc:DEBUG: Intermediate batch cost: 0.6576178413178315\n",
      "2020-07-07 22:24:51,936:qiskit.aqua.algorithms.classifiers.vqc:DEBUG: Intermediate batch cost: 0.656338442205069\n",
      "2020-07-07 22:24:57,093:qiskit.aqua.algorithms.classifiers.vqc:DEBUG: Intermediate batch cost: 0.6561037850378483\n",
      "2020-07-07 22:25:02,147:qiskit.aqua.algorithms.classifiers.vqc:DEBUG: Intermediate batch cost: 0.6567720271681564\n",
      "2020-07-07 22:25:07,642:qiskit.aqua.algorithms.classifiers.vqc:DEBUG: Intermediate batch cost: 0.6558344757967445\n",
      "2020-07-07 22:25:12,826:qiskit.aqua.algorithms.classifiers.vqc:DEBUG: Intermediate batch cost: 0.6569602054953086\n",
      "2020-07-07 22:25:17,844:qiskit.aqua.algorithms.classifiers.vqc:DEBUG: Intermediate batch cost: 0.6558818427334734\n",
      "2020-07-07 22:25:22,801:qiskit.aqua.algorithms.classifiers.vqc:DEBUG: Intermediate batch cost: 0.6560838033985845\n",
      "2020-07-07 22:25:27,998:qiskit.aqua.algorithms.classifiers.vqc:DEBUG: Intermediate batch cost: 0.6564533244776856\n",
      "2020-07-07 22:25:33,546:qiskit.aqua.algorithms.classifiers.vqc:DEBUG: Intermediate batch cost: 0.6564462926660268\n",
      "2020-07-07 22:25:40,122:qiskit.aqua.algorithms.classifiers.vqc:DEBUG: Intermediate batch cost: 0.6563649746425588\n",
      "2020-07-07 22:25:45,569:qiskit.aqua.algorithms.classifiers.vqc:DEBUG: Intermediate batch cost: 0.6569430958891438\n",
      "2020-07-07 22:25:50,977:qiskit.aqua.algorithms.classifiers.vqc:DEBUG: Intermediate batch cost: 0.6565137302916173\n",
      "2020-07-07 22:25:56,201:qiskit.aqua.algorithms.classifiers.vqc:DEBUG: Intermediate batch cost: 0.6576144075461848\n",
      "2020-07-07 22:26:01,199:qiskit.aqua.algorithms.classifiers.vqc:DEBUG: Intermediate batch cost: 0.6560940748796436\n",
      "2020-07-07 22:26:06,125:qiskit.aqua.algorithms.classifiers.vqc:DEBUG: Intermediate batch cost: 0.6553426441269461\n",
      "2020-07-07 22:26:11,309:qiskit.aqua.algorithms.classifiers.vqc:DEBUG: Intermediate batch cost: 0.655921683640395\n",
      "2020-07-07 22:26:16,297:qiskit.aqua.algorithms.classifiers.vqc:DEBUG: Intermediate batch cost: 0.6558960078892945\n",
      "2020-07-07 22:26:21,173:qiskit.aqua.algorithms.classifiers.vqc:DEBUG: Intermediate batch cost: 0.6550619519865265\n",
      "2020-07-07 22:26:26,342:qiskit.aqua.algorithms.classifiers.vqc:DEBUG: Intermediate batch cost: 0.655139279054577\n",
      "2020-07-07 22:26:31,252:qiskit.aqua.algorithms.classifiers.vqc:DEBUG: Intermediate batch cost: 0.654491309663259\n",
      "2020-07-07 22:26:36,395:qiskit.aqua.algorithms.classifiers.vqc:DEBUG: Intermediate batch cost: 0.6543322996830538\n",
      "2020-07-07 22:26:42,338:qiskit.aqua.algorithms.classifiers.vqc:DEBUG: Intermediate batch cost: 0.6546524151590372\n",
      "2020-07-07 22:26:47,346:qiskit.aqua.algorithms.classifiers.vqc:DEBUG: Intermediate batch cost: 0.6540405984794131\n",
      "2020-07-07 22:26:52,330:qiskit.aqua.algorithms.classifiers.vqc:DEBUG: Intermediate batch cost: 0.6544277984717319\n",
      "2020-07-07 22:26:57,554:qiskit.aqua.algorithms.classifiers.vqc:DEBUG: Intermediate batch cost: 0.6543853581498817\n",
      "2020-07-07 22:27:02,607:qiskit.aqua.algorithms.classifiers.vqc:DEBUG: Intermediate batch cost: 0.6543154384083302\n",
      "2020-07-07 22:27:07,846:qiskit.aqua.algorithms.classifiers.vqc:DEBUG: Intermediate batch cost: 0.6543388811488186\n",
      "2020-07-07 22:27:13,228:qiskit.aqua.algorithms.classifiers.vqc:DEBUG: Intermediate batch cost: 0.6540357869131711\n",
      "2020-07-07 22:27:18,237:qiskit.aqua.algorithms.classifiers.vqc:DEBUG: Intermediate batch cost: 0.6541515947915236\n",
      "2020-07-07 22:27:23,172:qiskit.aqua.algorithms.classifiers.vqc:DEBUG: Intermediate batch cost: 0.6547490482554049\n",
      "2020-07-07 22:27:28,370:qiskit.aqua.algorithms.classifiers.vqc:DEBUG: Intermediate batch cost: 0.6536730754483984\n",
      "2020-07-07 22:27:28,372:qiskit.aqua.algorithms.classifiers.vqc:INFO: Optimization complete in 525.8508458137512 seconds.\n",
      "Found opt_params [ 0.26841257  0.18088639 -0.31717903  1.37780917  1.58691372 -0.119379\n",
      " -1.6776079   2.64738982  0.06096507  0.37083979  0.92080627  1.14093168\n",
      "  0.40423379  0.30431094  0.71761897 -0.69312892] in 100 evals\n"
     ]
    }
   ],
   "source": [
    "#  Stupid Ordinal input\n",
    "\n",
    "seed = 10598\n",
    "\n",
    "# var_form = TwoLocal(2, ['ry'], 'cx', entanglement='circular', reps=1, insert_barriers=True)\n",
    "var_form = variational_forms.RYRZ(2)\n",
    "\n",
    "feature_map = ZZFeatureMap(feature_dimension=len(mvp_col), reps=3, entanglement='linear')\n",
    "\n",
    "qsvm = VQC(COBYLA(100), feature_map, var_form, training_input)\n",
    "\n",
    "# provider = IBMQ.get_provider(hub='ibm-q-utokyo')\n",
    "# backend = provider.get_backend('ibmq_johannesburg')\n",
    "\n",
    "backend = BasicAer.get_backend('qasm_simulator')\n",
    "quantum_instance = QuantumInstance(backend, shots=1024, seed_simulator=seed, seed_transpiler=seed,optimization_level=3)\n",
    "\n",
    "\n",
    "result = qsvm.run(quantum_instance)"
   ]
  },
  {
   "cell_type": "code",
   "execution_count": 165,
   "metadata": {},
   "outputs": [
    {
     "name": "stderr",
     "output_type": "stream",
     "text": [
      "2020-07-07 22:29:20,636:qiskit.aqua.algorithms.classifiers.vqc:DEBUG: Predicting batch 0\n"
     ]
    },
    {
     "data": {
      "text/plain": [
       "(0.39655172413793105, 0.25531914893617014)"
      ]
     },
     "execution_count": 165,
     "metadata": {},
     "output_type": "execute_result"
    }
   ],
   "source": [
    "y_pred = qsvm.predict(df_test_q)[1]\n",
    "\n",
    "\n",
    "# F1 score\n",
    "np.mean(y_pred == y_test), f1_score(y_test, y_pred)"
   ]
  },
  {
   "cell_type": "code",
   "execution_count": 101,
   "metadata": {},
   "outputs": [],
   "source": [
    "# Save model\n",
    "\n",
    "qsvm.save_model('VQC_50train_ordinal_3_best')"
   ]
  },
  {
   "cell_type": "markdown",
   "metadata": {},
   "source": [
    "## Encode 3bits to 1qubit\n",
    "So from $b_1b_2b_3\\Rightarrow(\\theta,\\varphi)\\ ; b_i\\in\\{-1,1\\} $"
   ]
  },
  {
   "cell_type": "code",
   "execution_count": 188,
   "metadata": {},
   "outputs": [
    {
     "data": {
      "text/html": [
       "<div>\n",
       "<style scoped>\n",
       "    .dataframe tbody tr th:only-of-type {\n",
       "        vertical-align: middle;\n",
       "    }\n",
       "\n",
       "    .dataframe tbody tr th {\n",
       "        vertical-align: top;\n",
       "    }\n",
       "\n",
       "    .dataframe thead th {\n",
       "        text-align: right;\n",
       "    }\n",
       "</style>\n",
       "<table border=\"1\" class=\"dataframe\">\n",
       "  <thead>\n",
       "    <tr style=\"text-align: right;\">\n",
       "      <th></th>\n",
       "      <th>tumor-size</th>\n",
       "      <th>breast-quad</th>\n",
       "      <th>deg-malig</th>\n",
       "    </tr>\n",
       "  </thead>\n",
       "  <tbody>\n",
       "    <tr>\n",
       "      <th>0</th>\n",
       "      <td>5</td>\n",
       "      <td>2</td>\n",
       "      <td>2</td>\n",
       "    </tr>\n",
       "    <tr>\n",
       "      <th>1</th>\n",
       "      <td>3</td>\n",
       "      <td>5</td>\n",
       "      <td>1</td>\n",
       "    </tr>\n",
       "    <tr>\n",
       "      <th>2</th>\n",
       "      <td>3</td>\n",
       "      <td>2</td>\n",
       "      <td>1</td>\n",
       "    </tr>\n",
       "    <tr>\n",
       "      <th>3</th>\n",
       "      <td>2</td>\n",
       "      <td>3</td>\n",
       "      <td>1</td>\n",
       "    </tr>\n",
       "    <tr>\n",
       "      <th>4</th>\n",
       "      <td>0</td>\n",
       "      <td>4</td>\n",
       "      <td>1</td>\n",
       "    </tr>\n",
       "  </tbody>\n",
       "</table>\n",
       "</div>"
      ],
      "text/plain": [
       "   tumor-size  breast-quad  deg-malig\n",
       "0           5            2          2\n",
       "1           3            5          1\n",
       "2           3            2          1\n",
       "3           2            3          1\n",
       "4           0            4          1"
      ]
     },
     "execution_count": 188,
     "metadata": {},
     "output_type": "execute_result"
    }
   ],
   "source": [
    "df_q = df[mvp_col]\n",
    "\n",
    "df_q.head()"
   ]
  },
  {
   "cell_type": "code",
   "execution_count": 168,
   "metadata": {},
   "outputs": [
    {
     "name": "stdout",
     "output_type": "stream",
     "text": [
      "11 4\n",
      "6 3\n",
      "3 2\n"
     ]
    }
   ],
   "source": [
    "df_q = df[mvp_col]\n",
    "\n",
    "data = []\n",
    "\n",
    "for col_name in df_q.columns:\n",
    "    num_cat = len(np.unique(df_q[col_name]))\n",
    "    num_bit = int(np.ceil(np.log2(num_cat)))\n",
    "    \n",
    "    print(num_cat, num_bit)\n",
    "    \n",
    "    # Padding to x3 \n",
    "    if num_bit % 3 != 0:\n",
    "        num_bit = num_bit + (3 - (num_bit % 3))\n",
    "        \n",
    "        \n",
    "    num_qubit = num_bit // 3\n",
    "\n",
    "    features = []\n",
    "    for size in df_q[col_name]:\n",
    "        # Get last num_bit digit and reverse\n",
    "        # 11 --> 001  | 011 --> 110 | 100\n",
    "        \n",
    "        all_b_st = f\"{size:010b}\"[-num_bit:][::-1]\n",
    "\n",
    "        var_list = []\n",
    "        for i in range(num_qubit):\n",
    "            b_st = all_b_st[i * 3: (i+1) * 3]\n",
    "            \n",
    "            # b_st = b_1, b_2, b_3 = \\sqrt{3}r_x, \\sqrt{3}r_y, \\sqrt{3}r_z\n",
    "\n",
    "            if b_st[0] == '1':\n",
    "                theta = np.arccos(1/np.sqrt(3))\n",
    "            else:\n",
    "                theta = np.arccos(-1/np.sqrt(3))\n",
    "\n",
    "            if b_st[1] == '1' and b_st[2] == '1':\n",
    "                varphi = np.pi / 4\n",
    "\n",
    "            if b_st[1] == '1' and b_st[2] == '0':\n",
    "                varphi = 3 * np.pi / 4\n",
    "\n",
    "            if b_st[1] == '0' and b_st[2] == '0':\n",
    "                varphi = -3 * np.pi / 4\n",
    "\n",
    "            if b_st[1] == '0' and b_st[2] == '1':\n",
    "                varphi = -np.pi / 4\n",
    "\n",
    "            var_list += [theta, varphi]\n",
    "\n",
    "        features.append(var_list)\n",
    "#         print(size, var_list)\n",
    "    data.append(np.array(features))\n",
    "    \n",
    "data = np.concatenate(data, axis=1)"
   ]
  },
  {
   "cell_type": "code",
   "execution_count": 169,
   "metadata": {},
   "outputs": [
    {
     "data": {
      "text/plain": [
       "(   tumor-size  breast-quad  deg-malig\n",
       " 0           5            2          2\n",
       " 1           3            5          1\n",
       " 2           3            2          1\n",
       " 3           2            3          1\n",
       " 4           0            4          1,\n",
       " array([[ 0.95531662, -0.78539816,  2.18627604, -2.35619449,  2.18627604,\n",
       "          2.35619449,  2.18627604,  2.35619449],\n",
       "        [ 0.95531662,  2.35619449,  2.18627604, -2.35619449,  0.95531662,\n",
       "         -0.78539816,  0.95531662, -2.35619449],\n",
       "        [ 0.95531662,  2.35619449,  2.18627604, -2.35619449,  2.18627604,\n",
       "          2.35619449,  0.95531662, -2.35619449],\n",
       "        [ 2.18627604,  2.35619449,  2.18627604, -2.35619449,  0.95531662,\n",
       "          2.35619449,  0.95531662, -2.35619449],\n",
       "        [ 2.18627604, -2.35619449,  2.18627604, -2.35619449,  2.18627604,\n",
       "         -0.78539816,  0.95531662, -2.35619449]]))"
      ]
     },
     "execution_count": 169,
     "metadata": {},
     "output_type": "execute_result"
    }
   ],
   "source": [
    "# Show ordinal data vs encoded\n",
    "df_q.iloc[:5],data[:5]"
   ]
  },
  {
   "cell_type": "code",
   "execution_count": 170,
   "metadata": {},
   "outputs": [],
   "source": [
    "# Features for encoding\n",
    "\n",
    "df_train_encode, df_test_encode, y_train, y_test = train_test_split(data, y.values, test_size=0.2)"
   ]
  },
  {
   "cell_type": "code",
   "execution_count": 171,
   "metadata": {},
   "outputs": [],
   "source": [
    "# Construct dict to feed QSVM\n",
    "\n",
    "# Choose balance 50 sample\n",
    "\n",
    "np.random.seed(777)\n",
    "\n",
    "pos_sample = 60\n",
    "neg_sample = 60\n",
    "\n",
    "pos_label = np.argwhere(y_train == 1).reshape([-1])\n",
    "chosen_pos_label_idx = pos_label[np.random.permutation(len(pos_label))[:pos_sample]]\n",
    "\n",
    "neg_label = np.argwhere(y_train == 0).reshape([-1])\n",
    "chosen_neg_label_idx = neg_label[np.random.permutation(len(neg_label))[:neg_sample]]\n",
    "\n",
    "\n",
    "training_input = {\n",
    "    0: df_train_encode[chosen_neg_label_idx],\n",
    "    1: df_train_encode[chosen_pos_label_idx]\n",
    "}\n",
    "\n",
    "test_input = {\n",
    "    0: df_test_encode[y_test == 0],\n",
    "    1: df_test_encode[y_test == 1]\n",
    "}\n",
    "\n"
   ]
  },
  {
   "cell_type": "code",
   "execution_count": 172,
   "metadata": {},
   "outputs": [],
   "source": [
    "training_input = {\n",
    "    0: df_train_encode[y_train == 0],\n",
    "    1: double(df_train_encode[y_train == 1])\n",
    "}\n",
    "\n",
    "test_input = {\n",
    "    0: df_test_encode[y_test == 0],\n",
    "    1: df_test_encode[y_test == 1]\n",
    "}"
   ]
  },
  {
   "cell_type": "code",
   "execution_count": 173,
   "metadata": {},
   "outputs": [
    {
     "name": "stderr",
     "output_type": "stream",
     "text": [
      "/Users/barnrang/miniconda3/envs/liigo/lib/python3.6/site-packages/ipykernel_launcher.py:25: DeprecationWarning: The qiskit.aqua.components.variational_forms.RYRZ object is deprecated as of 0.7.0 and will be removed no sooner than 3 months after the release. You should use qiskit.circuit.library.EfficientSU2 (uses CX entangling) or qiskit.circuit.library.TwoLocal instead.\n"
     ]
    },
    {
     "data": {
      "image/png": "[encoded data removed]",
      "text/plain": [
       "<Figure size 298.592x264.88 with 1 Axes>"
      ]
     },
     "execution_count": 173,
     "metadata": {},
     "output_type": "execute_result"
    }
   ],
   "source": [
    "# Make feature map with encoder\n",
    "from qiskit.circuit import QuantumCircuit, Parameter\n",
    "from qiskit.circuit.library import TwoLocal\n",
    "from qiskit.aqua.algorithms import VQC\n",
    "# from qiskit.aqua.compo\n",
    "# feature_map = ZZFeatureMap(feature_dimension=3, reps=2, entanglement='linear')\n",
    "\n",
    "\n",
    "X = [Parameter(f'x[{i}]') for i in range(data.shape[1])]\n",
    "\n",
    "var_form = variational_forms.RYRZ(data.shape[1] // 2)\n",
    "\n",
    "qc = QuantumCircuit(data.shape[1] // 2)\n",
    "\n",
    "for i in range(data.shape[1] // 2):\n",
    "    qc.u3(X[2*i], X[2*i+1], 0, i) # Encoder\n",
    "#     qc.u3(x2, x3, 0, 1)\n",
    "#     qc.u3(x4, x5, 0, 2)\n",
    "# qc.u3(x6, x7, 0, 3)\n",
    "\n",
    "# qc.cx(0,1)\n",
    "# qc.cx(2,3)\n",
    "# qc.cx(1,2)\n",
    "\n",
    "feature_map = qc #+ tmp1 + tmp2 \n",
    "feature_map.draw('mpl')"
   ]
  },
  {
   "cell_type": "code",
   "execution_count": 84,
   "metadata": {},
   "outputs": [
    {
     "data": {
      "text/plain": [
       "(30, 6)"
      ]
     },
     "execution_count": 84,
     "metadata": {},
     "output_type": "execute_result"
    }
   ],
   "source": [
    "training_input[0].shape"
   ]
  },
  {
   "cell_type": "code",
   "execution_count": 110,
   "metadata": {},
   "outputs": [
    {
     "data": {
      "text/plain": [
       "<qiskit.aqua.components.variational_forms.ryrz.RYRZ at 0x7fe1b5a69a90>"
      ]
     },
     "execution_count": 110,
     "metadata": {},
     "output_type": "execute_result"
    }
   ],
   "source": [
    "var_form"
   ]
  },
  {
   "cell_type": "code",
   "execution_count": 174,
   "metadata": {
    "scrolled": true
   },
   "outputs": [
    {
     "name": "stderr",
     "output_type": "stream",
     "text": [
      "/Users/barnrang/miniconda3/envs/liigo/lib/python3.6/site-packages/ipykernel_launcher.py:5: DeprecationWarning: \n",
      "            The <class 'qiskit.circuit.quantumcircuit.QuantumCircuit'> object as input for the VQC is deprecated as of 0.7.0 and will\n",
      "            be removed no earlier than 3 months after the release.\n",
      "            You should pass a QuantumCircuit object instead.\n",
      "            See also qiskit.circuit.library.n_local for a collection\n",
      "            of suitable circuits.\n",
      "  \"\"\"\n",
      "2020-07-07 22:30:15,583:qiskit.aqua.quantum_instance:INFO: \n",
      "Qiskit Terra version: 0.14.1\n",
      "Backend: 'qasm_simulator (BasicAer)', with following setting:\n",
      "{'basis_gates': ['u1', 'u2', 'u3', 'cx', 'id', 'unitary'], 'coupling_map': None}\n",
      "{'pass_manager': None, 'initial_layout': None, 'seed_transpiler': 10598, 'optimization_level': None}\n",
      "RunConfig(max_credits=10, seed_simulator=10598, shots=1024)\n",
      "{'timeout': None}\n",
      "{}\n",
      "{}\n",
      "Measurement mitigation: None\n",
      "2020-07-07 22:30:15,586:qiskit.aqua.algorithms.vq_algorithm:INFO: Starting optimizer.\n",
      "bounds=[(-3.141592653589793, 3.141592653589793), (-3.141592653589793, 3.141592653589793), (-3.141592653589793, 3.141592653589793), (-3.141592653589793, 3.141592653589793), (-3.141592653589793, 3.141592653589793), (-3.141592653589793, 3.141592653589793), (-3.141592653589793, 3.141592653589793), (-3.141592653589793, 3.141592653589793), (-3.141592653589793, 3.141592653589793), (-3.141592653589793, 3.141592653589793), (-3.141592653589793, 3.141592653589793), (-3.141592653589793, 3.141592653589793), (-3.141592653589793, 3.141592653589793), (-3.141592653589793, 3.141592653589793), (-3.141592653589793, 3.141592653589793), (-3.141592653589793, 3.141592653589793), (-3.141592653589793, 3.141592653589793), (-3.141592653589793, 3.141592653589793), (-3.141592653589793, 3.141592653589793), (-3.141592653589793, 3.141592653589793), (-3.141592653589793, 3.141592653589793), (-3.141592653589793, 3.141592653589793), (-3.141592653589793, 3.141592653589793), (-3.141592653589793, 3.141592653589793), (-3.141592653589793, 3.141592653589793), (-3.141592653589793, 3.141592653589793), (-3.141592653589793, 3.141592653589793), (-3.141592653589793, 3.141592653589793), (-3.141592653589793, 3.141592653589793), (-3.141592653589793, 3.141592653589793), (-3.141592653589793, 3.141592653589793), (-3.141592653589793, 3.141592653589793)]\n",
      "initial point=[ 1.57175215 -0.56380064  1.02808698  0.90095174  0.63244827  0.10364945\n",
      "  0.93120541 -1.30398263 -0.38172886  1.25545909 -1.14495056  0.04342658\n",
      "  1.9973094  -0.08899967  0.5053094  -0.57107974  0.27455132 -1.00214957\n",
      " -0.17484469  0.00645289  0.04814084 -0.87471071  0.05593493 -0.06400524\n",
      " -0.46809165 -0.13647129 -1.64999084  1.31129914 -1.10543099  0.83489842\n",
      "  2.62419329  0.61094951]\n",
      "2020-07-07 22:30:15,589:qiskit.aqua.components.optimizers.optimizer:DEBUG: WARNING: COBYLA does not support bounds. It will be ignored.\n",
      "2020-07-07 22:30:23,780:qiskit.aqua.algorithms.classifiers.vqc:DEBUG: Intermediate batch cost: 0.7957861067185997\n",
      "2020-07-07 22:30:32,463:qiskit.aqua.algorithms.classifiers.vqc:DEBUG: Intermediate batch cost: 0.7881942747238334\n",
      "2020-07-07 22:30:38,595:qiskit.aqua.algorithms.classifiers.vqc:DEBUG: Intermediate batch cost: 0.7758945578037184\n",
      "2020-07-07 22:30:44,975:qiskit.aqua.algorithms.classifiers.vqc:DEBUG: Intermediate batch cost: 0.7898600941588281\n",
      "2020-07-07 22:30:51,410:qiskit.aqua.algorithms.classifiers.vqc:DEBUG: Intermediate batch cost: 0.7596538722437692\n",
      "2020-07-07 22:30:58,107:qiskit.aqua.algorithms.classifiers.vqc:DEBUG: Intermediate batch cost: 0.7495045993566452\n",
      "2020-07-07 22:31:07,498:qiskit.aqua.algorithms.classifiers.vqc:DEBUG: Intermediate batch cost: 0.7058850807892526\n",
      "2020-07-07 22:31:14,282:qiskit.aqua.algorithms.classifiers.vqc:DEBUG: Intermediate batch cost: 0.714192538997048\n",
      "2020-07-07 22:31:21,163:qiskit.aqua.algorithms.classifiers.vqc:DEBUG: Intermediate batch cost: 0.7076707116913052\n",
      "2020-07-07 22:31:27,620:qiskit.aqua.algorithms.classifiers.vqc:DEBUG: Intermediate batch cost: 0.7650065706550095\n",
      "2020-07-07 22:31:33,769:qiskit.aqua.algorithms.classifiers.vqc:DEBUG: Intermediate batch cost: 0.7258973614112844\n",
      "2020-07-07 22:31:40,315:qiskit.aqua.algorithms.classifiers.vqc:DEBUG: Intermediate batch cost: 0.7109884765700644\n",
      "2020-07-07 22:31:46,762:qiskit.aqua.algorithms.classifiers.vqc:DEBUG: Intermediate batch cost: 0.6919205032744773\n",
      "2020-07-07 22:31:53,252:qiskit.aqua.algorithms.classifiers.vqc:DEBUG: Intermediate batch cost: 0.7142416289688207\n",
      "2020-07-07 22:31:59,520:qiskit.aqua.algorithms.classifiers.vqc:DEBUG: Intermediate batch cost: 0.7193463008652575\n",
      "2020-07-07 22:32:06,014:qiskit.aqua.algorithms.classifiers.vqc:DEBUG: Intermediate batch cost: 0.6836127361357446\n",
      "2020-07-07 22:32:12,462:qiskit.aqua.algorithms.classifiers.vqc:DEBUG: Intermediate batch cost: 0.6821167488910437\n",
      "2020-07-07 22:32:19,113:qiskit.aqua.algorithms.classifiers.vqc:DEBUG: Intermediate batch cost: 0.7087511713388183\n",
      "2020-07-07 22:32:25,385:qiskit.aqua.algorithms.classifiers.vqc:DEBUG: Intermediate batch cost: 0.6724618978232594\n",
      "2020-07-07 22:32:31,848:qiskit.aqua.algorithms.classifiers.vqc:DEBUG: Intermediate batch cost: 0.6814936147574797\n",
      "2020-07-07 22:32:38,095:qiskit.aqua.algorithms.classifiers.vqc:DEBUG: Intermediate batch cost: 0.7322608055028539\n",
      "2020-07-07 22:32:44,529:qiskit.aqua.algorithms.classifiers.vqc:DEBUG: Intermediate batch cost: 0.6842068359541166\n",
      "2020-07-07 22:32:50,775:qiskit.aqua.algorithms.classifiers.vqc:DEBUG: Intermediate batch cost: 0.6637845205601949\n",
      "2020-07-07 22:32:57,248:qiskit.aqua.algorithms.classifiers.vqc:DEBUG: Intermediate batch cost: 0.6809352483626262\n",
      "2020-07-07 22:33:03,543:qiskit.aqua.algorithms.classifiers.vqc:DEBUG: Intermediate batch cost: 0.6543559474543015\n",
      "2020-07-07 22:33:10,035:qiskit.aqua.algorithms.classifiers.vqc:DEBUG: Intermediate batch cost: 0.6665044035320898\n",
      "2020-07-07 22:33:16,286:qiskit.aqua.algorithms.classifiers.vqc:DEBUG: Intermediate batch cost: 0.6543559474543015\n",
      "2020-07-07 22:33:23,111:qiskit.aqua.algorithms.classifiers.vqc:DEBUG: Intermediate batch cost: 0.6844659921971221\n",
      "2020-07-07 22:33:29,324:qiskit.aqua.algorithms.classifiers.vqc:DEBUG: Intermediate batch cost: 0.6543559474543015\n",
      "2020-07-07 22:33:35,773:qiskit.aqua.algorithms.classifiers.vqc:DEBUG: Intermediate batch cost: 0.7005995841786322\n",
      "2020-07-07 22:33:41,970:qiskit.aqua.algorithms.classifiers.vqc:DEBUG: Intermediate batch cost: 0.6543559474543015\n",
      "2020-07-07 22:33:48,414:qiskit.aqua.algorithms.classifiers.vqc:DEBUG: Intermediate batch cost: 0.6631366224504124\n",
      "2020-07-07 22:33:55,028:qiskit.aqua.algorithms.classifiers.vqc:DEBUG: Intermediate batch cost: 0.6543559474543015\n",
      "2020-07-07 22:34:01,535:qiskit.aqua.algorithms.classifiers.vqc:DEBUG: Intermediate batch cost: 0.6587737306611032\n",
      "2020-07-07 22:34:07,810:qiskit.aqua.algorithms.classifiers.vqc:DEBUG: Intermediate batch cost: 0.6508339523114919\n",
      "2020-07-07 22:34:14,247:qiskit.aqua.algorithms.classifiers.vqc:DEBUG: Intermediate batch cost: 0.6620429023576261\n",
      "2020-07-07 22:34:20,607:qiskit.aqua.algorithms.classifiers.vqc:DEBUG: Intermediate batch cost: 0.6498376491922359\n",
      "2020-07-07 22:34:27,135:qiskit.aqua.algorithms.classifiers.vqc:DEBUG: Intermediate batch cost: 0.6565423945295538\n",
      "2020-07-07 22:34:33,589:qiskit.aqua.algorithms.classifiers.vqc:DEBUG: Intermediate batch cost: 0.6500687499324019\n",
      "2020-07-07 22:34:40,037:qiskit.aqua.algorithms.classifiers.vqc:DEBUG: Intermediate batch cost: 0.6470107420787298\n",
      "2020-07-07 22:34:46,288:qiskit.aqua.algorithms.classifiers.vqc:DEBUG: Intermediate batch cost: 0.6481500100642454\n",
      "2020-07-07 22:34:52,799:qiskit.aqua.algorithms.classifiers.vqc:DEBUG: Intermediate batch cost: 0.6490385285473272\n",
      "2020-07-07 22:34:59,020:qiskit.aqua.algorithms.classifiers.vqc:DEBUG: Intermediate batch cost: 0.6433113818056801\n",
      "2020-07-07 22:35:05,951:qiskit.aqua.algorithms.classifiers.vqc:DEBUG: Intermediate batch cost: 0.6585367500236512\n",
      "2020-07-07 22:35:12,175:qiskit.aqua.algorithms.classifiers.vqc:DEBUG: Intermediate batch cost: 0.6508383927909632\n",
      "2020-07-07 22:35:19,067:qiskit.aqua.algorithms.classifiers.vqc:DEBUG: Intermediate batch cost: 0.6818573576932934\n",
      "2020-07-07 22:35:25,317:qiskit.aqua.algorithms.classifiers.vqc:DEBUG: Intermediate batch cost: 0.6736206420047222\n"
     ]
    },
    {
     "name": "stderr",
     "output_type": "stream",
     "text": [
      "2020-07-07 22:35:31,784:qiskit.aqua.algorithms.classifiers.vqc:DEBUG: Intermediate batch cost: 0.6430254875322057\n",
      "2020-07-07 22:35:38,036:qiskit.aqua.algorithms.classifiers.vqc:DEBUG: Intermediate batch cost: 0.6595844651631344\n",
      "2020-07-07 22:35:44,463:qiskit.aqua.algorithms.classifiers.vqc:DEBUG: Intermediate batch cost: 0.6531950809966036\n",
      "2020-07-07 22:35:50,826:qiskit.aqua.algorithms.classifiers.vqc:DEBUG: Intermediate batch cost: 0.6468029821171531\n",
      "2020-07-07 22:35:57,896:qiskit.aqua.algorithms.classifiers.vqc:DEBUG: Intermediate batch cost: 0.6401265400566509\n",
      "2020-07-07 22:36:04,274:qiskit.aqua.algorithms.classifiers.vqc:DEBUG: Intermediate batch cost: 0.6393729832354408\n",
      "2020-07-07 22:36:10,756:qiskit.aqua.algorithms.classifiers.vqc:DEBUG: Intermediate batch cost: 0.6431059455039461\n",
      "2020-07-07 22:36:16,998:qiskit.aqua.algorithms.classifiers.vqc:DEBUG: Intermediate batch cost: 0.636751686838709\n",
      "2020-07-07 22:36:23,417:qiskit.aqua.algorithms.classifiers.vqc:DEBUG: Intermediate batch cost: 0.6402442266135552\n",
      "2020-07-07 22:36:29,682:qiskit.aqua.algorithms.classifiers.vqc:DEBUG: Intermediate batch cost: 0.6441597814485511\n",
      "2020-07-07 22:36:36,183:qiskit.aqua.algorithms.classifiers.vqc:DEBUG: Intermediate batch cost: 0.6873097315073988\n",
      "2020-07-07 22:36:42,411:qiskit.aqua.algorithms.classifiers.vqc:DEBUG: Intermediate batch cost: 0.6644897929334651\n",
      "2020-07-07 22:36:48,915:qiskit.aqua.algorithms.classifiers.vqc:DEBUG: Intermediate batch cost: 0.6580452462449702\n",
      "2020-07-07 22:36:55,141:qiskit.aqua.algorithms.classifiers.vqc:DEBUG: Intermediate batch cost: 0.6441321718475345\n",
      "2020-07-07 22:37:01,674:qiskit.aqua.algorithms.classifiers.vqc:DEBUG: Intermediate batch cost: 0.7006415080060076\n",
      "2020-07-07 22:37:08,392:qiskit.aqua.algorithms.classifiers.vqc:DEBUG: Intermediate batch cost: 0.636751686838709\n",
      "2020-07-07 22:37:14,814:qiskit.aqua.algorithms.classifiers.vqc:DEBUG: Intermediate batch cost: 0.6760573397028878\n",
      "2020-07-07 22:37:21,053:qiskit.aqua.algorithms.classifiers.vqc:DEBUG: Intermediate batch cost: 0.636751686838709\n",
      "2020-07-07 22:37:27,763:qiskit.aqua.algorithms.classifiers.vqc:DEBUG: Intermediate batch cost: 0.652458441757825\n",
      "2020-07-07 22:37:34,012:qiskit.aqua.algorithms.classifiers.vqc:DEBUG: Intermediate batch cost: 0.636751686838709\n",
      "2020-07-07 22:37:40,530:qiskit.aqua.algorithms.classifiers.vqc:DEBUG: Intermediate batch cost: 0.6482507027610945\n",
      "2020-07-07 22:37:47,945:qiskit.aqua.algorithms.classifiers.vqc:DEBUG: Intermediate batch cost: 0.636751686838709\n",
      "2020-07-07 22:37:54,448:qiskit.aqua.algorithms.classifiers.vqc:DEBUG: Intermediate batch cost: 0.6426811316306343\n",
      "2020-07-07 22:38:00,720:qiskit.aqua.algorithms.classifiers.vqc:DEBUG: Intermediate batch cost: 0.6313592908033827\n",
      "2020-07-07 22:38:07,792:qiskit.aqua.algorithms.classifiers.vqc:DEBUG: Intermediate batch cost: 0.6402802706035071\n",
      "2020-07-07 22:38:14,066:qiskit.aqua.algorithms.classifiers.vqc:DEBUG: Intermediate batch cost: 0.6545005280374335\n",
      "2020-07-07 22:38:20,509:qiskit.aqua.algorithms.classifiers.vqc:DEBUG: Intermediate batch cost: 0.6350113838150857\n",
      "2020-07-07 22:38:26,667:qiskit.aqua.algorithms.classifiers.vqc:DEBUG: Intermediate batch cost: 0.631406449043278\n",
      "2020-07-07 22:38:33,123:qiskit.aqua.algorithms.classifiers.vqc:DEBUG: Intermediate batch cost: 0.6559425521222065\n",
      "2020-07-07 22:38:39,559:qiskit.aqua.algorithms.classifiers.vqc:DEBUG: Intermediate batch cost: 0.62662332442867\n",
      "2020-07-07 22:38:45,858:qiskit.aqua.algorithms.classifiers.vqc:DEBUG: Intermediate batch cost: 0.6281396662608271\n",
      "2020-07-07 22:38:52,407:qiskit.aqua.algorithms.classifiers.vqc:DEBUG: Intermediate batch cost: 0.6307790544356695\n",
      "2020-07-07 22:38:59,036:qiskit.aqua.algorithms.classifiers.vqc:DEBUG: Intermediate batch cost: 0.627589389922204\n",
      "2020-07-07 22:39:05,670:qiskit.aqua.algorithms.classifiers.vqc:DEBUG: Intermediate batch cost: 0.6249732661555369\n",
      "2020-07-07 22:39:11,878:qiskit.aqua.algorithms.classifiers.vqc:DEBUG: Intermediate batch cost: 0.6263617510440664\n",
      "2020-07-07 22:39:18,354:qiskit.aqua.algorithms.classifiers.vqc:DEBUG: Intermediate batch cost: 0.6293773721333731\n",
      "2020-07-07 22:39:25,105:qiskit.aqua.algorithms.classifiers.vqc:DEBUG: Intermediate batch cost: 0.6287386404457365\n",
      "2020-07-07 22:39:31,589:qiskit.aqua.algorithms.classifiers.vqc:DEBUG: Intermediate batch cost: 0.6278333375791393\n",
      "2020-07-07 22:39:38,684:qiskit.aqua.algorithms.classifiers.vqc:DEBUG: Intermediate batch cost: 0.6270560442966644\n",
      "2020-07-07 22:39:44,905:qiskit.aqua.algorithms.classifiers.vqc:DEBUG: Intermediate batch cost: 0.6320348740431659\n",
      "2020-07-07 22:39:51,389:qiskit.aqua.algorithms.classifiers.vqc:DEBUG: Intermediate batch cost: 0.6269813323755424\n",
      "2020-07-07 22:39:58,327:qiskit.aqua.algorithms.classifiers.vqc:DEBUG: Intermediate batch cost: 0.6403007557697397\n",
      "2020-07-07 22:40:04,812:qiskit.aqua.algorithms.classifiers.vqc:DEBUG: Intermediate batch cost: 0.6325306618780356\n",
      "2020-07-07 22:40:11,472:qiskit.aqua.algorithms.classifiers.vqc:DEBUG: Intermediate batch cost: 0.625459011410125\n",
      "2020-07-07 22:40:17,966:qiskit.aqua.algorithms.classifiers.vqc:DEBUG: Intermediate batch cost: 0.6285243565040323\n",
      "2020-07-07 22:40:24,142:qiskit.aqua.algorithms.classifiers.vqc:DEBUG: Intermediate batch cost: 0.6292058291464826\n",
      "2020-07-07 22:40:30,538:qiskit.aqua.algorithms.classifiers.vqc:DEBUG: Intermediate batch cost: 0.6244687118269314\n",
      "2020-07-07 22:40:36,950:qiskit.aqua.algorithms.classifiers.vqc:DEBUG: Intermediate batch cost: 0.650135720967958\n",
      "2020-07-07 22:40:43,392:qiskit.aqua.algorithms.classifiers.vqc:DEBUG: Intermediate batch cost: 0.624004445390631\n",
      "2020-07-07 22:40:49,679:qiskit.aqua.algorithms.classifiers.vqc:DEBUG: Intermediate batch cost: 0.6257230277961626\n",
      "2020-07-07 22:40:56,147:qiskit.aqua.algorithms.classifiers.vqc:DEBUG: Intermediate batch cost: 0.629831917775203\n",
      "2020-07-07 22:41:02,437:qiskit.aqua.algorithms.classifiers.vqc:DEBUG: Intermediate batch cost: 0.6235446298938094\n",
      "2020-07-07 22:41:08,941:qiskit.aqua.algorithms.classifiers.vqc:DEBUG: Intermediate batch cost: 0.6264874066140985\n",
      "2020-07-07 22:41:08,944:qiskit.aqua.algorithms.classifiers.vqc:INFO: Optimization complete in 653.3578412532806 seconds.\n",
      "Found opt_params [ 3.31955322  0.30045215  0.92887596  1.36185558  1.29716365  0.89238624\n",
      "  0.34879277 -0.5716623  -0.32226332  1.38977853 -1.04379304  0.06877295\n",
      "  1.77688379 -0.1182548   1.52150802  0.06976708 -0.12396584 -0.39515047\n",
      " -0.28257554  0.46317288 -0.43162382  0.08239735  0.14747504  1.00814196\n",
      " -0.59473916  0.0277537  -1.84671081  1.47552413 -1.59298735  0.99912341\n",
      "  2.37636217  0.44672452] in 100 evals\n"
     ]
    },
    {
     "name": "stdout",
     "output_type": "stream",
     "text": [
      "preduction of datapoints:\n"
     ]
    }
   ],
   "source": [
    "# \n",
    "\n",
    "seed = 10598\n",
    "\n",
    "qsvm_encode = VQC(COBYLA(100), feature_map, var_form, training_input)\n",
    "\n",
    "# provider = IBMQ.get_provider(hub='ibm-q-utokyo')\n",
    "# backend = provider.get_backend('ibmq_johannesburg')\n",
    "\n",
    "backend = BasicAer.get_backend('qasm_simulator')\n",
    "quantum_instance = QuantumInstance(backend, shots=1024, seed_simulator=seed, seed_transpiler=seed)\n",
    "\n",
    "\n",
    "result = qsvm_encode.run(quantum_instance)\n",
    "\n",
    "# print(\"testing success ratio: {}\".format(result['testing_accuracy']))\n",
    "print(\"preduction of datapoints:\")\n",
    "# print(\"ground truth: {}\".format(map_label_to_class_name(datapoints[1], qsvm.label_to_class)))\n",
    "# print(\"prediction:   {}\".format(result['predicted_classes']))"
   ]
  },
  {
   "cell_type": "code",
   "execution_count": 178,
   "metadata": {
    "scrolled": true
   },
   "outputs": [
    {
     "name": "stderr",
     "output_type": "stream",
     "text": [
      "2020-07-07 22:48:39,894:qiskit.aqua.algorithms.classifiers.vqc:DEBUG: Predicting batch 0\n"
     ]
    },
    {
     "data": {
      "text/plain": [
       "(0.6491228070175439, 0.4666666666666667)"
      ]
     },
     "execution_count": 178,
     "metadata": {},
     "output_type": "execute_result"
    }
   ],
   "source": [
    "# Train acc\n",
    "\n",
    "y_pred = qsvm_encode.predict(df_train_encode)[1]\n",
    "\n",
    "np.mean(y_pred == y_train), f1_score(y_train, y_pred)"
   ]
  },
  {
   "cell_type": "code",
   "execution_count": 175,
   "metadata": {},
   "outputs": [
    {
     "name": "stderr",
     "output_type": "stream",
     "text": [
      "2020-07-07 22:41:33,655:qiskit.aqua.algorithms.classifiers.vqc:DEBUG: Predicting batch 0\n"
     ]
    },
    {
     "data": {
      "text/plain": [
       "(0.7586206896551724, 0.6500000000000001)"
      ]
     },
     "execution_count": 175,
     "metadata": {},
     "output_type": "execute_result"
    }
   ],
   "source": [
    "# Test acc\n",
    "\n",
    "y_pred = qsvm_encode.predict(df_test_encode)[1]\n",
    "\n",
    "np.mean(y_pred == y_test), f1_score(y_test, y_pred)"
   ]
  },
  {
   "cell_type": "code",
   "execution_count": 177,
   "metadata": {},
   "outputs": [],
   "source": [
    "qsvm_encode.save_model('VQC_just_encode_model_3_best')"
   ]
  },
  {
   "cell_type": "markdown",
   "metadata": {},
   "source": [
    "# Model 2"
   ]
  },
  {
   "cell_type": "code",
   "execution_count": 179,
   "metadata": {},
   "outputs": [
    {
     "data": {
      "text/plain": [
       "(58, 8)"
      ]
     },
     "execution_count": 179,
     "metadata": {},
     "output_type": "execute_result"
    }
   ],
   "source": [
    "df_test_encode.shape"
   ]
  },
  {
   "cell_type": "code",
   "execution_count": 181,
   "metadata": {},
   "outputs": [
    {
     "name": "stderr",
     "output_type": "stream",
     "text": [
      "/Users/barnrang/miniconda3/envs/liigo/lib/python3.6/site-packages/ipykernel_launcher.py:21: DeprecationWarning: The qiskit.aqua.components.variational_forms.RYRZ object is deprecated as of 0.7.0 and will be removed no sooner than 3 months after the release. You should use qiskit.circuit.library.EfficientSU2 (uses CX entangling) or qiskit.circuit.library.TwoLocal instead.\n"
     ]
    },
    {
     "data": {
      "image/png": "[encoded data removed]",
      "text/plain": [
       "<Figure size 1683.19x565.88 with 1 Axes>"
      ]
     },
     "execution_count": 181,
     "metadata": {},
     "output_type": "execute_result"
    }
   ],
   "source": [
    "# Make feature map with encoder\n",
    "from qiskit.circuit import QuantumCircuit, Parameter\n",
    "\n",
    "\n",
    "num_qubits = data.shape[1] // 2\n",
    "feature_map = ZZFeatureMap(feature_dimension=num_qubit, reps=2, entanglement='linear')\n",
    "# ZZFeatureMap()\n",
    "# def get_param(idx, zz):\n",
    "#     for i, e in enumerate(zz.parameters):\n",
    "#         if i == idx: return e\n",
    "        \n",
    "# x0 = get_param(0, feature_map) # theta_1\n",
    "# x1 = get_param(1, feature_map) # varphi_1\n",
    "# x2 = get_param(2, feature_map)  # theta_2\n",
    "\n",
    "# feature_map.parameter\n",
    "\n",
    "\n",
    "X = [Parameter(f'x[{i}]') for i in range(num_qubits * 2)]\n",
    "\n",
    "var_form = variational_forms.RYRZ(num_qubits)\n",
    "\n",
    "qc = QuantumCircuit(num_qubits)\n",
    "\n",
    "for i in range(num_qubits):\n",
    "    qc.u3(X[2*i], X[2*i+1], 0, i) # Encoder\n",
    "    \n",
    "\n",
    "# Reassign the circuit variable\n",
    "tmp1 = feature_map.assign_parameters(X[:num_qubits])\n",
    "tmp2 = feature_map.assign_parameters(X[num_qubits:])\n",
    "\n",
    "# var_form = variational_forms.RYRZ(3)\n",
    "\n",
    "# qc.cx(0,1)\n",
    "# qc.cx(2,3)\n",
    "# qc.cx(1,2)\n",
    "\n",
    "feature_map = qc + tmp1 + tmp2 \n",
    "feature_map.draw('mpl')"
   ]
  },
  {
   "cell_type": "code",
   "execution_count": 76,
   "metadata": {},
   "outputs": [
    {
     "name": "stdout",
     "output_type": "stream",
     "text": [
      "numpy                    1.18.5      \n",
      "\u001b[33mYou are using pip version 10.0.1, however version 20.2b1 is available.\n",
      "You should consider upgrading via the 'pip install --upgrade pip' command.\u001b[0m\n"
     ]
    }
   ],
   "source": [
    "!pip list | grep numpy"
   ]
  },
  {
   "cell_type": "code",
   "execution_count": 182,
   "metadata": {
    "scrolled": true
   },
   "outputs": [
    {
     "name": "stderr",
     "output_type": "stream",
     "text": [
      "/Users/barnrang/miniconda3/envs/liigo/lib/python3.6/site-packages/ipykernel_launcher.py:6: DeprecationWarning: \n",
      "            The <class 'qiskit.circuit.quantumcircuit.QuantumCircuit'> object as input for the VQC is deprecated as of 0.7.0 and will\n",
      "            be removed no earlier than 3 months after the release.\n",
      "            You should pass a QuantumCircuit object instead.\n",
      "            See also qiskit.circuit.library.n_local for a collection\n",
      "            of suitable circuits.\n",
      "  \n",
      "2020-07-07 22:51:58,508:qiskit.aqua.quantum_instance:INFO: \n",
      "Qiskit Terra version: 0.14.1\n",
      "Backend: 'qasm_simulator (BasicAer)', with following setting:\n",
      "{'basis_gates': ['u1', 'u2', 'u3', 'cx', 'id', 'unitary'], 'coupling_map': None}\n",
      "{'pass_manager': None, 'initial_layout': None, 'seed_transpiler': 10598, 'optimization_level': None}\n",
      "RunConfig(max_credits=10, seed_simulator=10598, shots=1024)\n",
      "{'timeout': None}\n",
      "{}\n",
      "{}\n",
      "Measurement mitigation: None\n",
      "2020-07-07 22:51:58,511:qiskit.aqua.algorithms.vq_algorithm:INFO: Starting optimizer.\n",
      "bounds=[(-3.141592653589793, 3.141592653589793), (-3.141592653589793, 3.141592653589793), (-3.141592653589793, 3.141592653589793), (-3.141592653589793, 3.141592653589793), (-3.141592653589793, 3.141592653589793), (-3.141592653589793, 3.141592653589793), (-3.141592653589793, 3.141592653589793), (-3.141592653589793, 3.141592653589793), (-3.141592653589793, 3.141592653589793), (-3.141592653589793, 3.141592653589793), (-3.141592653589793, 3.141592653589793), (-3.141592653589793, 3.141592653589793), (-3.141592653589793, 3.141592653589793), (-3.141592653589793, 3.141592653589793), (-3.141592653589793, 3.141592653589793), (-3.141592653589793, 3.141592653589793), (-3.141592653589793, 3.141592653589793), (-3.141592653589793, 3.141592653589793), (-3.141592653589793, 3.141592653589793), (-3.141592653589793, 3.141592653589793), (-3.141592653589793, 3.141592653589793), (-3.141592653589793, 3.141592653589793), (-3.141592653589793, 3.141592653589793), (-3.141592653589793, 3.141592653589793), (-3.141592653589793, 3.141592653589793), (-3.141592653589793, 3.141592653589793), (-3.141592653589793, 3.141592653589793), (-3.141592653589793, 3.141592653589793), (-3.141592653589793, 3.141592653589793), (-3.141592653589793, 3.141592653589793), (-3.141592653589793, 3.141592653589793), (-3.141592653589793, 3.141592653589793)]\n",
      "initial point=[ 0.61949192  1.77584112  0.41833438  0.06743435 -0.61218201 -0.54514375\n",
      " -0.52881848  0.7964861   1.52190442 -0.30684183  0.47500754 -0.58752868\n",
      " -1.21289664  0.12296897  1.86864103 -0.24536327 -0.60208623 -0.20947121\n",
      " -1.44508703 -0.0602464  -0.51692898  0.42557717 -0.74667924 -1.59529304\n",
      " -0.18719081 -0.66414793  1.82295114  0.13400926  1.06413341  0.48661572\n",
      " -0.72931696  0.72929889]\n",
      "2020-07-07 22:51:58,517:qiskit.aqua.components.optimizers.optimizer:DEBUG: WARNING: COBYLA does not support bounds. It will be ignored.\n",
      "2020-07-07 22:52:11,431:qiskit.aqua.algorithms.classifiers.vqc:DEBUG: Intermediate batch cost: 0.7571161499707587\n",
      "2020-07-07 22:52:21,469:qiskit.aqua.algorithms.classifiers.vqc:DEBUG: Intermediate batch cost: 0.7477105139938531\n",
      "2020-07-07 22:52:33,256:qiskit.aqua.algorithms.classifiers.vqc:DEBUG: Intermediate batch cost: 0.7365308469979835\n",
      "2020-07-07 22:52:45,062:qiskit.aqua.algorithms.classifiers.vqc:DEBUG: Intermediate batch cost: 0.73268218091374\n",
      "2020-07-07 22:52:56,063:qiskit.aqua.algorithms.classifiers.vqc:DEBUG: Intermediate batch cost: 0.6944823239194505\n",
      "2020-07-07 22:53:07,173:qiskit.aqua.algorithms.classifiers.vqc:DEBUG: Intermediate batch cost: 0.6846766296050056\n",
      "2020-07-07 22:53:17,124:qiskit.aqua.algorithms.classifiers.vqc:DEBUG: Intermediate batch cost: 0.6856779820844312\n",
      "2020-07-07 22:53:27,451:qiskit.aqua.algorithms.classifiers.vqc:DEBUG: Intermediate batch cost: 0.6923901777533579\n",
      "2020-07-07 22:53:37,937:qiskit.aqua.algorithms.classifiers.vqc:DEBUG: Intermediate batch cost: 0.704179982758826\n",
      "2020-07-07 22:53:48,538:qiskit.aqua.algorithms.classifiers.vqc:DEBUG: Intermediate batch cost: 0.6831343849961875\n",
      "2020-07-07 22:53:59,381:qiskit.aqua.algorithms.classifiers.vqc:DEBUG: Intermediate batch cost: 0.6866687787629456\n",
      "2020-07-07 22:54:09,352:qiskit.aqua.algorithms.classifiers.vqc:DEBUG: Intermediate batch cost: 0.7023178643668407\n",
      "2020-07-07 22:54:19,252:qiskit.aqua.algorithms.classifiers.vqc:DEBUG: Intermediate batch cost: 0.6790652479108971\n",
      "2020-07-07 22:54:29,014:qiskit.aqua.algorithms.classifiers.vqc:DEBUG: Intermediate batch cost: 0.6816668216879999\n",
      "2020-07-07 22:54:38,946:qiskit.aqua.algorithms.classifiers.vqc:DEBUG: Intermediate batch cost: 0.6979574318377622\n",
      "2020-07-07 22:54:48,642:qiskit.aqua.algorithms.classifiers.vqc:DEBUG: Intermediate batch cost: 0.6877205418187149\n",
      "2020-07-07 22:54:59,084:qiskit.aqua.algorithms.classifiers.vqc:DEBUG: Intermediate batch cost: 0.6707707811324098\n",
      "2020-07-07 22:55:09,254:qiskit.aqua.algorithms.classifiers.vqc:DEBUG: Intermediate batch cost: 0.7064185864385139\n",
      "2020-07-07 22:55:19,088:qiskit.aqua.algorithms.classifiers.vqc:DEBUG: Intermediate batch cost: 0.6706681305681381\n",
      "2020-07-07 22:55:28,826:qiskit.aqua.algorithms.classifiers.vqc:DEBUG: Intermediate batch cost: 0.6769774949888531\n",
      "2020-07-07 22:55:38,519:qiskit.aqua.algorithms.classifiers.vqc:DEBUG: Intermediate batch cost: 0.70063880750737\n",
      "2020-07-07 22:55:48,196:qiskit.aqua.algorithms.classifiers.vqc:DEBUG: Intermediate batch cost: 0.667484614212027\n",
      "2020-07-07 22:55:58,569:qiskit.aqua.algorithms.classifiers.vqc:DEBUG: Intermediate batch cost: 0.696054322793535\n",
      "2020-07-07 22:56:08,069:qiskit.aqua.algorithms.classifiers.vqc:DEBUG: Intermediate batch cost: 0.6806699388494973\n",
      "2020-07-07 22:56:17,931:qiskit.aqua.algorithms.classifiers.vqc:DEBUG: Intermediate batch cost: 0.6675980098536396\n",
      "2020-07-07 22:56:27,730:qiskit.aqua.algorithms.classifiers.vqc:DEBUG: Intermediate batch cost: 0.7040109552564335\n",
      "2020-07-07 22:56:38,029:qiskit.aqua.algorithms.classifiers.vqc:DEBUG: Intermediate batch cost: 0.667484614212027\n",
      "2020-07-07 22:56:47,975:qiskit.aqua.algorithms.classifiers.vqc:DEBUG: Intermediate batch cost: 0.6957941291137745\n",
      "2020-07-07 22:56:57,825:qiskit.aqua.algorithms.classifiers.vqc:DEBUG: Intermediate batch cost: 0.667484614212027\n",
      "2020-07-07 22:57:07,605:qiskit.aqua.algorithms.classifiers.vqc:DEBUG: Intermediate batch cost: 0.6801319165474621\n",
      "2020-07-07 22:57:17,440:qiskit.aqua.algorithms.classifiers.vqc:DEBUG: Intermediate batch cost: 0.667484614212027\n",
      "2020-07-07 22:57:27,732:qiskit.aqua.algorithms.classifiers.vqc:DEBUG: Intermediate batch cost: 0.6514889510715971\n",
      "2020-07-07 22:57:37,675:qiskit.aqua.algorithms.classifiers.vqc:DEBUG: Intermediate batch cost: 0.6514889510715971\n",
      "2020-07-07 22:57:47,564:qiskit.aqua.algorithms.classifiers.vqc:DEBUG: Intermediate batch cost: 0.6807055604500761\n",
      "2020-07-07 22:57:57,414:qiskit.aqua.algorithms.classifiers.vqc:DEBUG: Intermediate batch cost: 0.6679712064106008\n",
      "2020-07-07 22:58:07,167:qiskit.aqua.algorithms.classifiers.vqc:DEBUG: Intermediate batch cost: 0.6799479212189733\n",
      "2020-07-07 22:58:17,886:qiskit.aqua.algorithms.classifiers.vqc:DEBUG: Intermediate batch cost: 0.6485449201686372\n",
      "2020-07-07 22:58:27,734:qiskit.aqua.algorithms.classifiers.vqc:DEBUG: Intermediate batch cost: 0.6595807156904777\n",
      "2020-07-07 22:58:37,627:qiskit.aqua.algorithms.classifiers.vqc:DEBUG: Intermediate batch cost: 0.6549381114446813\n",
      "2020-07-07 22:58:47,347:qiskit.aqua.algorithms.classifiers.vqc:DEBUG: Intermediate batch cost: 0.6558189924158397\n",
      "2020-07-07 22:58:57,079:qiskit.aqua.algorithms.classifiers.vqc:DEBUG: Intermediate batch cost: 0.6671295690298464\n",
      "2020-07-07 22:59:06,953:qiskit.aqua.algorithms.classifiers.vqc:DEBUG: Intermediate batch cost: 0.6423017586183655\n",
      "2020-07-07 22:59:16,795:qiskit.aqua.algorithms.classifiers.vqc:DEBUG: Intermediate batch cost: 0.6508786842313756\n",
      "2020-07-07 22:59:26,696:qiskit.aqua.algorithms.classifiers.vqc:DEBUG: Intermediate batch cost: 0.6728648163656059\n",
      "2020-07-07 22:59:37,534:qiskit.aqua.algorithms.classifiers.vqc:DEBUG: Intermediate batch cost: 0.6374933086949396\n",
      "2020-07-07 22:59:50,733:qiskit.aqua.algorithms.classifiers.vqc:DEBUG: Intermediate batch cost: 0.6545849298707604\n",
      "2020-07-07 23:00:02,353:qiskit.aqua.algorithms.classifiers.vqc:DEBUG: Intermediate batch cost: 0.6448061810176342\n"
     ]
    },
    {
     "name": "stderr",
     "output_type": "stream",
     "text": [
      "2020-07-07 23:00:13,941:qiskit.aqua.algorithms.classifiers.vqc:DEBUG: Intermediate batch cost: 0.663191763950413\n",
      "2020-07-07 23:00:23,893:qiskit.aqua.algorithms.classifiers.vqc:DEBUG: Intermediate batch cost: 0.641117345609613\n",
      "2020-07-07 23:00:33,738:qiskit.aqua.algorithms.classifiers.vqc:DEBUG: Intermediate batch cost: 0.6655118439260927\n",
      "2020-07-07 23:00:44,311:qiskit.aqua.algorithms.classifiers.vqc:DEBUG: Intermediate batch cost: 0.6358107915630264\n",
      "2020-07-07 23:00:54,469:qiskit.aqua.algorithms.classifiers.vqc:DEBUG: Intermediate batch cost: 0.6696797477187586\n",
      "2020-07-07 23:01:04,123:qiskit.aqua.algorithms.classifiers.vqc:DEBUG: Intermediate batch cost: 0.6293144482409473\n",
      "2020-07-07 23:01:14,033:qiskit.aqua.algorithms.classifiers.vqc:DEBUG: Intermediate batch cost: 0.693020944915558\n",
      "2020-07-07 23:01:23,838:qiskit.aqua.algorithms.classifiers.vqc:DEBUG: Intermediate batch cost: 0.6302830969000237\n",
      "2020-07-07 23:01:34,185:qiskit.aqua.algorithms.classifiers.vqc:DEBUG: Intermediate batch cost: 0.6427616619539251\n",
      "2020-07-07 23:01:44,227:qiskit.aqua.algorithms.classifiers.vqc:DEBUG: Intermediate batch cost: 0.637981437523166\n",
      "2020-07-07 23:01:55,094:qiskit.aqua.algorithms.classifiers.vqc:DEBUG: Intermediate batch cost: 0.6472503531349088\n",
      "2020-07-07 23:02:04,996:qiskit.aqua.algorithms.classifiers.vqc:DEBUG: Intermediate batch cost: 0.6382259799415388\n",
      "2020-07-07 23:02:14,922:qiskit.aqua.algorithms.classifiers.vqc:DEBUG: Intermediate batch cost: 0.6406317172180996\n",
      "2020-07-07 23:02:25,245:qiskit.aqua.algorithms.classifiers.vqc:DEBUG: Intermediate batch cost: 0.6199466107613294\n",
      "2020-07-07 23:02:34,799:qiskit.aqua.algorithms.classifiers.vqc:DEBUG: Intermediate batch cost: 0.649814182263287\n",
      "2020-07-07 23:02:44,630:qiskit.aqua.algorithms.classifiers.vqc:DEBUG: Intermediate batch cost: 0.6372301518818633\n",
      "2020-07-07 23:02:54,382:qiskit.aqua.algorithms.classifiers.vqc:DEBUG: Intermediate batch cost: 0.6358183511045866\n",
      "2020-07-07 23:03:04,812:qiskit.aqua.algorithms.classifiers.vqc:DEBUG: Intermediate batch cost: 0.6335208142559655\n",
      "2020-07-07 23:03:15,150:qiskit.aqua.algorithms.classifiers.vqc:DEBUG: Intermediate batch cost: 0.6186490787601544\n",
      "2020-07-07 23:03:25,508:qiskit.aqua.algorithms.classifiers.vqc:DEBUG: Intermediate batch cost: 0.614142330970718\n",
      "2020-07-07 23:03:35,407:qiskit.aqua.algorithms.classifiers.vqc:DEBUG: Intermediate batch cost: 0.6125150503097064\n",
      "2020-07-07 23:03:45,360:qiskit.aqua.algorithms.classifiers.vqc:DEBUG: Intermediate batch cost: 0.629467652017519\n",
      "2020-07-07 23:03:55,220:qiskit.aqua.algorithms.classifiers.vqc:DEBUG: Intermediate batch cost: 0.6125150503097064\n",
      "2020-07-07 23:04:07,035:qiskit.aqua.algorithms.classifiers.vqc:DEBUG: Intermediate batch cost: 0.6069708948371666\n",
      "2020-07-07 23:04:17,141:qiskit.aqua.algorithms.classifiers.vqc:DEBUG: Intermediate batch cost: 0.6069708948371666\n",
      "2020-07-07 23:04:26,834:qiskit.aqua.algorithms.classifiers.vqc:DEBUG: Intermediate batch cost: 0.6132468991137632\n",
      "2020-07-07 23:04:37,641:qiskit.aqua.algorithms.classifiers.vqc:DEBUG: Intermediate batch cost: 0.6078411645924836\n",
      "2020-07-07 23:04:47,242:qiskit.aqua.algorithms.classifiers.vqc:DEBUG: Intermediate batch cost: 0.6189161462130119\n",
      "2020-07-07 23:04:57,606:qiskit.aqua.algorithms.classifiers.vqc:DEBUG: Intermediate batch cost: 0.6089694122878443\n",
      "2020-07-07 23:05:07,430:qiskit.aqua.algorithms.classifiers.vqc:DEBUG: Intermediate batch cost: 0.6252790646295002\n",
      "2020-07-07 23:05:17,137:qiskit.aqua.algorithms.classifiers.vqc:DEBUG: Intermediate batch cost: 0.6141254529897092\n",
      "2020-07-07 23:05:26,802:qiskit.aqua.algorithms.classifiers.vqc:DEBUG: Intermediate batch cost: 0.6057697055045383\n",
      "2020-07-07 23:05:36,626:qiskit.aqua.algorithms.classifiers.vqc:DEBUG: Intermediate batch cost: 0.614484380782693\n",
      "2020-07-07 23:05:46,889:qiskit.aqua.algorithms.classifiers.vqc:DEBUG: Intermediate batch cost: 0.6125650139454888\n",
      "2020-07-07 23:05:56,452:qiskit.aqua.algorithms.classifiers.vqc:DEBUG: Intermediate batch cost: 0.6078117547990277\n",
      "2020-07-07 23:06:06,278:qiskit.aqua.algorithms.classifiers.vqc:DEBUG: Intermediate batch cost: 0.6159632503081719\n",
      "2020-07-07 23:06:15,972:qiskit.aqua.algorithms.classifiers.vqc:DEBUG: Intermediate batch cost: 0.6083206165806214\n",
      "2020-07-07 23:06:26,241:qiskit.aqua.algorithms.classifiers.vqc:DEBUG: Intermediate batch cost: 0.607375570192713\n",
      "2020-07-07 23:06:36,427:qiskit.aqua.algorithms.classifiers.vqc:DEBUG: Intermediate batch cost: 0.6080749248019255\n",
      "2020-07-07 23:06:45,945:qiskit.aqua.algorithms.classifiers.vqc:DEBUG: Intermediate batch cost: 0.6126521396356719\n",
      "2020-07-07 23:06:55,828:qiskit.aqua.algorithms.classifiers.vqc:DEBUG: Intermediate batch cost: 0.6136733849141788\n",
      "2020-07-07 23:07:06,461:qiskit.aqua.algorithms.classifiers.vqc:DEBUG: Intermediate batch cost: 0.6091672592971253\n",
      "2020-07-07 23:07:16,751:qiskit.aqua.algorithms.classifiers.vqc:DEBUG: Intermediate batch cost: 0.6072199811707012\n",
      "2020-07-07 23:07:26,285:qiskit.aqua.algorithms.classifiers.vqc:DEBUG: Intermediate batch cost: 0.613020928234939\n",
      "2020-07-07 23:07:36,317:qiskit.aqua.algorithms.classifiers.vqc:DEBUG: Intermediate batch cost: 0.6081369636992149\n",
      "2020-07-07 23:07:46,176:qiskit.aqua.algorithms.classifiers.vqc:DEBUG: Intermediate batch cost: 0.6091623784864824\n",
      "2020-07-07 23:07:55,741:qiskit.aqua.algorithms.classifiers.vqc:DEBUG: Intermediate batch cost: 0.6128772794549642\n",
      "2020-07-07 23:08:06,001:qiskit.aqua.algorithms.classifiers.vqc:DEBUG: Intermediate batch cost: 0.61548225400698\n",
      "2020-07-07 23:08:15,531:qiskit.aqua.algorithms.classifiers.vqc:DEBUG: Intermediate batch cost: 0.6092585787661468\n",
      "2020-07-07 23:08:25,350:qiskit.aqua.algorithms.classifiers.vqc:DEBUG: Intermediate batch cost: 0.6188940667691208\n",
      "2020-07-07 23:08:35,064:qiskit.aqua.algorithms.classifiers.vqc:DEBUG: Intermediate batch cost: 0.6077948021889704\n",
      "2020-07-07 23:08:44,912:qiskit.aqua.algorithms.classifiers.vqc:DEBUG: Intermediate batch cost: 0.612475807341185\n",
      "2020-07-07 23:08:54,699:qiskit.aqua.algorithms.classifiers.vqc:DEBUG: Intermediate batch cost: 0.6059143916089582\n",
      "2020-07-07 23:08:54,702:qiskit.aqua.algorithms.classifiers.vqc:INFO: Optimization complete in 1016.1901092529297 seconds.\n",
      "Found opt_params [ 1.57894085  2.11888745  1.50680152  1.36252542  0.38717875 -0.4442979\n",
      " -0.41621568  1.82778246  3.06276716 -0.21646822  0.7318231   0.40220313\n",
      " -1.22673582  0.09799549  1.77436745  1.26494503 -0.36320079  0.81543903\n",
      " -1.9725217  -0.04829502  0.61871993  0.35634542 -0.78874664 -1.85953159\n",
      " -0.28770335 -0.66414793  1.74142034 -0.18194993  1.56749658  0.17065653\n",
      "  0.01348232  0.1917909 ] in 100 evals\n"
     ]
    },
    {
     "name": "stdout",
     "output_type": "stream",
     "text": [
      "preduction of datapoints:\n"
     ]
    }
   ],
   "source": [
    "# \n",
    "\n",
    "seed = 10598\n",
    "\n",
    "# qsvm_encode = QSVM(feature_map, training_input)\n",
    "qsvm_encode = VQC(COBYLA(100), feature_map, var_form, training_input)\n",
    "\n",
    "# provider = IBMQ.get_provider(hub='ibm-q-utokyo')\n",
    "# backend = provider.get_backend('ibmq_johannesburg')\n",
    "\n",
    "backend = BasicAer.get_backend('qasm_simulator')\n",
    "quantum_instance = QuantumInstance(backend, shots=1024, seed_simulator=seed, seed_transpiler=seed)\n",
    "\n",
    "\n",
    "result = qsvm_encode.run(quantum_instance)\n",
    "\n",
    "# print(\"testing success ratio: {}\".format(result['testing_accuracy']))\n",
    "print(\"preduction of datapoints:\")\n",
    "# print(\"ground truth: {}\".format(map_label_to_class_name(datapoints[1], qsvm.label_to_class)))\n",
    "# print(\"prediction:   {}\".format(result['predicted_classes']))"
   ]
  },
  {
   "cell_type": "code",
   "execution_count": 184,
   "metadata": {},
   "outputs": [
    {
     "name": "stderr",
     "output_type": "stream",
     "text": [
      "2020-07-07 23:11:42,180:qiskit.aqua.algorithms.classifiers.vqc:DEBUG: Predicting batch 0\n"
     ]
    },
    {
     "data": {
      "text/plain": [
       "(0.7017543859649122, 0.575)"
      ]
     },
     "execution_count": 184,
     "metadata": {},
     "output_type": "execute_result"
    }
   ],
   "source": [
    "# Train acc\n",
    "y_pred = qsvm_encode.predict(df_train_encode)[1]\n",
    "\n",
    "np.mean(y_pred == y_train), f1_score(y_train, y_pred)"
   ]
  },
  {
   "cell_type": "code",
   "execution_count": 183,
   "metadata": {},
   "outputs": [
    {
     "name": "stderr",
     "output_type": "stream",
     "text": [
      "2020-07-07 23:08:54,715:qiskit.aqua.algorithms.classifiers.vqc:DEBUG: Predicting batch 0\n"
     ]
    },
    {
     "data": {
      "text/plain": [
       "(0.603448275862069, 0.46511627906976744)"
      ]
     },
     "execution_count": 183,
     "metadata": {},
     "output_type": "execute_result"
    }
   ],
   "source": [
    "# Test acc\n",
    "\n",
    "y_pred = qsvm_encode.predict(df_test_encode)[1]\n",
    "\n",
    "np.mean(y_pred == y_test), f1_score(y_test, y_pred)"
   ]
  },
  {
   "cell_type": "code",
   "execution_count": 186,
   "metadata": {},
   "outputs": [
    {
     "data": {
      "text/plain": [
       "{'num_optimizer_evals': 100,\n",
       " 'min_val': 0.6057697055045383,\n",
       " 'opt_params': array([ 1.57894085,  2.11888745,  1.50680152,  1.36252542,  0.38717875,\n",
       "        -0.4442979 , -0.41621568,  1.82778246,  3.06276716, -0.21646822,\n",
       "         0.7318231 ,  0.40220313, -1.22673582,  0.09799549,  1.77436745,\n",
       "         1.26494503, -0.36320079,  0.81543903, -1.9725217 , -0.04829502,\n",
       "         0.61871993,  0.35634542, -0.78874664, -1.85953159, -0.28770335,\n",
       "        -0.66414793,  1.74142034, -0.18194993,  1.56749658,  0.17065653,\n",
       "         0.01348232,  0.1917909 ]),\n",
       " 'eval_time': 1016.1901092529297,\n",
       " 'eval_count': 100,\n",
       " 'training_loss': 0.6057697055045383,\n",
       " 'predicted_probs': array([[0.53417969, 0.46582031],\n",
       "        [0.65625   , 0.34375   ],\n",
       "        [0.47363281, 0.52636719],\n",
       "        [0.3515625 , 0.6484375 ],\n",
       "        [0.60742188, 0.39257812],\n",
       "        [0.79394531, 0.20605469],\n",
       "        [0.57421875, 0.42578125],\n",
       "        [0.31152344, 0.68847656],\n",
       "        [0.41894531, 0.58105469],\n",
       "        [0.4453125 , 0.5546875 ],\n",
       "        [0.4375    , 0.5625    ],\n",
       "        [0.68359375, 0.31640625],\n",
       "        [0.45410156, 0.54589844],\n",
       "        [0.515625  , 0.484375  ],\n",
       "        [0.56933594, 0.43066406],\n",
       "        [0.32714844, 0.67285156],\n",
       "        [0.66113281, 0.33886719],\n",
       "        [0.56933594, 0.43066406],\n",
       "        [0.45605469, 0.54394531],\n",
       "        [0.43554688, 0.56445312],\n",
       "        [0.59082031, 0.40917969],\n",
       "        [0.515625  , 0.484375  ],\n",
       "        [0.23144531, 0.76855469],\n",
       "        [0.68359375, 0.31640625],\n",
       "        [0.47851562, 0.52148438],\n",
       "        [0.6171875 , 0.3828125 ],\n",
       "        [0.72070312, 0.27929688],\n",
       "        [0.22460938, 0.77539062],\n",
       "        [0.48535156, 0.51464844],\n",
       "        [0.49902344, 0.50097656],\n",
       "        [0.6171875 , 0.3828125 ],\n",
       "        [0.6171875 , 0.3828125 ],\n",
       "        [0.31152344, 0.68847656],\n",
       "        [0.66015625, 0.33984375],\n",
       "        [0.31152344, 0.68847656],\n",
       "        [0.59082031, 0.40917969],\n",
       "        [0.77734375, 0.22265625],\n",
       "        [0.6171875 , 0.3828125 ],\n",
       "        [0.56152344, 0.43847656],\n",
       "        [0.66992188, 0.33007812],\n",
       "        [0.4453125 , 0.5546875 ],\n",
       "        [0.59082031, 0.40917969],\n",
       "        [0.62402344, 0.37597656],\n",
       "        [0.65625   , 0.34375   ],\n",
       "        [0.41113281, 0.58886719],\n",
       "        [0.55761719, 0.44238281],\n",
       "        [0.5078125 , 0.4921875 ],\n",
       "        [0.53125   , 0.46875   ],\n",
       "        [0.5078125 , 0.4921875 ],\n",
       "        [0.41113281, 0.58886719],\n",
       "        [0.47363281, 0.52636719],\n",
       "        [0.33300781, 0.66699219],\n",
       "        [0.26855469, 0.73144531],\n",
       "        [0.4453125 , 0.5546875 ],\n",
       "        [0.69921875, 0.30078125],\n",
       "        [0.69921875, 0.30078125],\n",
       "        [0.66699219, 0.33300781],\n",
       "        [0.5390625 , 0.4609375 ],\n",
       "        [0.20605469, 0.79394531],\n",
       "        [0.4765625 , 0.5234375 ],\n",
       "        [0.41113281, 0.58886719],\n",
       "        [0.64355469, 0.35644531],\n",
       "        [0.26855469, 0.73144531],\n",
       "        [0.60742188, 0.39257812],\n",
       "        [0.77734375, 0.22265625],\n",
       "        [0.66113281, 0.33886719],\n",
       "        [0.62402344, 0.37597656],\n",
       "        [0.55664062, 0.44335938],\n",
       "        [0.38867188, 0.61132812],\n",
       "        [0.68554688, 0.31445312],\n",
       "        [0.703125  , 0.296875  ],\n",
       "        [0.56933594, 0.43066406],\n",
       "        [0.52441406, 0.47558594],\n",
       "        [0.56933594, 0.43066406],\n",
       "        [0.71191406, 0.28808594],\n",
       "        [0.49902344, 0.50097656],\n",
       "        [0.69921875, 0.30078125],\n",
       "        [0.50878906, 0.49121094],\n",
       "        [0.54394531, 0.45605469],\n",
       "        [0.66113281, 0.33886719],\n",
       "        [0.54394531, 0.45605469],\n",
       "        [0.20605469, 0.79394531],\n",
       "        [0.43457031, 0.56542969],\n",
       "        [0.69921875, 0.30078125],\n",
       "        [0.53417969, 0.46582031],\n",
       "        [0.73144531, 0.26855469],\n",
       "        [0.59082031, 0.40917969],\n",
       "        [0.4765625 , 0.5234375 ],\n",
       "        [0.53417969, 0.46582031],\n",
       "        [0.20605469, 0.79394531],\n",
       "        [0.52441406, 0.47558594],\n",
       "        [0.64355469, 0.35644531],\n",
       "        [0.65625   , 0.34375   ],\n",
       "        [0.40039062, 0.59960938],\n",
       "        [0.31152344, 0.68847656],\n",
       "        [0.69921875, 0.30078125],\n",
       "        [0.79394531, 0.20605469],\n",
       "        [0.40234375, 0.59765625],\n",
       "        [0.68554688, 0.31445312],\n",
       "        [0.32714844, 0.67285156],\n",
       "        [0.5       , 0.5       ],\n",
       "        [0.4453125 , 0.5546875 ],\n",
       "        [0.23144531, 0.76855469],\n",
       "        [0.60742188, 0.39257812],\n",
       "        [0.4453125 , 0.5546875 ],\n",
       "        [0.4765625 , 0.5234375 ],\n",
       "        [0.45410156, 0.54589844],\n",
       "        [0.515625  , 0.484375  ],\n",
       "        [0.4453125 , 0.5546875 ],\n",
       "        [0.49902344, 0.50097656],\n",
       "        [0.49902344, 0.50097656],\n",
       "        [0.59082031, 0.40917969],\n",
       "        [0.72070312, 0.27929688],\n",
       "        [0.47363281, 0.52636719],\n",
       "        [0.59082031, 0.40917969],\n",
       "        [0.23144531, 0.76855469],\n",
       "        [0.60742188, 0.39257812],\n",
       "        [0.6171875 , 0.3828125 ],\n",
       "        [0.49902344, 0.50097656],\n",
       "        [0.56933594, 0.43066406],\n",
       "        [0.55371094, 0.44628906],\n",
       "        [0.79394531, 0.20605469],\n",
       "        [0.421875  , 0.578125  ],\n",
       "        [0.33300781, 0.66699219],\n",
       "        [0.48730469, 0.51269531],\n",
       "        [0.56933594, 0.43066406],\n",
       "        [0.52441406, 0.47558594],\n",
       "        [0.4765625 , 0.5234375 ],\n",
       "        [0.53125   , 0.46875   ],\n",
       "        [0.40332031, 0.59667969],\n",
       "        [0.41113281, 0.58886719],\n",
       "        [0.60742188, 0.39257812],\n",
       "        [0.49902344, 0.50097656],\n",
       "        [0.79394531, 0.20605469],\n",
       "        [0.31152344, 0.68847656],\n",
       "        [0.4453125 , 0.5546875 ],\n",
       "        [0.4453125 , 0.5546875 ],\n",
       "        [0.33300781, 0.66699219],\n",
       "        [0.5078125 , 0.4921875 ],\n",
       "        [0.5       , 0.5       ],\n",
       "        [0.62402344, 0.37597656],\n",
       "        [0.55566406, 0.44433594],\n",
       "        [0.73144531, 0.26855469],\n",
       "        [0.50878906, 0.49121094],\n",
       "        [0.56933594, 0.43066406],\n",
       "        [0.49902344, 0.50097656],\n",
       "        [0.60351562, 0.39648438],\n",
       "        [0.52441406, 0.47558594],\n",
       "        [0.64355469, 0.35644531],\n",
       "        [0.54394531, 0.45605469],\n",
       "        [0.4765625 , 0.5234375 ],\n",
       "        [0.43554688, 0.56445312],\n",
       "        [0.47949219, 0.52050781],\n",
       "        [0.515625  , 0.484375  ],\n",
       "        [0.64160156, 0.35839844],\n",
       "        [0.62402344, 0.37597656],\n",
       "        [0.47363281, 0.52636719],\n",
       "        [0.59082031, 0.40917969],\n",
       "        [0.53417969, 0.46582031],\n",
       "        [0.62402344, 0.37597656],\n",
       "        [0.53417969, 0.46582031],\n",
       "        [0.5078125 , 0.4921875 ],\n",
       "        [0.57324219, 0.42675781],\n",
       "        [0.60742188, 0.39257812],\n",
       "        [0.734375  , 0.265625  ],\n",
       "        [0.31152344, 0.68847656],\n",
       "        [0.43457031, 0.56542969],\n",
       "        [0.62402344, 0.37597656],\n",
       "        [0.49902344, 0.50097656],\n",
       "        [0.55761719, 0.44238281],\n",
       "        [0.4765625 , 0.5234375 ],\n",
       "        [0.33300781, 0.66699219],\n",
       "        [0.50878906, 0.49121094],\n",
       "        [0.23144531, 0.76855469],\n",
       "        [0.69921875, 0.30078125],\n",
       "        [0.53125   , 0.46875   ],\n",
       "        [0.56640625, 0.43359375],\n",
       "        [0.49902344, 0.50097656],\n",
       "        [0.42285156, 0.57714844],\n",
       "        [0.26855469, 0.73144531],\n",
       "        [0.62402344, 0.37597656],\n",
       "        [0.60742188, 0.39257812],\n",
       "        [0.60742188, 0.39257812],\n",
       "        [0.77734375, 0.22265625],\n",
       "        [0.57226562, 0.42773438],\n",
       "        [0.53417969, 0.46582031],\n",
       "        [0.59570312, 0.40429688],\n",
       "        [0.60742188, 0.39257812],\n",
       "        [0.41113281, 0.58886719],\n",
       "        [0.53222656, 0.46777344],\n",
       "        [0.43554688, 0.56445312],\n",
       "        [0.55761719, 0.44238281],\n",
       "        [0.62402344, 0.37597656],\n",
       "        [0.60742188, 0.39257812],\n",
       "        [0.31152344, 0.68847656],\n",
       "        [0.40234375, 0.59765625],\n",
       "        [0.5078125 , 0.4921875 ],\n",
       "        [0.77734375, 0.22265625],\n",
       "        [0.49316406, 0.50683594],\n",
       "        [0.56933594, 0.43066406],\n",
       "        [0.703125  , 0.296875  ],\n",
       "        [0.47363281, 0.52636719],\n",
       "        [0.6171875 , 0.3828125 ],\n",
       "        [0.421875  , 0.578125  ],\n",
       "        [0.515625  , 0.484375  ],\n",
       "        [0.29394531, 0.70605469],\n",
       "        [0.43457031, 0.56542969],\n",
       "        [0.5078125 , 0.4921875 ],\n",
       "        [0.55664062, 0.44335938],\n",
       "        [0.71191406, 0.28808594],\n",
       "        [0.31054688, 0.68945312],\n",
       "        [0.56933594, 0.43066406],\n",
       "        [0.33300781, 0.66699219],\n",
       "        [0.23144531, 0.76855469],\n",
       "        [0.49902344, 0.50097656],\n",
       "        [0.48730469, 0.51269531],\n",
       "        [0.62402344, 0.37597656],\n",
       "        [0.48730469, 0.51269531],\n",
       "        [0.49902344, 0.50097656],\n",
       "        [0.43554688, 0.56445312],\n",
       "        [0.40332031, 0.59667969],\n",
       "        [0.68554688, 0.31445312],\n",
       "        [0.53125   , 0.46875   ],\n",
       "        [0.45410156, 0.54589844],\n",
       "        [0.56640625, 0.43359375],\n",
       "        [0.60742188, 0.39257812],\n",
       "        [0.72070312, 0.27929688],\n",
       "        [0.49902344, 0.50097656]]),\n",
       " 'predicted_labels': array([0, 0, 1, 1, 0, 0, 0, 1, 1, 1, 1, 0, 1, 0, 0, 1, 0, 0, 1, 1, 0, 0,\n",
       "        1, 0, 1, 0, 0, 1, 1, 1, 0, 0, 1, 0, 1, 0, 0, 0, 0, 0, 1, 0, 0, 0,\n",
       "        1, 0, 0, 0, 0, 1, 1, 1, 1, 1, 0, 0, 0, 0, 1, 1, 1, 0, 1, 0, 0, 0,\n",
       "        0, 0, 1, 0, 0, 0, 0, 0, 0, 1, 0, 0, 0, 0, 0, 1, 1, 0, 0, 0, 0, 1,\n",
       "        0, 1, 0, 0, 0, 1, 1, 0, 0, 1, 0, 1, 0, 1, 1, 0, 1, 1, 1, 0, 1, 1,\n",
       "        1, 0, 0, 1, 0, 1, 0, 0, 1, 0, 0, 0, 1, 1, 1, 0, 0, 1, 0, 1, 1, 0,\n",
       "        1, 0, 1, 1, 1, 1, 0, 0, 0, 0, 0, 0, 0, 1, 0, 0, 0, 0, 1, 1, 1, 0,\n",
       "        0, 0, 1, 0, 0, 0, 0, 0, 0, 0, 0, 1, 1, 0, 1, 0, 1, 1, 0, 1, 0, 0,\n",
       "        0, 1, 1, 1, 0, 0, 0, 0, 0, 0, 0, 0, 1, 0, 1, 0, 0, 0, 1, 1, 0, 0,\n",
       "        1, 0, 0, 1, 0, 1, 0, 1, 1, 0, 0, 0, 1, 0, 1, 1, 1, 1, 0, 1, 1, 1,\n",
       "        1, 0, 0, 1, 0, 0, 0, 1])}"
      ]
     },
     "execution_count": 186,
     "metadata": {},
     "output_type": "execute_result"
    }
   ],
   "source": [
    "result"
   ]
  },
  {
   "cell_type": "code",
   "execution_count": 185,
   "metadata": {},
   "outputs": [],
   "source": [
    "qsvm_encode.save_model('VQC_encode_model_wt_ZZ_best_3')"
   ]
  },
  {
   "cell_type": "code",
   "execution_count": 120,
   "metadata": {},
   "outputs": [],
   "source": [
    "qsvm_encode.load_model('q_encode_model_wt_ZZ.npz')"
   ]
  },
  {
   "cell_type": "code",
   "execution_count": 118,
   "metadata": {
    "scrolled": true
   },
   "outputs": [
    {
     "name": "stdout",
     "output_type": "stream",
     "text": [
      "encode_model.npz\r\n",
      "q_encode_model_wt_ZZ.npz\r\n",
      "q_just_encode_model.npz\r\n",
      "q_just_encode_model_2_best.npz\r\n"
     ]
    }
   ],
   "source": [
    "!ls | grep model"
   ]
  },
  {
   "cell_type": "code",
   "execution_count": 13,
   "metadata": {},
   "outputs": [
    {
     "name": "stdout",
     "output_type": "stream",
     "text": [
      "kernel matrix during the training:\n"
     ]
    },
    {
     "data": {
      "image/png": "[encoded data removed]",
      "text/plain": [
       "<Figure size 432x288 with 1 Axes>"
      ]
     },
     "metadata": {
      "needs_background": "light"
     },
     "output_type": "display_data"
    }
   ],
   "source": [
    "print(\"kernel matrix during the training:\")\n",
    "kernel_matrix = result['kernel_matrix_training']\n",
    "img = plt.imshow(np.asmatrix(kernel_matrix),interpolation='nearest',origin='upper',cmap='bone_r')\n",
    "plt.show()"
   ]
  },
  {
   "cell_type": "code",
   "execution_count": 14,
   "metadata": {
    "ExecuteTime": {
     "end_time": "2019-08-22T01:49:36.816822Z",
     "start_time": "2019-08-22T01:49:36.806994Z"
    }
   },
   "outputs": [
    {
     "data": {
      "text/html": [
       "<h3>Version Information</h3><table><tr><th>Qiskit Software</th><th>Version</th></tr><tr><td>Qiskit</td><td>0.19.2</td></tr><tr><td>Terra</td><td>0.14.1</td></tr><tr><td>Aer</td><td>0.5.1</td></tr><tr><td>Ignis</td><td>0.3.0</td></tr><tr><td>Aqua</td><td>0.7.1</td></tr><tr><td>IBM Q Provider</td><td>0.7.1</td></tr><tr><th>System information</th></tr><tr><td>Python</td><td>3.6.10 | packaged by conda-forge | (default, Apr  6 2020, 14:22:25) \n",
       "[GCC Clang 9.0.1 ]</td></tr><tr><td>OS</td><td>Darwin</td></tr><tr><td>CPUs</td><td>4</td></tr><tr><td>Memory (Gb)</td><td>16.0</td></tr><tr><td colspan='2'>Fri Jun 12 15:52:44 2020 JST</td></tr></table>"
      ],
      "text/plain": [
       "<IPython.core.display.HTML object>"
      ]
     },
     "metadata": {},
     "output_type": "display_data"
    },
    {
     "data": {
      "text/html": [
       "<div style='width: 100%; background-color:#d5d9e0;padding-left: 10px; padding-bottom: 10px; padding-right: 10px; padding-top: 5px'><h3>This code is a part of Qiskit</h3><p>&copy; Copyright IBM 2017, 2020.</p><p>This code is licensed under the Apache License, Version 2.0. You may<br>obtain a copy of this license in the LICENSE.txt file in the root directory<br> of this source tree or at http://www.apache.org/licenses/LICENSE-2.0.<p>Any modifications or derivative works of this code must retain this<br>copyright notice, and modified files need to carry a notice indicating<br>that they have been altered from the originals.</p></div>"
      ],
      "text/plain": [
       "<IPython.core.display.HTML object>"
      ]
     },
     "metadata": {},
     "output_type": "display_data"
    }
   ],
   "source": [
    "import qiskit.tools.jupyter\n",
    "%qiskit_version_table\n",
    "%qiskit_copyright"
   ]
  },
  {
   "cell_type": "code",
   "execution_count": null,
   "metadata": {},
   "outputs": [],
   "source": []
  }
 ],
 "metadata": {
  "kernelspec": {
   "display_name": "Python 3",
   "language": "python",
   "name": "python3"
  },
  "language_info": {
   "codemirror_mode": {
    "name": "ipython",
    "version": 3
   },
   "file_extension": ".py",
   "mimetype": "text/x-python",
   "name": "python",
   "nbconvert_exporter": "python",
   "pygments_lexer": "ipython3",
   "version": "3.6.8"
  },
  "varInspector": {
   "cols": {
    "lenName": 16,
    "lenType": 16,
    "lenVar": 40
   },
   "kernels_config": {
    "python": {
     "delete_cmd_postfix": "",
     "delete_cmd_prefix": "del ",
     "library": "var_list.py",
     "varRefreshCmd": "print(var_dic_list())"
    },
    "r": {
     "delete_cmd_postfix": ") ",
     "delete_cmd_prefix": "rm(",
     "library": "var_list.r",
     "varRefreshCmd": "cat(var_dic_list()) "
    }
   },
   "types_to_exclude": [
    "module",
    "function",
    "builtin_function_or_method",
    "instance",
    "_Feature"
   ],
   "window_display": false
  }
 },
 "nbformat": 4,
 "nbformat_minor": 1
}
