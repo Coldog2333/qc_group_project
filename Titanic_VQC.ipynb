{
 "cells": [
  {
   "cell_type": "code",
   "execution_count": 1,
   "metadata": {},
   "outputs": [],
   "source": [
    "import matplotlib.pyplot as plt\n",
    "import numpy as np\n",
    "import pandas as pd\n",
    "from sklearn.metrics import f1_score\n",
    "\n",
    "from qiskit import BasicAer\n",
    "from qiskit.ml.datasets import *\n",
    "from qiskit.circuit.library import ZZFeatureMap\n",
    "from qiskit.aqua.components.feature_maps import SecondOrderExpansion\n",
    "from qiskit.aqua.utils import split_dataset_to_data_and_labels, map_label_to_class_name\n",
    "from qiskit.aqua import QuantumInstance\n",
    "from qiskit.aqua.algorithms import QSVM, VQC\n",
    "from qiskit.aqua.components import variational_forms\n",
    "from qiskit.aqua.components.optimizers import COBYLA\n",
    "\n",
    "# setup aqua logging\n",
    "import logging\n",
    "from qiskit.aqua import set_qiskit_aqua_logging\n",
    "set_qiskit_aqua_logging(logging.DEBUG)  # choose INFO, DEBUG to see the log\n",
    "\n",
    "from data_provider import load_titanic_pd\n",
    "from utils import record_test_result_for_kaggle"
   ]
  },
  {
   "cell_type": "code",
   "execution_count": 2,
   "metadata": {},
   "outputs": [
    {
     "name": "stderr",
     "output_type": "stream",
     "text": [
      "/Users/barnrang/Desktop/work/github/qc_group_project/data_provider.py:45: SettingWithCopyWarning: \n",
      "A value is trying to be set on a copy of a slice from a DataFrame\n",
      "\n",
      "See the caveats in the documentation: http://pandas.pydata.org/pandas-docs/stable/indexing.html#indexing-view-versus-copy\n",
      "  df[col][i] = numer_map[df[col][i]]\n",
      "/Users/barnrang/miniconda3/envs/liigo/lib/python3.6/site-packages/pandas/core/ops.py:1649: FutureWarning: elementwise comparison failed; returning scalar instead, but in the future will perform elementwise comparison\n",
      "  result = method(y)\n",
      "/Users/barnrang/Desktop/work/github/qc_group_project/data_provider.py:105: SettingWithCopyWarning: \n",
      "A value is trying to be set on a copy of a slice from a DataFrame\n",
      "\n",
      "See the caveats in the documentation: http://pandas.pydata.org/pandas-docs/stable/indexing.html#indexing-view-versus-copy\n",
      "  df[col][i] = value\n"
     ]
    },
    {
     "name": "stdout",
     "output_type": "stream",
     "text": [
      "     Survived  Pclass Sex Age  SibSp  Parch      Fare Embarked\n",
      "0           0       3   0  22      1      0    7.2500        0\n",
      "1           1       1   1  38      1      0   71.2833        1\n",
      "2           1       3   1  26      0      0    7.9250        0\n",
      "3           1       1   1  35      1      0   53.1000        0\n",
      "4           0       3   0  35      0      0    8.0500        0\n",
      "5           0       3   0  30      0      0    8.4583        2\n",
      "6           0       1   0  54      0      0   51.8625        0\n",
      "7           0       3   0   2      3      1   21.0750        0\n",
      "8           1       3   1  27      0      2   11.1333        0\n",
      "9           1       2   1  14      1      0   30.0708        1\n",
      "10          1       3   1   4      1      1   16.7000        0\n",
      "11          1       1   1  58      0      0   26.5500        0\n",
      "12          0       3   0  20      0      0    8.0500        0\n",
      "13          0       3   0  39      1      5   31.2750        0\n",
      "14          0       3   1  14      0      0    7.8542        0\n",
      "15          1       2   1  55      0      0   16.0000        0\n",
      "16          0       3   0   2      4      1   29.1250        2\n",
      "17          1       2   0  30      0      0   13.0000        0\n",
      "18          0       3   1  31      1      0   18.0000        0\n",
      "19          1       3   1  30      0      0    7.2250        1\n",
      "20          0       2   0  35      0      0   26.0000        0\n",
      "21          1       2   0  34      0      0   13.0000        0\n",
      "22          1       3   1  15      0      0    8.0292        2\n",
      "23          1       1   0  28      0      0   35.5000        0\n",
      "24          0       3   1   8      3      1   21.0750        0\n",
      "25          1       3   1  38      1      5   31.3875        0\n",
      "26          0       3   0  30      0      0    7.2250        1\n",
      "27          0       1   0  19      3      2  263.0000        0\n",
      "28          1       3   1  30      0      0    7.8792        2\n",
      "29          0       3   0  30      0      0    7.8958        0\n",
      "..        ...     ...  ..  ..    ...    ...       ...      ...\n",
      "861         0       2   0  21      1      0   11.5000        0\n",
      "862         1       1   1  48      0      0   25.9292        0\n",
      "863         0       3   1  30      8      2   69.5500        0\n",
      "864         0       2   0  24      0      0   13.0000        0\n",
      "865         1       2   1  42      0      0   13.0000        0\n",
      "866         1       2   1  27      1      0   13.8583        1\n",
      "867         0       1   0  31      0      0   50.4958        0\n",
      "868         0       3   0  30      0      0    9.5000        0\n",
      "869         1       3   0   4      1      1   11.1333        0\n",
      "870         0       3   0  26      0      0    7.8958        0\n",
      "871         1       1   1  47      1      1   52.5542        0\n",
      "872         0       1   0  33      0      0    5.0000        0\n",
      "873         0       3   0  47      0      0    9.0000        0\n",
      "874         1       2   1  28      1      0   24.0000        1\n",
      "875         1       3   1  15      0      0    7.2250        1\n",
      "876         0       3   0  20      0      0    9.8458        0\n",
      "877         0       3   0  19      0      0    7.8958        0\n",
      "878         0       3   0  30      0      0    7.8958        0\n",
      "879         1       1   1  56      0      1   83.1583        1\n",
      "880         1       2   1  25      0      1   26.0000        0\n",
      "881         0       3   0  33      0      0    7.8958        0\n",
      "882         0       3   1  22      0      0   10.5167        0\n",
      "883         0       2   0  28      0      0   10.5000        0\n",
      "884         0       3   0  25      0      0    7.0500        0\n",
      "885         0       3   1  39      0      5   29.1250        2\n",
      "886         0       2   0  27      0      0   13.0000        0\n",
      "887         1       1   1  19      0      0   30.0000        0\n",
      "888         0       3   1  30      1      2   23.4500        0\n",
      "889         1       1   0  26      0      0   30.0000        1\n",
      "890         0       3   0  32      0      0    7.7500        2\n",
      "\n",
      "[891 rows x 8 columns]\n"
     ]
    },
    {
     "name": "stderr",
     "output_type": "stream",
     "text": [
      "/Users/barnrang/Desktop/work/github/qc_group_project/data_provider.py:100: SettingWithCopyWarning: \n",
      "A value is trying to be set on a copy of a slice from a DataFrame\n",
      "\n",
      "See the caveats in the documentation: http://pandas.pydata.org/pandas-docs/stable/indexing.html#indexing-view-versus-copy\n",
      "  df[col][i] = value\n"
     ]
    }
   ],
   "source": [
    "df_train, y_train, df_test = load_titanic_pd('train.csv', 'test.csv')"
   ]
  },
  {
   "cell_type": "code",
   "execution_count": 5,
   "metadata": {},
   "outputs": [
    {
     "name": "stdout",
     "output_type": "stream",
     "text": [
      "Pclass: unique 3\n",
      "Sex: unique 2\n",
      "Age: unique 88\n",
      "SibSp: unique 7\n",
      "Parch: unique 7\n",
      "Fare: unique 248\n",
      "Embarked: unique 4\n"
     ]
    }
   ],
   "source": [
    "for col in df_train.columns:\n",
    "    print(f\"{col}: unique {len(df_train[col].unique())}\")"
   ]
  },
  {
   "cell_type": "code",
   "execution_count": 6,
   "metadata": {},
   "outputs": [],
   "source": [
    "# Age processing\n",
    "\n",
    "df_train['Age'] = df_train.Age // 10\n",
    "df_test['Age'] = df_test.Age // 10"
   ]
  },
  {
   "cell_type": "code",
   "execution_count": 7,
   "metadata": {},
   "outputs": [],
   "source": [
    "def fare_map(x):\n",
    "    if x < 10:\n",
    "        return 0\n",
    "    if x < 20:\n",
    "        return 1\n",
    "    if x < 30:\n",
    "        return 2\n",
    "    else:\n",
    "        return 3\n",
    "    \n",
    "df_train['Fare'] = df_train['Fare'].apply(fare_map)\n",
    "df_test['Fare'] = df_test['Fare'].apply(fare_map)"
   ]
  },
  {
   "cell_type": "code",
   "execution_count": 8,
   "metadata": {},
   "outputs": [
    {
     "data": {
      "text/html": [
       "<div>\n",
       "<style scoped>\n",
       "    .dataframe tbody tr th:only-of-type {\n",
       "        vertical-align: middle;\n",
       "    }\n",
       "\n",
       "    .dataframe tbody tr th {\n",
       "        vertical-align: top;\n",
       "    }\n",
       "\n",
       "    .dataframe thead th {\n",
       "        text-align: right;\n",
       "    }\n",
       "</style>\n",
       "<table border=\"1\" class=\"dataframe\">\n",
       "  <thead>\n",
       "    <tr style=\"text-align: right;\">\n",
       "      <th></th>\n",
       "      <th>Pclass</th>\n",
       "      <th>Sex</th>\n",
       "      <th>Age</th>\n",
       "      <th>SibSp</th>\n",
       "      <th>Parch</th>\n",
       "      <th>Fare</th>\n",
       "      <th>Embarked</th>\n",
       "    </tr>\n",
       "  </thead>\n",
       "  <tbody>\n",
       "    <tr>\n",
       "      <th>0</th>\n",
       "      <td>3</td>\n",
       "      <td>0</td>\n",
       "      <td>2</td>\n",
       "      <td>1</td>\n",
       "      <td>0</td>\n",
       "      <td>0</td>\n",
       "      <td>0</td>\n",
       "    </tr>\n",
       "    <tr>\n",
       "      <th>1</th>\n",
       "      <td>1</td>\n",
       "      <td>1</td>\n",
       "      <td>3</td>\n",
       "      <td>1</td>\n",
       "      <td>0</td>\n",
       "      <td>3</td>\n",
       "      <td>1</td>\n",
       "    </tr>\n",
       "    <tr>\n",
       "      <th>2</th>\n",
       "      <td>3</td>\n",
       "      <td>1</td>\n",
       "      <td>2</td>\n",
       "      <td>0</td>\n",
       "      <td>0</td>\n",
       "      <td>0</td>\n",
       "      <td>0</td>\n",
       "    </tr>\n",
       "    <tr>\n",
       "      <th>3</th>\n",
       "      <td>1</td>\n",
       "      <td>1</td>\n",
       "      <td>3</td>\n",
       "      <td>1</td>\n",
       "      <td>0</td>\n",
       "      <td>3</td>\n",
       "      <td>0</td>\n",
       "    </tr>\n",
       "    <tr>\n",
       "      <th>4</th>\n",
       "      <td>3</td>\n",
       "      <td>0</td>\n",
       "      <td>3</td>\n",
       "      <td>0</td>\n",
       "      <td>0</td>\n",
       "      <td>0</td>\n",
       "      <td>0</td>\n",
       "    </tr>\n",
       "  </tbody>\n",
       "</table>\n",
       "</div>"
      ],
      "text/plain": [
       "   Pclass Sex Age  SibSp  Parch  Fare Embarked\n",
       "0       3   0   2      1      0     0        0\n",
       "1       1   1   3      1      0     3        1\n",
       "2       3   1   2      0      0     0        0\n",
       "3       1   1   3      1      0     3        0\n",
       "4       3   0   3      0      0     0        0"
      ]
     },
     "execution_count": 8,
     "metadata": {},
     "output_type": "execute_result"
    }
   ],
   "source": [
    "df_train.head()"
   ]
  },
  {
   "cell_type": "code",
   "execution_count": 13,
   "metadata": {},
   "outputs": [],
   "source": [
    "from sklearn import preprocessing\n",
    "\n",
    "df_all = pd.concat([df_train, df_test])\n",
    "# Encode to number\n",
    "for col in df_train.columns:\n",
    "    le = preprocessing.LabelEncoder().fit(df_all[col])\n",
    "    df_train[col] = le.transform(df_train[col])\n",
    "    df_test[col] = le.transform(df_test[col])"
   ]
  },
  {
   "cell_type": "code",
   "execution_count": 14,
   "metadata": {},
   "outputs": [],
   "source": [
    "# b1b2b3 --> (theta, varphi)\n",
    "def convert_to_angle(b_st):\n",
    "    if b_st[0] == '1':\n",
    "        theta = np.arccos(1/np.sqrt(3))\n",
    "    else:\n",
    "        theta = np.arccos(-1/np.sqrt(3))\n",
    "\n",
    "    if b_st[1] == '1' and b_st[2] == '1':\n",
    "        varphi = np.pi / 4\n",
    "\n",
    "    if b_st[1] == '1' and b_st[2] == '0':\n",
    "        varphi = 3 * np.pi / 4\n",
    "\n",
    "    if b_st[1] == '0' and b_st[2] == '0':\n",
    "        varphi = -3 * np.pi / 4\n",
    "\n",
    "    if b_st[1] == '0' and b_st[2] == '1':\n",
    "        varphi = -np.pi / 4\n",
    "            \n",
    "    return [theta, varphi]\n",
    "\n",
    "data_train = []\n",
    "data_test = []\n",
    "\n",
    "bit_each_col = []\n",
    "\n",
    "# Check number of different category in df_all\n",
    "for col in df_all.columns:\n",
    "    bit_each_col.append(int(np.ceil(np.log2(len(df_all[col].unique())))))\n",
    "    \n",
    "# Count required bit\n",
    "num_bit = sum(bit_each_col)\n",
    "num_qubit = int(np.ceil(num_bit / 3))\n",
    "\n",
    "pad = 0\n",
    "if num_bit % 3 != 0:\n",
    "    pad = 3 - (num_bit % 3)\n",
    "\n",
    "    \n",
    "# Encode train\n",
    "for row in df_train.values:\n",
    "    bstring = ''\n",
    "    \n",
    "    for v, num_bit in zip(row, bit_each_col):\n",
    "        bstring += f\"{v:010b}\"[-num_bit:]\n",
    "        \n",
    "    all_b_st = bstring + pad * '0'\n",
    "    \n",
    "    var_list = []\n",
    "    for i in range(num_qubit):\n",
    "        b_st = all_b_st[i * 3: (i+1) * 3]\n",
    "        var_list += convert_to_angle(b_st)\n",
    "    \n",
    "    data_train.append(var_list)\n",
    "    \n",
    "# Encode Test\n",
    "for row in df_test.values:\n",
    "    bstring = ''\n",
    "    \n",
    "    for v, num_bit in zip(row, bit_each_col):\n",
    "        bstring += f\"{v:010b}\"[-num_bit:]\n",
    "        \n",
    "    all_b_st = bstring + pad * '0'\n",
    "    \n",
    "    var_list = []\n",
    "    for i in range(num_qubit):\n",
    "        b_st = all_b_st[i * 3: (i+1) * 3]\n",
    "        var_list += convert_to_angle(b_st)\n",
    "    \n",
    "    data_test.append(var_list)\n",
    "\n",
    "# data = np.concatenate(data, axis=1)\n",
    "data_train = np.array(data_train)\n",
    "data_test = np.array(data_test)"
   ]
  },
  {
   "cell_type": "code",
   "execution_count": 15,
   "metadata": {},
   "outputs": [
    {
     "name": "stderr",
     "output_type": "stream",
     "text": [
      "/Users/barnrang/miniconda3/envs/liigo/lib/python3.6/site-packages/ipykernel_launcher.py:11: DeprecationWarning: The qiskit.aqua.components.variational_forms.RYRZ object is deprecated as of 0.7.0 and will be removed no sooner than 3 months after the release. You should use qiskit.circuit.library.EfficientSU2 (uses CX entangling) or qiskit.circuit.library.TwoLocal instead.\n",
      "  # This is added back by InteractiveShellApp.init_path()\n"
     ]
    },
    {
     "data": {
      "image/png": "[encoded data removed]",
      "text/plain": [
       "<Figure size 298.592x385.28 with 1 Axes>"
      ]
     },
     "execution_count": 15,
     "metadata": {},
     "output_type": "execute_result"
    }
   ],
   "source": [
    "# Make feature map with encoder\n",
    "from qiskit.circuit import QuantumCircuit, Parameter\n",
    "from qiskit.circuit.library import TwoLocal\n",
    "from qiskit.aqua.algorithms import VQC\n",
    "# from qiskit.aqua.compo\n",
    "# feature_map = ZZFeatureMap(feature_dimension=3, reps=2, entanglement='linear')\n",
    "\n",
    "\n",
    "X = [Parameter(f'x[{i}]') for i in range(data_train.shape[1])]\n",
    "\n",
    "var_form = variational_forms.RYRZ(num_qubit)\n",
    "\n",
    "qc = QuantumCircuit(num_qubit)\n",
    "\n",
    "for i in range(num_qubit):\n",
    "    qc.u3(X[2*i], X[2*i+1], 0, i) # Encoder\n",
    "\n",
    "feature_map = qc \n",
    "feature_map.draw('mpl')"
   ]
  },
  {
   "cell_type": "code",
   "execution_count": 17,
   "metadata": {},
   "outputs": [],
   "source": [
    "# Make training data\n",
    "\n",
    "training_input = {\n",
    "    0: data_train[y_train == 0],\n",
    "    1: data_train[y_train == 1]\n",
    "}"
   ]
  },
  {
   "cell_type": "code",
   "execution_count": 25,
   "metadata": {},
   "outputs": [
    {
     "name": "stderr",
     "output_type": "stream",
     "text": [
      "/Users/barnrang/miniconda3/envs/liigo/lib/python3.6/site-packages/ipykernel_launcher.py:9: DeprecationWarning: \n",
      "            The <class 'qiskit.circuit.quantumcircuit.QuantumCircuit'> object as input for the VQC is deprecated as of 0.7.0 and will\n",
      "            be removed no earlier than 3 months after the release.\n",
      "            You should pass a QuantumCircuit object instead.\n",
      "            See also qiskit.circuit.library.n_local for a collection\n",
      "            of suitable circuits.\n",
      "  if __name__ == '__main__':\n",
      "2020-07-09 00:30:00,440:qiskit.aqua.quantum_instance:INFO: \n",
      "Qiskit Terra version: 0.14.1\n",
      "Backend: 'qasm_simulator (BasicAer)', with following setting:\n",
      "{'basis_gates': ['u1', 'u2', 'u3', 'cx', 'id', 'unitary'], 'coupling_map': None}\n",
      "{'pass_manager': None, 'initial_layout': None, 'seed_transpiler': 10598, 'optimization_level': None}\n",
      "RunConfig(max_credits=10, seed_simulator=10598, shots=1024)\n",
      "{'timeout': None}\n",
      "{}\n",
      "{}\n",
      "Measurement mitigation: None\n",
      "2020-07-09 00:30:00,454:qiskit.aqua.algorithms.vq_algorithm:INFO: Starting optimizer.\n",
      "bounds=[(-3.141592653589793, 3.141592653589793), (-3.141592653589793, 3.141592653589793), (-3.141592653589793, 3.141592653589793), (-3.141592653589793, 3.141592653589793), (-3.141592653589793, 3.141592653589793), (-3.141592653589793, 3.141592653589793), (-3.141592653589793, 3.141592653589793), (-3.141592653589793, 3.141592653589793), (-3.141592653589793, 3.141592653589793), (-3.141592653589793, 3.141592653589793), (-3.141592653589793, 3.141592653589793), (-3.141592653589793, 3.141592653589793), (-3.141592653589793, 3.141592653589793), (-3.141592653589793, 3.141592653589793), (-3.141592653589793, 3.141592653589793), (-3.141592653589793, 3.141592653589793), (-3.141592653589793, 3.141592653589793), (-3.141592653589793, 3.141592653589793), (-3.141592653589793, 3.141592653589793), (-3.141592653589793, 3.141592653589793), (-3.141592653589793, 3.141592653589793), (-3.141592653589793, 3.141592653589793), (-3.141592653589793, 3.141592653589793), (-3.141592653589793, 3.141592653589793), (-3.141592653589793, 3.141592653589793), (-3.141592653589793, 3.141592653589793), (-3.141592653589793, 3.141592653589793), (-3.141592653589793, 3.141592653589793), (-3.141592653589793, 3.141592653589793), (-3.141592653589793, 3.141592653589793), (-3.141592653589793, 3.141592653589793), (-3.141592653589793, 3.141592653589793), (-3.141592653589793, 3.141592653589793), (-3.141592653589793, 3.141592653589793), (-3.141592653589793, 3.141592653589793), (-3.141592653589793, 3.141592653589793), (-3.141592653589793, 3.141592653589793), (-3.141592653589793, 3.141592653589793), (-3.141592653589793, 3.141592653589793), (-3.141592653589793, 3.141592653589793), (-3.141592653589793, 3.141592653589793), (-3.141592653589793, 3.141592653589793), (-3.141592653589793, 3.141592653589793), (-3.141592653589793, 3.141592653589793), (-3.141592653589793, 3.141592653589793), (-3.141592653589793, 3.141592653589793), (-3.141592653589793, 3.141592653589793), (-3.141592653589793, 3.141592653589793)]\n",
      "initial point=[ 0.15996316  0.71332727 -2.1788023   1.30339977 -0.5869491  -0.28532481\n",
      "  2.02127779 -1.14209873  0.74499886  0.03201335 -0.97500939 -1.34302672\n",
      " -0.2935615   0.17337046 -0.63925887 -0.44060772  0.65964146  1.83794437\n",
      " -0.23319738 -0.86635411  0.21669942  1.11167039  0.23653163  1.53229175\n",
      "  1.27631666 -0.13446387  1.18152434 -0.60153332  0.10442325 -0.28250932\n",
      " -0.07745937 -1.10953175 -0.64709626 -1.10553268 -0.67626831  0.30737514\n",
      "  0.06514209  1.22076718  0.88379031 -0.58179256 -0.53752159 -0.67148153\n",
      " -0.1131579  -0.66635754  1.31482758  0.71035091  0.65900382 -1.50217618]\n",
      "2020-07-09 00:30:00,461:qiskit.aqua.components.optimizers.optimizer:DEBUG: WARNING: COBYLA does not support bounds. It will be ignored.\n",
      "2020-07-09 00:30:37,315:qiskit.aqua.algorithms.classifiers.vqc:DEBUG: Intermediate batch cost: 0.673883203196503\n",
      "2020-07-09 00:31:10,738:qiskit.aqua.algorithms.classifiers.vqc:DEBUG: Intermediate batch cost: 0.6847887180757947\n"
     ]
    },
    {
     "ename": "KeyboardInterrupt",
     "evalue": "",
     "output_type": "error",
     "traceback": [
      "\u001b[0;31m---------------------------------------------------------------------------\u001b[0m",
      "\u001b[0;31mKeyboardInterrupt\u001b[0m                         Traceback (most recent call last)",
      "\u001b[0;32m<ipython-input-25-5ea507a1ef32>\u001b[0m in \u001b[0;36m<module>\u001b[0;34m()\u001b[0m\n\u001b[1;32m     16\u001b[0m \u001b[0;34m\u001b[0m\u001b[0m\n\u001b[1;32m     17\u001b[0m \u001b[0;34m\u001b[0m\u001b[0m\n\u001b[0;32m---> 18\u001b[0;31m \u001b[0mresult\u001b[0m \u001b[0;34m=\u001b[0m \u001b[0mqsvm_encode\u001b[0m\u001b[0;34m.\u001b[0m\u001b[0mrun\u001b[0m\u001b[0;34m(\u001b[0m\u001b[0mquantum_instance\u001b[0m\u001b[0;34m)\u001b[0m\u001b[0;34m\u001b[0m\u001b[0;34m\u001b[0m\u001b[0m\n\u001b[0m",
      "\u001b[0;32m~/miniconda3/envs/liigo/lib/python3.6/site-packages/qiskit/aqua/algorithms/quantum_algorithm.py\u001b[0m in \u001b[0;36mrun\u001b[0;34m(self, quantum_instance, **kwargs)\u001b[0m\n\u001b[1;32m     68\u001b[0m                 \u001b[0mself\u001b[0m\u001b[0;34m.\u001b[0m\u001b[0mquantum_instance\u001b[0m \u001b[0;34m=\u001b[0m \u001b[0mquantum_instance\u001b[0m\u001b[0;34m\u001b[0m\u001b[0;34m\u001b[0m\u001b[0m\n\u001b[1;32m     69\u001b[0m \u001b[0;34m\u001b[0m\u001b[0m\n\u001b[0;32m---> 70\u001b[0;31m         \u001b[0;32mreturn\u001b[0m \u001b[0mself\u001b[0m\u001b[0;34m.\u001b[0m\u001b[0m_run\u001b[0m\u001b[0;34m(\u001b[0m\u001b[0;34m)\u001b[0m\u001b[0;34m\u001b[0m\u001b[0;34m\u001b[0m\u001b[0m\n\u001b[0m\u001b[1;32m     71\u001b[0m \u001b[0;34m\u001b[0m\u001b[0m\n\u001b[1;32m     72\u001b[0m     \u001b[0;34m@\u001b[0m\u001b[0mabstractmethod\u001b[0m\u001b[0;34m\u001b[0m\u001b[0;34m\u001b[0m\u001b[0m\n",
      "\u001b[0;32m~/miniconda3/envs/liigo/lib/python3.6/site-packages/qiskit/aqua/algorithms/classifiers/vqc.py\u001b[0m in \u001b[0;36m_run\u001b[0;34m(self)\u001b[0m\n\u001b[1;32m    469\u001b[0m \u001b[0;34m\u001b[0m\u001b[0m\n\u001b[1;32m    470\u001b[0m     \u001b[0;32mdef\u001b[0m \u001b[0m_run\u001b[0m\u001b[0;34m(\u001b[0m\u001b[0mself\u001b[0m\u001b[0;34m)\u001b[0m\u001b[0;34m:\u001b[0m\u001b[0;34m\u001b[0m\u001b[0;34m\u001b[0m\u001b[0m\n\u001b[0;32m--> 471\u001b[0;31m         \u001b[0mself\u001b[0m\u001b[0;34m.\u001b[0m\u001b[0mtrain\u001b[0m\u001b[0;34m(\u001b[0m\u001b[0mself\u001b[0m\u001b[0;34m.\u001b[0m\u001b[0m_training_dataset\u001b[0m\u001b[0;34m[\u001b[0m\u001b[0;36m0\u001b[0m\u001b[0;34m]\u001b[0m\u001b[0;34m,\u001b[0m \u001b[0mself\u001b[0m\u001b[0;34m.\u001b[0m\u001b[0m_training_dataset\u001b[0m\u001b[0;34m[\u001b[0m\u001b[0;36m1\u001b[0m\u001b[0;34m]\u001b[0m\u001b[0;34m)\u001b[0m\u001b[0;34m\u001b[0m\u001b[0;34m\u001b[0m\u001b[0m\n\u001b[0m\u001b[1;32m    472\u001b[0m \u001b[0;34m\u001b[0m\u001b[0m\n\u001b[1;32m    473\u001b[0m         \u001b[0;32mif\u001b[0m \u001b[0mself\u001b[0m\u001b[0;34m.\u001b[0m\u001b[0m_test_dataset\u001b[0m \u001b[0;32mis\u001b[0m \u001b[0;32mnot\u001b[0m \u001b[0;32mNone\u001b[0m\u001b[0;34m:\u001b[0m\u001b[0;34m\u001b[0m\u001b[0;34m\u001b[0m\u001b[0m\n",
      "\u001b[0;32m~/miniconda3/envs/liigo/lib/python3.6/site-packages/qiskit/aqua/algorithms/classifiers/vqc.py\u001b[0m in \u001b[0;36mtrain\u001b[0;34m(self, data, labels, quantum_instance, minibatch_size)\u001b[0m\n\u001b[1;32m    320\u001b[0m                                    \u001b[0mcost_fn\u001b[0m\u001b[0;34m=\u001b[0m\u001b[0mself\u001b[0m\u001b[0;34m.\u001b[0m\u001b[0m_cost_function_wrapper\u001b[0m\u001b[0;34m,\u001b[0m\u001b[0;34m\u001b[0m\u001b[0;34m\u001b[0m\u001b[0m\n\u001b[1;32m    321\u001b[0m                                    \u001b[0moptimizer\u001b[0m\u001b[0;34m=\u001b[0m\u001b[0mself\u001b[0m\u001b[0;34m.\u001b[0m\u001b[0moptimizer\u001b[0m\u001b[0;34m,\u001b[0m\u001b[0;34m\u001b[0m\u001b[0;34m\u001b[0m\u001b[0m\n\u001b[0;32m--> 322\u001b[0;31m                                    gradient_fn=grad_fn)\n\u001b[0m\u001b[1;32m    323\u001b[0m \u001b[0;34m\u001b[0m\u001b[0m\n\u001b[1;32m    324\u001b[0m         \u001b[0;31m# TODO remove - mimics former VQAlgorithm result dict so it can be extended\u001b[0m\u001b[0;34m\u001b[0m\u001b[0;34m\u001b[0m\u001b[0;34m\u001b[0m\u001b[0m\n",
      "\u001b[0;32m~/miniconda3/envs/liigo/lib/python3.6/site-packages/qiskit/aqua/algorithms/vq_algorithm.py\u001b[0m in \u001b[0;36mfind_minimum\u001b[0;34m(self, initial_point, var_form, cost_fn, optimizer, gradient_fn)\u001b[0m\n\u001b[1;32m    199\u001b[0m                                                                       \u001b[0mvariable_bounds\u001b[0m\u001b[0;34m=\u001b[0m\u001b[0mbounds\u001b[0m\u001b[0;34m,\u001b[0m\u001b[0;34m\u001b[0m\u001b[0;34m\u001b[0m\u001b[0m\n\u001b[1;32m    200\u001b[0m                                                                       \u001b[0minitial_point\u001b[0m\u001b[0;34m=\u001b[0m\u001b[0minitial_point\u001b[0m\u001b[0;34m,\u001b[0m\u001b[0;34m\u001b[0m\u001b[0;34m\u001b[0m\u001b[0m\n\u001b[0;32m--> 201\u001b[0;31m                                                                       gradient_function=gradient_fn)\n\u001b[0m\u001b[1;32m    202\u001b[0m         \u001b[0meval_time\u001b[0m \u001b[0;34m=\u001b[0m \u001b[0mtime\u001b[0m\u001b[0;34m.\u001b[0m\u001b[0mtime\u001b[0m\u001b[0;34m(\u001b[0m\u001b[0;34m)\u001b[0m \u001b[0;34m-\u001b[0m \u001b[0mstart\u001b[0m\u001b[0;34m\u001b[0m\u001b[0;34m\u001b[0m\u001b[0m\n\u001b[1;32m    203\u001b[0m \u001b[0;34m\u001b[0m\u001b[0m\n",
      "\u001b[0;32m~/miniconda3/envs/liigo/lib/python3.6/site-packages/qiskit/aqua/components/optimizers/cobyla.py\u001b[0m in \u001b[0;36moptimize\u001b[0;34m(self, num_vars, objective_function, gradient_function, variable_bounds, initial_point)\u001b[0m\n\u001b[1;32m     72\u001b[0m \u001b[0;34m\u001b[0m\u001b[0m\n\u001b[1;32m     73\u001b[0m         res = minimize(objective_function, initial_point, tol=self._tol,\n\u001b[0;32m---> 74\u001b[0;31m                        method=\"COBYLA\", options=self._options)\n\u001b[0m\u001b[1;32m     75\u001b[0m         \u001b[0;32mreturn\u001b[0m \u001b[0mres\u001b[0m\u001b[0;34m.\u001b[0m\u001b[0mx\u001b[0m\u001b[0;34m,\u001b[0m \u001b[0mres\u001b[0m\u001b[0;34m.\u001b[0m\u001b[0mfun\u001b[0m\u001b[0;34m,\u001b[0m \u001b[0mres\u001b[0m\u001b[0;34m.\u001b[0m\u001b[0mnfev\u001b[0m\u001b[0;34m\u001b[0m\u001b[0;34m\u001b[0m\u001b[0m\n",
      "\u001b[0;32m~/miniconda3/envs/liigo/lib/python3.6/site-packages/scipy/optimize/_minimize.py\u001b[0m in \u001b[0;36mminimize\u001b[0;34m(fun, x0, args, method, jac, hess, hessp, bounds, constraints, tol, callback, options)\u001b[0m\n\u001b[1;32m    613\u001b[0m                              **options)\n\u001b[1;32m    614\u001b[0m     \u001b[0;32melif\u001b[0m \u001b[0mmeth\u001b[0m \u001b[0;34m==\u001b[0m \u001b[0;34m'cobyla'\u001b[0m\u001b[0;34m:\u001b[0m\u001b[0;34m\u001b[0m\u001b[0;34m\u001b[0m\u001b[0m\n\u001b[0;32m--> 615\u001b[0;31m         \u001b[0;32mreturn\u001b[0m \u001b[0m_minimize_cobyla\u001b[0m\u001b[0;34m(\u001b[0m\u001b[0mfun\u001b[0m\u001b[0;34m,\u001b[0m \u001b[0mx0\u001b[0m\u001b[0;34m,\u001b[0m \u001b[0margs\u001b[0m\u001b[0;34m,\u001b[0m \u001b[0mconstraints\u001b[0m\u001b[0;34m,\u001b[0m \u001b[0;34m**\u001b[0m\u001b[0moptions\u001b[0m\u001b[0;34m)\u001b[0m\u001b[0;34m\u001b[0m\u001b[0;34m\u001b[0m\u001b[0m\n\u001b[0m\u001b[1;32m    616\u001b[0m     \u001b[0;32melif\u001b[0m \u001b[0mmeth\u001b[0m \u001b[0;34m==\u001b[0m \u001b[0;34m'slsqp'\u001b[0m\u001b[0;34m:\u001b[0m\u001b[0;34m\u001b[0m\u001b[0;34m\u001b[0m\u001b[0m\n\u001b[1;32m    617\u001b[0m         return _minimize_slsqp(fun, x0, args, jac, bounds,\n",
      "\u001b[0;32m~/miniconda3/envs/liigo/lib/python3.6/site-packages/scipy/optimize/cobyla.py\u001b[0m in \u001b[0;36m_minimize_cobyla\u001b[0;34m(fun, x0, args, constraints, rhobeg, tol, maxiter, disp, catol, **unknown_options)\u001b[0m\n\u001b[1;32m    250\u001b[0m     xopt, info = _cobyla.minimize(calcfc, m=m, x=np.copy(x0), rhobeg=rhobeg,\n\u001b[1;32m    251\u001b[0m                                   \u001b[0mrhoend\u001b[0m\u001b[0;34m=\u001b[0m\u001b[0mrhoend\u001b[0m\u001b[0;34m,\u001b[0m \u001b[0miprint\u001b[0m\u001b[0;34m=\u001b[0m\u001b[0miprint\u001b[0m\u001b[0;34m,\u001b[0m \u001b[0mmaxfun\u001b[0m\u001b[0;34m=\u001b[0m\u001b[0mmaxfun\u001b[0m\u001b[0;34m,\u001b[0m\u001b[0;34m\u001b[0m\u001b[0;34m\u001b[0m\u001b[0m\n\u001b[0;32m--> 252\u001b[0;31m                                   dinfo=info)\n\u001b[0m\u001b[1;32m    253\u001b[0m \u001b[0;34m\u001b[0m\u001b[0m\n\u001b[1;32m    254\u001b[0m     \u001b[0;32mif\u001b[0m \u001b[0minfo\u001b[0m\u001b[0;34m[\u001b[0m\u001b[0;36m3\u001b[0m\u001b[0;34m]\u001b[0m \u001b[0;34m>\u001b[0m \u001b[0mcatol\u001b[0m\u001b[0;34m:\u001b[0m\u001b[0;34m\u001b[0m\u001b[0;34m\u001b[0m\u001b[0m\n",
      "\u001b[0;32m~/miniconda3/envs/liigo/lib/python3.6/site-packages/scipy/optimize/cobyla.py\u001b[0m in \u001b[0;36mcalcfc\u001b[0;34m(x, con)\u001b[0m\n\u001b[1;32m    240\u001b[0m \u001b[0;34m\u001b[0m\u001b[0m\n\u001b[1;32m    241\u001b[0m     \u001b[0;32mdef\u001b[0m \u001b[0mcalcfc\u001b[0m\u001b[0;34m(\u001b[0m\u001b[0mx\u001b[0m\u001b[0;34m,\u001b[0m \u001b[0mcon\u001b[0m\u001b[0;34m)\u001b[0m\u001b[0;34m:\u001b[0m\u001b[0;34m\u001b[0m\u001b[0;34m\u001b[0m\u001b[0m\n\u001b[0;32m--> 242\u001b[0;31m         \u001b[0mf\u001b[0m \u001b[0;34m=\u001b[0m \u001b[0mfun\u001b[0m\u001b[0;34m(\u001b[0m\u001b[0mx\u001b[0m\u001b[0;34m,\u001b[0m \u001b[0;34m*\u001b[0m\u001b[0margs\u001b[0m\u001b[0;34m)\u001b[0m\u001b[0;34m\u001b[0m\u001b[0;34m\u001b[0m\u001b[0m\n\u001b[0m\u001b[1;32m    243\u001b[0m         \u001b[0mi\u001b[0m \u001b[0;34m=\u001b[0m \u001b[0;36m0\u001b[0m\u001b[0;34m\u001b[0m\u001b[0;34m\u001b[0m\u001b[0m\n\u001b[1;32m    244\u001b[0m         \u001b[0;32mfor\u001b[0m \u001b[0msize\u001b[0m\u001b[0;34m,\u001b[0m \u001b[0mc\u001b[0m \u001b[0;32min\u001b[0m \u001b[0mizip\u001b[0m\u001b[0;34m(\u001b[0m\u001b[0mcons_lengths\u001b[0m\u001b[0;34m,\u001b[0m \u001b[0mconstraints\u001b[0m\u001b[0;34m)\u001b[0m\u001b[0;34m:\u001b[0m\u001b[0;34m\u001b[0m\u001b[0;34m\u001b[0m\u001b[0m\n",
      "\u001b[0;32m~/miniconda3/envs/liigo/lib/python3.6/site-packages/qiskit/aqua/algorithms/classifiers/vqc.py\u001b[0m in \u001b[0;36m_cost_function_wrapper\u001b[0;34m(self, theta)\u001b[0m\n\u001b[1;32m    367\u001b[0m     \u001b[0;32mdef\u001b[0m \u001b[0m_cost_function_wrapper\u001b[0m\u001b[0;34m(\u001b[0m\u001b[0mself\u001b[0m\u001b[0;34m,\u001b[0m \u001b[0mtheta\u001b[0m\u001b[0;34m)\u001b[0m\u001b[0;34m:\u001b[0m\u001b[0;34m\u001b[0m\u001b[0;34m\u001b[0m\u001b[0m\n\u001b[1;32m    368\u001b[0m         \u001b[0mbatch_index\u001b[0m \u001b[0;34m=\u001b[0m \u001b[0mself\u001b[0m\u001b[0;34m.\u001b[0m\u001b[0m_batch_index\u001b[0m \u001b[0;34m%\u001b[0m \u001b[0mlen\u001b[0m\u001b[0;34m(\u001b[0m\u001b[0mself\u001b[0m\u001b[0;34m.\u001b[0m\u001b[0m_batches\u001b[0m\u001b[0;34m)\u001b[0m\u001b[0;34m\u001b[0m\u001b[0;34m\u001b[0m\u001b[0m\n\u001b[0;32m--> 369\u001b[0;31m         \u001b[0mpredicted_probs\u001b[0m\u001b[0;34m,\u001b[0m \u001b[0m_\u001b[0m \u001b[0;34m=\u001b[0m \u001b[0mself\u001b[0m\u001b[0;34m.\u001b[0m\u001b[0m_get_prediction\u001b[0m\u001b[0;34m(\u001b[0m\u001b[0mself\u001b[0m\u001b[0;34m.\u001b[0m\u001b[0m_batches\u001b[0m\u001b[0;34m[\u001b[0m\u001b[0mbatch_index\u001b[0m\u001b[0;34m]\u001b[0m\u001b[0;34m,\u001b[0m \u001b[0mtheta\u001b[0m\u001b[0;34m)\u001b[0m\u001b[0;34m\u001b[0m\u001b[0;34m\u001b[0m\u001b[0m\n\u001b[0m\u001b[1;32m    370\u001b[0m         \u001b[0mtotal_cost\u001b[0m \u001b[0;34m=\u001b[0m \u001b[0;34m[\u001b[0m\u001b[0;34m]\u001b[0m\u001b[0;34m\u001b[0m\u001b[0;34m\u001b[0m\u001b[0m\n\u001b[1;32m    371\u001b[0m         \u001b[0;32mif\u001b[0m \u001b[0;32mnot\u001b[0m \u001b[0misinstance\u001b[0m\u001b[0;34m(\u001b[0m\u001b[0mpredicted_probs\u001b[0m\u001b[0;34m,\u001b[0m \u001b[0mlist\u001b[0m\u001b[0;34m)\u001b[0m\u001b[0;34m:\u001b[0m\u001b[0;34m\u001b[0m\u001b[0;34m\u001b[0m\u001b[0m\n",
      "\u001b[0;32m~/miniconda3/envs/liigo/lib/python3.6/site-packages/qiskit/aqua/algorithms/classifiers/vqc.py\u001b[0m in \u001b[0;36m_get_prediction\u001b[0;34m(self, data, theta)\u001b[0m\n\u001b[1;32m    232\u001b[0m \u001b[0;34m\u001b[0m\u001b[0m\n\u001b[1;32m    233\u001b[0m         results = self._quantum_instance.execute(\n\u001b[0;32m--> 234\u001b[0;31m             circuits, had_transpiled=self._parameterized_circuits is not None)\n\u001b[0m\u001b[1;32m    235\u001b[0m \u001b[0;34m\u001b[0m\u001b[0m\n\u001b[1;32m    236\u001b[0m         \u001b[0mcircuit_id\u001b[0m \u001b[0;34m=\u001b[0m \u001b[0;36m0\u001b[0m\u001b[0;34m\u001b[0m\u001b[0;34m\u001b[0m\u001b[0m\n",
      "\u001b[0;32m~/miniconda3/envs/liigo/lib/python3.6/site-packages/qiskit/aqua/quantum_instance.py\u001b[0m in \u001b[0;36mexecute\u001b[0;34m(self, circuits, had_transpiled)\u001b[0m\n\u001b[1;32m    372\u001b[0m             result = run_qobj(qobj, self._backend, self._qjob_config,\n\u001b[1;32m    373\u001b[0m                               \u001b[0mself\u001b[0m\u001b[0;34m.\u001b[0m\u001b[0m_backend_options\u001b[0m\u001b[0;34m,\u001b[0m \u001b[0mself\u001b[0m\u001b[0;34m.\u001b[0m\u001b[0m_noise_config\u001b[0m\u001b[0;34m,\u001b[0m\u001b[0;34m\u001b[0m\u001b[0;34m\u001b[0m\u001b[0m\n\u001b[0;32m--> 374\u001b[0;31m                               self._skip_qobj_validation, self._job_callback)\n\u001b[0m\u001b[1;32m    375\u001b[0m \u001b[0;34m\u001b[0m\u001b[0m\n\u001b[1;32m    376\u001b[0m         \u001b[0;32mif\u001b[0m \u001b[0mself\u001b[0m\u001b[0;34m.\u001b[0m\u001b[0m_circuit_summary\u001b[0m\u001b[0;34m:\u001b[0m\u001b[0;34m\u001b[0m\u001b[0;34m\u001b[0m\u001b[0m\n",
      "\u001b[0;32m~/miniconda3/envs/liigo/lib/python3.6/site-packages/qiskit/aqua/utils/run_circuits.py\u001b[0m in \u001b[0;36mrun_qobj\u001b[0;34m(qobj, backend, qjob_config, backend_options, noise_config, skip_qobj_validation, job_callback)\u001b[0m\n\u001b[1;32m    300\u001b[0m         \u001b[0mresults\u001b[0m \u001b[0;34m=\u001b[0m \u001b[0;34m[\u001b[0m\u001b[0;34m]\u001b[0m\u001b[0;34m\u001b[0m\u001b[0;34m\u001b[0m\u001b[0m\n\u001b[1;32m    301\u001b[0m         \u001b[0;32mfor\u001b[0m \u001b[0mjob\u001b[0m \u001b[0;32min\u001b[0m \u001b[0mjobs\u001b[0m\u001b[0;34m:\u001b[0m\u001b[0;34m\u001b[0m\u001b[0;34m\u001b[0m\u001b[0m\n\u001b[0;32m--> 302\u001b[0;31m             \u001b[0mresults\u001b[0m\u001b[0;34m.\u001b[0m\u001b[0mappend\u001b[0m\u001b[0;34m(\u001b[0m\u001b[0mjob\u001b[0m\u001b[0;34m.\u001b[0m\u001b[0mresult\u001b[0m\u001b[0;34m(\u001b[0m\u001b[0;34m**\u001b[0m\u001b[0mqjob_config\u001b[0m\u001b[0;34m)\u001b[0m\u001b[0;34m)\u001b[0m\u001b[0;34m\u001b[0m\u001b[0;34m\u001b[0m\u001b[0m\n\u001b[0m\u001b[1;32m    303\u001b[0m \u001b[0;34m\u001b[0m\u001b[0m\n\u001b[1;32m    304\u001b[0m     \u001b[0mresult\u001b[0m \u001b[0;34m=\u001b[0m \u001b[0m_combine_result_objects\u001b[0m\u001b[0;34m(\u001b[0m\u001b[0mresults\u001b[0m\u001b[0;34m)\u001b[0m \u001b[0;32mif\u001b[0m \u001b[0mresults\u001b[0m \u001b[0;32melse\u001b[0m \u001b[0;32mNone\u001b[0m\u001b[0;34m\u001b[0m\u001b[0;34m\u001b[0m\u001b[0m\n",
      "\u001b[0;32m~/miniconda3/envs/liigo/lib/python3.6/site-packages/qiskit/providers/basicaer/basicaerjob.py\u001b[0m in \u001b[0;36m_wrapper\u001b[0;34m(self, *args, **kwargs)\u001b[0m\n\u001b[1;32m     38\u001b[0m         \u001b[0;32mif\u001b[0m \u001b[0mself\u001b[0m\u001b[0;34m.\u001b[0m\u001b[0m_future\u001b[0m \u001b[0;32mis\u001b[0m \u001b[0;32mNone\u001b[0m\u001b[0;34m:\u001b[0m\u001b[0;34m\u001b[0m\u001b[0;34m\u001b[0m\u001b[0m\n\u001b[1;32m     39\u001b[0m             \u001b[0;32mraise\u001b[0m \u001b[0mJobError\u001b[0m\u001b[0;34m(\u001b[0m\u001b[0;34m\"Job not submitted yet!. You have to .submit() first!\"\u001b[0m\u001b[0;34m)\u001b[0m\u001b[0;34m\u001b[0m\u001b[0;34m\u001b[0m\u001b[0m\n\u001b[0;32m---> 40\u001b[0;31m         \u001b[0;32mreturn\u001b[0m \u001b[0mfunc\u001b[0m\u001b[0;34m(\u001b[0m\u001b[0mself\u001b[0m\u001b[0;34m,\u001b[0m \u001b[0;34m*\u001b[0m\u001b[0margs\u001b[0m\u001b[0;34m,\u001b[0m \u001b[0;34m**\u001b[0m\u001b[0mkwargs\u001b[0m\u001b[0;34m)\u001b[0m\u001b[0;34m\u001b[0m\u001b[0;34m\u001b[0m\u001b[0m\n\u001b[0m\u001b[1;32m     41\u001b[0m     \u001b[0;32mreturn\u001b[0m \u001b[0m_wrapper\u001b[0m\u001b[0;34m\u001b[0m\u001b[0;34m\u001b[0m\u001b[0m\n\u001b[1;32m     42\u001b[0m \u001b[0;34m\u001b[0m\u001b[0m\n",
      "\u001b[0;32m~/miniconda3/envs/liigo/lib/python3.6/site-packages/qiskit/providers/basicaer/basicaerjob.py\u001b[0m in \u001b[0;36mresult\u001b[0;34m(self, timeout)\u001b[0m\n\u001b[1;32m     93\u001b[0m             \u001b[0mconcurrent\u001b[0m\u001b[0;34m.\u001b[0m\u001b[0mfutures\u001b[0m\u001b[0;34m.\u001b[0m\u001b[0mCancelledError\u001b[0m\u001b[0;34m:\u001b[0m \u001b[0;32mif\u001b[0m \u001b[0mjob\u001b[0m \u001b[0mcancelled\u001b[0m \u001b[0mbefore\u001b[0m \u001b[0mcompleted\u001b[0m\u001b[0;34m.\u001b[0m\u001b[0;34m\u001b[0m\u001b[0;34m\u001b[0m\u001b[0m\n\u001b[1;32m     94\u001b[0m         \"\"\"\n\u001b[0;32m---> 95\u001b[0;31m         \u001b[0;32mreturn\u001b[0m \u001b[0mself\u001b[0m\u001b[0;34m.\u001b[0m\u001b[0m_future\u001b[0m\u001b[0;34m.\u001b[0m\u001b[0mresult\u001b[0m\u001b[0;34m(\u001b[0m\u001b[0mtimeout\u001b[0m\u001b[0;34m=\u001b[0m\u001b[0mtimeout\u001b[0m\u001b[0;34m)\u001b[0m\u001b[0;34m\u001b[0m\u001b[0;34m\u001b[0m\u001b[0m\n\u001b[0m\u001b[1;32m     96\u001b[0m \u001b[0;34m\u001b[0m\u001b[0m\n\u001b[1;32m     97\u001b[0m     \u001b[0;34m@\u001b[0m\u001b[0mrequires_submit\u001b[0m\u001b[0;34m\u001b[0m\u001b[0;34m\u001b[0m\u001b[0m\n",
      "\u001b[0;32m~/miniconda3/envs/liigo/lib/python3.6/concurrent/futures/_base.py\u001b[0m in \u001b[0;36mresult\u001b[0;34m(self, timeout)\u001b[0m\n\u001b[1;32m    425\u001b[0m                 \u001b[0;32mreturn\u001b[0m \u001b[0mself\u001b[0m\u001b[0;34m.\u001b[0m\u001b[0m__get_result\u001b[0m\u001b[0;34m(\u001b[0m\u001b[0;34m)\u001b[0m\u001b[0;34m\u001b[0m\u001b[0;34m\u001b[0m\u001b[0m\n\u001b[1;32m    426\u001b[0m \u001b[0;34m\u001b[0m\u001b[0m\n\u001b[0;32m--> 427\u001b[0;31m             \u001b[0mself\u001b[0m\u001b[0;34m.\u001b[0m\u001b[0m_condition\u001b[0m\u001b[0;34m.\u001b[0m\u001b[0mwait\u001b[0m\u001b[0;34m(\u001b[0m\u001b[0mtimeout\u001b[0m\u001b[0;34m)\u001b[0m\u001b[0;34m\u001b[0m\u001b[0;34m\u001b[0m\u001b[0m\n\u001b[0m\u001b[1;32m    428\u001b[0m \u001b[0;34m\u001b[0m\u001b[0m\n\u001b[1;32m    429\u001b[0m             \u001b[0;32mif\u001b[0m \u001b[0mself\u001b[0m\u001b[0;34m.\u001b[0m\u001b[0m_state\u001b[0m \u001b[0;32min\u001b[0m \u001b[0;34m[\u001b[0m\u001b[0mCANCELLED\u001b[0m\u001b[0;34m,\u001b[0m \u001b[0mCANCELLED_AND_NOTIFIED\u001b[0m\u001b[0;34m]\u001b[0m\u001b[0;34m:\u001b[0m\u001b[0;34m\u001b[0m\u001b[0;34m\u001b[0m\u001b[0m\n",
      "\u001b[0;32m~/miniconda3/envs/liigo/lib/python3.6/threading.py\u001b[0m in \u001b[0;36mwait\u001b[0;34m(self, timeout)\u001b[0m\n\u001b[1;32m    293\u001b[0m         \u001b[0;32mtry\u001b[0m\u001b[0;34m:\u001b[0m    \u001b[0;31m# restore state no matter what (e.g., KeyboardInterrupt)\u001b[0m\u001b[0;34m\u001b[0m\u001b[0;34m\u001b[0m\u001b[0m\n\u001b[1;32m    294\u001b[0m             \u001b[0;32mif\u001b[0m \u001b[0mtimeout\u001b[0m \u001b[0;32mis\u001b[0m \u001b[0;32mNone\u001b[0m\u001b[0;34m:\u001b[0m\u001b[0;34m\u001b[0m\u001b[0;34m\u001b[0m\u001b[0m\n\u001b[0;32m--> 295\u001b[0;31m                 \u001b[0mwaiter\u001b[0m\u001b[0;34m.\u001b[0m\u001b[0macquire\u001b[0m\u001b[0;34m(\u001b[0m\u001b[0;34m)\u001b[0m\u001b[0;34m\u001b[0m\u001b[0;34m\u001b[0m\u001b[0m\n\u001b[0m\u001b[1;32m    296\u001b[0m                 \u001b[0mgotit\u001b[0m \u001b[0;34m=\u001b[0m \u001b[0;32mTrue\u001b[0m\u001b[0;34m\u001b[0m\u001b[0;34m\u001b[0m\u001b[0m\n\u001b[1;32m    297\u001b[0m             \u001b[0;32melse\u001b[0m\u001b[0;34m:\u001b[0m\u001b[0;34m\u001b[0m\u001b[0;34m\u001b[0m\u001b[0m\n",
      "\u001b[0;31mKeyboardInterrupt\u001b[0m: "
     ]
    }
   ],
   "source": [
    "# \n",
    "\n",
    "seed = 10598\n",
    "\n",
    "vqc_encode_only_log = []\n",
    "def loss_history_callback(_, __, loss, ___):\n",
    "    vqc_encode_only_log.append(loss)\n",
    "\n",
    "qsvm_encode = VQC(COBYLA(100), feature_map, var_form, training_input, callback=loss_history_callback)\n",
    "\n",
    "# provider = IBMQ.get_provider(hub='ibm-q-utokyo')\n",
    "# backend = provider.get_backend('ibmq_johannesburg')\n",
    "\n",
    "backend = BasicAer.get_backend('qasm_simulator')\n",
    "quantum_instance = QuantumInstance(backend, shots=1024, seed_simulator=seed, seed_transpiler=seed)\n",
    "\n",
    "\n",
    "result = qsvm_encode.run(quantum_instance)"
   ]
  },
  {
   "cell_type": "code",
   "execution_count": null,
   "metadata": {},
   "outputs": [],
   "source": [
    "def record_test_result_for_kaggle(y_pred, submission_file):\n",
    "    start = 892\n",
    "    end = 1309\n",
    "    result = \"PassengerId,Survived\\n\"\n",
    "    for i in range(start, end + 1):\n",
    "        result += \"%d,%d\\n\" % (i, y_pred[i - 892])\n",
    "    with open(submission_file, \"w\", encoding=\"utf-8\") as writer:\n",
    "        writer.write(result)\n",
    "\n",
    "prediction = qsvm_encode.predict(data_test)[1]\n",
    "record_test_result_for_kaggle(prediction, 'submission.csv')"
   ]
  },
  {
   "cell_type": "code",
   "execution_count": 36,
   "metadata": {},
   "outputs": [],
   "source": [
    "prediction = np.zeros(len(df_test))\n",
    "record_test_result_for_kaggle(prediction, 'stupid_submission.csv')"
   ]
  },
  {
   "cell_type": "code",
   "execution_count": null,
   "metadata": {},
   "outputs": [],
   "source": [
    "qsvm_encode.save_model('models/Titanic_VQC')"
   ]
  },
  {
   "cell_type": "code",
   "execution_count": 26,
   "metadata": {},
   "outputs": [],
   "source": [
    "# load model \n",
    "# qsvm_encode = VQC(COBYLA(1), feature_map, var_form, training_input)\n",
    "# backend = BasicAer.get_backend('qasm_simulator')\n",
    "# quantum_instance = QuantumInstance(backend, shots=1024, seed_simulator=seed, seed_transpiler=seed)\n",
    "# qsvm_encode.run(quantum_instance)\n",
    "\n",
    "qsvm_encode.load_model('models/Titanic_VQC.npz')"
   ]
  },
  {
   "cell_type": "code",
   "execution_count": 28,
   "metadata": {},
   "outputs": [
    {
     "name": "stderr",
     "output_type": "stream",
     "text": [
      "2020-07-09 00:33:37,543:qiskit.aqua.algorithms.classifiers.vqc:DEBUG: Predicting batch 0\n"
     ]
    },
    {
     "ename": "NameError",
     "evalue": "name 'f1' is not defined",
     "output_type": "error",
     "traceback": [
      "\u001b[0;31m---------------------------------------------------------------------------\u001b[0m",
      "\u001b[0;31mNameError\u001b[0m                                 Traceback (most recent call last)",
      "\u001b[0;32m<ipython-input-28-9333882f4e20>\u001b[0m in \u001b[0;36m<module>\u001b[0;34m()\u001b[0m\n\u001b[1;32m      1\u001b[0m \u001b[0mprediction\u001b[0m \u001b[0;34m=\u001b[0m \u001b[0mqsvm_encode\u001b[0m\u001b[0;34m.\u001b[0m\u001b[0mpredict\u001b[0m\u001b[0;34m(\u001b[0m\u001b[0mdata_train\u001b[0m\u001b[0;34m)\u001b[0m\u001b[0;34m[\u001b[0m\u001b[0;36m1\u001b[0m\u001b[0;34m]\u001b[0m\u001b[0;34m\u001b[0m\u001b[0;34m\u001b[0m\u001b[0m\n\u001b[1;32m      2\u001b[0m \u001b[0;34m\u001b[0m\u001b[0m\n\u001b[0;32m----> 3\u001b[0;31m \u001b[0mnp\u001b[0m\u001b[0;34m.\u001b[0m\u001b[0mmean\u001b[0m\u001b[0;34m(\u001b[0m\u001b[0mprediction\u001b[0m \u001b[0;34m==\u001b[0m \u001b[0my_train\u001b[0m\u001b[0;34m)\u001b[0m\u001b[0;34m,\u001b[0m \u001b[0mf1\u001b[0m\u001b[0;34m(\u001b[0m\u001b[0mprediction\u001b[0m\u001b[0;34m,\u001b[0m \u001b[0my_train\u001b[0m\u001b[0;34m)\u001b[0m\u001b[0;34m\u001b[0m\u001b[0;34m\u001b[0m\u001b[0m\n\u001b[0m",
      "\u001b[0;31mNameError\u001b[0m: name 'f1' is not defined"
     ]
    }
   ],
   "source": [
    "prediction = qsvm_encode.predict(data_train)[1]\n",
    "\n",
    "np.mean(prediction == y_train), f1_score(prediction, y_train)"
   ]
  },
  {
   "cell_type": "code",
   "execution_count": 33,
   "metadata": {},
   "outputs": [
    {
     "data": {
      "text/plain": [
       "(0.675645342312009, 0.5743740795287187)"
      ]
     },
     "execution_count": 33,
     "metadata": {},
     "output_type": "execute_result"
    }
   ],
   "source": [
    "np.mean(prediction == y_train), f1_score(prediction, y_train)"
   ]
  },
  {
   "cell_type": "markdown",
   "metadata": {},
   "source": [
    "# Continuoue+mix encoding (VQC + QRAC)"
   ]
  },
  {
   "cell_type": "code",
   "execution_count": null,
   "metadata": {},
   "outputs": [],
   "source": [
    "df_train, y_train, df_test = load_titanic_pd('train.csv', 'test.csv')"
   ]
  },
  {
   "cell_type": "code",
   "execution_count": 12,
   "metadata": {},
   "outputs": [
    {
     "ename": "TypeError",
     "evalue": "loop of ufunc does not support argument 0 of type float which has no callable log method",
     "output_type": "error",
     "traceback": [
      "\u001b[0;31m---------------------------------------------------------------------------\u001b[0m",
      "\u001b[0;31mAttributeError\u001b[0m                            Traceback (most recent call last)",
      "\u001b[0;31mAttributeError\u001b[0m: 'float' object has no attribute 'log'",
      "\nThe above exception was the direct cause of the following exception:\n",
      "\u001b[0;31mTypeError\u001b[0m                                 Traceback (most recent call last)",
      "\u001b[0;32m<ipython-input-12-2cb9752cfedc>\u001b[0m in \u001b[0;36m<module>\u001b[0;34m()\u001b[0m\n\u001b[1;32m      1\u001b[0m \u001b[0mdf_train\u001b[0m\u001b[0;34m[\u001b[0m\u001b[0;34m'Fare'\u001b[0m\u001b[0;34m]\u001b[0m \u001b[0;34m=\u001b[0m \u001b[0mnp\u001b[0m\u001b[0;34m.\u001b[0m\u001b[0mlog\u001b[0m\u001b[0;34m(\u001b[0m\u001b[0mdf_train\u001b[0m\u001b[0;34m[\u001b[0m\u001b[0;34m'Fare'\u001b[0m\u001b[0;34m]\u001b[0m \u001b[0;34m+\u001b[0m \u001b[0;36m1\u001b[0m\u001b[0;34m)\u001b[0m\u001b[0;34m\u001b[0m\u001b[0;34m\u001b[0m\u001b[0m\n\u001b[0;32m----> 2\u001b[0;31m \u001b[0mdf_test\u001b[0m\u001b[0;34m[\u001b[0m\u001b[0;34m'Fare'\u001b[0m\u001b[0;34m]\u001b[0m \u001b[0;34m=\u001b[0m \u001b[0mnp\u001b[0m\u001b[0;34m.\u001b[0m\u001b[0mlog\u001b[0m\u001b[0;34m(\u001b[0m\u001b[0mdf_test\u001b[0m\u001b[0;34m[\u001b[0m\u001b[0;34m'Fare'\u001b[0m\u001b[0;34m]\u001b[0m \u001b[0;34m+\u001b[0m \u001b[0;36m1\u001b[0m\u001b[0;34m)\u001b[0m\u001b[0;34m\u001b[0m\u001b[0;34m\u001b[0m\u001b[0m\n\u001b[0m",
      "\u001b[0;31mTypeError\u001b[0m: loop of ufunc does not support argument 0 of type float which has no callable log method"
     ]
    }
   ],
   "source": [
    "df_train['Fare'] = np.log(df_train['Fare'] + 1)\n",
    "df_test['Fare'] = np.log(df_test['Fare'].astype(np.float32) + 1)"
   ]
  },
  {
   "cell_type": "code",
   "execution_count": null,
   "metadata": {},
   "outputs": [],
   "source": [
    "df_test"
   ]
  },
  {
   "cell_type": "code",
   "execution_count": 16,
   "metadata": {},
   "outputs": [
    {
     "data": {
      "text/plain": [
       "array([2.17806435, 2.07944155, 2.36907482, 2.26825237, 2.5868237 ,\n",
       "       2.32483578, 2.15515184, 3.40119743, 2.1076889 , 3.22485781,\n",
       "       2.1855793 , 3.29583693, 4.42204857, 4.12995291, 3.35762167,\n",
       "       2.59151649, 2.10717845, 2.18885636, 4.10098934, 1.42810786,\n",
       "       3.48686433, 4.13323212, 5.57357883, 2.74083996, 4.14280462,\n",
       "       3.44998765, 3.12144828, 3.48124003, 3.07153535, 3.19663024,\n",
       "       4.0732913 , 2.20276475, 2.35137534, 4.05171204, 2.66838717,\n",
       "       3.31600261, 2.18041754, 2.6390574 , 3.98069429, 3.42426276,\n",
       "       2.16905379, 4.34758663, 2.82731366, 4.1108737 , 2.77466774,\n",
       "       3.17805386, 5.57594919, 2.80814886, 3.40535545, 2.15755939,\n",
       "       2.83907843, 2.67414856, 2.16619253, 3.09104252, 2.18371153,\n",
       "       3.77045941, 3.38566065, 5.35894203, 3.28466368, 2.78783441,\n",
       "       5.40618134, 2.46029806, 2.73788071, 2.70136118, 2.17190671,\n",
       "       3.97029185, 2.17427444, 4.38014984, 2.18089199, 4.03320837,\n",
       "       2.25304818, 3.15806365, 2.17711258, 2.27341366, 2.77544713,\n",
       "       2.17238522, 3.48673868, 2.1142416 , 2.00653481, 2.87356472,\n",
       "       4.33390856, 2.81839824, 2.11021328, 3.18841672, 3.38439035,\n",
       "       3.27588725, 3.86911559, 5.02749252, 2.94443893, 3.96769428,\n",
       "       4.43269968, 3.60079098, 2.57895088, 3.47777247, 2.14593124,\n",
       "       2.69293666, 2.16714334, 3.13658047, 3.94150019, 3.56600547,\n",
       "       2.29882812, 3.68887949, 3.6309855 , 3.99083424, 5.51552677,\n",
       "       2.83321333, 4.25632191, 3.51154542, 4.90897179, 2.44234705,\n",
       "       2.20964718, 2.80336046, 2.73436737, 5.43164539, 3.28622413,\n",
       "       2.08567214, 4.31079912, 3.77276087, 5.1111846 , 2.69855857,\n",
       "       3.34800053, 2.77881932, 4.18965483, 2.01434278, 4.28059292,\n",
       "       4.33401728, 4.6767931 , 3.43398714, 2.18464589, 3.35863781,\n",
       "       4.9256525 , 2.33456802, 2.91235065, 2.62012935, 0.        ,\n",
       "       3.0545907 , 3.70376801, 2.07317185, 4.4171319 , 3.7513659 ,\n",
       "       3.83945227, 2.33698654, 4.54859972, 2.71524429, 2.14885092,\n",
       "       4.9173007 , 4.99396896, 5.35817719, 4.38452339, 2.81790257,\n",
       "       2.14934063, 6.24091721, 4.1644659 , 3.96041679, 2.80638599,\n",
       "       3.63769674, 2.73814607, 3.70592093, 2.5257287 , 3.93182564,\n",
       "       2.63008857, 3.09444571, 3.69882989, 3.05635691, 3.87328219,\n",
       "       2.69884133, 2.16571093, 4.51085949, 4.69957066, 3.15095234])"
      ]
     },
     "execution_count": 16,
     "metadata": {},
     "output_type": "execute_result"
    }
   ],
   "source": [
    "df_test['Fare']"
   ]
  },
  {
   "cell_type": "code",
   "execution_count": 17,
   "metadata": {},
   "outputs": [],
   "source": [
    "df_train['Age'] = df_train['Age'] / 60\n",
    "df_test['Age'] = df_test['Age'] / 60"
   ]
  },
  {
   "cell_type": "code",
   "execution_count": 20,
   "metadata": {},
   "outputs": [],
   "source": [
    "cat_col = ['Pclass', 'Sex', 'SibSp', 'Parch', 'Embarked']\n",
    "num_col = ['Age', 'Fare']"
   ]
  },
  {
   "cell_type": "code",
   "execution_count": 21,
   "metadata": {},
   "outputs": [],
   "source": [
    "df_train_cat = df_train[cat_col]\n",
    "df_test_cat = df_test[cat_col]\n",
    "\n",
    "df_train_num = df_train[num_col]\n",
    "df_test_num = df_test[num_col]"
   ]
  },
  {
   "cell_type": "code",
   "execution_count": 22,
   "metadata": {},
   "outputs": [],
   "source": [
    "# b1b2b3 --> (theta, varphi)\n",
    "def convert_to_angle(b_st):\n",
    "    if b_st[0] == '1':\n",
    "        theta = np.arccos(1/np.sqrt(3))\n",
    "    else:\n",
    "        theta = np.arccos(-1/np.sqrt(3))\n",
    "\n",
    "    if b_st[1] == '1' and b_st[2] == '1':\n",
    "        varphi = np.pi / 4\n",
    "\n",
    "    if b_st[1] == '1' and b_st[2] == '0':\n",
    "        varphi = 3 * np.pi / 4\n",
    "\n",
    "    if b_st[1] == '0' and b_st[2] == '0':\n",
    "        varphi = -3 * np.pi / 4\n",
    "\n",
    "    if b_st[1] == '0' and b_st[2] == '1':\n",
    "        varphi = -np.pi / 4\n",
    "            \n",
    "    return [theta, varphi]\n",
    "\n",
    "data_train = []\n",
    "data_test = []\n",
    "\n",
    "bit_each_col = []\n",
    "\n",
    "df_all = pd.concat([df_train_cat, df_test_cat])\n",
    "\n",
    "# Check number of different category in df_all\n",
    "for col in df_all.columns:\n",
    "    bit_each_col.append(int(np.ceil(np.log2(len(df_all[col].unique())))))\n",
    "    \n",
    "# Count required bit\n",
    "num_bit = sum(bit_each_col)\n",
    "num_qubit = int(np.ceil(num_bit / 3))\n",
    "\n",
    "pad = 0\n",
    "if num_bit % 3 != 0:\n",
    "    pad = 3 - (num_bit % 3)\n",
    "\n",
    "    \n",
    "# Encode train\n",
    "for row in df_train_cat.values:\n",
    "    bstring = ''\n",
    "    \n",
    "    for v, num_bit in zip(row, bit_each_col):\n",
    "        bstring += f\"{v:010b}\"[-num_bit:]\n",
    "        \n",
    "    all_b_st = bstring + pad * '0'\n",
    "    \n",
    "    var_list = []\n",
    "    for i in range(num_qubit):\n",
    "        b_st = all_b_st[i * 3: (i+1) * 3]\n",
    "        var_list += convert_to_angle(b_st)\n",
    "    \n",
    "    data_train.append(var_list)\n",
    "    \n",
    "# Encode Test\n",
    "for row in df_test_cat.values:\n",
    "    bstring = ''\n",
    "    \n",
    "    for v, num_bit in zip(row, bit_each_col):\n",
    "        bstring += f\"{v:010b}\"[-num_bit:]\n",
    "        \n",
    "    all_b_st = bstring + pad * '0'\n",
    "    \n",
    "    var_list = []\n",
    "    for i in range(num_qubit):\n",
    "        b_st = all_b_st[i * 3: (i+1) * 3]\n",
    "        var_list += convert_to_angle(b_st)\n",
    "    \n",
    "    data_test.append(var_list)\n",
    "\n",
    "# data = np.concatenate(data, axis=1)\n",
    "data_train = np.array(data_train)\n",
    "data_test = np.array(data_test)"
   ]
  },
  {
   "cell_type": "code",
   "execution_count": 45,
   "metadata": {},
   "outputs": [],
   "source": [
    "data_train_num = df_train_num.values\n",
    "data_test_num = df_test_num.values"
   ]
  },
  {
   "cell_type": "code",
   "execution_count": 46,
   "metadata": {},
   "outputs": [],
   "source": [
    "data_train = np.concatenate([data_train, data_train_num], axis=1)\n",
    "data_test = np.concatenate([data_test, data_test_num], axis=1)"
   ]
  },
  {
   "cell_type": "code",
   "execution_count": 48,
   "metadata": {
    "scrolled": true
   },
   "outputs": [
    {
     "data": {
      "text/plain": [
       "((891, 10), (418, 10))"
      ]
     },
     "execution_count": 48,
     "metadata": {},
     "output_type": "execute_result"
    }
   ],
   "source": [
    "data_train.shape, data_test.shape"
   ]
  },
  {
   "cell_type": "code",
   "execution_count": 38,
   "metadata": {},
   "outputs": [
    {
     "name": "stderr",
     "output_type": "stream",
     "text": [
      "/Users/barnrang/miniconda3/envs/liigo/lib/python3.6/site-packages/ipykernel_launcher.py:12: DeprecationWarning: The qiskit.aqua.components.variational_forms.RYRZ object is deprecated as of 0.7.0 and will be removed no sooner than 3 months after the release. You should use qiskit.circuit.library.EfficientSU2 (uses CX entangling) or qiskit.circuit.library.TwoLocal instead.\n",
      "  if sys.path[0] == '':\n"
     ]
    },
    {
     "data": {
      "image/png": "[encoded data removed]",
      "text/plain": [
       "<Figure size 320.264x264.88 with 1 Axes>"
      ]
     },
     "execution_count": 38,
     "metadata": {},
     "output_type": "execute_result"
    }
   ],
   "source": [
    "# Make feature map with encoder\n",
    "from qiskit.circuit import QuantumCircuit, Parameter, QuantumRegister\n",
    "from qiskit.circuit.library import TwoLocal\n",
    "from qiskit.aqua.algorithms import VQC\n",
    "# from qiskit.aqua.compo\n",
    "# feature_map = ZZFeatureMap(feature_dimension=3, reps=2, entanglement='linear')\n",
    "\n",
    "\n",
    "X = [Parameter(f'x[{i}]') for i in range(data_train.shape[1])]\n",
    "\n",
    "qr = QuantumRegister(num_qubit, 'cat')\n",
    "qc = QuantumCircuit(qr)\n",
    "\n",
    "for i in range(num_qubit):\n",
    "    qc.u3(X[2*i], X[2*i+1], 0, i) # Encoder\n",
    "# tmp1 = feature_map.assign_parameters(X[:num_qubit])\n",
    "# tmp2 = feature_map.assign_parameters(X[num_qubit:])\n",
    "\n",
    "feature_map_cat = qc #+ tmp1 + tmp2 \n",
    "feature_map_cat.draw('mpl')"
   ]
  },
  {
   "cell_type": "code",
   "execution_count": 39,
   "metadata": {},
   "outputs": [
    {
     "data": {
      "image/png": "[encoded data removed]",
      "text/plain": [
       "<Figure size 780.192x144.48 with 1 Axes>"
      ]
     },
     "execution_count": 39,
     "metadata": {},
     "output_type": "execute_result"
    }
   ],
   "source": [
    "# Continuous circuit\n",
    "\n",
    "X1 = Parameter('x[8]')\n",
    "X2 = Parameter('x[9]')\n",
    "\n",
    "feature_map = ZZFeatureMap(feature_dimension=2, reps=2, entanglement='linear')\n",
    "\n",
    "feature_map = feature_map.assign_parameters([X1, X2])\n",
    "\n",
    "feature_map.draw('mpl')"
   ]
  },
  {
   "cell_type": "code",
   "execution_count": 51,
   "metadata": {},
   "outputs": [
    {
     "data": {
      "image/png": "[encoded data removed]",
      "text/plain": [
       "<Figure size 862.064x385.28 with 1 Axes>"
      ]
     },
     "execution_count": 51,
     "metadata": {},
     "output_type": "execute_result"
    }
   ],
   "source": [
    "feature_map_all = feature_map.combine(feature_map_cat)\n",
    "feature_map_all.draw('mpl')"
   ]
  },
  {
   "cell_type": "code",
   "execution_count": 54,
   "metadata": {},
   "outputs": [],
   "source": [
    "# Make training data\n",
    "\n",
    "training_input = {\n",
    "    0: data_train[y_train == 0],\n",
    "    1: data_train[y_train == 1]\n",
    "}"
   ]
  },
  {
   "cell_type": "code",
   "execution_count": 56,
   "metadata": {},
   "outputs": [
    {
     "data": {
      "text/plain": [
       "(891, 10)"
      ]
     },
     "execution_count": 56,
     "metadata": {},
     "output_type": "execute_result"
    }
   ],
   "source": [
    "data_train.shape"
   ]
  },
  {
   "cell_type": "code",
   "execution_count": 58,
   "metadata": {},
   "outputs": [
    {
     "data": {
      "text/plain": [
       "4"
      ]
     },
     "execution_count": 58,
     "metadata": {},
     "output_type": "execute_result"
    }
   ],
   "source": [
    "num_qubit"
   ]
  },
  {
   "cell_type": "code",
   "execution_count": 60,
   "metadata": {
    "scrolled": true
   },
   "outputs": [
    {
     "name": "stderr",
     "output_type": "stream",
     "text": [
      "/Users/barnrang/miniconda3/envs/liigo/lib/python3.6/site-packages/ipykernel_launcher.py:11: DeprecationWarning: The qiskit.aqua.components.variational_forms.RYRZ object is deprecated as of 0.7.0 and will be removed no sooner than 3 months after the release. You should use qiskit.circuit.library.EfficientSU2 (uses CX entangling) or qiskit.circuit.library.TwoLocal instead.\n",
      "  # This is added back by InteractiveShellApp.init_path()\n",
      "/Users/barnrang/miniconda3/envs/liigo/lib/python3.6/site-packages/ipykernel_launcher.py:13: DeprecationWarning: \n",
      "            The <class 'qiskit.circuit.quantumcircuit.QuantumCircuit'> object as input for the VQC is deprecated as of 0.7.0 and will\n",
      "            be removed no earlier than 3 months after the release.\n",
      "            You should pass a QuantumCircuit object instead.\n",
      "            See also qiskit.circuit.library.n_local for a collection\n",
      "            of suitable circuits.\n",
      "  del sys.path[0]\n",
      "2020-07-09 14:41:55,887:qiskit.aqua.quantum_instance:INFO: \n",
      "Qiskit Terra version: 0.14.1\n",
      "Backend: 'qasm_simulator (BasicAer)', with following setting:\n",
      "{'basis_gates': ['u1', 'u2', 'u3', 'cx', 'id', 'unitary'], 'coupling_map': None}\n",
      "{'pass_manager': None, 'initial_layout': None, 'seed_transpiler': 10598, 'optimization_level': None}\n",
      "RunConfig(max_credits=10, seed_simulator=10598, shots=1024)\n",
      "{'timeout': None}\n",
      "{}\n",
      "{}\n",
      "Measurement mitigation: None\n",
      "2020-07-09 14:41:55,889:qiskit.aqua.algorithms.vq_algorithm:INFO: Starting optimizer.\n",
      "bounds=[(-3.141592653589793, 3.141592653589793), (-3.141592653589793, 3.141592653589793), (-3.141592653589793, 3.141592653589793), (-3.141592653589793, 3.141592653589793), (-3.141592653589793, 3.141592653589793), (-3.141592653589793, 3.141592653589793), (-3.141592653589793, 3.141592653589793), (-3.141592653589793, 3.141592653589793), (-3.141592653589793, 3.141592653589793), (-3.141592653589793, 3.141592653589793), (-3.141592653589793, 3.141592653589793), (-3.141592653589793, 3.141592653589793), (-3.141592653589793, 3.141592653589793), (-3.141592653589793, 3.141592653589793), (-3.141592653589793, 3.141592653589793), (-3.141592653589793, 3.141592653589793), (-3.141592653589793, 3.141592653589793), (-3.141592653589793, 3.141592653589793), (-3.141592653589793, 3.141592653589793), (-3.141592653589793, 3.141592653589793), (-3.141592653589793, 3.141592653589793), (-3.141592653589793, 3.141592653589793), (-3.141592653589793, 3.141592653589793), (-3.141592653589793, 3.141592653589793), (-3.141592653589793, 3.141592653589793), (-3.141592653589793, 3.141592653589793), (-3.141592653589793, 3.141592653589793), (-3.141592653589793, 3.141592653589793), (-3.141592653589793, 3.141592653589793), (-3.141592653589793, 3.141592653589793), (-3.141592653589793, 3.141592653589793), (-3.141592653589793, 3.141592653589793), (-3.141592653589793, 3.141592653589793), (-3.141592653589793, 3.141592653589793), (-3.141592653589793, 3.141592653589793), (-3.141592653589793, 3.141592653589793), (-3.141592653589793, 3.141592653589793), (-3.141592653589793, 3.141592653589793), (-3.141592653589793, 3.141592653589793), (-3.141592653589793, 3.141592653589793), (-3.141592653589793, 3.141592653589793), (-3.141592653589793, 3.141592653589793), (-3.141592653589793, 3.141592653589793), (-3.141592653589793, 3.141592653589793), (-3.141592653589793, 3.141592653589793), (-3.141592653589793, 3.141592653589793), (-3.141592653589793, 3.141592653589793), (-3.141592653589793, 3.141592653589793), (-3.141592653589793, 3.141592653589793), (-3.141592653589793, 3.141592653589793), (-3.141592653589793, 3.141592653589793), (-3.141592653589793, 3.141592653589793), (-3.141592653589793, 3.141592653589793), (-3.141592653589793, 3.141592653589793), (-3.141592653589793, 3.141592653589793), (-3.141592653589793, 3.141592653589793), (-3.141592653589793, 3.141592653589793), (-3.141592653589793, 3.141592653589793), (-3.141592653589793, 3.141592653589793), (-3.141592653589793, 3.141592653589793)]\n",
      "initial point=[-0.08323373 -0.63292768  2.20793788  0.76880125 -0.66099952 -1.90222284\n",
      "  0.08239154  0.22773856  0.4598931   0.21714069  0.785933    0.30112268\n",
      " -2.20549587 -0.14787421  1.28481285  0.37156377 -0.47854181 -1.18851046\n",
      " -0.78246428 -0.17776361  0.56109404 -0.02468034 -0.25237783  1.27414817\n",
      " -1.10191462 -1.63767022 -1.1423082  -1.61556976  1.71381247  0.11535856\n",
      " -0.19876061  0.28452952 -2.10508533 -0.17090509  0.64274072  0.09404262\n",
      "  1.02863969  0.53519593  0.6563939   0.69873507 -1.13066414 -0.19676002\n",
      " -1.17069617 -0.45003615  0.07674349 -1.44181966 -1.48321659 -1.74727465\n",
      "  1.00493638 -0.97905156  0.74252277  0.8431183   1.15464046 -0.89409188\n",
      "  0.08366457 -0.26496503  0.12517028 -0.87200352  0.23757637 -0.63268466]\n",
      "2020-07-09 14:41:55,891:qiskit.aqua.components.optimizers.optimizer:DEBUG: WARNING: COBYLA does not support bounds. It will be ignored.\n",
      "2020-07-09 14:42:42,272:qiskit.aqua.algorithms.classifiers.vqc:DEBUG: Intermediate batch cost: 0.6595917719938692\n",
      "2020-07-09 14:43:24,534:qiskit.aqua.algorithms.classifiers.vqc:DEBUG: Intermediate batch cost: 0.6629435809141634\n",
      "2020-07-09 14:44:01,071:qiskit.aqua.algorithms.classifiers.vqc:DEBUG: Intermediate batch cost: 0.6427461437275962\n",
      "2020-07-09 14:44:39,698:qiskit.aqua.algorithms.classifiers.vqc:DEBUG: Intermediate batch cost: 0.652718738203521\n",
      "2020-07-09 14:45:20,216:qiskit.aqua.algorithms.classifiers.vqc:DEBUG: Intermediate batch cost: 0.6570830807194725\n",
      "2020-07-09 14:45:56,583:qiskit.aqua.algorithms.classifiers.vqc:DEBUG: Intermediate batch cost: 0.6756747322141077\n",
      "2020-07-09 14:46:33,503:qiskit.aqua.algorithms.classifiers.vqc:DEBUG: Intermediate batch cost: 0.6849341053961431\n",
      "2020-07-09 14:47:09,502:qiskit.aqua.algorithms.classifiers.vqc:DEBUG: Intermediate batch cost: 0.6295594867594247\n",
      "2020-07-09 14:47:45,324:qiskit.aqua.algorithms.classifiers.vqc:DEBUG: Intermediate batch cost: 0.6490773904621397\n",
      "2020-07-09 14:48:23,706:qiskit.aqua.algorithms.classifiers.vqc:DEBUG: Intermediate batch cost: 0.6530440693885066\n",
      "2020-07-09 14:48:59,632:qiskit.aqua.algorithms.classifiers.vqc:DEBUG: Intermediate batch cost: 0.6393471906395136\n",
      "2020-07-09 14:49:45,008:qiskit.aqua.algorithms.classifiers.vqc:DEBUG: Intermediate batch cost: 0.6240801587559507\n",
      "2020-07-09 14:50:22,021:qiskit.aqua.algorithms.classifiers.vqc:DEBUG: Intermediate batch cost: 0.6275897514488717\n",
      "2020-07-09 14:51:01,116:qiskit.aqua.algorithms.classifiers.vqc:DEBUG: Intermediate batch cost: 0.6681516355452191\n",
      "2020-07-09 14:51:38,148:qiskit.aqua.algorithms.classifiers.vqc:DEBUG: Intermediate batch cost: 0.6388061438417313\n",
      "2020-07-09 14:52:13,755:qiskit.aqua.algorithms.classifiers.vqc:DEBUG: Intermediate batch cost: 0.6710595186800543\n",
      "2020-07-09 14:52:50,221:qiskit.aqua.algorithms.classifiers.vqc:DEBUG: Intermediate batch cost: 0.6747985266017764\n",
      "2020-07-09 14:53:26,081:qiskit.aqua.algorithms.classifiers.vqc:DEBUG: Intermediate batch cost: 0.633897085415449\n",
      "2020-07-09 14:54:01,987:qiskit.aqua.algorithms.classifiers.vqc:DEBUG: Intermediate batch cost: 0.6643361057170464\n",
      "2020-07-09 14:54:40,210:qiskit.aqua.algorithms.classifiers.vqc:DEBUG: Intermediate batch cost: 0.6357879314994649\n",
      "2020-07-09 14:55:50,926:qiskit.aqua.algorithms.classifiers.vqc:DEBUG: Intermediate batch cost: 0.6466150261170036\n",
      "2020-07-09 14:56:39,866:qiskit.aqua.algorithms.classifiers.vqc:DEBUG: Intermediate batch cost: 0.6965277651007666\n",
      "2020-07-09 14:57:23,340:qiskit.aqua.algorithms.classifiers.vqc:DEBUG: Intermediate batch cost: 0.6281637867168446\n",
      "2020-07-09 14:58:19,913:qiskit.aqua.algorithms.classifiers.vqc:DEBUG: Intermediate batch cost: 0.6473772787628165\n",
      "2020-07-09 14:59:09,434:qiskit.aqua.algorithms.classifiers.vqc:DEBUG: Intermediate batch cost: 0.6254061329655909\n",
      "2020-07-09 14:59:59,371:qiskit.aqua.algorithms.classifiers.vqc:DEBUG: Intermediate batch cost: 0.6516273169921218\n",
      "2020-07-09 15:00:47,195:qiskit.aqua.algorithms.classifiers.vqc:DEBUG: Intermediate batch cost: 0.6538763866580902\n",
      "2020-07-09 15:01:30,258:qiskit.aqua.algorithms.classifiers.vqc:DEBUG: Intermediate batch cost: 0.6502421513150923\n",
      "2020-07-09 15:02:15,572:qiskit.aqua.algorithms.classifiers.vqc:DEBUG: Intermediate batch cost: 0.6086176272081016\n",
      "2020-07-09 15:03:00,091:qiskit.aqua.algorithms.classifiers.vqc:DEBUG: Intermediate batch cost: 0.634254980005183\n"
     ]
    },
    {
     "name": "stderr",
     "output_type": "stream",
     "text": [
      "2020-07-09 15:03:45,854:qiskit.aqua.algorithms.classifiers.vqc:DEBUG: Intermediate batch cost: 0.6453861793401688\n",
      "2020-07-09 15:04:42,301:qiskit.aqua.algorithms.classifiers.vqc:DEBUG: Intermediate batch cost: 0.6409202333494594\n",
      "2020-07-09 15:05:27,583:qiskit.aqua.algorithms.classifiers.vqc:DEBUG: Intermediate batch cost: 0.6245638952389377\n",
      "2020-07-09 15:06:09,103:qiskit.aqua.algorithms.classifiers.vqc:DEBUG: Intermediate batch cost: 0.6277012094260065\n",
      "2020-07-09 15:06:52,542:qiskit.aqua.algorithms.classifiers.vqc:DEBUG: Intermediate batch cost: 0.6086483250338013\n",
      "2020-07-09 15:07:34,018:qiskit.aqua.algorithms.classifiers.vqc:DEBUG: Intermediate batch cost: 0.6228379968756191\n",
      "2020-07-09 15:08:18,484:qiskit.aqua.algorithms.classifiers.vqc:DEBUG: Intermediate batch cost: 0.619451927809176\n",
      "2020-07-09 15:09:04,164:qiskit.aqua.algorithms.classifiers.vqc:DEBUG: Intermediate batch cost: 0.6217663370943118\n",
      "2020-07-09 15:09:47,532:qiskit.aqua.algorithms.classifiers.vqc:DEBUG: Intermediate batch cost: 0.6389619771231128\n",
      "2020-07-09 15:10:29,378:qiskit.aqua.algorithms.classifiers.vqc:DEBUG: Intermediate batch cost: 0.605753148059831\n",
      "2020-07-09 15:11:11,257:qiskit.aqua.algorithms.classifiers.vqc:DEBUG: Intermediate batch cost: 0.6400227487216114\n",
      "2020-07-09 15:11:51,573:qiskit.aqua.algorithms.classifiers.vqc:DEBUG: Intermediate batch cost: 0.6540464764883717\n",
      "2020-07-09 15:12:32,535:qiskit.aqua.algorithms.classifiers.vqc:DEBUG: Intermediate batch cost: 0.6529745043618882\n",
      "2020-07-09 15:13:16,204:qiskit.aqua.algorithms.classifiers.vqc:DEBUG: Intermediate batch cost: 0.596024019059167\n",
      "2020-07-09 15:13:56,294:qiskit.aqua.algorithms.classifiers.vqc:DEBUG: Intermediate batch cost: 0.5984408004212538\n",
      "2020-07-09 15:14:41,659:qiskit.aqua.algorithms.classifiers.vqc:DEBUG: Intermediate batch cost: 0.5816997630611812\n",
      "2020-07-09 15:15:31,147:qiskit.aqua.algorithms.classifiers.vqc:DEBUG: Intermediate batch cost: 0.5811021276164505\n",
      "2020-07-09 15:16:12,431:qiskit.aqua.algorithms.classifiers.vqc:DEBUG: Intermediate batch cost: 0.5936412425594787\n",
      "2020-07-09 15:16:52,189:qiskit.aqua.algorithms.classifiers.vqc:DEBUG: Intermediate batch cost: 0.5806437022997152\n",
      "2020-07-09 15:17:55,492:qiskit.aqua.algorithms.classifiers.vqc:DEBUG: Intermediate batch cost: 0.65797812298373\n",
      "2020-07-09 15:18:40,341:qiskit.aqua.algorithms.classifiers.vqc:DEBUG: Intermediate batch cost: 0.5806437022997152\n",
      "2020-07-09 15:19:23,444:qiskit.aqua.algorithms.classifiers.vqc:DEBUG: Intermediate batch cost: 0.6655726725353185\n",
      "2020-07-09 15:20:09,675:qiskit.aqua.algorithms.classifiers.vqc:DEBUG: Intermediate batch cost: 0.5806437022997152\n",
      "2020-07-09 15:20:51,921:qiskit.aqua.algorithms.classifiers.vqc:DEBUG: Intermediate batch cost: 0.6242982013149576\n",
      "2020-07-09 15:21:47,538:qiskit.aqua.algorithms.classifiers.vqc:DEBUG: Intermediate batch cost: 0.5806437022997152\n",
      "2020-07-09 15:23:05,850:qiskit.aqua.algorithms.classifiers.vqc:DEBUG: Intermediate batch cost: 0.6196623477693647\n",
      "2020-07-09 15:23:58,724:qiskit.aqua.algorithms.classifiers.vqc:DEBUG: Intermediate batch cost: 0.5806437022997152\n",
      "2020-07-09 15:25:31,666:qiskit.aqua.algorithms.classifiers.vqc:DEBUG: Intermediate batch cost: 0.6227991489184679\n",
      "2020-07-09 15:26:41,218:qiskit.aqua.algorithms.classifiers.vqc:DEBUG: Intermediate batch cost: 0.5806437022997152\n",
      "2020-07-09 15:27:29,642:qiskit.aqua.algorithms.classifiers.vqc:DEBUG: Intermediate batch cost: 0.6276756519919874\n",
      "2020-07-09 15:28:25,077:qiskit.aqua.algorithms.classifiers.vqc:DEBUG: Intermediate batch cost: 0.5806437022997152\n",
      "2020-07-09 15:29:14,266:qiskit.aqua.algorithms.classifiers.vqc:DEBUG: Intermediate batch cost: 0.5907892169870984\n",
      "2020-07-09 15:30:01,269:qiskit.aqua.algorithms.classifiers.vqc:DEBUG: Intermediate batch cost: 0.5738715573262401\n",
      "2020-07-09 15:30:46,194:qiskit.aqua.algorithms.classifiers.vqc:DEBUG: Intermediate batch cost: 0.613344097233401\n",
      "2020-07-09 15:31:41,471:qiskit.aqua.algorithms.classifiers.vqc:DEBUG: Intermediate batch cost: 0.5802360828817043\n",
      "2020-07-09 15:32:37,124:qiskit.aqua.algorithms.classifiers.vqc:DEBUG: Intermediate batch cost: 0.6011266742891964\n",
      "2020-07-09 15:33:46,108:qiskit.aqua.algorithms.classifiers.vqc:DEBUG: Intermediate batch cost: 0.572114532939363\n",
      "2020-07-09 15:34:33,552:qiskit.aqua.algorithms.classifiers.vqc:DEBUG: Intermediate batch cost: 0.5882553565701226\n",
      "2020-07-09 15:35:25,508:qiskit.aqua.algorithms.classifiers.vqc:DEBUG: Intermediate batch cost: 0.5762900014487813\n",
      "2020-07-09 15:36:16,733:qiskit.aqua.algorithms.classifiers.vqc:DEBUG: Intermediate batch cost: 0.6007834816960276\n",
      "2020-07-09 15:37:03,855:qiskit.aqua.algorithms.classifiers.vqc:DEBUG: Intermediate batch cost: 0.5779464044158846\n",
      "2020-07-09 15:37:52,188:qiskit.aqua.algorithms.classifiers.vqc:DEBUG: Intermediate batch cost: 0.5825068257001078\n",
      "2020-07-09 15:38:38,579:qiskit.aqua.algorithms.classifiers.vqc:DEBUG: Intermediate batch cost: 0.5752052476881092\n",
      "2020-07-09 15:39:21,333:qiskit.aqua.algorithms.classifiers.vqc:DEBUG: Intermediate batch cost: 0.5710518854036338\n",
      "2020-07-09 15:40:04,290:qiskit.aqua.algorithms.classifiers.vqc:DEBUG: Intermediate batch cost: 0.5871332808769714\n",
      "2020-07-09 15:40:47,769:qiskit.aqua.algorithms.classifiers.vqc:DEBUG: Intermediate batch cost: 0.6234025483241237\n",
      "2020-07-09 15:41:31,940:qiskit.aqua.algorithms.classifiers.vqc:DEBUG: Intermediate batch cost: 0.5854309781865811\n",
      "2020-07-09 15:42:16,700:qiskit.aqua.algorithms.classifiers.vqc:DEBUG: Intermediate batch cost: 0.6089746577608601\n",
      "2020-07-09 15:43:01,341:qiskit.aqua.algorithms.classifiers.vqc:DEBUG: Intermediate batch cost: 0.567286572983426\n",
      "2020-07-09 15:43:52,067:qiskit.aqua.algorithms.classifiers.vqc:DEBUG: Intermediate batch cost: 0.5982828866213713\n",
      "2020-07-09 15:44:35,376:qiskit.aqua.algorithms.classifiers.vqc:DEBUG: Intermediate batch cost: 0.5905859095105077\n",
      "2020-07-09 15:45:18,803:qiskit.aqua.algorithms.classifiers.vqc:DEBUG: Intermediate batch cost: 0.5990377828712306\n",
      "2020-07-09 15:46:07,207:qiskit.aqua.algorithms.classifiers.vqc:DEBUG: Intermediate batch cost: 0.5752175453586115\n",
      "2020-07-09 15:46:48,662:qiskit.aqua.algorithms.classifiers.vqc:DEBUG: Intermediate batch cost: 0.5688654528774431\n",
      "2020-07-09 15:47:49,550:qiskit.aqua.algorithms.classifiers.vqc:DEBUG: Intermediate batch cost: 0.5680229767201465\n",
      "2020-07-09 15:48:31,284:qiskit.aqua.algorithms.classifiers.vqc:DEBUG: Intermediate batch cost: 0.5558722211506073\n",
      "2020-07-09 15:49:29,654:qiskit.aqua.algorithms.classifiers.vqc:DEBUG: Intermediate batch cost: 0.5608060777026288\n",
      "2020-07-09 15:50:26,924:qiskit.aqua.algorithms.classifiers.vqc:DEBUG: Intermediate batch cost: 0.5680295503305095\n",
      "2020-07-09 15:51:08,848:qiskit.aqua.algorithms.classifiers.vqc:DEBUG: Intermediate batch cost: 0.5629036913663321\n",
      "2020-07-09 15:51:52,416:qiskit.aqua.algorithms.classifiers.vqc:DEBUG: Intermediate batch cost: 0.5619664559698521\n",
      "2020-07-09 15:52:42,489:qiskit.aqua.algorithms.classifiers.vqc:DEBUG: Intermediate batch cost: 0.5588455988975418\n",
      "2020-07-09 15:53:27,505:qiskit.aqua.algorithms.classifiers.vqc:DEBUG: Intermediate batch cost: 0.5723426665499631\n",
      "2020-07-09 15:54:12,989:qiskit.aqua.algorithms.classifiers.vqc:DEBUG: Intermediate batch cost: 0.5589236422914925\n",
      "2020-07-09 15:55:06,935:qiskit.aqua.algorithms.classifiers.vqc:DEBUG: Intermediate batch cost: 0.6012530052463945\n",
      "2020-07-09 15:56:08,261:qiskit.aqua.algorithms.classifiers.vqc:DEBUG: Intermediate batch cost: 0.559092154025838\n",
      "2020-07-09 15:57:03,869:qiskit.aqua.algorithms.classifiers.vqc:DEBUG: Intermediate batch cost: 0.5614453837646597\n",
      "2020-07-09 15:57:50,655:qiskit.aqua.algorithms.classifiers.vqc:DEBUG: Intermediate batch cost: 0.5593350368735348\n",
      "2020-07-09 15:58:38,617:qiskit.aqua.algorithms.classifiers.vqc:DEBUG: Intermediate batch cost: 0.5735195967673947\n",
      "2020-07-09 15:59:31,872:qiskit.aqua.algorithms.classifiers.vqc:DEBUG: Intermediate batch cost: 0.5555067946918341\n",
      "2020-07-09 16:00:16,866:qiskit.aqua.algorithms.classifiers.vqc:DEBUG: Intermediate batch cost: 0.5638316419371658\n",
      "2020-07-09 16:00:16,869:qiskit.aqua.algorithms.classifiers.vqc:INFO: Optimization complete in 4700.979743003845 seconds.\n",
      "Found opt_params [-0.59090472  0.36700279  2.61535176  0.47556416 -0.67601578 -1.91657782\n",
      "  1.08213507  0.22010088  0.46059637  1.08765418  1.29476371  0.29921998\n",
      " -2.22918523 -0.14679713  1.27221454  0.34254969  0.16069523 -1.19746486\n",
      " -0.02084976 -0.18555815  0.56573274 -0.02689424 -0.25251075  1.27342931\n",
      " -1.48278568 -1.30948645 -1.16527588 -0.60718689  1.6999134   0.09542481\n",
      " -0.21627318  0.27588439 -2.11543133 -0.67091972  0.63503127  0.08958559\n",
      "  1.02151123  0.51874501  1.65794686  0.68015611 -1.15684594 -0.22236066\n",
      " -0.16542161 -0.45134638  1.08450926 -0.44149565 -1.49001456 -0.74702612\n",
      "  0.96301021 -0.97905156  0.69647927  0.8431183   1.13097356 -0.89409188\n",
      "  0.06251096 -0.26496503  0.10231608 -0.87200352  0.21207841 -0.63268466] in 100 evals\n"
     ]
    }
   ],
   "source": [
    "# \n",
    "\n",
    "seed = 10598\n",
    "\n",
    "vqc_encode_with_num_log = []\n",
    "def loss_history_callback(_, __, loss, ___):\n",
    "    vqc_encode_with_num_log.append(loss)\n",
    "\n",
    "\n",
    "# feature_map = ZZFeatureMap(feature_dimension=num_qubit, reps=2, entanglement='linear')\n",
    "var_form = variational_forms.RYRZ(6, depth=4)\n",
    "\n",
    "qsvm_encode = VQC(COBYLA(100), feature_map_all, var_form, training_input, callback=loss_history_callback)\n",
    "\n",
    "# provider = IBMQ.get_provider(hub='ibm-q-utokyo')\n",
    "# backend = provider.get_backend('ibmq_johannesburg')\n",
    "\n",
    "backend = BasicAer.get_backend('qasm_simulator')\n",
    "quantum_instance = QuantumInstance(backend, shots=1024, seed_simulator=seed, seed_transpiler=seed)\n",
    "\n",
    "\n",
    "result = qsvm_encode.run(quantum_instance)"
   ]
  },
  {
   "cell_type": "code",
   "execution_count": 61,
   "metadata": {},
   "outputs": [
    {
     "name": "stderr",
     "output_type": "stream",
     "text": [
      "2020-07-09 16:00:16,890:qiskit.aqua.algorithms.classifiers.vqc:DEBUG: Predicting batch 0\n"
     ]
    }
   ],
   "source": [
    "def record_test_result_for_kaggle(y_pred, submission_file):\n",
    "    start = 892\n",
    "    end = 1309\n",
    "    result = \"PassengerId,Survived\\n\"\n",
    "    for i in range(start, end + 1):\n",
    "        result += \"%d,%d\\n\" % (i, y_pred[i - 892])\n",
    "    with open(submission_file, \"w\", encoding=\"utf-8\") as writer:\n",
    "        writer.write(result)\n",
    "\n",
    "prediction = qsvm_encode.predict(data_test)[1]\n",
    "record_test_result_for_kaggle(prediction, 'encode_with_num_submission.csv')"
   ]
  },
  {
   "cell_type": "code",
   "execution_count": 62,
   "metadata": {},
   "outputs": [],
   "source": [
    "# load model \n",
    "# qsvm_encode = VQC(COBYLA(1), feature_map, var_form, training_input)\n",
    "# backend = BasicAer.get_backend('qasm_simulator')\n",
    "# quantum_instance = QuantumInstance(backend, shots=1024, seed_simulator=seed, seed_transpiler=seed)\n",
    "# qsvm_encode.run(quantum_instance)\n",
    "\n",
    "qsvm_encode.save_model('models/Titanic_VQC_withnum.npz')"
   ]
  },
  {
   "cell_type": "code",
   "execution_count": 63,
   "metadata": {},
   "outputs": [
    {
     "name": "stderr",
     "output_type": "stream",
     "text": [
      "2020-07-09 16:17:43,257:qiskit.aqua.algorithms.classifiers.vqc:DEBUG: Predicting batch 0\n"
     ]
    },
    {
     "data": {
      "text/plain": [
       "(0.7250280583613917, 0.5896147403685091)"
      ]
     },
     "execution_count": 63,
     "metadata": {},
     "output_type": "execute_result"
    }
   ],
   "source": [
    "prediction = qsvm_encode.predict(data_train)[1]\n",
    "\n",
    "np.mean(prediction == y_train), f1_score(prediction, y_train)"
   ]
  },
  {
   "cell_type": "code",
   "execution_count": 39,
   "metadata": {},
   "outputs": [
    {
     "data": {
      "text/plain": [
       "[<matplotlib.lines.Line2D at 0x7f8f26e49b38>]"
      ]
     },
     "execution_count": 39,
     "metadata": {},
     "output_type": "execute_result"
    },
    {
     "data": {
      "image/png": "[encoded data removed]",
      "text/plain": [
       "<Figure size 432x288 with 1 Axes>"
      ]
     },
     "metadata": {},
     "output_type": "display_data"
    }
   ],
   "source": [
    "x_plot = np.arange(1,101)\n",
    "plt.plot(x_plot, vqc_encode_ZZ_log)"
   ]
  },
  {
   "cell_type": "code",
   "execution_count": 64,
   "metadata": {},
   "outputs": [
    {
     "data": {
      "text/plain": [
       "[<matplotlib.lines.Line2D at 0x7faf74da8e10>]"
      ]
     },
     "execution_count": 64,
     "metadata": {},
     "output_type": "execute_result"
    },
    {
     "data": {
      "image/png": "[encoded data removed]",
      "text/plain": [
       "<Figure size 432x288 with 1 Axes>"
      ]
     },
     "metadata": {},
     "output_type": "display_data"
    }
   ],
   "source": [
    "x_plot = np.arange(1,101)\n",
    "plt.plot(x_plot, vqc_encode_with_num_log_with_num_log)"
   ]
  },
  {
   "cell_type": "code",
   "execution_count": null,
   "metadata": {},
   "outputs": [],
   "source": []
  }
 ],
 "metadata": {
  "kernelspec": {
   "display_name": "Python 3",
   "language": "python",
   "name": "python3"
  },
  "language_info": {
   "codemirror_mode": {
    "name": "ipython",
    "version": 3
   },
   "file_extension": ".py",
   "mimetype": "text/x-python",
   "name": "python",
   "nbconvert_exporter": "python",
   "pygments_lexer": "ipython3",
   "version": "3.6.8"
  }
 },
 "nbformat": 4,
 "nbformat_minor": 2
}
