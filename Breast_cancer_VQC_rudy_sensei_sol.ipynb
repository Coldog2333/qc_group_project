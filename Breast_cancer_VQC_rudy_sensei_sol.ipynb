{
 "cells": [
  {
   "cell_type": "markdown",
   "metadata": {},
   "source": [
    "# The breast cancer dataset\n",
    "Now we run our algorithm with the real-world dataset: the breast cancer dataset, we use the first two principal components as features."
   ]
  },
  {
   "cell_type": "code",
   "execution_count": 47,
   "metadata": {},
   "outputs": [],
   "source": [
    "import matplotlib.pyplot as plt\n",
    "import numpy as np\n",
    "from qiskit import BasicAer\n",
    "from qiskit.ml.datasets import *\n",
    "from qiskit.circuit.library import ZZFeatureMap\n",
    "from qiskit.aqua.components.feature_maps import SecondOrderExpansion\n",
    "from qiskit.aqua.utils import split_dataset_to_data_and_labels, map_label_to_class_name\n",
    "from qiskit.aqua import QuantumInstance\n",
    "from qiskit.aqua.algorithms import QSVM, VQC\n",
    "from qiskit.aqua.components import variational_forms\n",
    "from qiskit.aqua.components.optimizers import COBYLA, SPSA\n",
    "\n",
    "# setup aqua logging\n",
    "import logging\n",
    "from qiskit.aqua import set_qiskit_aqua_logging\n",
    "set_qiskit_aqua_logging(logging.DEBUG)  # choose INFO, DEBUG to see the log"
   ]
  },
  {
   "cell_type": "code",
   "execution_count": 71,
   "metadata": {},
   "outputs": [],
   "source": [
    "import pandas as pd\n",
    "\n",
    "# Read stuff\n",
    "df = pd.read_csv('breast-cancer.data', header=None, \n",
    "                 names=['target','age', 'menopause', 'tumor-size','inv-nodes','node-caps','deg-malig','breast','breast-quad', 'irradiat'])"
   ]
  },
  {
   "cell_type": "code",
   "execution_count": 75,
   "metadata": {},
   "outputs": [],
   "source": [
    "df['node-caps'] = df['node-caps'].replace('?','no')"
   ]
  },
  {
   "cell_type": "code",
   "execution_count": 76,
   "metadata": {},
   "outputs": [],
   "source": [
    "from sklearn import preprocessing\n",
    "\n",
    "# Encode to number\n",
    "for col in df.columns:\n",
    "    le = preprocessing.LabelEncoder().fit(df[col])\n",
    "    df[col] = le.transform(df[col])\n",
    "#     df[col] -= df[col].min()"
   ]
  },
  {
   "cell_type": "code",
   "execution_count": 4,
   "metadata": {},
   "outputs": [],
   "source": [
    "# Split data and target\n",
    "df_data = df.drop(['target'], axis=1)\n",
    "y = df.target"
   ]
  },
  {
   "cell_type": "code",
   "execution_count": 5,
   "metadata": {},
   "outputs": [],
   "source": [
    "from sklearn.model_selection import train_test_split\n",
    "\n",
    "np.random.seed(123123)\n",
    "\n",
    "# Split train, test\n",
    "df_train, df_test, y_train, y_test = train_test_split(df_data, y.values, test_size=0.2)"
   ]
  },
  {
   "cell_type": "code",
   "execution_count": 6,
   "metadata": {},
   "outputs": [
    {
     "data": {
      "text/plain": [
       "RandomForestClassifier(bootstrap=True, ccp_alpha=0.0, class_weight=None,\n",
       "                       criterion='gini', max_depth=None, max_features='auto',\n",
       "                       max_leaf_nodes=None, max_samples=None,\n",
       "                       min_impurity_decrease=0.0, min_impurity_split=None,\n",
       "                       min_samples_leaf=1, min_samples_split=2,\n",
       "                       min_weight_fraction_leaf=0.0, n_estimators=100,\n",
       "                       n_jobs=None, oob_score=False, random_state=None,\n",
       "                       verbose=0, warm_start=False)"
      ]
     },
     "execution_count": 6,
     "metadata": {},
     "output_type": "execute_result"
    }
   ],
   "source": [
    "from sklearn.ensemble import RandomForestClassifier\n",
    "\n",
    "model = RandomForestClassifier()\n",
    "\n",
    "model.fit(df_train, y_train)"
   ]
  },
  {
   "cell_type": "code",
   "execution_count": 7,
   "metadata": {},
   "outputs": [
    {
     "data": {
      "text/plain": [
       "0.7758620689655172"
      ]
     },
     "execution_count": 7,
     "metadata": {},
     "output_type": "execute_result"
    }
   ],
   "source": [
    "# Test score\n",
    "model.score(df_test, y_test)"
   ]
  },
  {
   "cell_type": "code",
   "execution_count": 8,
   "metadata": {},
   "outputs": [
    {
     "data": {
      "text/plain": [
       "0.38095238095238093"
      ]
     },
     "execution_count": 8,
     "metadata": {},
     "output_type": "execute_result"
    }
   ],
   "source": [
    "# F1 score \n",
    "from sklearn.metrics import f1_score\n",
    "\n",
    "f1_score(y_test, model.predict(df_test))"
   ]
  },
  {
   "cell_type": "code",
   "execution_count": 24,
   "metadata": {},
   "outputs": [
    {
     "data": {
      "text/plain": [
       "<BarContainer object of 9 artists>"
      ]
     },
     "execution_count": 24,
     "metadata": {},
     "output_type": "execute_result"
    },
    {
     "data": {
      "image/png": "[encoded data removed]",
      "text/plain": [
       "<Figure size 720x576 with 1 Axes>"
      ]
     },
     "metadata": {},
     "output_type": "display_data"
    }
   ],
   "source": [
    "plt.figure(figsize=(10,8))\n",
    "plt.bar(df_train.columns, model.feature_importances_)"
   ]
  },
  {
   "cell_type": "code",
   "execution_count": 26,
   "metadata": {},
   "outputs": [
    {
     "data": {
      "text/plain": [
       "(array([0.12222525, 0.05144052, 0.22701127, 0.11779203, 0.06701973,\n",
       "        0.14152408, 0.07582772, 0.14380064, 0.05335876]),\n",
       " Index(['target', 'age', 'menopause', 'tumor-size', 'inv-nodes', 'node-caps',\n",
       "        'deg-malig', 'breast', 'breast-quad', 'irradiat'],\n",
       "       dtype='object'))"
      ]
     },
     "execution_count": 26,
     "metadata": {},
     "output_type": "execute_result"
    }
   ],
   "source": [
    "model.feature_importances_, df.columns"
   ]
  },
  {
   "cell_type": "code",
   "execution_count": 27,
   "metadata": {},
   "outputs": [
    {
     "data": {
      "text/plain": [
       "[(0.05144052101705978, 'menopause'),\n",
       " (0.05335876285411533, 'irradiat'),\n",
       " (0.06701972831495569, 'node-caps'),\n",
       " (0.07582771566262014, 'breast'),\n",
       " (0.11779202900523383, 'inv-nodes'),\n",
       " (0.12222525146589018, 'age'),\n",
       " (0.14152408042402692, 'deg-malig'),\n",
       " (0.14380063680104352, 'breast-quad'),\n",
       " (0.22701127445505473, 'tumor-size')]"
      ]
     },
     "execution_count": 27,
     "metadata": {},
     "output_type": "execute_result"
    }
   ],
   "source": [
    "sorted(zip(model.feature_importances_, df_data.columns))"
   ]
  },
  {
   "cell_type": "code",
   "execution_count": 28,
   "metadata": {},
   "outputs": [
    {
     "data": {
      "text/plain": [
       "['menopause',\n",
       " 'irradiat',\n",
       " 'node-caps',\n",
       " 'breast',\n",
       " 'inv-nodes',\n",
       " 'age',\n",
       " 'deg-malig',\n",
       " 'breast-quad',\n",
       " 'tumor-size']"
      ]
     },
     "execution_count": 28,
     "metadata": {},
     "output_type": "execute_result"
    }
   ],
   "source": [
    "[x[1] for x in sorted(zip(model.feature_importances_, df_data.columns), reverse=False)]"
   ]
  },
  {
   "cell_type": "markdown",
   "metadata": {},
   "source": [
    "# Quantum dude"
   ]
  },
  {
   "cell_type": "code",
   "execution_count": 77,
   "metadata": {},
   "outputs": [],
   "source": [
    "# Get most important col\n",
    "# n columns\n",
    "col_num = 4\n",
    "# mvp_col = [x[1] for x in sorted(zip(model.feature_importances_, df_data.columns), reverse=True)[:col_num]]\n",
    "# Rudy features\n",
    "mvp_col = ['tumor-size', 'node-caps', 'deg-malig', 'menopause']"
   ]
  },
  {
   "cell_type": "code",
   "execution_count": 32,
   "metadata": {},
   "outputs": [
    {
     "data": {
      "text/plain": [
       "['tumor-size', 'breast-quad', 'deg-malig', 'age']"
      ]
     },
     "execution_count": 32,
     "metadata": {},
     "output_type": "execute_result"
    }
   ],
   "source": [
    "mvp_col"
   ]
  },
  {
   "cell_type": "code",
   "execution_count": 91,
   "metadata": {},
   "outputs": [],
   "source": [
    "# Get only MVP columns\n",
    "\n",
    "df_train_q = df_train[mvp_col].values\n",
    "df_test_q = df_test[mvp_col].values"
   ]
  },
  {
   "cell_type": "code",
   "execution_count": 92,
   "metadata": {},
   "outputs": [],
   "source": [
    "from qiskit import IBMQ\n",
    "provider = IBMQ.load_account()"
   ]
  },
  {
   "cell_type": "code",
   "execution_count": 149,
   "metadata": {},
   "outputs": [],
   "source": [
    "# Choose balance 50 sample\n",
    "# 25 pos, 25 neg\n",
    "\n",
    "np.random.seed(777)\n",
    "\n",
    "pos_sample = 30\n",
    "neg_sample = 30\n",
    "\n",
    "pos_label = np.argwhere(y_train == 1).reshape([-1])\n",
    "chosen_pos_label_idx = pos_label[np.random.permutation(len(pos_label))[:pos_sample]]\n",
    "\n",
    "neg_label = np.argwhere(y_train == 0).reshape([-1])\n",
    "chosen_neg_label_idx = neg_label[np.random.permutation(len(neg_label))[:neg_sample]]\n",
    "\n",
    "# Construct dict to feed QSVM\n",
    "training_input = {\n",
    "    0: df_train_q[chosen_neg_label_idx],\n",
    "    1: df_train_q[chosen_pos_label_idx]\n",
    "}\n",
    "\n",
    "test_input = {\n",
    "    0: df_test_q[y_test == 0],\n",
    "    1: df_test_q[y_test == 1]\n",
    "}\n",
    "\n"
   ]
  },
  {
   "cell_type": "code",
   "execution_count": 93,
   "metadata": {},
   "outputs": [],
   "source": [
    "def double(x):\n",
    "    return np.concatenate([x, x], axis=0)\n",
    "\n",
    "# len(double(df_train_encode[y_train == 0]))"
   ]
  },
  {
   "cell_type": "code",
   "execution_count": 94,
   "metadata": {},
   "outputs": [],
   "source": [
    "training_input = {\n",
    "    0: df_train_q[y_train == 0],\n",
    "    1: double(df_train_q[y_train == 1])\n",
    "}\n",
    "\n",
    "test_input = {\n",
    "    0: df_test_q[y_test == 0],\n",
    "    1: df_test_q[y_test == 1]\n",
    "}"
   ]
  },
  {
   "cell_type": "code",
   "execution_count": 16,
   "metadata": {
    "scrolled": true
   },
   "outputs": [
    {
     "data": {
      "text/plain": [
       "(142, 3)"
      ]
     },
     "execution_count": 16,
     "metadata": {},
     "output_type": "execute_result"
    }
   ],
   "source": [
    "training_input[1].shape"
   ]
  },
  {
   "cell_type": "code",
   "execution_count": 95,
   "metadata": {
    "scrolled": true
   },
   "outputs": [
    {
     "name": "stderr",
     "output_type": "stream",
     "text": [
      "/Users/barnrang/miniconda3/envs/liigo/lib/python3.6/site-packages/ipykernel_launcher.py:11: DeprecationWarning: The qiskit.aqua.components.variational_forms.RYRZ object is deprecated as of 0.7.0 and will be removed no sooner than 3 months after the release. You should use qiskit.circuit.library.EfficientSU2 (uses CX entangling) or qiskit.circuit.library.TwoLocal instead.\n",
      "  # This is added back by InteractiveShellApp.init_path()\n",
      "/Users/barnrang/miniconda3/envs/liigo/lib/python3.6/site-packages/ipykernel_launcher.py:15: DeprecationWarning: \n",
      "            The <class 'qiskit.circuit.library.data_preparation.zz_feature_map.ZZFeatureMap'> object as input for the VQC is deprecated as of 0.7.0 and will\n",
      "            be removed no earlier than 3 months after the release.\n",
      "            You should pass a QuantumCircuit object instead.\n",
      "            See also qiskit.circuit.library.n_local for a collection\n",
      "            of suitable circuits.\n",
      "  from ipykernel import kernelapp as app\n",
      "2020-07-09 12:09:40,201:qiskit.aqua.quantum_instance:INFO: \n",
      "Qiskit Terra version: 0.14.1\n",
      "Backend: 'qasm_simulator (BasicAer)', with following setting:\n",
      "{'basis_gates': ['u1', 'u2', 'u3', 'cx', 'id', 'unitary'], 'coupling_map': None}\n",
      "{'pass_manager': None, 'initial_layout': None, 'seed_transpiler': 10598, 'optimization_level': 3}\n",
      "RunConfig(max_credits=10, seed_simulator=10598, shots=1024)\n",
      "{'timeout': None}\n",
      "{}\n",
      "{}\n",
      "Measurement mitigation: None\n",
      "2020-07-09 12:09:40,202:qiskit.aqua.algorithms.vq_algorithm:INFO: Starting optimizer.\n",
      "bounds=[(-3.141592653589793, 3.141592653589793), (-3.141592653589793, 3.141592653589793), (-3.141592653589793, 3.141592653589793), (-3.141592653589793, 3.141592653589793), (-3.141592653589793, 3.141592653589793), (-3.141592653589793, 3.141592653589793), (-3.141592653589793, 3.141592653589793), (-3.141592653589793, 3.141592653589793), (-3.141592653589793, 3.141592653589793), (-3.141592653589793, 3.141592653589793), (-3.141592653589793, 3.141592653589793), (-3.141592653589793, 3.141592653589793), (-3.141592653589793, 3.141592653589793), (-3.141592653589793, 3.141592653589793), (-3.141592653589793, 3.141592653589793), (-3.141592653589793, 3.141592653589793), (-3.141592653589793, 3.141592653589793), (-3.141592653589793, 3.141592653589793), (-3.141592653589793, 3.141592653589793), (-3.141592653589793, 3.141592653589793)]\n",
      "initial point=[-0.43179819  0.04421391  0.80913711 -1.63165589 -0.53634283 -0.40939601\n",
      " -1.38044654  0.67524625  0.0609718  -1.1354776   0.70422145  0.01309156\n",
      "  0.85840764  1.06223651 -0.11287814 -1.14444195 -0.19933513 -0.45563626\n",
      "  0.14788693 -0.00843268]\n",
      "2020-07-09 12:09:40,208:qiskit.aqua.components.optimizers.optimizer:DEBUG: WARNING: SPSA does not support bounds. It will be ignored.\n",
      "2020-07-09 12:09:40,211:qiskit.aqua.components.optimizers.spsa:DEBUG: Parameters: [0.62831853 0.1        0.602      0.101      0.        ]\n",
      "2020-07-09 12:09:40,213:qiskit.aqua.components.optimizers.spsa:DEBUG: Calibration...\n",
      "2020-07-09 12:09:40,216:qiskit.aqua.components.optimizers.spsa:DEBUG: calibration step # 0 of 20\n",
      "2020-07-09 12:09:47,929:qiskit.aqua.algorithms.classifiers.vqc:DEBUG: Intermediate batch cost: 0.7325357472497794\n",
      "2020-07-09 12:09:54,510:qiskit.aqua.algorithms.classifiers.vqc:DEBUG: Intermediate batch cost: 0.7215133569677721\n",
      "2020-07-09 12:10:00,991:qiskit.aqua.algorithms.classifiers.vqc:DEBUG: Intermediate batch cost: 0.7295330789245339\n",
      "2020-07-09 12:10:07,924:qiskit.aqua.algorithms.classifiers.vqc:DEBUG: Intermediate batch cost: 0.728231510020377\n",
      "2020-07-09 12:10:14,304:qiskit.aqua.algorithms.classifiers.vqc:DEBUG: Intermediate batch cost: 0.7349062688117468\n",
      "2020-07-09 12:10:20,996:qiskit.aqua.algorithms.classifiers.vqc:DEBUG: Intermediate batch cost: 0.7264398919135416\n",
      "2020-07-09 12:10:27,548:qiskit.aqua.algorithms.classifiers.vqc:DEBUG: Intermediate batch cost: 0.7296361303519036\n",
      "2020-07-09 12:10:34,260:qiskit.aqua.algorithms.classifiers.vqc:DEBUG: Intermediate batch cost: 0.7232154921678482\n",
      "2020-07-09 12:10:40,693:qiskit.aqua.algorithms.classifiers.vqc:DEBUG: Intermediate batch cost: 0.7244108764813909\n",
      "2020-07-09 12:10:47,488:qiskit.aqua.algorithms.classifiers.vqc:DEBUG: Intermediate batch cost: 0.7334149932586099\n",
      "2020-07-09 12:10:47,491:qiskit.aqua.components.optimizers.spsa:DEBUG: calibration step # 5 of 20\n",
      "2020-07-09 12:10:53,806:qiskit.aqua.algorithms.classifiers.vqc:DEBUG: Intermediate batch cost: 0.7347382252669944\n",
      "2020-07-09 12:11:00,540:qiskit.aqua.algorithms.classifiers.vqc:DEBUG: Intermediate batch cost: 0.7268285110569005\n",
      "2020-07-09 12:11:07,547:qiskit.aqua.algorithms.classifiers.vqc:DEBUG: Intermediate batch cost: 0.7295111782178818\n",
      "2020-07-09 12:11:14,257:qiskit.aqua.algorithms.classifiers.vqc:DEBUG: Intermediate batch cost: 0.7257055432232684\n",
      "2020-07-09 12:11:20,588:qiskit.aqua.algorithms.classifiers.vqc:DEBUG: Intermediate batch cost: 0.7290356101471027\n",
      "2020-07-09 12:11:27,050:qiskit.aqua.algorithms.classifiers.vqc:DEBUG: Intermediate batch cost: 0.7317503578261103\n",
      "2020-07-09 12:11:33,940:qiskit.aqua.algorithms.classifiers.vqc:DEBUG: Intermediate batch cost: 0.7318283893561842\n",
      "2020-07-09 12:11:40,449:qiskit.aqua.algorithms.classifiers.vqc:DEBUG: Intermediate batch cost: 0.7326011000828495\n",
      "2020-07-09 12:11:46,887:qiskit.aqua.algorithms.classifiers.vqc:DEBUG: Intermediate batch cost: 0.728262325400996\n",
      "2020-07-09 12:11:53,302:qiskit.aqua.algorithms.classifiers.vqc:DEBUG: Intermediate batch cost: 0.7311385099305782\n",
      "2020-07-09 12:11:53,304:qiskit.aqua.components.optimizers.spsa:DEBUG: calibration step # 10 of 20\n",
      "2020-07-09 12:11:59,892:qiskit.aqua.algorithms.classifiers.vqc:DEBUG: Intermediate batch cost: 0.7265852576099937\n",
      "2020-07-09 12:12:06,912:qiskit.aqua.algorithms.classifiers.vqc:DEBUG: Intermediate batch cost: 0.7282217354502916\n",
      "2020-07-09 12:12:13,268:qiskit.aqua.algorithms.classifiers.vqc:DEBUG: Intermediate batch cost: 0.731769297801773\n",
      "2020-07-09 12:12:19,672:qiskit.aqua.algorithms.classifiers.vqc:DEBUG: Intermediate batch cost: 0.7266221912856086\n",
      "2020-07-09 12:12:26,138:qiskit.aqua.algorithms.classifiers.vqc:DEBUG: Intermediate batch cost: 0.71951689005869\n",
      "2020-07-09 12:12:32,676:qiskit.aqua.algorithms.classifiers.vqc:DEBUG: Intermediate batch cost: 0.7372451801106131\n",
      "2020-07-09 12:12:39,501:qiskit.aqua.algorithms.classifiers.vqc:DEBUG: Intermediate batch cost: 0.7363364249184325\n",
      "2020-07-09 12:12:45,855:qiskit.aqua.algorithms.classifiers.vqc:DEBUG: Intermediate batch cost: 0.7261889863259039\n",
      "2020-07-09 12:12:52,280:qiskit.aqua.algorithms.classifiers.vqc:DEBUG: Intermediate batch cost: 0.7328079675292288\n",
      "2020-07-09 12:12:58,795:qiskit.aqua.algorithms.classifiers.vqc:DEBUG: Intermediate batch cost: 0.7206620003766487\n",
      "2020-07-09 12:12:58,800:qiskit.aqua.components.optimizers.spsa:DEBUG: calibration step # 15 of 20\n",
      "2020-07-09 12:13:05,288:qiskit.aqua.algorithms.classifiers.vqc:DEBUG: Intermediate batch cost: 0.7275606403623777\n",
      "2020-07-09 12:13:11,704:qiskit.aqua.algorithms.classifiers.vqc:DEBUG: Intermediate batch cost: 0.7332033144774943\n",
      "2020-07-09 12:13:18,313:qiskit.aqua.algorithms.classifiers.vqc:DEBUG: Intermediate batch cost: 0.7284254055609113\n",
      "2020-07-09 12:13:24,658:qiskit.aqua.algorithms.classifiers.vqc:DEBUG: Intermediate batch cost: 0.7325794082707716\n",
      "2020-07-09 12:13:31,221:qiskit.aqua.algorithms.classifiers.vqc:DEBUG: Intermediate batch cost: 0.7347066049375159\n",
      "2020-07-09 12:13:38,029:qiskit.aqua.algorithms.classifiers.vqc:DEBUG: Intermediate batch cost: 0.7321743821437112\n",
      "2020-07-09 12:13:44,362:qiskit.aqua.algorithms.classifiers.vqc:DEBUG: Intermediate batch cost: 0.7318633180824794\n",
      "2020-07-09 12:13:50,901:qiskit.aqua.algorithms.classifiers.vqc:DEBUG: Intermediate batch cost: 0.7232048188671953\n",
      "2020-07-09 12:13:57,439:qiskit.aqua.algorithms.classifiers.vqc:DEBUG: Intermediate batch cost: 0.7269328573731574\n",
      "2020-07-09 12:14:03,955:qiskit.aqua.algorithms.classifiers.vqc:DEBUG: Intermediate batch cost: 0.7359234642229425\n",
      "2020-07-09 12:14:03,957:qiskit.aqua.components.optimizers.spsa:DEBUG: Calibrated SPSA parameter c0 is 19.1739744\n",
      "2020-07-09 12:14:10,484:qiskit.aqua.algorithms.classifiers.vqc:DEBUG: Intermediate batch cost: 0.7252587197581747\n",
      "2020-07-09 12:14:17,022:qiskit.aqua.algorithms.classifiers.vqc:DEBUG: Intermediate batch cost: 0.7338781368133799\n"
     ]
    },
    {
     "name": "stderr",
     "output_type": "stream",
     "text": [
      "2020-07-09 12:14:17,024:qiskit.aqua.components.optimizers.spsa:DEBUG: Objective function at theta+ for step # 0: 0.7252587\n",
      "2020-07-09 12:14:17,025:qiskit.aqua.components.optimizers.spsa:DEBUG: Objective function at theta- for step # 0: 0.7338781\n",
      "2020-07-09 12:14:23,329:qiskit.aqua.algorithms.classifiers.vqc:DEBUG: Intermediate batch cost: 0.7102901262138349\n",
      "2020-07-09 12:14:29,881:qiskit.aqua.algorithms.classifiers.vqc:DEBUG: Intermediate batch cost: 0.7046572434265648\n",
      "2020-07-09 12:14:29,882:qiskit.aqua.components.optimizers.spsa:DEBUG: Objective function at theta+ for step # 1: 0.7102901\n",
      "2020-07-09 12:14:29,883:qiskit.aqua.components.optimizers.spsa:DEBUG: Objective function at theta- for step # 1: 0.7046572\n",
      "2020-07-09 12:14:37,035:qiskit.aqua.algorithms.classifiers.vqc:DEBUG: Intermediate batch cost: 0.6955810860418654\n",
      "2020-07-09 12:14:43,406:qiskit.aqua.algorithms.classifiers.vqc:DEBUG: Intermediate batch cost: 0.7222408561627848\n",
      "2020-07-09 12:14:43,408:qiskit.aqua.components.optimizers.spsa:DEBUG: Objective function at theta+ for step # 2: 0.6955811\n",
      "2020-07-09 12:14:43,409:qiskit.aqua.components.optimizers.spsa:DEBUG: Objective function at theta- for step # 2: 0.7222409\n",
      "2020-07-09 12:14:49,830:qiskit.aqua.algorithms.classifiers.vqc:DEBUG: Intermediate batch cost: 0.6863196888060547\n",
      "2020-07-09 12:14:56,314:qiskit.aqua.algorithms.classifiers.vqc:DEBUG: Intermediate batch cost: 0.6763991828094899\n",
      "2020-07-09 12:14:56,315:qiskit.aqua.components.optimizers.spsa:DEBUG: Objective function at theta+ for step # 3: 0.6863197\n",
      "2020-07-09 12:14:56,316:qiskit.aqua.components.optimizers.spsa:DEBUG: Objective function at theta- for step # 3: 0.6763992\n",
      "2020-07-09 12:15:02,867:qiskit.aqua.algorithms.classifiers.vqc:DEBUG: Intermediate batch cost: 0.6673275594668252\n",
      "2020-07-09 12:15:09,649:qiskit.aqua.algorithms.classifiers.vqc:DEBUG: Intermediate batch cost: 0.6686947383173232\n",
      "2020-07-09 12:15:09,651:qiskit.aqua.components.optimizers.spsa:DEBUG: Objective function at theta+ for step # 4: 0.6673276\n",
      "2020-07-09 12:15:09,652:qiskit.aqua.components.optimizers.spsa:DEBUG: Objective function at theta- for step # 4: 0.6686947\n",
      "2020-07-09 12:15:15,997:qiskit.aqua.algorithms.classifiers.vqc:DEBUG: Intermediate batch cost: 0.6723722749000887\n",
      "2020-07-09 12:15:22,443:qiskit.aqua.algorithms.classifiers.vqc:DEBUG: Intermediate batch cost: 0.6666710667685654\n",
      "2020-07-09 12:15:22,444:qiskit.aqua.components.optimizers.spsa:DEBUG: Objective function at theta+ for step # 5: 0.6723723\n",
      "2020-07-09 12:15:22,445:qiskit.aqua.components.optimizers.spsa:DEBUG: Objective function at theta- for step # 5: 0.6666711\n",
      "2020-07-09 12:15:28,922:qiskit.aqua.algorithms.classifiers.vqc:DEBUG: Intermediate batch cost: 0.6795808406233563\n",
      "2020-07-09 12:15:35,383:qiskit.aqua.algorithms.classifiers.vqc:DEBUG: Intermediate batch cost: 0.6805683690411956\n",
      "2020-07-09 12:15:35,385:qiskit.aqua.components.optimizers.spsa:DEBUG: Objective function at theta+ for step # 6: 0.6795808\n",
      "2020-07-09 12:15:35,386:qiskit.aqua.components.optimizers.spsa:DEBUG: Objective function at theta- for step # 6: 0.6805684\n",
      "2020-07-09 12:15:42,212:qiskit.aqua.algorithms.classifiers.vqc:DEBUG: Intermediate batch cost: 0.6796646915804735\n",
      "2020-07-09 12:15:48,499:qiskit.aqua.algorithms.classifiers.vqc:DEBUG: Intermediate batch cost: 0.6786267089028079\n",
      "2020-07-09 12:15:48,501:qiskit.aqua.components.optimizers.spsa:DEBUG: Objective function at theta+ for step # 7: 0.6796647\n",
      "2020-07-09 12:15:48,502:qiskit.aqua.components.optimizers.spsa:DEBUG: Objective function at theta- for step # 7: 0.6786267\n",
      "2020-07-09 12:15:55,221:qiskit.aqua.algorithms.classifiers.vqc:DEBUG: Intermediate batch cost: 0.6721787219699658\n",
      "2020-07-09 12:16:01,935:qiskit.aqua.algorithms.classifiers.vqc:DEBUG: Intermediate batch cost: 0.6868577888019854\n",
      "2020-07-09 12:16:01,937:qiskit.aqua.components.optimizers.spsa:DEBUG: Objective function at theta+ for step # 8: 0.6721787\n",
      "2020-07-09 12:16:01,938:qiskit.aqua.components.optimizers.spsa:DEBUG: Objective function at theta- for step # 8: 0.6868578\n",
      "2020-07-09 12:16:08,621:qiskit.aqua.algorithms.classifiers.vqc:DEBUG: Intermediate batch cost: 0.6808733049689534\n",
      "2020-07-09 12:16:14,956:qiskit.aqua.algorithms.classifiers.vqc:DEBUG: Intermediate batch cost: 0.6790906076994175\n",
      "2020-07-09 12:16:14,958:qiskit.aqua.components.optimizers.spsa:DEBUG: Objective function at theta+ for step # 9: 0.6808733\n",
      "2020-07-09 12:16:14,959:qiskit.aqua.components.optimizers.spsa:DEBUG: Objective function at theta- for step # 9: 0.6790906\n",
      "2020-07-09 12:16:21,726:qiskit.aqua.algorithms.classifiers.vqc:DEBUG: Intermediate batch cost: 0.6832032452495858\n",
      "2020-07-09 12:16:28,232:qiskit.aqua.algorithms.classifiers.vqc:DEBUG: Intermediate batch cost: 0.6734420821941101\n",
      "2020-07-09 12:16:28,234:qiskit.aqua.components.optimizers.spsa:DEBUG: Objective function at theta+ for step # 10: 0.6832032\n",
      "2020-07-09 12:16:28,235:qiskit.aqua.components.optimizers.spsa:DEBUG: Objective function at theta- for step # 10: 0.6734421\n",
      "2020-07-09 12:16:34,819:qiskit.aqua.algorithms.classifiers.vqc:DEBUG: Intermediate batch cost: 0.6639041786386656\n",
      "2020-07-09 12:16:41,128:qiskit.aqua.algorithms.classifiers.vqc:DEBUG: Intermediate batch cost: 0.6635243710996558\n",
      "2020-07-09 12:16:41,130:qiskit.aqua.components.optimizers.spsa:DEBUG: Objective function at theta+ for step # 11: 0.6639042\n",
      "2020-07-09 12:16:41,131:qiskit.aqua.components.optimizers.spsa:DEBUG: Objective function at theta- for step # 11: 0.6635244\n",
      "2020-07-09 12:16:47,945:qiskit.aqua.algorithms.classifiers.vqc:DEBUG: Intermediate batch cost: 0.6685124269874029\n",
      "2020-07-09 12:16:54,209:qiskit.aqua.algorithms.classifiers.vqc:DEBUG: Intermediate batch cost: 0.6563204392797894\n",
      "2020-07-09 12:16:54,211:qiskit.aqua.components.optimizers.spsa:DEBUG: Objective function at theta+ for step # 12: 0.6685124\n",
      "2020-07-09 12:16:54,212:qiskit.aqua.components.optimizers.spsa:DEBUG: Objective function at theta- for step # 12: 0.6563204\n",
      "2020-07-09 12:17:00,707:qiskit.aqua.algorithms.classifiers.vqc:DEBUG: Intermediate batch cost: 0.6762082520274703\n",
      "2020-07-09 12:17:07,124:qiskit.aqua.algorithms.classifiers.vqc:DEBUG: Intermediate batch cost: 0.6808255008509702\n",
      "2020-07-09 12:17:07,126:qiskit.aqua.components.optimizers.spsa:DEBUG: Objective function at theta+ for step # 13: 0.6762083\n",
      "2020-07-09 12:17:07,127:qiskit.aqua.components.optimizers.spsa:DEBUG: Objective function at theta- for step # 13: 0.6808255\n",
      "2020-07-09 12:17:13,573:qiskit.aqua.algorithms.classifiers.vqc:DEBUG: Intermediate batch cost: 0.6735257434512918\n",
      "2020-07-09 12:17:20,119:qiskit.aqua.algorithms.classifiers.vqc:DEBUG: Intermediate batch cost: 0.6841658783725008\n",
      "2020-07-09 12:17:20,121:qiskit.aqua.components.optimizers.spsa:DEBUG: Objective function at theta+ for step # 14: 0.6735257\n",
      "2020-07-09 12:17:20,122:qiskit.aqua.components.optimizers.spsa:DEBUG: Objective function at theta- for step # 14: 0.6841659\n",
      "2020-07-09 12:17:27,062:qiskit.aqua.algorithms.classifiers.vqc:DEBUG: Intermediate batch cost: 0.6702660403337793\n",
      "2020-07-09 12:17:33,492:qiskit.aqua.algorithms.classifiers.vqc:DEBUG: Intermediate batch cost: 0.6748531760155214\n",
      "2020-07-09 12:17:33,494:qiskit.aqua.components.optimizers.spsa:DEBUG: Objective function at theta+ for step # 15: 0.6702660\n",
      "2020-07-09 12:17:33,495:qiskit.aqua.components.optimizers.spsa:DEBUG: Objective function at theta- for step # 15: 0.6748532\n",
      "2020-07-09 12:17:39,977:qiskit.aqua.algorithms.classifiers.vqc:DEBUG: Intermediate batch cost: 0.6667213523461069\n",
      "2020-07-09 12:17:46,381:qiskit.aqua.algorithms.classifiers.vqc:DEBUG: Intermediate batch cost: 0.6748957874435922\n",
      "2020-07-09 12:17:46,383:qiskit.aqua.components.optimizers.spsa:DEBUG: Objective function at theta+ for step # 16: 0.6667214\n",
      "2020-07-09 12:17:46,384:qiskit.aqua.components.optimizers.spsa:DEBUG: Objective function at theta- for step # 16: 0.6748958\n",
      "2020-07-09 12:17:52,788:qiskit.aqua.algorithms.classifiers.vqc:DEBUG: Intermediate batch cost: 0.6758640683510218\n",
      "2020-07-09 12:17:59,481:qiskit.aqua.algorithms.classifiers.vqc:DEBUG: Intermediate batch cost: 0.6777103078252954\n",
      "2020-07-09 12:17:59,483:qiskit.aqua.components.optimizers.spsa:DEBUG: Objective function at theta+ for step # 17: 0.6758641\n"
     ]
    },
    {
     "name": "stderr",
     "output_type": "stream",
     "text": [
      "2020-07-09 12:17:59,484:qiskit.aqua.components.optimizers.spsa:DEBUG: Objective function at theta- for step # 17: 0.6777103\n",
      "2020-07-09 12:18:06,320:qiskit.aqua.algorithms.classifiers.vqc:DEBUG: Intermediate batch cost: 0.6763434357382767\n",
      "2020-07-09 12:18:12,706:qiskit.aqua.algorithms.classifiers.vqc:DEBUG: Intermediate batch cost: 0.6790748183543264\n",
      "2020-07-09 12:18:12,708:qiskit.aqua.components.optimizers.spsa:DEBUG: Objective function at theta+ for step # 18: 0.6763434\n",
      "2020-07-09 12:18:12,709:qiskit.aqua.components.optimizers.spsa:DEBUG: Objective function at theta- for step # 18: 0.6790748\n",
      "2020-07-09 12:18:19,191:qiskit.aqua.algorithms.classifiers.vqc:DEBUG: Intermediate batch cost: 0.6789774779245561\n",
      "2020-07-09 12:18:25,698:qiskit.aqua.algorithms.classifiers.vqc:DEBUG: Intermediate batch cost: 0.6780386880819181\n",
      "2020-07-09 12:18:25,700:qiskit.aqua.components.optimizers.spsa:DEBUG: Objective function at theta+ for step # 19: 0.6789775\n",
      "2020-07-09 12:18:25,701:qiskit.aqua.components.optimizers.spsa:DEBUG: Objective function at theta- for step # 19: 0.6780387\n",
      "2020-07-09 12:18:32,104:qiskit.aqua.algorithms.classifiers.vqc:DEBUG: Intermediate batch cost: 0.6726374344249428\n",
      "2020-07-09 12:18:38,654:qiskit.aqua.algorithms.classifiers.vqc:DEBUG: Intermediate batch cost: 0.6767985733419739\n",
      "2020-07-09 12:18:38,656:qiskit.aqua.components.optimizers.spsa:DEBUG: Objective function at theta+ for step # 20: 0.6726374\n",
      "2020-07-09 12:18:38,657:qiskit.aqua.components.optimizers.spsa:DEBUG: Objective function at theta- for step # 20: 0.6767986\n",
      "2020-07-09 12:18:45,364:qiskit.aqua.algorithms.classifiers.vqc:DEBUG: Intermediate batch cost: 0.6690138060116793\n",
      "2020-07-09 12:18:51,717:qiskit.aqua.algorithms.classifiers.vqc:DEBUG: Intermediate batch cost: 0.6768857709806462\n",
      "2020-07-09 12:18:51,719:qiskit.aqua.components.optimizers.spsa:DEBUG: Objective function at theta+ for step # 21: 0.6690138\n",
      "2020-07-09 12:18:51,720:qiskit.aqua.components.optimizers.spsa:DEBUG: Objective function at theta- for step # 21: 0.6768858\n",
      "2020-07-09 12:18:58,185:qiskit.aqua.algorithms.classifiers.vqc:DEBUG: Intermediate batch cost: 0.6644130094683981\n",
      "2020-07-09 12:19:04,585:qiskit.aqua.algorithms.classifiers.vqc:DEBUG: Intermediate batch cost: 0.6767573487483578\n",
      "2020-07-09 12:19:04,587:qiskit.aqua.components.optimizers.spsa:DEBUG: Objective function at theta+ for step # 22: 0.6644130\n",
      "2020-07-09 12:19:04,588:qiskit.aqua.components.optimizers.spsa:DEBUG: Objective function at theta- for step # 22: 0.6767573\n",
      "2020-07-09 12:19:11,119:qiskit.aqua.algorithms.classifiers.vqc:DEBUG: Intermediate batch cost: 0.6622204710182847\n",
      "2020-07-09 12:19:17,668:qiskit.aqua.algorithms.classifiers.vqc:DEBUG: Intermediate batch cost: 0.666407087431547\n",
      "2020-07-09 12:19:17,670:qiskit.aqua.components.optimizers.spsa:DEBUG: Objective function at theta+ for step # 23: 0.6622205\n",
      "2020-07-09 12:19:17,671:qiskit.aqua.components.optimizers.spsa:DEBUG: Objective function at theta- for step # 23: 0.6664071\n",
      "2020-07-09 12:19:24,427:qiskit.aqua.algorithms.classifiers.vqc:DEBUG: Intermediate batch cost: 0.6598529010718658\n",
      "2020-07-09 12:19:30,927:qiskit.aqua.algorithms.classifiers.vqc:DEBUG: Intermediate batch cost: 0.6640299866255737\n",
      "2020-07-09 12:19:30,929:qiskit.aqua.components.optimizers.spsa:DEBUG: Objective function at theta+ for step # 24: 0.6598529\n",
      "2020-07-09 12:19:30,930:qiskit.aqua.components.optimizers.spsa:DEBUG: Objective function at theta- for step # 24: 0.6640300\n",
      "2020-07-09 12:19:38,173:qiskit.aqua.algorithms.classifiers.vqc:DEBUG: Intermediate batch cost: 0.6765849122408799\n",
      "2020-07-09 12:19:45,096:qiskit.aqua.algorithms.classifiers.vqc:DEBUG: Intermediate batch cost: 0.6505450320684762\n",
      "2020-07-09 12:19:45,098:qiskit.aqua.components.optimizers.spsa:DEBUG: Objective function at theta+ for step # 25: 0.6765849\n",
      "2020-07-09 12:19:45,099:qiskit.aqua.components.optimizers.spsa:DEBUG: Objective function at theta- for step # 25: 0.6505450\n",
      "2020-07-09 12:19:51,503:qiskit.aqua.algorithms.classifiers.vqc:DEBUG: Intermediate batch cost: 0.6726045573046953\n",
      "2020-07-09 12:19:58,189:qiskit.aqua.algorithms.classifiers.vqc:DEBUG: Intermediate batch cost: 0.6740636769172093\n",
      "2020-07-09 12:19:58,190:qiskit.aqua.components.optimizers.spsa:DEBUG: Objective function at theta+ for step # 26: 0.6726046\n",
      "2020-07-09 12:19:58,191:qiskit.aqua.components.optimizers.spsa:DEBUG: Objective function at theta- for step # 26: 0.6740637\n",
      "2020-07-09 12:20:05,116:qiskit.aqua.algorithms.classifiers.vqc:DEBUG: Intermediate batch cost: 0.6692143335663401\n",
      "2020-07-09 12:20:11,502:qiskit.aqua.algorithms.classifiers.vqc:DEBUG: Intermediate batch cost: 0.6767305182696745\n",
      "2020-07-09 12:20:11,504:qiskit.aqua.components.optimizers.spsa:DEBUG: Objective function at theta+ for step # 27: 0.6692143\n",
      "2020-07-09 12:20:11,505:qiskit.aqua.components.optimizers.spsa:DEBUG: Objective function at theta- for step # 27: 0.6767305\n",
      "2020-07-09 12:20:17,968:qiskit.aqua.algorithms.classifiers.vqc:DEBUG: Intermediate batch cost: 0.6742397265788004\n",
      "2020-07-09 12:20:24,348:qiskit.aqua.algorithms.classifiers.vqc:DEBUG: Intermediate batch cost: 0.6638059354736979\n",
      "2020-07-09 12:20:24,349:qiskit.aqua.components.optimizers.spsa:DEBUG: Objective function at theta+ for step # 28: 0.6742397\n",
      "2020-07-09 12:20:24,350:qiskit.aqua.components.optimizers.spsa:DEBUG: Objective function at theta- for step # 28: 0.6638059\n",
      "2020-07-09 12:20:30,796:qiskit.aqua.algorithms.classifiers.vqc:DEBUG: Intermediate batch cost: 0.6613890591522483\n",
      "2020-07-09 12:20:37,335:qiskit.aqua.algorithms.classifiers.vqc:DEBUG: Intermediate batch cost: 0.6771161942703097\n",
      "2020-07-09 12:20:37,337:qiskit.aqua.components.optimizers.spsa:DEBUG: Objective function at theta+ for step # 29: 0.6613891\n",
      "2020-07-09 12:20:37,338:qiskit.aqua.components.optimizers.spsa:DEBUG: Objective function at theta- for step # 29: 0.6771162\n",
      "2020-07-09 12:20:44,121:qiskit.aqua.algorithms.classifiers.vqc:DEBUG: Intermediate batch cost: 0.6639778535076231\n",
      "2020-07-09 12:20:50,473:qiskit.aqua.algorithms.classifiers.vqc:DEBUG: Intermediate batch cost: 0.6588918438144364\n",
      "2020-07-09 12:20:50,474:qiskit.aqua.components.optimizers.spsa:DEBUG: Objective function at theta+ for step # 30: 0.6639779\n",
      "2020-07-09 12:20:50,475:qiskit.aqua.components.optimizers.spsa:DEBUG: Objective function at theta- for step # 30: 0.6588918\n",
      "2020-07-09 12:20:56,914:qiskit.aqua.algorithms.classifiers.vqc:DEBUG: Intermediate batch cost: 0.6571487841599208\n",
      "2020-07-09 12:21:03,440:qiskit.aqua.algorithms.classifiers.vqc:DEBUG: Intermediate batch cost: 0.6604122466821071\n",
      "2020-07-09 12:21:03,442:qiskit.aqua.components.optimizers.spsa:DEBUG: Objective function at theta+ for step # 31: 0.6571488\n",
      "2020-07-09 12:21:03,443:qiskit.aqua.components.optimizers.spsa:DEBUG: Objective function at theta- for step # 31: 0.6604122\n",
      "2020-07-09 12:21:09,972:qiskit.aqua.algorithms.classifiers.vqc:DEBUG: Intermediate batch cost: 0.6600057569656126\n",
      "2020-07-09 12:21:16,478:qiskit.aqua.algorithms.classifiers.vqc:DEBUG: Intermediate batch cost: 0.6549640692593215\n",
      "2020-07-09 12:21:16,480:qiskit.aqua.components.optimizers.spsa:DEBUG: Objective function at theta+ for step # 32: 0.6600058\n",
      "2020-07-09 12:21:16,481:qiskit.aqua.components.optimizers.spsa:DEBUG: Objective function at theta- for step # 32: 0.6549641\n",
      "2020-07-09 12:21:23,288:qiskit.aqua.algorithms.classifiers.vqc:DEBUG: Intermediate batch cost: 0.66122234747497\n",
      "2020-07-09 12:21:29,615:qiskit.aqua.algorithms.classifiers.vqc:DEBUG: Intermediate batch cost: 0.6595606477918863\n",
      "2020-07-09 12:21:29,617:qiskit.aqua.components.optimizers.spsa:DEBUG: Objective function at theta+ for step # 33: 0.6612223\n",
      "2020-07-09 12:21:29,618:qiskit.aqua.components.optimizers.spsa:DEBUG: Objective function at theta- for step # 33: 0.6595606\n",
      "2020-07-09 12:21:36,080:qiskit.aqua.algorithms.classifiers.vqc:DEBUG: Intermediate batch cost: 0.6592226087868267\n",
      "2020-07-09 12:21:42,452:qiskit.aqua.algorithms.classifiers.vqc:DEBUG: Intermediate batch cost: 0.6566000988493993\n",
      "2020-07-09 12:21:42,454:qiskit.aqua.components.optimizers.spsa:DEBUG: Objective function at theta+ for step # 34: 0.6592226\n",
      "2020-07-09 12:21:42,455:qiskit.aqua.components.optimizers.spsa:DEBUG: Objective function at theta- for step # 34: 0.6566001\n"
     ]
    },
    {
     "name": "stderr",
     "output_type": "stream",
     "text": [
      "2020-07-09 12:21:48,858:qiskit.aqua.algorithms.classifiers.vqc:DEBUG: Intermediate batch cost: 0.6642187798551379\n",
      "2020-07-09 12:21:55,381:qiskit.aqua.algorithms.classifiers.vqc:DEBUG: Intermediate batch cost: 0.654202279903718\n",
      "2020-07-09 12:21:55,383:qiskit.aqua.components.optimizers.spsa:DEBUG: Objective function at theta+ for step # 35: 0.6642188\n",
      "2020-07-09 12:21:55,383:qiskit.aqua.components.optimizers.spsa:DEBUG: Objective function at theta- for step # 35: 0.6542023\n",
      "2020-07-09 12:22:02,292:qiskit.aqua.algorithms.classifiers.vqc:DEBUG: Intermediate batch cost: 0.6646616714602106\n",
      "2020-07-09 12:22:08,633:qiskit.aqua.algorithms.classifiers.vqc:DEBUG: Intermediate batch cost: 0.6534191847183893\n",
      "2020-07-09 12:22:08,635:qiskit.aqua.components.optimizers.spsa:DEBUG: Objective function at theta+ for step # 36: 0.6646617\n",
      "2020-07-09 12:22:08,636:qiskit.aqua.components.optimizers.spsa:DEBUG: Objective function at theta- for step # 36: 0.6534192\n",
      "2020-07-09 12:22:15,089:qiskit.aqua.algorithms.classifiers.vqc:DEBUG: Intermediate batch cost: 0.6512687588623733\n",
      "2020-07-09 12:22:21,513:qiskit.aqua.algorithms.classifiers.vqc:DEBUG: Intermediate batch cost: 0.6492707654434783\n",
      "2020-07-09 12:22:21,515:qiskit.aqua.components.optimizers.spsa:DEBUG: Objective function at theta+ for step # 37: 0.6512688\n",
      "2020-07-09 12:22:21,516:qiskit.aqua.components.optimizers.spsa:DEBUG: Objective function at theta- for step # 37: 0.6492708\n",
      "2020-07-09 12:22:27,955:qiskit.aqua.algorithms.classifiers.vqc:DEBUG: Intermediate batch cost: 0.6492000102666065\n",
      "2020-07-09 12:22:34,526:qiskit.aqua.algorithms.classifiers.vqc:DEBUG: Intermediate batch cost: 0.6462750290181684\n",
      "2020-07-09 12:22:34,528:qiskit.aqua.components.optimizers.spsa:DEBUG: Objective function at theta+ for step # 38: 0.6492000\n",
      "2020-07-09 12:22:34,529:qiskit.aqua.components.optimizers.spsa:DEBUG: Objective function at theta- for step # 38: 0.6462750\n",
      "2020-07-09 12:22:41,279:qiskit.aqua.algorithms.classifiers.vqc:DEBUG: Intermediate batch cost: 0.646062956598424\n",
      "2020-07-09 12:22:47,618:qiskit.aqua.algorithms.classifiers.vqc:DEBUG: Intermediate batch cost: 0.6551756343368339\n",
      "2020-07-09 12:22:47,620:qiskit.aqua.components.optimizers.spsa:DEBUG: Objective function at theta+ for step # 39: 0.6460630\n",
      "2020-07-09 12:22:47,621:qiskit.aqua.components.optimizers.spsa:DEBUG: Objective function at theta- for step # 39: 0.6551756\n",
      "2020-07-09 12:22:54,075:qiskit.aqua.algorithms.classifiers.vqc:DEBUG: Intermediate batch cost: 0.6509591632344691\n",
      "2020-07-09 12:23:00,839:qiskit.aqua.algorithms.classifiers.vqc:DEBUG: Intermediate batch cost: 0.6487027256455528\n",
      "2020-07-09 12:23:00,841:qiskit.aqua.components.optimizers.spsa:DEBUG: Objective function at theta+ for step # 40: 0.6509592\n",
      "2020-07-09 12:23:00,842:qiskit.aqua.components.optimizers.spsa:DEBUG: Objective function at theta- for step # 40: 0.6487027\n",
      "2020-07-09 12:23:07,374:qiskit.aqua.algorithms.classifiers.vqc:DEBUG: Intermediate batch cost: 0.6524566176549227\n",
      "2020-07-09 12:23:13,981:qiskit.aqua.algorithms.classifiers.vqc:DEBUG: Intermediate batch cost: 0.6476974186852646\n",
      "2020-07-09 12:23:13,983:qiskit.aqua.components.optimizers.spsa:DEBUG: Objective function at theta+ for step # 41: 0.6524566\n",
      "2020-07-09 12:23:13,984:qiskit.aqua.components.optimizers.spsa:DEBUG: Objective function at theta- for step # 41: 0.6476974\n",
      "2020-07-09 12:23:20,865:qiskit.aqua.algorithms.classifiers.vqc:DEBUG: Intermediate batch cost: 0.647972292078903\n",
      "2020-07-09 12:23:27,372:qiskit.aqua.algorithms.classifiers.vqc:DEBUG: Intermediate batch cost: 0.6521708849746048\n",
      "2020-07-09 12:23:27,374:qiskit.aqua.components.optimizers.spsa:DEBUG: Objective function at theta+ for step # 42: 0.6479723\n",
      "2020-07-09 12:23:27,375:qiskit.aqua.components.optimizers.spsa:DEBUG: Objective function at theta- for step # 42: 0.6521709\n",
      "2020-07-09 12:23:33,838:qiskit.aqua.algorithms.classifiers.vqc:DEBUG: Intermediate batch cost: 0.648919184159687\n",
      "2020-07-09 12:23:40,267:qiskit.aqua.algorithms.classifiers.vqc:DEBUG: Intermediate batch cost: 0.6488699590612814\n",
      "2020-07-09 12:23:40,269:qiskit.aqua.components.optimizers.spsa:DEBUG: Objective function at theta+ for step # 43: 0.6489192\n",
      "2020-07-09 12:23:40,270:qiskit.aqua.components.optimizers.spsa:DEBUG: Objective function at theta- for step # 43: 0.6488700\n",
      "2020-07-09 12:23:46,725:qiskit.aqua.algorithms.classifiers.vqc:DEBUG: Intermediate batch cost: 0.6490350567228264\n",
      "2020-07-09 12:23:53,193:qiskit.aqua.algorithms.classifiers.vqc:DEBUG: Intermediate batch cost: 0.6479716437347874\n",
      "2020-07-09 12:23:53,195:qiskit.aqua.components.optimizers.spsa:DEBUG: Objective function at theta+ for step # 44: 0.6490351\n",
      "2020-07-09 12:23:53,196:qiskit.aqua.components.optimizers.spsa:DEBUG: Objective function at theta- for step # 44: 0.6479716\n",
      "2020-07-09 12:24:00,302:qiskit.aqua.algorithms.classifiers.vqc:DEBUG: Intermediate batch cost: 0.6479082256207495\n",
      "2020-07-09 12:24:06,716:qiskit.aqua.algorithms.classifiers.vqc:DEBUG: Intermediate batch cost: 0.6506691365890257\n",
      "2020-07-09 12:24:06,718:qiskit.aqua.components.optimizers.spsa:DEBUG: Objective function at theta+ for step # 45: 0.6479082\n",
      "2020-07-09 12:24:06,719:qiskit.aqua.components.optimizers.spsa:DEBUG: Objective function at theta- for step # 45: 0.6506691\n",
      "2020-07-09 12:24:13,310:qiskit.aqua.algorithms.classifiers.vqc:DEBUG: Intermediate batch cost: 0.6507034264844527\n",
      "2020-07-09 12:24:19,837:qiskit.aqua.algorithms.classifiers.vqc:DEBUG: Intermediate batch cost: 0.6476003485157388\n",
      "2020-07-09 12:24:19,839:qiskit.aqua.components.optimizers.spsa:DEBUG: Objective function at theta+ for step # 46: 0.6507034\n",
      "2020-07-09 12:24:19,839:qiskit.aqua.components.optimizers.spsa:DEBUG: Objective function at theta- for step # 46: 0.6476003\n",
      "2020-07-09 12:24:26,367:qiskit.aqua.algorithms.classifiers.vqc:DEBUG: Intermediate batch cost: 0.6513391868760241\n",
      "2020-07-09 12:24:33,288:qiskit.aqua.algorithms.classifiers.vqc:DEBUG: Intermediate batch cost: 0.6436630400706865\n",
      "2020-07-09 12:24:33,290:qiskit.aqua.components.optimizers.spsa:DEBUG: Objective function at theta+ for step # 47: 0.6513392\n",
      "2020-07-09 12:24:33,291:qiskit.aqua.components.optimizers.spsa:DEBUG: Objective function at theta- for step # 47: 0.6436630\n",
      "2020-07-09 12:24:39,754:qiskit.aqua.algorithms.classifiers.vqc:DEBUG: Intermediate batch cost: 0.6447754191159437\n",
      "2020-07-09 12:24:46,183:qiskit.aqua.algorithms.classifiers.vqc:DEBUG: Intermediate batch cost: 0.6403510291200827\n",
      "2020-07-09 12:24:46,185:qiskit.aqua.components.optimizers.spsa:DEBUG: Objective function at theta+ for step # 48: 0.6447754\n",
      "2020-07-09 12:24:46,186:qiskit.aqua.components.optimizers.spsa:DEBUG: Objective function at theta- for step # 48: 0.6403510\n",
      "2020-07-09 12:24:52,651:qiskit.aqua.algorithms.classifiers.vqc:DEBUG: Intermediate batch cost: 0.642590808330874\n",
      "2020-07-09 12:24:59,728:qiskit.aqua.algorithms.classifiers.vqc:DEBUG: Intermediate batch cost: 0.6432206280626827\n",
      "2020-07-09 12:24:59,730:qiskit.aqua.components.optimizers.spsa:DEBUG: Objective function at theta+ for step # 49: 0.6425908\n",
      "2020-07-09 12:24:59,731:qiskit.aqua.components.optimizers.spsa:DEBUG: Objective function at theta- for step # 49: 0.6432206\n",
      "2020-07-09 12:25:06,066:qiskit.aqua.algorithms.classifiers.vqc:DEBUG: Intermediate batch cost: 0.641440274470172\n",
      "2020-07-09 12:25:12,496:qiskit.aqua.algorithms.classifiers.vqc:DEBUG: Intermediate batch cost: 0.6441782485123415\n",
      "2020-07-09 12:25:12,498:qiskit.aqua.components.optimizers.spsa:DEBUG: Objective function at theta+ for step # 50: 0.6414403\n",
      "2020-07-09 12:25:12,498:qiskit.aqua.components.optimizers.spsa:DEBUG: Objective function at theta- for step # 50: 0.6441782\n",
      "2020-07-09 12:25:18,940:qiskit.aqua.algorithms.classifiers.vqc:DEBUG: Intermediate batch cost: 0.6416867310726652\n",
      "2020-07-09 12:25:25,351:qiskit.aqua.algorithms.classifiers.vqc:DEBUG: Intermediate batch cost: 0.6463791867974042\n",
      "2020-07-09 12:25:25,352:qiskit.aqua.components.optimizers.spsa:DEBUG: Objective function at theta+ for step # 51: 0.6416867\n",
      "2020-07-09 12:25:25,353:qiskit.aqua.components.optimizers.spsa:DEBUG: Objective function at theta- for step # 51: 0.6463792\n",
      "2020-07-09 12:25:31,732:qiskit.aqua.algorithms.classifiers.vqc:DEBUG: Intermediate batch cost: 0.6457608053324547\n"
     ]
    },
    {
     "name": "stderr",
     "output_type": "stream",
     "text": [
      "2020-07-09 12:25:38,649:qiskit.aqua.algorithms.classifiers.vqc:DEBUG: Intermediate batch cost: 0.6416030584695963\n",
      "2020-07-09 12:25:38,651:qiskit.aqua.components.optimizers.spsa:DEBUG: Objective function at theta+ for step # 52: 0.6457608\n",
      "2020-07-09 12:25:38,652:qiskit.aqua.components.optimizers.spsa:DEBUG: Objective function at theta- for step # 52: 0.6416031\n",
      "2020-07-09 12:25:44,989:qiskit.aqua.algorithms.classifiers.vqc:DEBUG: Intermediate batch cost: 0.6431820066516291\n",
      "2020-07-09 12:25:51,332:qiskit.aqua.algorithms.classifiers.vqc:DEBUG: Intermediate batch cost: 0.6447884939611692\n",
      "2020-07-09 12:25:51,334:qiskit.aqua.components.optimizers.spsa:DEBUG: Objective function at theta+ for step # 53: 0.6431820\n",
      "2020-07-09 12:25:51,335:qiskit.aqua.components.optimizers.spsa:DEBUG: Objective function at theta- for step # 53: 0.6447885\n",
      "2020-07-09 12:25:57,778:qiskit.aqua.algorithms.classifiers.vqc:DEBUG: Intermediate batch cost: 0.642200141305893\n",
      "2020-07-09 12:26:04,217:qiskit.aqua.algorithms.classifiers.vqc:DEBUG: Intermediate batch cost: 0.6434336616236499\n",
      "2020-07-09 12:26:04,219:qiskit.aqua.components.optimizers.spsa:DEBUG: Objective function at theta+ for step # 54: 0.6422001\n",
      "2020-07-09 12:26:04,220:qiskit.aqua.components.optimizers.spsa:DEBUG: Objective function at theta- for step # 54: 0.6434337\n",
      "2020-07-09 12:26:10,995:qiskit.aqua.algorithms.classifiers.vqc:DEBUG: Intermediate batch cost: 0.6447855997600059\n",
      "2020-07-09 12:26:17,338:qiskit.aqua.algorithms.classifiers.vqc:DEBUG: Intermediate batch cost: 0.6411531645021771\n",
      "2020-07-09 12:26:17,340:qiskit.aqua.components.optimizers.spsa:DEBUG: Objective function at theta+ for step # 55: 0.6447856\n",
      "2020-07-09 12:26:17,341:qiskit.aqua.components.optimizers.spsa:DEBUG: Objective function at theta- for step # 55: 0.6411532\n",
      "2020-07-09 12:26:23,717:qiskit.aqua.algorithms.classifiers.vqc:DEBUG: Intermediate batch cost: 0.6392550837594815\n",
      "2020-07-09 12:26:30,076:qiskit.aqua.algorithms.classifiers.vqc:DEBUG: Intermediate batch cost: 0.6420469423465719\n",
      "2020-07-09 12:26:30,078:qiskit.aqua.components.optimizers.spsa:DEBUG: Objective function at theta+ for step # 56: 0.6392551\n",
      "2020-07-09 12:26:30,078:qiskit.aqua.components.optimizers.spsa:DEBUG: Objective function at theta- for step # 56: 0.6420469\n",
      "2020-07-09 12:26:36,903:qiskit.aqua.algorithms.classifiers.vqc:DEBUG: Intermediate batch cost: 0.6395727633617223\n",
      "2020-07-09 12:26:43,162:qiskit.aqua.algorithms.classifiers.vqc:DEBUG: Intermediate batch cost: 0.6411347420751053\n",
      "2020-07-09 12:26:43,164:qiskit.aqua.components.optimizers.spsa:DEBUG: Objective function at theta+ for step # 57: 0.6395728\n",
      "2020-07-09 12:26:43,165:qiskit.aqua.components.optimizers.spsa:DEBUG: Objective function at theta- for step # 57: 0.6411347\n",
      "2020-07-09 12:26:49,563:qiskit.aqua.algorithms.classifiers.vqc:DEBUG: Intermediate batch cost: 0.6393166524995001\n",
      "2020-07-09 12:26:55,918:qiskit.aqua.algorithms.classifiers.vqc:DEBUG: Intermediate batch cost: 0.6443525032307097\n",
      "2020-07-09 12:26:55,920:qiskit.aqua.components.optimizers.spsa:DEBUG: Objective function at theta+ for step # 58: 0.6393167\n",
      "2020-07-09 12:26:55,921:qiskit.aqua.components.optimizers.spsa:DEBUG: Objective function at theta- for step # 58: 0.6443525\n",
      "2020-07-09 12:27:02,279:qiskit.aqua.algorithms.classifiers.vqc:DEBUG: Intermediate batch cost: 0.6418212420744681\n",
      "2020-07-09 12:27:08,774:qiskit.aqua.algorithms.classifiers.vqc:DEBUG: Intermediate batch cost: 0.6411774668819815\n",
      "2020-07-09 12:27:08,776:qiskit.aqua.components.optimizers.spsa:DEBUG: Objective function at theta+ for step # 59: 0.6418212\n",
      "2020-07-09 12:27:08,777:qiskit.aqua.components.optimizers.spsa:DEBUG: Objective function at theta- for step # 59: 0.6411775\n",
      "2020-07-09 12:27:15,657:qiskit.aqua.algorithms.classifiers.vqc:DEBUG: Intermediate batch cost: 0.6403242788887621\n",
      "2020-07-09 12:27:21,940:qiskit.aqua.algorithms.classifiers.vqc:DEBUG: Intermediate batch cost: 0.6420253393534734\n",
      "2020-07-09 12:27:21,942:qiskit.aqua.components.optimizers.spsa:DEBUG: Objective function at theta+ for step # 60: 0.6403243\n",
      "2020-07-09 12:27:21,943:qiskit.aqua.components.optimizers.spsa:DEBUG: Objective function at theta- for step # 60: 0.6420253\n",
      "2020-07-09 12:27:28,387:qiskit.aqua.algorithms.classifiers.vqc:DEBUG: Intermediate batch cost: 0.6386672291283384\n",
      "2020-07-09 12:27:34,804:qiskit.aqua.algorithms.classifiers.vqc:DEBUG: Intermediate batch cost: 0.6422075672015891\n",
      "2020-07-09 12:27:34,806:qiskit.aqua.components.optimizers.spsa:DEBUG: Objective function at theta+ for step # 61: 0.6386672\n",
      "2020-07-09 12:27:34,807:qiskit.aqua.components.optimizers.spsa:DEBUG: Objective function at theta- for step # 61: 0.6422076\n",
      "2020-07-09 12:27:41,196:qiskit.aqua.algorithms.classifiers.vqc:DEBUG: Intermediate batch cost: 0.6396719327206415\n",
      "2020-07-09 12:27:47,573:qiskit.aqua.algorithms.classifiers.vqc:DEBUG: Intermediate batch cost: 0.6409711582916945\n",
      "2020-07-09 12:27:47,575:qiskit.aqua.components.optimizers.spsa:DEBUG: Objective function at theta+ for step # 62: 0.6396719\n",
      "2020-07-09 12:27:47,576:qiskit.aqua.components.optimizers.spsa:DEBUG: Objective function at theta- for step # 62: 0.6409712\n",
      "2020-07-09 12:27:54,345:qiskit.aqua.algorithms.classifiers.vqc:DEBUG: Intermediate batch cost: 0.6382126110739617\n",
      "2020-07-09 12:28:00,705:qiskit.aqua.algorithms.classifiers.vqc:DEBUG: Intermediate batch cost: 0.6401390896274165\n",
      "2020-07-09 12:28:00,707:qiskit.aqua.components.optimizers.spsa:DEBUG: Objective function at theta+ for step # 63: 0.6382126\n",
      "2020-07-09 12:28:00,708:qiskit.aqua.components.optimizers.spsa:DEBUG: Objective function at theta- for step # 63: 0.6401391\n",
      "2020-07-09 12:28:07,108:qiskit.aqua.algorithms.classifiers.vqc:DEBUG: Intermediate batch cost: 0.6394633377257776\n",
      "2020-07-09 12:28:13,523:qiskit.aqua.algorithms.classifiers.vqc:DEBUG: Intermediate batch cost: 0.6401005569235451\n",
      "2020-07-09 12:28:13,525:qiskit.aqua.components.optimizers.spsa:DEBUG: Objective function at theta+ for step # 64: 0.6394633\n",
      "2020-07-09 12:28:13,526:qiskit.aqua.components.optimizers.spsa:DEBUG: Objective function at theta- for step # 64: 0.6401006\n",
      "2020-07-09 12:28:19,953:qiskit.aqua.algorithms.classifiers.vqc:DEBUG: Intermediate batch cost: 0.6404525735511823\n",
      "2020-07-09 12:28:26,476:qiskit.aqua.algorithms.classifiers.vqc:DEBUG: Intermediate batch cost: 0.6390419906727194\n",
      "2020-07-09 12:28:26,478:qiskit.aqua.components.optimizers.spsa:DEBUG: Objective function at theta+ for step # 65: 0.6404526\n",
      "2020-07-09 12:28:26,479:qiskit.aqua.components.optimizers.spsa:DEBUG: Objective function at theta- for step # 65: 0.6390420\n",
      "2020-07-09 12:28:33,214:qiskit.aqua.algorithms.classifiers.vqc:DEBUG: Intermediate batch cost: 0.639488953516211\n",
      "2020-07-09 12:28:39,488:qiskit.aqua.algorithms.classifiers.vqc:DEBUG: Intermediate batch cost: 0.6402692267700337\n",
      "2020-07-09 12:28:39,490:qiskit.aqua.components.optimizers.spsa:DEBUG: Objective function at theta+ for step # 66: 0.6394890\n",
      "2020-07-09 12:28:39,491:qiskit.aqua.components.optimizers.spsa:DEBUG: Objective function at theta- for step # 66: 0.6402692\n",
      "2020-07-09 12:28:45,880:qiskit.aqua.algorithms.classifiers.vqc:DEBUG: Intermediate batch cost: 0.6425324850838564\n",
      "2020-07-09 12:28:52,297:qiskit.aqua.algorithms.classifiers.vqc:DEBUG: Intermediate batch cost: 0.6403215622641686\n",
      "2020-07-09 12:28:52,298:qiskit.aqua.components.optimizers.spsa:DEBUG: Objective function at theta+ for step # 67: 0.6425325\n",
      "2020-07-09 12:28:52,299:qiskit.aqua.components.optimizers.spsa:DEBUG: Objective function at theta- for step # 67: 0.6403216\n",
      "2020-07-09 12:28:58,746:qiskit.aqua.algorithms.classifiers.vqc:DEBUG: Intermediate batch cost: 0.6418128389342962\n",
      "2020-07-09 12:29:05,459:qiskit.aqua.algorithms.classifiers.vqc:DEBUG: Intermediate batch cost: 0.6412231989829618\n",
      "2020-07-09 12:29:05,462:qiskit.aqua.components.optimizers.spsa:DEBUG: Objective function at theta+ for step # 68: 0.6418128\n",
      "2020-07-09 12:29:05,463:qiskit.aqua.components.optimizers.spsa:DEBUG: Objective function at theta- for step # 68: 0.6412232\n",
      "2020-07-09 12:29:12,005:qiskit.aqua.algorithms.classifiers.vqc:DEBUG: Intermediate batch cost: 0.6400173059426238\n",
      "2020-07-09 12:29:18,451:qiskit.aqua.algorithms.classifiers.vqc:DEBUG: Intermediate batch cost: 0.6435662178762482\n"
     ]
    },
    {
     "name": "stderr",
     "output_type": "stream",
     "text": [
      "2020-07-09 12:29:18,454:qiskit.aqua.components.optimizers.spsa:DEBUG: Objective function at theta+ for step # 69: 0.6400173\n",
      "2020-07-09 12:29:18,455:qiskit.aqua.components.optimizers.spsa:DEBUG: Objective function at theta- for step # 69: 0.6435662\n",
      "2020-07-09 12:29:25,171:qiskit.aqua.algorithms.classifiers.vqc:DEBUG: Intermediate batch cost: 0.6409679044606037\n",
      "2020-07-09 12:29:31,453:qiskit.aqua.algorithms.classifiers.vqc:DEBUG: Intermediate batch cost: 0.6391130673936459\n",
      "2020-07-09 12:29:31,455:qiskit.aqua.components.optimizers.spsa:DEBUG: Objective function at theta+ for step # 70: 0.6409679\n",
      "2020-07-09 12:29:31,456:qiskit.aqua.components.optimizers.spsa:DEBUG: Objective function at theta- for step # 70: 0.6391131\n",
      "2020-07-09 12:29:38,809:qiskit.aqua.algorithms.classifiers.vqc:DEBUG: Intermediate batch cost: 0.6377286526122237\n",
      "2020-07-09 12:29:45,297:qiskit.aqua.algorithms.classifiers.vqc:DEBUG: Intermediate batch cost: 0.6437776713607952\n",
      "2020-07-09 12:29:45,299:qiskit.aqua.components.optimizers.spsa:DEBUG: Objective function at theta+ for step # 71: 0.6377287\n",
      "2020-07-09 12:29:45,300:qiskit.aqua.components.optimizers.spsa:DEBUG: Objective function at theta- for step # 71: 0.6437777\n",
      "2020-07-09 12:29:51,945:qiskit.aqua.algorithms.classifiers.vqc:DEBUG: Intermediate batch cost: 0.6397328522222927\n",
      "2020-07-09 12:29:58,656:qiskit.aqua.algorithms.classifiers.vqc:DEBUG: Intermediate batch cost: 0.6397886581991311\n",
      "2020-07-09 12:29:58,658:qiskit.aqua.components.optimizers.spsa:DEBUG: Objective function at theta+ for step # 72: 0.6397329\n",
      "2020-07-09 12:29:58,659:qiskit.aqua.components.optimizers.spsa:DEBUG: Objective function at theta- for step # 72: 0.6397887\n",
      "2020-07-09 12:30:05,741:qiskit.aqua.algorithms.classifiers.vqc:DEBUG: Intermediate batch cost: 0.6410678446488405\n",
      "2020-07-09 12:30:12,548:qiskit.aqua.algorithms.classifiers.vqc:DEBUG: Intermediate batch cost: 0.6389578674520361\n",
      "2020-07-09 12:30:12,550:qiskit.aqua.components.optimizers.spsa:DEBUG: Objective function at theta+ for step # 73: 0.6410678\n",
      "2020-07-09 12:30:12,551:qiskit.aqua.components.optimizers.spsa:DEBUG: Objective function at theta- for step # 73: 0.6389579\n",
      "2020-07-09 12:30:18,886:qiskit.aqua.algorithms.classifiers.vqc:DEBUG: Intermediate batch cost: 0.6421065760769736\n",
      "2020-07-09 12:30:25,684:qiskit.aqua.algorithms.classifiers.vqc:DEBUG: Intermediate batch cost: 0.6408850705956961\n",
      "2020-07-09 12:30:25,686:qiskit.aqua.components.optimizers.spsa:DEBUG: Objective function at theta+ for step # 74: 0.6421066\n",
      "2020-07-09 12:30:25,687:qiskit.aqua.components.optimizers.spsa:DEBUG: Objective function at theta- for step # 74: 0.6408851\n",
      "2020-07-09 12:30:31,954:qiskit.aqua.algorithms.classifiers.vqc:DEBUG: Intermediate batch cost: 0.6397873626604319\n",
      "2020-07-09 12:30:38,406:qiskit.aqua.algorithms.classifiers.vqc:DEBUG: Intermediate batch cost: 0.6395226927136336\n",
      "2020-07-09 12:30:38,408:qiskit.aqua.components.optimizers.spsa:DEBUG: Objective function at theta+ for step # 75: 0.6397874\n",
      "2020-07-09 12:30:38,409:qiskit.aqua.components.optimizers.spsa:DEBUG: Objective function at theta- for step # 75: 0.6395227\n",
      "2020-07-09 12:30:44,785:qiskit.aqua.algorithms.classifiers.vqc:DEBUG: Intermediate batch cost: 0.6420003470982493\n",
      "2020-07-09 12:30:51,167:qiskit.aqua.algorithms.classifiers.vqc:DEBUG: Intermediate batch cost: 0.6395186800365701\n",
      "2020-07-09 12:30:51,169:qiskit.aqua.components.optimizers.spsa:DEBUG: Objective function at theta+ for step # 76: 0.6420003\n",
      "2020-07-09 12:30:51,170:qiskit.aqua.components.optimizers.spsa:DEBUG: Objective function at theta- for step # 76: 0.6395187\n",
      "2020-07-09 12:30:57,647:qiskit.aqua.algorithms.classifiers.vqc:DEBUG: Intermediate batch cost: 0.6414879912130161\n",
      "2020-07-09 12:31:04,353:qiskit.aqua.algorithms.classifiers.vqc:DEBUG: Intermediate batch cost: 0.6388391475883619\n",
      "2020-07-09 12:31:04,355:qiskit.aqua.components.optimizers.spsa:DEBUG: Objective function at theta+ for step # 77: 0.6414880\n",
      "2020-07-09 12:31:04,355:qiskit.aqua.components.optimizers.spsa:DEBUG: Objective function at theta- for step # 77: 0.6388391\n",
      "2020-07-09 12:31:10,635:qiskit.aqua.algorithms.classifiers.vqc:DEBUG: Intermediate batch cost: 0.639342589384655\n",
      "2020-07-09 12:31:17,043:qiskit.aqua.algorithms.classifiers.vqc:DEBUG: Intermediate batch cost: 0.6379006769500326\n",
      "2020-07-09 12:31:17,045:qiskit.aqua.components.optimizers.spsa:DEBUG: Objective function at theta+ for step # 78: 0.6393426\n",
      "2020-07-09 12:31:17,046:qiskit.aqua.components.optimizers.spsa:DEBUG: Objective function at theta- for step # 78: 0.6379007\n",
      "2020-07-09 12:31:23,408:qiskit.aqua.algorithms.classifiers.vqc:DEBUG: Intermediate batch cost: 0.6428151386118871\n",
      "2020-07-09 12:31:29,780:qiskit.aqua.algorithms.classifiers.vqc:DEBUG: Intermediate batch cost: 0.6410831681866249\n",
      "2020-07-09 12:31:29,782:qiskit.aqua.components.optimizers.spsa:DEBUG: Objective function at theta+ for step # 79: 0.6428151\n",
      "2020-07-09 12:31:29,783:qiskit.aqua.components.optimizers.spsa:DEBUG: Objective function at theta- for step # 79: 0.6410832\n",
      "2020-07-09 12:31:36,316:qiskit.aqua.algorithms.classifiers.vqc:DEBUG: Intermediate batch cost: 0.639516101908936\n",
      "2020-07-09 12:31:43,497:qiskit.aqua.algorithms.classifiers.vqc:DEBUG: Intermediate batch cost: 0.6421216454288415\n",
      "2020-07-09 12:31:43,499:qiskit.aqua.components.optimizers.spsa:DEBUG: Objective function at theta+ for step # 80: 0.6395161\n",
      "2020-07-09 12:31:43,500:qiskit.aqua.components.optimizers.spsa:DEBUG: Objective function at theta- for step # 80: 0.6421216\n",
      "2020-07-09 12:31:49,831:qiskit.aqua.algorithms.classifiers.vqc:DEBUG: Intermediate batch cost: 0.639679464302449\n",
      "2020-07-09 12:31:56,224:qiskit.aqua.algorithms.classifiers.vqc:DEBUG: Intermediate batch cost: 0.6386516764157308\n",
      "2020-07-09 12:31:56,226:qiskit.aqua.components.optimizers.spsa:DEBUG: Objective function at theta+ for step # 81: 0.6396795\n",
      "2020-07-09 12:31:56,227:qiskit.aqua.components.optimizers.spsa:DEBUG: Objective function at theta- for step # 81: 0.6386517\n",
      "2020-07-09 12:32:02,674:qiskit.aqua.algorithms.classifiers.vqc:DEBUG: Intermediate batch cost: 0.6378760598358368\n",
      "2020-07-09 12:32:09,246:qiskit.aqua.algorithms.classifiers.vqc:DEBUG: Intermediate batch cost: 0.638794964093112\n",
      "2020-07-09 12:32:09,248:qiskit.aqua.components.optimizers.spsa:DEBUG: Objective function at theta+ for step # 82: 0.6378761\n",
      "2020-07-09 12:32:09,249:qiskit.aqua.components.optimizers.spsa:DEBUG: Objective function at theta- for step # 82: 0.6387950\n",
      "2020-07-09 12:32:15,780:qiskit.aqua.algorithms.classifiers.vqc:DEBUG: Intermediate batch cost: 0.6405874802189895\n",
      "2020-07-09 12:32:22,470:qiskit.aqua.algorithms.classifiers.vqc:DEBUG: Intermediate batch cost: 0.638487919440661\n",
      "2020-07-09 12:32:22,472:qiskit.aqua.components.optimizers.spsa:DEBUG: Objective function at theta+ for step # 83: 0.6405875\n",
      "2020-07-09 12:32:22,473:qiskit.aqua.components.optimizers.spsa:DEBUG: Objective function at theta- for step # 83: 0.6384879\n",
      "2020-07-09 12:32:28,819:qiskit.aqua.algorithms.classifiers.vqc:DEBUG: Intermediate batch cost: 0.6422935673178088\n",
      "2020-07-09 12:32:35,248:qiskit.aqua.algorithms.classifiers.vqc:DEBUG: Intermediate batch cost: 0.6444102687674529\n",
      "2020-07-09 12:32:35,250:qiskit.aqua.components.optimizers.spsa:DEBUG: Objective function at theta+ for step # 84: 0.6422936\n",
      "2020-07-09 12:32:35,251:qiskit.aqua.components.optimizers.spsa:DEBUG: Objective function at theta- for step # 84: 0.6444103\n",
      "2020-07-09 12:32:41,632:qiskit.aqua.algorithms.classifiers.vqc:DEBUG: Intermediate batch cost: 0.6388697011640813\n",
      "2020-07-09 12:32:48,040:qiskit.aqua.algorithms.classifiers.vqc:DEBUG: Intermediate batch cost: 0.6419537897560552\n",
      "2020-07-09 12:32:48,042:qiskit.aqua.components.optimizers.spsa:DEBUG: Objective function at theta+ for step # 85: 0.6388697\n",
      "2020-07-09 12:32:48,043:qiskit.aqua.components.optimizers.spsa:DEBUG: Objective function at theta- for step # 85: 0.6419538\n",
      "2020-07-09 12:32:54,742:qiskit.aqua.algorithms.classifiers.vqc:DEBUG: Intermediate batch cost: 0.6389030108874886\n",
      "2020-07-09 12:33:01,035:qiskit.aqua.algorithms.classifiers.vqc:DEBUG: Intermediate batch cost: 0.6396835394894578\n",
      "2020-07-09 12:33:01,037:qiskit.aqua.components.optimizers.spsa:DEBUG: Objective function at theta+ for step # 86: 0.6389030\n"
     ]
    },
    {
     "name": "stderr",
     "output_type": "stream",
     "text": [
      "2020-07-09 12:33:01,038:qiskit.aqua.components.optimizers.spsa:DEBUG: Objective function at theta- for step # 86: 0.6396835\n",
      "2020-07-09 12:33:07,391:qiskit.aqua.algorithms.classifiers.vqc:DEBUG: Intermediate batch cost: 0.6397500955298205\n",
      "2020-07-09 12:33:13,852:qiskit.aqua.algorithms.classifiers.vqc:DEBUG: Intermediate batch cost: 0.6398261521865994\n",
      "2020-07-09 12:33:13,854:qiskit.aqua.components.optimizers.spsa:DEBUG: Objective function at theta+ for step # 87: 0.6397501\n",
      "2020-07-09 12:33:13,855:qiskit.aqua.components.optimizers.spsa:DEBUG: Objective function at theta- for step # 87: 0.6398262\n",
      "2020-07-09 12:33:20,714:qiskit.aqua.algorithms.classifiers.vqc:DEBUG: Intermediate batch cost: 0.6396837026202244\n",
      "2020-07-09 12:33:27,172:qiskit.aqua.algorithms.classifiers.vqc:DEBUG: Intermediate batch cost: 0.640334238784481\n",
      "2020-07-09 12:33:27,175:qiskit.aqua.components.optimizers.spsa:DEBUG: Objective function at theta+ for step # 88: 0.6396837\n",
      "2020-07-09 12:33:27,176:qiskit.aqua.components.optimizers.spsa:DEBUG: Objective function at theta- for step # 88: 0.6403342\n",
      "2020-07-09 12:33:33,678:qiskit.aqua.algorithms.classifiers.vqc:DEBUG: Intermediate batch cost: 0.6394568599225019\n",
      "2020-07-09 12:33:40,063:qiskit.aqua.algorithms.classifiers.vqc:DEBUG: Intermediate batch cost: 0.6398282873042521\n",
      "2020-07-09 12:33:40,065:qiskit.aqua.components.optimizers.spsa:DEBUG: Objective function at theta+ for step # 89: 0.6394569\n",
      "2020-07-09 12:33:40,066:qiskit.aqua.components.optimizers.spsa:DEBUG: Objective function at theta- for step # 89: 0.6398283\n",
      "2020-07-09 12:33:46,635:qiskit.aqua.algorithms.classifiers.vqc:DEBUG: Intermediate batch cost: 0.6383745793012561\n",
      "2020-07-09 12:33:53,250:qiskit.aqua.algorithms.classifiers.vqc:DEBUG: Intermediate batch cost: 0.6383314302422444\n",
      "2020-07-09 12:33:53,252:qiskit.aqua.components.optimizers.spsa:DEBUG: Objective function at theta+ for step # 90: 0.6383746\n",
      "2020-07-09 12:33:53,252:qiskit.aqua.components.optimizers.spsa:DEBUG: Objective function at theta- for step # 90: 0.6383314\n",
      "2020-07-09 12:34:00,085:qiskit.aqua.algorithms.classifiers.vqc:DEBUG: Intermediate batch cost: 0.6416926775241378\n",
      "2020-07-09 12:34:06,419:qiskit.aqua.algorithms.classifiers.vqc:DEBUG: Intermediate batch cost: 0.6397871854588866\n",
      "2020-07-09 12:34:06,421:qiskit.aqua.components.optimizers.spsa:DEBUG: Objective function at theta+ for step # 91: 0.6416927\n",
      "2020-07-09 12:34:06,422:qiskit.aqua.components.optimizers.spsa:DEBUG: Objective function at theta- for step # 91: 0.6397872\n",
      "2020-07-09 12:34:12,937:qiskit.aqua.algorithms.classifiers.vqc:DEBUG: Intermediate batch cost: 0.6373510807746724\n",
      "2020-07-09 12:34:19,341:qiskit.aqua.algorithms.classifiers.vqc:DEBUG: Intermediate batch cost: 0.6408491632079942\n",
      "2020-07-09 12:34:19,343:qiskit.aqua.components.optimizers.spsa:DEBUG: Objective function at theta+ for step # 92: 0.6373511\n",
      "2020-07-09 12:34:19,344:qiskit.aqua.components.optimizers.spsa:DEBUG: Objective function at theta- for step # 92: 0.6408492\n",
      "2020-07-09 12:34:25,751:qiskit.aqua.algorithms.classifiers.vqc:DEBUG: Intermediate batch cost: 0.6387794840879087\n",
      "2020-07-09 12:34:32,282:qiskit.aqua.algorithms.classifiers.vqc:DEBUG: Intermediate batch cost: 0.6407711178978972\n",
      "2020-07-09 12:34:32,284:qiskit.aqua.components.optimizers.spsa:DEBUG: Objective function at theta+ for step # 93: 0.6387795\n",
      "2020-07-09 12:34:32,286:qiskit.aqua.components.optimizers.spsa:DEBUG: Objective function at theta- for step # 93: 0.6407711\n",
      "2020-07-09 12:34:41,457:qiskit.aqua.algorithms.classifiers.vqc:DEBUG: Intermediate batch cost: 0.639477661313815\n",
      "2020-07-09 12:34:49,541:qiskit.aqua.algorithms.classifiers.vqc:DEBUG: Intermediate batch cost: 0.6371341564479284\n",
      "2020-07-09 12:34:49,543:qiskit.aqua.components.optimizers.spsa:DEBUG: Objective function at theta+ for step # 94: 0.6394777\n",
      "2020-07-09 12:34:49,544:qiskit.aqua.components.optimizers.spsa:DEBUG: Objective function at theta- for step # 94: 0.6371342\n",
      "2020-07-09 12:34:57,138:qiskit.aqua.algorithms.classifiers.vqc:DEBUG: Intermediate batch cost: 0.6370577237800471\n",
      "2020-07-09 12:35:05,589:qiskit.aqua.algorithms.classifiers.vqc:DEBUG: Intermediate batch cost: 0.6389788063794303\n",
      "2020-07-09 12:35:05,592:qiskit.aqua.components.optimizers.spsa:DEBUG: Objective function at theta+ for step # 95: 0.6370577\n",
      "2020-07-09 12:35:05,594:qiskit.aqua.components.optimizers.spsa:DEBUG: Objective function at theta- for step # 95: 0.6389788\n",
      "2020-07-09 12:35:13,595:qiskit.aqua.algorithms.classifiers.vqc:DEBUG: Intermediate batch cost: 0.6367917205973768\n",
      "2020-07-09 12:35:21,673:qiskit.aqua.algorithms.classifiers.vqc:DEBUG: Intermediate batch cost: 0.6377115911247961\n",
      "2020-07-09 12:35:21,674:qiskit.aqua.components.optimizers.spsa:DEBUG: Objective function at theta+ for step # 96: 0.6367917\n",
      "2020-07-09 12:35:21,675:qiskit.aqua.components.optimizers.spsa:DEBUG: Objective function at theta- for step # 96: 0.6377116\n",
      "2020-07-09 12:35:28,940:qiskit.aqua.algorithms.classifiers.vqc:DEBUG: Intermediate batch cost: 0.6398112875833366\n",
      "2020-07-09 12:35:35,551:qiskit.aqua.algorithms.classifiers.vqc:DEBUG: Intermediate batch cost: 0.6380792087002897\n",
      "2020-07-09 12:35:35,554:qiskit.aqua.components.optimizers.spsa:DEBUG: Objective function at theta+ for step # 97: 0.6398113\n",
      "2020-07-09 12:35:35,556:qiskit.aqua.components.optimizers.spsa:DEBUG: Objective function at theta- for step # 97: 0.6380792\n",
      "2020-07-09 12:35:43,055:qiskit.aqua.algorithms.classifiers.vqc:DEBUG: Intermediate batch cost: 0.6384653538540981\n",
      "2020-07-09 12:35:51,370:qiskit.aqua.algorithms.classifiers.vqc:DEBUG: Intermediate batch cost: 0.6384330770329856\n",
      "2020-07-09 12:35:51,373:qiskit.aqua.components.optimizers.spsa:DEBUG: Objective function at theta+ for step # 98: 0.6384654\n",
      "2020-07-09 12:35:51,375:qiskit.aqua.components.optimizers.spsa:DEBUG: Objective function at theta- for step # 98: 0.6384331\n",
      "2020-07-09 12:35:59,812:qiskit.aqua.algorithms.classifiers.vqc:DEBUG: Intermediate batch cost: 0.6389065251833985\n",
      "2020-07-09 12:36:08,024:qiskit.aqua.algorithms.classifiers.vqc:DEBUG: Intermediate batch cost: 0.6420011746832278\n",
      "2020-07-09 12:36:08,026:qiskit.aqua.components.optimizers.spsa:DEBUG: Objective function at theta+ for step # 99: 0.6389065\n",
      "2020-07-09 12:36:08,027:qiskit.aqua.components.optimizers.spsa:DEBUG: Objective function at theta- for step # 99: 0.6420012\n",
      "2020-07-09 12:36:16,631:qiskit.aqua.algorithms.classifiers.vqc:DEBUG: Intermediate batch cost: 0.637284728728099\n",
      "2020-07-09 12:36:16,635:qiskit.aqua.components.optimizers.spsa:DEBUG: Final objective function is: 0.6372847\n",
      "2020-07-09 12:36:16,641:qiskit.aqua.algorithms.classifiers.vqc:INFO: Optimization complete in 1596.4386448860168 seconds.\n",
      "Found opt_params [-0.07690726  1.19592924 -1.57465908 -4.89204114 -4.22174704 -2.75401021\n",
      " -5.09686436  2.27042926 -3.49047533  1.8134183  -1.57535134 -2.42370365\n",
      " -0.55719202  2.35966773  0.76302885 -2.83657383 -0.73737575 -1.77633123\n",
      "  0.83914993  0.49955502] in 241 evals\n"
     ]
    }
   ],
   "source": [
    "#  Stupid Ordinal input\n",
    "\n",
    "seed = 10598\n",
    "\n",
    "vqc_ordinal_log = []\n",
    "def loss_history_callback(_, __, loss, ___):\n",
    "    vqc_ordinal_log.append(loss)\n",
    "    \n",
    "    \n",
    "# var_form = TwoLocal(2, ['ry'], 'cx', entanglement='circular', reps=1, insert_barriers=True)\n",
    "var_form = variational_forms.RYRZ(2, depth=4)\n",
    "\n",
    "feature_map = ZZFeatureMap(feature_dimension=len(mvp_col), reps=3, entanglement='linear')\n",
    "\n",
    "qsvm = VQC(SPSA(100), feature_map, var_form, training_input, callback=loss_history_callback)\n",
    "\n",
    "# provider = IBMQ.get_provider(hub='ibm-q-utokyo')\n",
    "# backend = provider.get_backend('ibmq_johannesburg')\n",
    "\n",
    "backend = BasicAer.get_backend('qasm_simulator')\n",
    "quantum_instance = QuantumInstance(backend, shots=1024, seed_simulator=seed, seed_transpiler=seed,optimization_level=3)\n",
    "\n",
    "\n",
    "result = qsvm.run(quantum_instance)"
   ]
  },
  {
   "cell_type": "code",
   "execution_count": 96,
   "metadata": {},
   "outputs": [
    {
     "name": "stderr",
     "output_type": "stream",
     "text": [
      "2020-07-09 12:36:37,095:qiskit.aqua.algorithms.classifiers.vqc:DEBUG: Predicting batch 0\n"
     ]
    },
    {
     "data": {
      "text/plain": [
       "(0.5689655172413793, 0.3902439024390244)"
      ]
     },
     "execution_count": 96,
     "metadata": {},
     "output_type": "execute_result"
    }
   ],
   "source": [
    "y_pred = qsvm.predict(df_test_q)[1]\n",
    "\n",
    "\n",
    "# F1 score\n",
    "np.mean(y_pred == y_test), f1_score(y_test, y_pred)"
   ]
  },
  {
   "cell_type": "code",
   "execution_count": 101,
   "metadata": {},
   "outputs": [],
   "source": [
    "# Save model\n",
    "# !mkdir models\n",
    "qsvm.save_model('models/VQC_ordinal_rudy_4_features')"
   ]
  },
  {
   "cell_type": "markdown",
   "metadata": {},
   "source": [
    "## Encode 3bits to 1qubit\n",
    "So from $b_1b_2b_3\\Rightarrow(\\theta,\\varphi)\\ ; b_i\\in\\{-1,1\\} $"
   ]
  },
  {
   "cell_type": "code",
   "execution_count": 78,
   "metadata": {},
   "outputs": [
    {
     "data": {
      "text/html": [
       "<div>\n",
       "<style scoped>\n",
       "    .dataframe tbody tr th:only-of-type {\n",
       "        vertical-align: middle;\n",
       "    }\n",
       "\n",
       "    .dataframe tbody tr th {\n",
       "        vertical-align: top;\n",
       "    }\n",
       "\n",
       "    .dataframe thead th {\n",
       "        text-align: right;\n",
       "    }\n",
       "</style>\n",
       "<table border=\"1\" class=\"dataframe\">\n",
       "  <thead>\n",
       "    <tr style=\"text-align: right;\">\n",
       "      <th></th>\n",
       "      <th>tumor-size</th>\n",
       "      <th>node-caps</th>\n",
       "      <th>deg-malig</th>\n",
       "      <th>menopause</th>\n",
       "    </tr>\n",
       "  </thead>\n",
       "  <tbody>\n",
       "    <tr>\n",
       "      <th>0</th>\n",
       "      <td>5</td>\n",
       "      <td>0</td>\n",
       "      <td>2</td>\n",
       "      <td>2</td>\n",
       "    </tr>\n",
       "    <tr>\n",
       "      <th>1</th>\n",
       "      <td>3</td>\n",
       "      <td>0</td>\n",
       "      <td>1</td>\n",
       "      <td>2</td>\n",
       "    </tr>\n",
       "    <tr>\n",
       "      <th>2</th>\n",
       "      <td>3</td>\n",
       "      <td>0</td>\n",
       "      <td>1</td>\n",
       "      <td>2</td>\n",
       "    </tr>\n",
       "    <tr>\n",
       "      <th>3</th>\n",
       "      <td>2</td>\n",
       "      <td>0</td>\n",
       "      <td>1</td>\n",
       "      <td>0</td>\n",
       "    </tr>\n",
       "    <tr>\n",
       "      <th>4</th>\n",
       "      <td>0</td>\n",
       "      <td>0</td>\n",
       "      <td>1</td>\n",
       "      <td>2</td>\n",
       "    </tr>\n",
       "  </tbody>\n",
       "</table>\n",
       "</div>"
      ],
      "text/plain": [
       "   tumor-size  node-caps  deg-malig  menopause\n",
       "0           5          0          2          2\n",
       "1           3          0          1          2\n",
       "2           3          0          1          2\n",
       "3           2          0          1          0\n",
       "4           0          0          1          2"
      ]
     },
     "execution_count": 78,
     "metadata": {},
     "output_type": "execute_result"
    }
   ],
   "source": [
    "df_q = df[mvp_col]\n",
    "\n",
    "df_q.head()"
   ]
  },
  {
   "cell_type": "code",
   "execution_count": 79,
   "metadata": {},
   "outputs": [],
   "source": [
    "df_q = df[mvp_col]\n",
    "\n",
    "data = []\n",
    "\n",
    "# b1b2b3 --> (theta, varphi)\n",
    "def convert_to_angle(b_st):\n",
    "    if b_st[0] == '1':\n",
    "        theta = np.arccos(1/np.sqrt(3))\n",
    "    else:\n",
    "        theta = np.arccos(-1/np.sqrt(3))\n",
    "\n",
    "    if b_st[1] == '1' and b_st[2] == '1':\n",
    "        varphi = np.pi / 4\n",
    "\n",
    "    if b_st[1] == '1' and b_st[2] == '0':\n",
    "        varphi = 3 * np.pi / 4\n",
    "\n",
    "    if b_st[1] == '0' and b_st[2] == '0':\n",
    "        varphi = -3 * np.pi / 4\n",
    "\n",
    "    if b_st[1] == '0' and b_st[2] == '1':\n",
    "        varphi = -np.pi / 4\n",
    "            \n",
    "    return [theta, varphi]\n",
    "\n",
    "bit_each_col = []\n",
    "\n",
    "# Check number of different category in df_all\n",
    "for col in df_q.columns:\n",
    "    bit_each_col.append(int(np.ceil(np.log2(len(df_q[col].unique())))))\n",
    "    \n",
    "# Count required bit\n",
    "num_bit = sum(bit_each_col)\n",
    "num_qubit = int(np.ceil(num_bit / 3))\n",
    "\n",
    "pad = 0\n",
    "if num_bit % 3 != 0:\n",
    "    pad = 3 - (num_bit % 3)\n",
    "\n",
    "    \n",
    "# Encode train\n",
    "for row in df_q.values:\n",
    "    bstring = ''\n",
    "    \n",
    "    for v, num_bit in zip(row, bit_each_col):\n",
    "        bstring += f\"{v:010b}\"[-num_bit:]\n",
    "        \n",
    "    all_b_st = bstring + pad * '0'\n",
    "    \n",
    "    var_list = []\n",
    "    for i in range(num_qubit):\n",
    "        b_st = all_b_st[i * 3: (i+1) * 3]\n",
    "        var_list += convert_to_angle(b_st)\n",
    "    \n",
    "    data.append(var_list)\n",
    "    \n",
    "data = np.array(data)"
   ]
  },
  {
   "cell_type": "code",
   "execution_count": 108,
   "metadata": {},
   "outputs": [
    {
     "data": {
      "text/html": [
       "<div>\n",
       "<style scoped>\n",
       "    .dataframe tbody tr th:only-of-type {\n",
       "        vertical-align: middle;\n",
       "    }\n",
       "\n",
       "    .dataframe tbody tr th {\n",
       "        vertical-align: top;\n",
       "    }\n",
       "\n",
       "    .dataframe thead th {\n",
       "        text-align: right;\n",
       "    }\n",
       "</style>\n",
       "<table border=\"1\" class=\"dataframe\">\n",
       "  <thead>\n",
       "    <tr style=\"text-align: right;\">\n",
       "      <th></th>\n",
       "      <th>tumor-size</th>\n",
       "      <th>node-caps</th>\n",
       "      <th>deg-malig</th>\n",
       "      <th>menopause</th>\n",
       "    </tr>\n",
       "  </thead>\n",
       "  <tbody>\n",
       "    <tr>\n",
       "      <th>0</th>\n",
       "      <td>5</td>\n",
       "      <td>0</td>\n",
       "      <td>2</td>\n",
       "      <td>2</td>\n",
       "    </tr>\n",
       "    <tr>\n",
       "      <th>1</th>\n",
       "      <td>3</td>\n",
       "      <td>0</td>\n",
       "      <td>1</td>\n",
       "      <td>2</td>\n",
       "    </tr>\n",
       "    <tr>\n",
       "      <th>2</th>\n",
       "      <td>3</td>\n",
       "      <td>0</td>\n",
       "      <td>1</td>\n",
       "      <td>2</td>\n",
       "    </tr>\n",
       "    <tr>\n",
       "      <th>3</th>\n",
       "      <td>2</td>\n",
       "      <td>0</td>\n",
       "      <td>1</td>\n",
       "      <td>0</td>\n",
       "    </tr>\n",
       "    <tr>\n",
       "      <th>4</th>\n",
       "      <td>0</td>\n",
       "      <td>0</td>\n",
       "      <td>1</td>\n",
       "      <td>2</td>\n",
       "    </tr>\n",
       "  </tbody>\n",
       "</table>\n",
       "</div>"
      ],
      "text/plain": [
       "   tumor-size  node-caps  deg-malig  menopause\n",
       "0           5          0          2          2\n",
       "1           3          0          1          2\n",
       "2           3          0          1          2\n",
       "3           2          0          1          0\n",
       "4           0          0          1          2"
      ]
     },
     "execution_count": 108,
     "metadata": {},
     "output_type": "execute_result"
    }
   ],
   "source": [
    "df_q.head()"
   ]
  },
  {
   "cell_type": "code",
   "execution_count": 81,
   "metadata": {},
   "outputs": [
    {
     "data": {
      "text/plain": [
       "[4, 1, 2, 2]"
      ]
     },
     "execution_count": 81,
     "metadata": {},
     "output_type": "execute_result"
    }
   ],
   "source": [
    "bit_each_col"
   ]
  },
  {
   "cell_type": "code",
   "execution_count": 82,
   "metadata": {},
   "outputs": [
    {
     "data": {
      "text/plain": [
       "(286, 6)"
      ]
     },
     "execution_count": 82,
     "metadata": {},
     "output_type": "execute_result"
    }
   ],
   "source": [
    "data.shape"
   ]
  },
  {
   "cell_type": "code",
   "execution_count": 83,
   "metadata": {},
   "outputs": [
    {
     "data": {
      "text/plain": [
       "(   tumor-size  node-caps  deg-malig  menopause\n",
       " 0           5          0          2          2\n",
       " 1           3          0          1          2\n",
       " 2           3          0          1          2\n",
       " 3           2          0          1          0\n",
       " 4           0          0          1          2,\n",
       " array([[ 2.18627604,  2.35619449,  0.95531662, -0.78539816,  2.18627604,\n",
       "          2.35619449],\n",
       "        [ 2.18627604, -0.78539816,  0.95531662, -2.35619449,  0.95531662,\n",
       "          2.35619449],\n",
       "        [ 2.18627604, -0.78539816,  0.95531662, -2.35619449,  0.95531662,\n",
       "          2.35619449],\n",
       "        [ 2.18627604, -0.78539816,  2.18627604, -2.35619449,  0.95531662,\n",
       "         -2.35619449],\n",
       "        [ 2.18627604, -2.35619449,  2.18627604, -2.35619449,  0.95531662,\n",
       "          2.35619449]]))"
      ]
     },
     "execution_count": 83,
     "metadata": {},
     "output_type": "execute_result"
    }
   ],
   "source": [
    "# Show ordinal data vs encoded\n",
    "df_q.iloc[:5],data[:5]"
   ]
  },
  {
   "cell_type": "code",
   "execution_count": 84,
   "metadata": {},
   "outputs": [],
   "source": [
    "# Features for encoding\n",
    "\n",
    "np.random.seed(123123)\n",
    "\n",
    "df_train_encode, df_test_encode, y_train, y_test = train_test_split(data, y.values, test_size=0.2)"
   ]
  },
  {
   "cell_type": "code",
   "execution_count": 171,
   "metadata": {},
   "outputs": [],
   "source": [
    "# Construct dict to feed QSVM\n",
    "\n",
    "# Choose balance 50 sample\n",
    "\n",
    "np.random.seed(777)\n",
    "\n",
    "pos_sample = 60\n",
    "neg_sample = 60\n",
    "\n",
    "pos_label = np.argwhere(y_train == 1).reshape([-1])\n",
    "chosen_pos_label_idx = pos_label[np.random.permutation(len(pos_label))[:pos_sample]]\n",
    "\n",
    "neg_label = np.argwhere(y_train == 0).reshape([-1])\n",
    "chosen_neg_label_idx = neg_label[np.random.permutation(len(neg_label))[:neg_sample]]\n",
    "\n",
    "\n",
    "training_input = {\n",
    "    0: df_train_encode[chosen_neg_label_idx],\n",
    "    1: df_train_encode[chosen_pos_label_idx]\n",
    "}\n",
    "\n",
    "test_input = {\n",
    "    0: df_test_encode[y_test == 0],\n",
    "    1: df_test_encode[y_test == 1]\n",
    "}\n",
    "\n"
   ]
  },
  {
   "cell_type": "code",
   "execution_count": 85,
   "metadata": {},
   "outputs": [],
   "source": [
    "training_input = {\n",
    "    0: df_train_encode[y_train == 0],\n",
    "    1: double(df_train_encode[y_train == 1])\n",
    "}\n",
    "\n",
    "test_input = {\n",
    "    0: df_test_encode[y_test == 0],\n",
    "    1: df_test_encode[y_test == 1]\n",
    "}"
   ]
  },
  {
   "cell_type": "code",
   "execution_count": 86,
   "metadata": {
    "scrolled": true
   },
   "outputs": [
    {
     "name": "stderr",
     "output_type": "stream",
     "text": [
      "/Users/barnrang/miniconda3/envs/liigo/lib/python3.6/site-packages/ipykernel_launcher.py:11: DeprecationWarning: The qiskit.aqua.components.variational_forms.RYRZ object is deprecated as of 0.7.0 and will be removed no sooner than 3 months after the release. You should use qiskit.circuit.library.EfficientSU2 (uses CX entangling) or qiskit.circuit.library.TwoLocal instead.\n",
      "  # This is added back by InteractiveShellApp.init_path()\n"
     ]
    },
    {
     "data": {
      "image/png": "[encoded data removed]",
      "text/plain": [
       "<Figure size 298.592x204.68 with 1 Axes>"
      ]
     },
     "execution_count": 86,
     "metadata": {},
     "output_type": "execute_result"
    }
   ],
   "source": [
    "# Make feature map with encoder\n",
    "from qiskit.circuit import QuantumCircuit, Parameter\n",
    "from qiskit.circuit.library import TwoLocal\n",
    "from qiskit.aqua.algorithms import VQC\n",
    "# from qiskit.aqua.compo\n",
    "# feature_map = ZZFeatureMap(feature_dimension=3, reps=2, entanglement='linear')\n",
    "\n",
    "\n",
    "X = [Parameter(f'x[{i}]') for i in range(data.shape[1])]\n",
    "\n",
    "var_form = variational_forms.RYRZ(data.shape[1] // 2, depth=4)\n",
    "\n",
    "qc = QuantumCircuit(data.shape[1] // 2)\n",
    "\n",
    "for i in range(data.shape[1] // 2):\n",
    "    qc.u3(X[2*i], X[2*i+1], 0, i) # Encoder\n",
    "\n",
    "feature_map = qc #+ tmp1 + tmp2 \n",
    "feature_map.draw('mpl')"
   ]
  },
  {
   "cell_type": "code",
   "execution_count": 87,
   "metadata": {
    "scrolled": true
   },
   "outputs": [
    {
     "name": "stderr",
     "output_type": "stream",
     "text": [
      "/Users/barnrang/miniconda3/envs/liigo/lib/python3.6/site-packages/ipykernel_launcher.py:9: DeprecationWarning: \n",
      "            The <class 'qiskit.circuit.quantumcircuit.QuantumCircuit'> object as input for the VQC is deprecated as of 0.7.0 and will\n",
      "            be removed no earlier than 3 months after the release.\n",
      "            You should pass a QuantumCircuit object instead.\n",
      "            See also qiskit.circuit.library.n_local for a collection\n",
      "            of suitable circuits.\n",
      "  if __name__ == '__main__':\n",
      "2020-07-09 11:33:36,140:qiskit.aqua.quantum_instance:INFO: \n",
      "Qiskit Terra version: 0.14.1\n",
      "Backend: 'qasm_simulator (BasicAer)', with following setting:\n",
      "{'basis_gates': ['u1', 'u2', 'u3', 'cx', 'id', 'unitary'], 'coupling_map': None}\n",
      "{'pass_manager': None, 'initial_layout': None, 'seed_transpiler': 10598, 'optimization_level': None}\n",
      "RunConfig(max_credits=10, seed_simulator=10598, shots=1024)\n",
      "{'timeout': None}\n",
      "{}\n",
      "{}\n",
      "Measurement mitigation: None\n",
      "2020-07-09 11:33:36,144:qiskit.aqua.algorithms.vq_algorithm:INFO: Starting optimizer.\n",
      "bounds=[(-3.141592653589793, 3.141592653589793), (-3.141592653589793, 3.141592653589793), (-3.141592653589793, 3.141592653589793), (-3.141592653589793, 3.141592653589793), (-3.141592653589793, 3.141592653589793), (-3.141592653589793, 3.141592653589793), (-3.141592653589793, 3.141592653589793), (-3.141592653589793, 3.141592653589793), (-3.141592653589793, 3.141592653589793), (-3.141592653589793, 3.141592653589793), (-3.141592653589793, 3.141592653589793), (-3.141592653589793, 3.141592653589793), (-3.141592653589793, 3.141592653589793), (-3.141592653589793, 3.141592653589793), (-3.141592653589793, 3.141592653589793), (-3.141592653589793, 3.141592653589793), (-3.141592653589793, 3.141592653589793), (-3.141592653589793, 3.141592653589793), (-3.141592653589793, 3.141592653589793), (-3.141592653589793, 3.141592653589793), (-3.141592653589793, 3.141592653589793), (-3.141592653589793, 3.141592653589793), (-3.141592653589793, 3.141592653589793), (-3.141592653589793, 3.141592653589793), (-3.141592653589793, 3.141592653589793), (-3.141592653589793, 3.141592653589793), (-3.141592653589793, 3.141592653589793), (-3.141592653589793, 3.141592653589793), (-3.141592653589793, 3.141592653589793), (-3.141592653589793, 3.141592653589793)]\n",
      "initial point=[ 1.13192443 -1.56542031 -0.21488558  1.16741101 -1.41351856 -0.26857561\n",
      " -0.3358531  -2.82706028 -1.1440727  -1.21983005 -2.06052074  0.92177093\n",
      "  0.6473268  -1.81049694  0.36872886  0.20120594  0.5878782   0.26322011\n",
      "  0.39323678  0.5394628   0.5390047  -1.05872513  0.17595499  2.11793207\n",
      " -0.24480417  0.5864319   0.79688681  0.09603959  0.32142657 -0.59860756]\n",
      "2020-07-09 11:33:36,146:qiskit.aqua.components.optimizers.optimizer:DEBUG: WARNING: SPSA does not support bounds. It will be ignored.\n",
      "2020-07-09 11:33:36,149:qiskit.aqua.components.optimizers.spsa:DEBUG: Parameters: [0.62831853 0.1        0.602      0.101      0.        ]\n",
      "2020-07-09 11:33:36,151:qiskit.aqua.components.optimizers.spsa:DEBUG: Calibration...\n",
      "2020-07-09 11:33:36,153:qiskit.aqua.components.optimizers.spsa:DEBUG: calibration step # 0 of 20\n",
      "2020-07-09 11:33:43,234:qiskit.aqua.algorithms.classifiers.vqc:DEBUG: Intermediate batch cost: 0.7353313695134122\n",
      "2020-07-09 11:33:49,375:qiskit.aqua.algorithms.classifiers.vqc:DEBUG: Intermediate batch cost: 0.7550675905287871\n",
      "2020-07-09 11:33:55,666:qiskit.aqua.algorithms.classifiers.vqc:DEBUG: Intermediate batch cost: 0.7271291209157127\n",
      "2020-07-09 11:34:01,774:qiskit.aqua.algorithms.classifiers.vqc:DEBUG: Intermediate batch cost: 0.7530991965902577\n",
      "2020-07-09 11:34:08,374:qiskit.aqua.algorithms.classifiers.vqc:DEBUG: Intermediate batch cost: 0.7653048795415863\n",
      "2020-07-09 11:34:14,268:qiskit.aqua.algorithms.classifiers.vqc:DEBUG: Intermediate batch cost: 0.7182860988514296\n",
      "2020-07-09 11:34:20,120:qiskit.aqua.algorithms.classifiers.vqc:DEBUG: Intermediate batch cost: 0.7383481453941336\n",
      "2020-07-09 11:34:25,710:qiskit.aqua.algorithms.classifiers.vqc:DEBUG: Intermediate batch cost: 0.7471424079891652\n",
      "2020-07-09 11:34:31,143:qiskit.aqua.algorithms.classifiers.vqc:DEBUG: Intermediate batch cost: 0.7352498147172993\n",
      "2020-07-09 11:34:36,999:qiskit.aqua.algorithms.classifiers.vqc:DEBUG: Intermediate batch cost: 0.7566334962420743\n",
      "2020-07-09 11:34:37,002:qiskit.aqua.components.optimizers.spsa:DEBUG: calibration step # 5 of 20\n",
      "2020-07-09 11:34:42,520:qiskit.aqua.algorithms.classifiers.vqc:DEBUG: Intermediate batch cost: 0.7244710385240392\n",
      "2020-07-09 11:34:48,054:qiskit.aqua.algorithms.classifiers.vqc:DEBUG: Intermediate batch cost: 0.7552038477618289\n",
      "2020-07-09 11:34:53,560:qiskit.aqua.algorithms.classifiers.vqc:DEBUG: Intermediate batch cost: 0.7531668142676992\n",
      "2020-07-09 11:34:58,990:qiskit.aqua.algorithms.classifiers.vqc:DEBUG: Intermediate batch cost: 0.7266273416725196\n",
      "2020-07-09 11:35:04,494:qiskit.aqua.algorithms.classifiers.vqc:DEBUG: Intermediate batch cost: 0.7289618982932558\n",
      "2020-07-09 11:35:10,019:qiskit.aqua.algorithms.classifiers.vqc:DEBUG: Intermediate batch cost: 0.7661360077914809\n",
      "2020-07-09 11:35:16,467:qiskit.aqua.algorithms.classifiers.vqc:DEBUG: Intermediate batch cost: 0.7214538212884067\n",
      "2020-07-09 11:35:24,506:qiskit.aqua.algorithms.classifiers.vqc:DEBUG: Intermediate batch cost: 0.7589612858022293\n",
      "2020-07-09 11:35:30,686:qiskit.aqua.algorithms.classifiers.vqc:DEBUG: Intermediate batch cost: 0.721371027559195\n",
      "2020-07-09 11:35:36,131:qiskit.aqua.algorithms.classifiers.vqc:DEBUG: Intermediate batch cost: 0.7468524881376035\n",
      "2020-07-09 11:35:36,134:qiskit.aqua.components.optimizers.spsa:DEBUG: calibration step # 10 of 20\n",
      "2020-07-09 11:35:41,733:qiskit.aqua.algorithms.classifiers.vqc:DEBUG: Intermediate batch cost: 0.7275914384149423\n",
      "2020-07-09 11:35:47,167:qiskit.aqua.algorithms.classifiers.vqc:DEBUG: Intermediate batch cost: 0.7676341708120382\n",
      "2020-07-09 11:35:52,578:qiskit.aqua.algorithms.classifiers.vqc:DEBUG: Intermediate batch cost: 0.7477897011119593\n",
      "2020-07-09 11:35:58,152:qiskit.aqua.algorithms.classifiers.vqc:DEBUG: Intermediate batch cost: 0.7315469066164423\n",
      "2020-07-09 11:36:03,673:qiskit.aqua.algorithms.classifiers.vqc:DEBUG: Intermediate batch cost: 0.738771583036345\n",
      "2020-07-09 11:36:09,224:qiskit.aqua.algorithms.classifiers.vqc:DEBUG: Intermediate batch cost: 0.7557503194105647\n",
      "2020-07-09 11:36:14,597:qiskit.aqua.algorithms.classifiers.vqc:DEBUG: Intermediate batch cost: 0.732209540246915\n",
      "2020-07-09 11:36:20,113:qiskit.aqua.algorithms.classifiers.vqc:DEBUG: Intermediate batch cost: 0.7553335636398386\n",
      "2020-07-09 11:36:25,666:qiskit.aqua.algorithms.classifiers.vqc:DEBUG: Intermediate batch cost: 0.7441829350254361\n",
      "2020-07-09 11:36:31,138:qiskit.aqua.algorithms.classifiers.vqc:DEBUG: Intermediate batch cost: 0.747326313043196\n",
      "2020-07-09 11:36:31,141:qiskit.aqua.components.optimizers.spsa:DEBUG: calibration step # 15 of 20\n",
      "2020-07-09 11:36:36,725:qiskit.aqua.algorithms.classifiers.vqc:DEBUG: Intermediate batch cost: 0.7749886162701933\n",
      "2020-07-09 11:36:42,168:qiskit.aqua.algorithms.classifiers.vqc:DEBUG: Intermediate batch cost: 0.7114966159802433\n",
      "2020-07-09 11:36:47,584:qiskit.aqua.algorithms.classifiers.vqc:DEBUG: Intermediate batch cost: 0.7308627042429138\n",
      "2020-07-09 11:36:53,080:qiskit.aqua.algorithms.classifiers.vqc:DEBUG: Intermediate batch cost: 0.7480148959504815\n",
      "2020-07-09 11:36:58,647:qiskit.aqua.algorithms.classifiers.vqc:DEBUG: Intermediate batch cost: 0.7272034350908778\n",
      "2020-07-09 11:37:04,194:qiskit.aqua.algorithms.classifiers.vqc:DEBUG: Intermediate batch cost: 0.757070790427786\n",
      "2020-07-09 11:37:09,924:qiskit.aqua.algorithms.classifiers.vqc:DEBUG: Intermediate batch cost: 0.7468233239503652\n",
      "2020-07-09 11:37:15,378:qiskit.aqua.algorithms.classifiers.vqc:DEBUG: Intermediate batch cost: 0.7355459385600567\n",
      "2020-07-09 11:37:20,893:qiskit.aqua.algorithms.classifiers.vqc:DEBUG: Intermediate batch cost: 0.7690654676743157\n",
      "2020-07-09 11:37:26,414:qiskit.aqua.algorithms.classifiers.vqc:DEBUG: Intermediate batch cost: 0.7236181454144226\n",
      "2020-07-09 11:37:26,416:qiskit.aqua.components.optimizers.spsa:DEBUG: Calibrated SPSA parameter c0 is 4.5937587\n",
      "2020-07-09 11:37:31,797:qiskit.aqua.algorithms.classifiers.vqc:DEBUG: Intermediate batch cost: 0.728447331673772\n",
      "2020-07-09 11:37:38,789:qiskit.aqua.algorithms.classifiers.vqc:DEBUG: Intermediate batch cost: 0.7457090200975738\n"
     ]
    },
    {
     "name": "stderr",
     "output_type": "stream",
     "text": [
      "2020-07-09 11:37:38,791:qiskit.aqua.components.optimizers.spsa:DEBUG: Objective function at theta+ for step # 0: 0.7284473\n",
      "2020-07-09 11:37:38,792:qiskit.aqua.components.optimizers.spsa:DEBUG: Objective function at theta- for step # 0: 0.7457090\n",
      "2020-07-09 11:37:44,959:qiskit.aqua.algorithms.classifiers.vqc:DEBUG: Intermediate batch cost: 0.6999430776566592\n",
      "2020-07-09 11:37:52,565:qiskit.aqua.algorithms.classifiers.vqc:DEBUG: Intermediate batch cost: 0.663335611288653\n",
      "2020-07-09 11:37:52,568:qiskit.aqua.components.optimizers.spsa:DEBUG: Objective function at theta+ for step # 1: 0.6999431\n",
      "2020-07-09 11:37:52,568:qiskit.aqua.components.optimizers.spsa:DEBUG: Objective function at theta- for step # 1: 0.6633356\n",
      "2020-07-09 11:37:59,566:qiskit.aqua.algorithms.classifiers.vqc:DEBUG: Intermediate batch cost: 0.7797554248234284\n",
      "2020-07-09 11:38:07,618:qiskit.aqua.algorithms.classifiers.vqc:DEBUG: Intermediate batch cost: 0.8020772582906721\n",
      "2020-07-09 11:38:07,623:qiskit.aqua.components.optimizers.spsa:DEBUG: Objective function at theta+ for step # 2: 0.7797554\n",
      "2020-07-09 11:38:07,625:qiskit.aqua.components.optimizers.spsa:DEBUG: Objective function at theta- for step # 2: 0.8020773\n",
      "2020-07-09 11:38:18,843:qiskit.aqua.algorithms.classifiers.vqc:DEBUG: Intermediate batch cost: 0.7195319062454705\n",
      "2020-07-09 11:38:32,921:qiskit.aqua.algorithms.classifiers.vqc:DEBUG: Intermediate batch cost: 0.7405961645263454\n",
      "2020-07-09 11:38:32,923:qiskit.aqua.components.optimizers.spsa:DEBUG: Objective function at theta+ for step # 3: 0.7195319\n",
      "2020-07-09 11:38:32,924:qiskit.aqua.components.optimizers.spsa:DEBUG: Objective function at theta- for step # 3: 0.7405962\n",
      "2020-07-09 11:38:38,961:qiskit.aqua.algorithms.classifiers.vqc:DEBUG: Intermediate batch cost: 0.7120992570886879\n",
      "2020-07-09 11:38:44,563:qiskit.aqua.algorithms.classifiers.vqc:DEBUG: Intermediate batch cost: 0.7041083044500381\n",
      "2020-07-09 11:38:44,565:qiskit.aqua.components.optimizers.spsa:DEBUG: Objective function at theta+ for step # 4: 0.7120993\n",
      "2020-07-09 11:38:44,566:qiskit.aqua.components.optimizers.spsa:DEBUG: Objective function at theta- for step # 4: 0.7041083\n",
      "2020-07-09 11:38:50,144:qiskit.aqua.algorithms.classifiers.vqc:DEBUG: Intermediate batch cost: 0.6997813366491171\n",
      "2020-07-09 11:38:55,872:qiskit.aqua.algorithms.classifiers.vqc:DEBUG: Intermediate batch cost: 0.7142448464585168\n",
      "2020-07-09 11:38:55,875:qiskit.aqua.components.optimizers.spsa:DEBUG: Objective function at theta+ for step # 5: 0.6997813\n",
      "2020-07-09 11:38:55,875:qiskit.aqua.components.optimizers.spsa:DEBUG: Objective function at theta- for step # 5: 0.7142448\n",
      "2020-07-09 11:39:01,734:qiskit.aqua.algorithms.classifiers.vqc:DEBUG: Intermediate batch cost: 0.7044772060389808\n",
      "2020-07-09 11:39:07,262:qiskit.aqua.algorithms.classifiers.vqc:DEBUG: Intermediate batch cost: 0.7167440274681586\n",
      "2020-07-09 11:39:07,267:qiskit.aqua.components.optimizers.spsa:DEBUG: Objective function at theta+ for step # 6: 0.7044772\n",
      "2020-07-09 11:39:07,268:qiskit.aqua.components.optimizers.spsa:DEBUG: Objective function at theta- for step # 6: 0.7167440\n",
      "2020-07-09 11:39:12,754:qiskit.aqua.algorithms.classifiers.vqc:DEBUG: Intermediate batch cost: 0.7076983936732248\n",
      "2020-07-09 11:39:18,274:qiskit.aqua.algorithms.classifiers.vqc:DEBUG: Intermediate batch cost: 0.7009929102826297\n",
      "2020-07-09 11:39:18,276:qiskit.aqua.components.optimizers.spsa:DEBUG: Objective function at theta+ for step # 7: 0.7076984\n",
      "2020-07-09 11:39:18,277:qiskit.aqua.components.optimizers.spsa:DEBUG: Objective function at theta- for step # 7: 0.7009929\n",
      "2020-07-09 11:39:23,799:qiskit.aqua.algorithms.classifiers.vqc:DEBUG: Intermediate batch cost: 0.7350151364832166\n",
      "2020-07-09 11:39:29,287:qiskit.aqua.algorithms.classifiers.vqc:DEBUG: Intermediate batch cost: 0.6838765413212685\n",
      "2020-07-09 11:39:29,292:qiskit.aqua.components.optimizers.spsa:DEBUG: Objective function at theta+ for step # 8: 0.7350151\n",
      "2020-07-09 11:39:29,293:qiskit.aqua.components.optimizers.spsa:DEBUG: Objective function at theta- for step # 8: 0.6838765\n",
      "2020-07-09 11:39:35,121:qiskit.aqua.algorithms.classifiers.vqc:DEBUG: Intermediate batch cost: 0.6592843089317861\n",
      "2020-07-09 11:39:41,684:qiskit.aqua.algorithms.classifiers.vqc:DEBUG: Intermediate batch cost: 0.6521813312813163\n",
      "2020-07-09 11:39:41,687:qiskit.aqua.components.optimizers.spsa:DEBUG: Objective function at theta+ for step # 9: 0.6592843\n",
      "2020-07-09 11:39:41,690:qiskit.aqua.components.optimizers.spsa:DEBUG: Objective function at theta- for step # 9: 0.6521813\n",
      "2020-07-09 11:39:47,641:qiskit.aqua.algorithms.classifiers.vqc:DEBUG: Intermediate batch cost: 0.664655379765225\n",
      "2020-07-09 11:39:53,140:qiskit.aqua.algorithms.classifiers.vqc:DEBUG: Intermediate batch cost: 0.639603231546791\n",
      "2020-07-09 11:39:53,142:qiskit.aqua.components.optimizers.spsa:DEBUG: Objective function at theta+ for step # 10: 0.6646554\n",
      "2020-07-09 11:39:53,143:qiskit.aqua.components.optimizers.spsa:DEBUG: Objective function at theta- for step # 10: 0.6396032\n",
      "2020-07-09 11:39:58,658:qiskit.aqua.algorithms.classifiers.vqc:DEBUG: Intermediate batch cost: 0.6187941597915612\n",
      "2020-07-09 11:40:04,206:qiskit.aqua.algorithms.classifiers.vqc:DEBUG: Intermediate batch cost: 0.6658307621519993\n",
      "2020-07-09 11:40:04,208:qiskit.aqua.components.optimizers.spsa:DEBUG: Objective function at theta+ for step # 11: 0.6187942\n",
      "2020-07-09 11:40:04,209:qiskit.aqua.components.optimizers.spsa:DEBUG: Objective function at theta- for step # 11: 0.6658308\n",
      "2020-07-09 11:40:09,809:qiskit.aqua.algorithms.classifiers.vqc:DEBUG: Intermediate batch cost: 0.6579287301410959\n",
      "2020-07-09 11:40:15,194:qiskit.aqua.algorithms.classifiers.vqc:DEBUG: Intermediate batch cost: 0.6430546278109106\n",
      "2020-07-09 11:40:15,199:qiskit.aqua.components.optimizers.spsa:DEBUG: Objective function at theta+ for step # 12: 0.6579287\n",
      "2020-07-09 11:40:15,200:qiskit.aqua.components.optimizers.spsa:DEBUG: Objective function at theta- for step # 12: 0.6430546\n",
      "2020-07-09 11:40:20,637:qiskit.aqua.algorithms.classifiers.vqc:DEBUG: Intermediate batch cost: 0.6176114181152261\n",
      "2020-07-09 11:40:26,652:qiskit.aqua.algorithms.classifiers.vqc:DEBUG: Intermediate batch cost: 0.6818278417700777\n",
      "2020-07-09 11:40:26,654:qiskit.aqua.components.optimizers.spsa:DEBUG: Objective function at theta+ for step # 13: 0.6176114\n",
      "2020-07-09 11:40:26,655:qiskit.aqua.components.optimizers.spsa:DEBUG: Objective function at theta- for step # 13: 0.6818278\n",
      "2020-07-09 11:40:32,478:qiskit.aqua.algorithms.classifiers.vqc:DEBUG: Intermediate batch cost: 0.6474070364007857\n",
      "2020-07-09 11:40:37,920:qiskit.aqua.algorithms.classifiers.vqc:DEBUG: Intermediate batch cost: 0.6313509474697571\n",
      "2020-07-09 11:40:37,922:qiskit.aqua.components.optimizers.spsa:DEBUG: Objective function at theta+ for step # 14: 0.6474070\n",
      "2020-07-09 11:40:37,923:qiskit.aqua.components.optimizers.spsa:DEBUG: Objective function at theta- for step # 14: 0.6313509\n",
      "2020-07-09 11:40:43,756:qiskit.aqua.algorithms.classifiers.vqc:DEBUG: Intermediate batch cost: 0.6545715450271953\n",
      "2020-07-09 11:40:49,192:qiskit.aqua.algorithms.classifiers.vqc:DEBUG: Intermediate batch cost: 0.6230546619996803\n",
      "2020-07-09 11:40:49,194:qiskit.aqua.components.optimizers.spsa:DEBUG: Objective function at theta+ for step # 15: 0.6545715\n",
      "2020-07-09 11:40:49,195:qiskit.aqua.components.optimizers.spsa:DEBUG: Objective function at theta- for step # 15: 0.6230547\n",
      "2020-07-09 11:40:54,730:qiskit.aqua.algorithms.classifiers.vqc:DEBUG: Intermediate batch cost: 0.638343546608001\n",
      "2020-07-09 11:41:00,145:qiskit.aqua.algorithms.classifiers.vqc:DEBUG: Intermediate batch cost: 0.6379968616622907\n",
      "2020-07-09 11:41:00,148:qiskit.aqua.components.optimizers.spsa:DEBUG: Objective function at theta+ for step # 16: 0.6383435\n",
      "2020-07-09 11:41:00,149:qiskit.aqua.components.optimizers.spsa:DEBUG: Objective function at theta- for step # 16: 0.6379969\n",
      "2020-07-09 11:41:05,958:qiskit.aqua.algorithms.classifiers.vqc:DEBUG: Intermediate batch cost: 0.6248652930682886\n",
      "2020-07-09 11:41:11,477:qiskit.aqua.algorithms.classifiers.vqc:DEBUG: Intermediate batch cost: 0.6486327373857813\n",
      "2020-07-09 11:41:11,480:qiskit.aqua.components.optimizers.spsa:DEBUG: Objective function at theta+ for step # 17: 0.6248653\n",
      "2020-07-09 11:41:11,481:qiskit.aqua.components.optimizers.spsa:DEBUG: Objective function at theta- for step # 17: 0.6486327\n"
     ]
    },
    {
     "name": "stderr",
     "output_type": "stream",
     "text": [
      "2020-07-09 11:41:16,967:qiskit.aqua.algorithms.classifiers.vqc:DEBUG: Intermediate batch cost: 0.6151300164268907\n",
      "2020-07-09 11:41:22,460:qiskit.aqua.algorithms.classifiers.vqc:DEBUG: Intermediate batch cost: 0.6358248867734133\n",
      "2020-07-09 11:41:22,463:qiskit.aqua.components.optimizers.spsa:DEBUG: Objective function at theta+ for step # 18: 0.6151300\n",
      "2020-07-09 11:41:22,465:qiskit.aqua.components.optimizers.spsa:DEBUG: Objective function at theta- for step # 18: 0.6358249\n",
      "2020-07-09 11:41:27,997:qiskit.aqua.algorithms.classifiers.vqc:DEBUG: Intermediate batch cost: 0.6147638129022999\n",
      "2020-07-09 11:41:33,505:qiskit.aqua.algorithms.classifiers.vqc:DEBUG: Intermediate batch cost: 0.6195591231134633\n",
      "2020-07-09 11:41:33,507:qiskit.aqua.components.optimizers.spsa:DEBUG: Objective function at theta+ for step # 19: 0.6147638\n",
      "2020-07-09 11:41:33,508:qiskit.aqua.components.optimizers.spsa:DEBUG: Objective function at theta- for step # 19: 0.6195591\n",
      "2020-07-09 11:41:39,038:qiskit.aqua.algorithms.classifiers.vqc:DEBUG: Intermediate batch cost: 0.6124098162138398\n",
      "2020-07-09 11:41:44,549:qiskit.aqua.algorithms.classifiers.vqc:DEBUG: Intermediate batch cost: 0.625345496133672\n",
      "2020-07-09 11:41:44,552:qiskit.aqua.components.optimizers.spsa:DEBUG: Objective function at theta+ for step # 20: 0.6124098\n",
      "2020-07-09 11:41:44,553:qiskit.aqua.components.optimizers.spsa:DEBUG: Objective function at theta- for step # 20: 0.6253455\n",
      "2020-07-09 11:41:50,077:qiskit.aqua.algorithms.classifiers.vqc:DEBUG: Intermediate batch cost: 0.6119398984478094\n",
      "2020-07-09 11:41:57,310:qiskit.aqua.algorithms.classifiers.vqc:DEBUG: Intermediate batch cost: 0.618478800527296\n",
      "2020-07-09 11:41:57,313:qiskit.aqua.components.optimizers.spsa:DEBUG: Objective function at theta+ for step # 21: 0.6119399\n",
      "2020-07-09 11:41:57,315:qiskit.aqua.components.optimizers.spsa:DEBUG: Objective function at theta- for step # 21: 0.6184788\n",
      "2020-07-09 11:42:14,036:qiskit.aqua.algorithms.classifiers.vqc:DEBUG: Intermediate batch cost: 0.6247173190360406\n",
      "2020-07-09 11:42:24,088:qiskit.aqua.algorithms.classifiers.vqc:DEBUG: Intermediate batch cost: 0.619194497538464\n",
      "2020-07-09 11:42:24,090:qiskit.aqua.components.optimizers.spsa:DEBUG: Objective function at theta+ for step # 22: 0.6247173\n",
      "2020-07-09 11:42:24,091:qiskit.aqua.components.optimizers.spsa:DEBUG: Objective function at theta- for step # 22: 0.6191945\n",
      "2020-07-09 11:42:31,637:qiskit.aqua.algorithms.classifiers.vqc:DEBUG: Intermediate batch cost: 0.6101174441968263\n",
      "2020-07-09 11:42:38,834:qiskit.aqua.algorithms.classifiers.vqc:DEBUG: Intermediate batch cost: 0.6221028811936399\n",
      "2020-07-09 11:42:38,837:qiskit.aqua.components.optimizers.spsa:DEBUG: Objective function at theta+ for step # 23: 0.6101174\n",
      "2020-07-09 11:42:38,838:qiskit.aqua.components.optimizers.spsa:DEBUG: Objective function at theta- for step # 23: 0.6221029\n",
      "2020-07-09 11:42:44,813:qiskit.aqua.algorithms.classifiers.vqc:DEBUG: Intermediate batch cost: 0.6202094372457676\n",
      "2020-07-09 11:42:50,826:qiskit.aqua.algorithms.classifiers.vqc:DEBUG: Intermediate batch cost: 0.6088467636686964\n",
      "2020-07-09 11:42:50,829:qiskit.aqua.components.optimizers.spsa:DEBUG: Objective function at theta+ for step # 24: 0.6202094\n",
      "2020-07-09 11:42:50,830:qiskit.aqua.components.optimizers.spsa:DEBUG: Objective function at theta- for step # 24: 0.6088468\n",
      "2020-07-09 11:42:56,519:qiskit.aqua.algorithms.classifiers.vqc:DEBUG: Intermediate batch cost: 0.6180363583241822\n",
      "2020-07-09 11:43:03,252:qiskit.aqua.algorithms.classifiers.vqc:DEBUG: Intermediate batch cost: 0.6093051435368969\n",
      "2020-07-09 11:43:03,255:qiskit.aqua.components.optimizers.spsa:DEBUG: Objective function at theta+ for step # 25: 0.6180364\n",
      "2020-07-09 11:43:03,256:qiskit.aqua.components.optimizers.spsa:DEBUG: Objective function at theta- for step # 25: 0.6093051\n",
      "2020-07-09 11:43:10,527:qiskit.aqua.algorithms.classifiers.vqc:DEBUG: Intermediate batch cost: 0.620203114454893\n",
      "2020-07-09 11:43:18,341:qiskit.aqua.algorithms.classifiers.vqc:DEBUG: Intermediate batch cost: 0.6188177840440139\n",
      "2020-07-09 11:43:18,344:qiskit.aqua.components.optimizers.spsa:DEBUG: Objective function at theta+ for step # 26: 0.6202031\n",
      "2020-07-09 11:43:18,345:qiskit.aqua.components.optimizers.spsa:DEBUG: Objective function at theta- for step # 26: 0.6188178\n",
      "2020-07-09 11:43:23,917:qiskit.aqua.algorithms.classifiers.vqc:DEBUG: Intermediate batch cost: 0.6036021158906015\n",
      "2020-07-09 11:43:29,575:qiskit.aqua.algorithms.classifiers.vqc:DEBUG: Intermediate batch cost: 0.6194413561386889\n",
      "2020-07-09 11:43:29,578:qiskit.aqua.components.optimizers.spsa:DEBUG: Objective function at theta+ for step # 27: 0.6036021\n",
      "2020-07-09 11:43:29,579:qiskit.aqua.components.optimizers.spsa:DEBUG: Objective function at theta- for step # 27: 0.6194414\n",
      "2020-07-09 11:43:35,561:qiskit.aqua.algorithms.classifiers.vqc:DEBUG: Intermediate batch cost: 0.6083268132479351\n",
      "2020-07-09 11:43:41,062:qiskit.aqua.algorithms.classifiers.vqc:DEBUG: Intermediate batch cost: 0.6108923070048303\n",
      "2020-07-09 11:43:41,064:qiskit.aqua.components.optimizers.spsa:DEBUG: Objective function at theta+ for step # 28: 0.6083268\n",
      "2020-07-09 11:43:41,065:qiskit.aqua.components.optimizers.spsa:DEBUG: Objective function at theta- for step # 28: 0.6108923\n",
      "2020-07-09 11:43:49,381:qiskit.aqua.algorithms.classifiers.vqc:DEBUG: Intermediate batch cost: 0.6064505643790117\n",
      "2020-07-09 11:43:58,773:qiskit.aqua.algorithms.classifiers.vqc:DEBUG: Intermediate batch cost: 0.607063847784614\n",
      "2020-07-09 11:43:58,776:qiskit.aqua.components.optimizers.spsa:DEBUG: Objective function at theta+ for step # 29: 0.6064506\n",
      "2020-07-09 11:43:58,777:qiskit.aqua.components.optimizers.spsa:DEBUG: Objective function at theta- for step # 29: 0.6070638\n",
      "2020-07-09 11:44:05,215:qiskit.aqua.algorithms.classifiers.vqc:DEBUG: Intermediate batch cost: 0.6110738753474219\n",
      "2020-07-09 11:44:17,615:qiskit.aqua.algorithms.classifiers.vqc:DEBUG: Intermediate batch cost: 0.6058265878235078\n",
      "2020-07-09 11:44:17,620:qiskit.aqua.components.optimizers.spsa:DEBUG: Objective function at theta+ for step # 30: 0.6110739\n",
      "2020-07-09 11:44:17,621:qiskit.aqua.components.optimizers.spsa:DEBUG: Objective function at theta- for step # 30: 0.6058266\n",
      "2020-07-09 11:44:25,321:qiskit.aqua.algorithms.classifiers.vqc:DEBUG: Intermediate batch cost: 0.6128537178848498\n",
      "2020-07-09 11:44:32,170:qiskit.aqua.algorithms.classifiers.vqc:DEBUG: Intermediate batch cost: 0.6077979161752107\n",
      "2020-07-09 11:44:32,173:qiskit.aqua.components.optimizers.spsa:DEBUG: Objective function at theta+ for step # 31: 0.6128537\n",
      "2020-07-09 11:44:32,174:qiskit.aqua.components.optimizers.spsa:DEBUG: Objective function at theta- for step # 31: 0.6077979\n",
      "2020-07-09 11:44:38,312:qiskit.aqua.algorithms.classifiers.vqc:DEBUG: Intermediate batch cost: 0.6095637725021751\n",
      "2020-07-09 11:44:44,874:qiskit.aqua.algorithms.classifiers.vqc:DEBUG: Intermediate batch cost: 0.6054320441024932\n",
      "2020-07-09 11:44:44,876:qiskit.aqua.components.optimizers.spsa:DEBUG: Objective function at theta+ for step # 32: 0.6095638\n",
      "2020-07-09 11:44:44,878:qiskit.aqua.components.optimizers.spsa:DEBUG: Objective function at theta- for step # 32: 0.6054320\n",
      "2020-07-09 11:44:52,124:qiskit.aqua.algorithms.classifiers.vqc:DEBUG: Intermediate batch cost: 0.6146714036253814\n",
      "2020-07-09 11:45:00,098:qiskit.aqua.algorithms.classifiers.vqc:DEBUG: Intermediate batch cost: 0.6020166031322616\n",
      "2020-07-09 11:45:00,102:qiskit.aqua.components.optimizers.spsa:DEBUG: Objective function at theta+ for step # 33: 0.6146714\n",
      "2020-07-09 11:45:00,103:qiskit.aqua.components.optimizers.spsa:DEBUG: Objective function at theta- for step # 33: 0.6020166\n",
      "2020-07-09 11:45:08,926:qiskit.aqua.algorithms.classifiers.vqc:DEBUG: Intermediate batch cost: 0.6120953796379169\n",
      "2020-07-09 11:45:14,638:qiskit.aqua.algorithms.classifiers.vqc:DEBUG: Intermediate batch cost: 0.5999152296469183\n",
      "2020-07-09 11:45:14,641:qiskit.aqua.components.optimizers.spsa:DEBUG: Objective function at theta+ for step # 34: 0.6120954\n",
      "2020-07-09 11:45:14,641:qiskit.aqua.components.optimizers.spsa:DEBUG: Objective function at theta- for step # 34: 0.5999152\n",
      "2020-07-09 11:45:20,417:qiskit.aqua.algorithms.classifiers.vqc:DEBUG: Intermediate batch cost: 0.6098599022800193\n"
     ]
    },
    {
     "name": "stderr",
     "output_type": "stream",
     "text": [
      "2020-07-09 11:45:32,954:qiskit.aqua.algorithms.classifiers.vqc:DEBUG: Intermediate batch cost: 0.6024558134203376\n",
      "2020-07-09 11:45:32,956:qiskit.aqua.components.optimizers.spsa:DEBUG: Objective function at theta+ for step # 35: 0.6098599\n",
      "2020-07-09 11:45:32,958:qiskit.aqua.components.optimizers.spsa:DEBUG: Objective function at theta- for step # 35: 0.6024558\n",
      "2020-07-09 11:45:41,305:qiskit.aqua.algorithms.classifiers.vqc:DEBUG: Intermediate batch cost: 0.5951698017123594\n",
      "2020-07-09 11:45:51,922:qiskit.aqua.algorithms.classifiers.vqc:DEBUG: Intermediate batch cost: 0.6092269931753085\n",
      "2020-07-09 11:45:51,924:qiskit.aqua.components.optimizers.spsa:DEBUG: Objective function at theta+ for step # 36: 0.5951698\n",
      "2020-07-09 11:45:51,925:qiskit.aqua.components.optimizers.spsa:DEBUG: Objective function at theta- for step # 36: 0.6092270\n",
      "2020-07-09 11:45:59,407:qiskit.aqua.algorithms.classifiers.vqc:DEBUG: Intermediate batch cost: 0.5953872787567873\n",
      "2020-07-09 11:46:06,622:qiskit.aqua.algorithms.classifiers.vqc:DEBUG: Intermediate batch cost: 0.5997439401900386\n",
      "2020-07-09 11:46:06,624:qiskit.aqua.components.optimizers.spsa:DEBUG: Objective function at theta+ for step # 37: 0.5953873\n",
      "2020-07-09 11:46:06,625:qiskit.aqua.components.optimizers.spsa:DEBUG: Objective function at theta- for step # 37: 0.5997439\n",
      "2020-07-09 11:46:15,349:qiskit.aqua.algorithms.classifiers.vqc:DEBUG: Intermediate batch cost: 0.6061467551553194\n",
      "2020-07-09 11:46:21,649:qiskit.aqua.algorithms.classifiers.vqc:DEBUG: Intermediate batch cost: 0.5916343313128379\n",
      "2020-07-09 11:46:21,652:qiskit.aqua.components.optimizers.spsa:DEBUG: Objective function at theta+ for step # 38: 0.6061468\n",
      "2020-07-09 11:46:21,652:qiskit.aqua.components.optimizers.spsa:DEBUG: Objective function at theta- for step # 38: 0.5916343\n",
      "2020-07-09 11:46:27,890:qiskit.aqua.algorithms.classifiers.vqc:DEBUG: Intermediate batch cost: 0.6031654612664182\n",
      "2020-07-09 11:46:34,312:qiskit.aqua.algorithms.classifiers.vqc:DEBUG: Intermediate batch cost: 0.5880955758095355\n",
      "2020-07-09 11:46:34,315:qiskit.aqua.components.optimizers.spsa:DEBUG: Objective function at theta+ for step # 39: 0.6031655\n",
      "2020-07-09 11:46:34,316:qiskit.aqua.components.optimizers.spsa:DEBUG: Objective function at theta- for step # 39: 0.5880956\n",
      "2020-07-09 11:46:40,662:qiskit.aqua.algorithms.classifiers.vqc:DEBUG: Intermediate batch cost: 0.5989837587653403\n",
      "2020-07-09 11:46:46,895:qiskit.aqua.algorithms.classifiers.vqc:DEBUG: Intermediate batch cost: 0.5907343882127792\n",
      "2020-07-09 11:46:46,897:qiskit.aqua.components.optimizers.spsa:DEBUG: Objective function at theta+ for step # 40: 0.5989838\n",
      "2020-07-09 11:46:46,899:qiskit.aqua.components.optimizers.spsa:DEBUG: Objective function at theta- for step # 40: 0.5907344\n",
      "2020-07-09 11:46:53,117:qiskit.aqua.algorithms.classifiers.vqc:DEBUG: Intermediate batch cost: 0.5898408599489321\n",
      "2020-07-09 11:46:59,384:qiskit.aqua.algorithms.classifiers.vqc:DEBUG: Intermediate batch cost: 0.5953381489819329\n",
      "2020-07-09 11:46:59,386:qiskit.aqua.components.optimizers.spsa:DEBUG: Objective function at theta+ for step # 41: 0.5898409\n",
      "2020-07-09 11:46:59,387:qiskit.aqua.components.optimizers.spsa:DEBUG: Objective function at theta- for step # 41: 0.5953381\n",
      "2020-07-09 11:47:05,747:qiskit.aqua.algorithms.classifiers.vqc:DEBUG: Intermediate batch cost: 0.5947531737821864\n",
      "2020-07-09 11:47:11,946:qiskit.aqua.algorithms.classifiers.vqc:DEBUG: Intermediate batch cost: 0.5870196777078723\n",
      "2020-07-09 11:47:11,948:qiskit.aqua.components.optimizers.spsa:DEBUG: Objective function at theta+ for step # 42: 0.5947532\n",
      "2020-07-09 11:47:11,949:qiskit.aqua.components.optimizers.spsa:DEBUG: Objective function at theta- for step # 42: 0.5870197\n",
      "2020-07-09 11:47:18,232:qiskit.aqua.algorithms.classifiers.vqc:DEBUG: Intermediate batch cost: 0.5901954579325234\n",
      "2020-07-09 11:47:24,592:qiskit.aqua.algorithms.classifiers.vqc:DEBUG: Intermediate batch cost: 0.5867711061579252\n",
      "2020-07-09 11:47:24,594:qiskit.aqua.components.optimizers.spsa:DEBUG: Objective function at theta+ for step # 43: 0.5901955\n",
      "2020-07-09 11:47:24,597:qiskit.aqua.components.optimizers.spsa:DEBUG: Objective function at theta- for step # 43: 0.5867711\n",
      "2020-07-09 11:47:30,893:qiskit.aqua.algorithms.classifiers.vqc:DEBUG: Intermediate batch cost: 0.5944272531739199\n",
      "2020-07-09 11:47:37,200:qiskit.aqua.algorithms.classifiers.vqc:DEBUG: Intermediate batch cost: 0.590590237482496\n",
      "2020-07-09 11:47:37,202:qiskit.aqua.components.optimizers.spsa:DEBUG: Objective function at theta+ for step # 44: 0.5944273\n",
      "2020-07-09 11:47:37,204:qiskit.aqua.components.optimizers.spsa:DEBUG: Objective function at theta- for step # 44: 0.5905902\n",
      "2020-07-09 11:47:43,725:qiskit.aqua.algorithms.classifiers.vqc:DEBUG: Intermediate batch cost: 0.5909620358730746\n",
      "2020-07-09 11:47:49,588:qiskit.aqua.algorithms.classifiers.vqc:DEBUG: Intermediate batch cost: 0.5851856840554167\n",
      "2020-07-09 11:47:49,590:qiskit.aqua.components.optimizers.spsa:DEBUG: Objective function at theta+ for step # 45: 0.5909620\n",
      "2020-07-09 11:47:49,591:qiskit.aqua.components.optimizers.spsa:DEBUG: Objective function at theta- for step # 45: 0.5851857\n",
      "2020-07-09 11:47:55,362:qiskit.aqua.algorithms.classifiers.vqc:DEBUG: Intermediate batch cost: 0.5926474203993679\n",
      "2020-07-09 11:48:01,201:qiskit.aqua.algorithms.classifiers.vqc:DEBUG: Intermediate batch cost: 0.5894944477773367\n",
      "2020-07-09 11:48:01,203:qiskit.aqua.components.optimizers.spsa:DEBUG: Objective function at theta+ for step # 46: 0.5926474\n",
      "2020-07-09 11:48:01,204:qiskit.aqua.components.optimizers.spsa:DEBUG: Objective function at theta- for step # 46: 0.5894944\n",
      "2020-07-09 11:48:07,087:qiskit.aqua.algorithms.classifiers.vqc:DEBUG: Intermediate batch cost: 0.5871680782243847\n",
      "2020-07-09 11:48:13,235:qiskit.aqua.algorithms.classifiers.vqc:DEBUG: Intermediate batch cost: 0.5892576630903078\n",
      "2020-07-09 11:48:13,237:qiskit.aqua.components.optimizers.spsa:DEBUG: Objective function at theta+ for step # 47: 0.5871681\n",
      "2020-07-09 11:48:13,238:qiskit.aqua.components.optimizers.spsa:DEBUG: Objective function at theta- for step # 47: 0.5892577\n",
      "2020-07-09 11:48:19,618:qiskit.aqua.algorithms.classifiers.vqc:DEBUG: Intermediate batch cost: 0.5892198319200342\n",
      "2020-07-09 11:48:26,037:qiskit.aqua.algorithms.classifiers.vqc:DEBUG: Intermediate batch cost: 0.586243793767485\n",
      "2020-07-09 11:48:26,041:qiskit.aqua.components.optimizers.spsa:DEBUG: Objective function at theta+ for step # 48: 0.5892198\n",
      "2020-07-09 11:48:26,043:qiskit.aqua.components.optimizers.spsa:DEBUG: Objective function at theta- for step # 48: 0.5862438\n",
      "2020-07-09 11:48:32,279:qiskit.aqua.algorithms.classifiers.vqc:DEBUG: Intermediate batch cost: 0.5922944271293017\n",
      "2020-07-09 11:48:38,709:qiskit.aqua.algorithms.classifiers.vqc:DEBUG: Intermediate batch cost: 0.5929798385139226\n",
      "2020-07-09 11:48:38,712:qiskit.aqua.components.optimizers.spsa:DEBUG: Objective function at theta+ for step # 49: 0.5922944\n",
      "2020-07-09 11:48:38,713:qiskit.aqua.components.optimizers.spsa:DEBUG: Objective function at theta- for step # 49: 0.5929798\n",
      "2020-07-09 11:48:44,983:qiskit.aqua.algorithms.classifiers.vqc:DEBUG: Intermediate batch cost: 0.587990143811374\n",
      "2020-07-09 11:48:51,442:qiskit.aqua.algorithms.classifiers.vqc:DEBUG: Intermediate batch cost: 0.5883994938140152\n",
      "2020-07-09 11:48:51,445:qiskit.aqua.components.optimizers.spsa:DEBUG: Objective function at theta+ for step # 50: 0.5879901\n",
      "2020-07-09 11:48:51,446:qiskit.aqua.components.optimizers.spsa:DEBUG: Objective function at theta- for step # 50: 0.5883995\n",
      "2020-07-09 11:48:57,858:qiskit.aqua.algorithms.classifiers.vqc:DEBUG: Intermediate batch cost: 0.5885525930203352\n",
      "2020-07-09 11:49:04,514:qiskit.aqua.algorithms.classifiers.vqc:DEBUG: Intermediate batch cost: 0.5894699740696705\n",
      "2020-07-09 11:49:04,517:qiskit.aqua.components.optimizers.spsa:DEBUG: Objective function at theta+ for step # 51: 0.5885526\n",
      "2020-07-09 11:49:04,518:qiskit.aqua.components.optimizers.spsa:DEBUG: Objective function at theta- for step # 51: 0.5894700\n",
      "2020-07-09 11:49:10,778:qiskit.aqua.algorithms.classifiers.vqc:DEBUG: Intermediate batch cost: 0.5902203657860009\n",
      "2020-07-09 11:49:17,140:qiskit.aqua.algorithms.classifiers.vqc:DEBUG: Intermediate batch cost: 0.5886399623341997\n"
     ]
    },
    {
     "name": "stderr",
     "output_type": "stream",
     "text": [
      "2020-07-09 11:49:17,143:qiskit.aqua.components.optimizers.spsa:DEBUG: Objective function at theta+ for step # 52: 0.5902204\n",
      "2020-07-09 11:49:17,144:qiskit.aqua.components.optimizers.spsa:DEBUG: Objective function at theta- for step # 52: 0.5886400\n",
      "2020-07-09 11:49:23,371:qiskit.aqua.algorithms.classifiers.vqc:DEBUG: Intermediate batch cost: 0.5860824783112702\n",
      "2020-07-09 11:49:29,891:qiskit.aqua.algorithms.classifiers.vqc:DEBUG: Intermediate batch cost: 0.5910701146263401\n",
      "2020-07-09 11:49:29,894:qiskit.aqua.components.optimizers.spsa:DEBUG: Objective function at theta+ for step # 53: 0.5860825\n",
      "2020-07-09 11:49:29,894:qiskit.aqua.components.optimizers.spsa:DEBUG: Objective function at theta- for step # 53: 0.5910701\n",
      "2020-07-09 11:49:37,348:qiskit.aqua.algorithms.classifiers.vqc:DEBUG: Intermediate batch cost: 0.5859216193896623\n",
      "2020-07-09 11:49:43,733:qiskit.aqua.algorithms.classifiers.vqc:DEBUG: Intermediate batch cost: 0.5881465574414001\n",
      "2020-07-09 11:49:43,736:qiskit.aqua.components.optimizers.spsa:DEBUG: Objective function at theta+ for step # 54: 0.5859216\n",
      "2020-07-09 11:49:43,737:qiskit.aqua.components.optimizers.spsa:DEBUG: Objective function at theta- for step # 54: 0.5881466\n",
      "2020-07-09 11:49:50,112:qiskit.aqua.algorithms.classifiers.vqc:DEBUG: Intermediate batch cost: 0.5906981421955971\n",
      "2020-07-09 11:49:56,812:qiskit.aqua.algorithms.classifiers.vqc:DEBUG: Intermediate batch cost: 0.5877991790621253\n",
      "2020-07-09 11:49:56,815:qiskit.aqua.components.optimizers.spsa:DEBUG: Objective function at theta+ for step # 55: 0.5906981\n",
      "2020-07-09 11:49:56,818:qiskit.aqua.components.optimizers.spsa:DEBUG: Objective function at theta- for step # 55: 0.5877992\n",
      "2020-07-09 11:50:03,092:qiskit.aqua.algorithms.classifiers.vqc:DEBUG: Intermediate batch cost: 0.5845568908486726\n",
      "2020-07-09 11:50:09,567:qiskit.aqua.algorithms.classifiers.vqc:DEBUG: Intermediate batch cost: 0.5899564055853571\n",
      "2020-07-09 11:50:09,570:qiskit.aqua.components.optimizers.spsa:DEBUG: Objective function at theta+ for step # 56: 0.5845569\n",
      "2020-07-09 11:50:09,571:qiskit.aqua.components.optimizers.spsa:DEBUG: Objective function at theta- for step # 56: 0.5899564\n",
      "2020-07-09 11:50:15,857:qiskit.aqua.algorithms.classifiers.vqc:DEBUG: Intermediate batch cost: 0.5818451250925473\n",
      "2020-07-09 11:50:22,198:qiskit.aqua.algorithms.classifiers.vqc:DEBUG: Intermediate batch cost: 0.5893735295926353\n",
      "2020-07-09 11:50:22,201:qiskit.aqua.components.optimizers.spsa:DEBUG: Objective function at theta+ for step # 57: 0.5818451\n",
      "2020-07-09 11:50:22,201:qiskit.aqua.components.optimizers.spsa:DEBUG: Objective function at theta- for step # 57: 0.5893735\n",
      "2020-07-09 11:50:28,572:qiskit.aqua.algorithms.classifiers.vqc:DEBUG: Intermediate batch cost: 0.5829483954341739\n",
      "2020-07-09 11:50:34,868:qiskit.aqua.algorithms.classifiers.vqc:DEBUG: Intermediate batch cost: 0.5908580079155897\n",
      "2020-07-09 11:50:34,870:qiskit.aqua.components.optimizers.spsa:DEBUG: Objective function at theta+ for step # 58: 0.5829484\n",
      "2020-07-09 11:50:34,872:qiskit.aqua.components.optimizers.spsa:DEBUG: Objective function at theta- for step # 58: 0.5908580\n",
      "2020-07-09 11:50:41,043:qiskit.aqua.algorithms.classifiers.vqc:DEBUG: Intermediate batch cost: 0.5849857896123787\n",
      "2020-07-09 11:50:47,317:qiskit.aqua.algorithms.classifiers.vqc:DEBUG: Intermediate batch cost: 0.5882826508599162\n",
      "2020-07-09 11:50:47,319:qiskit.aqua.components.optimizers.spsa:DEBUG: Objective function at theta+ for step # 59: 0.5849858\n",
      "2020-07-09 11:50:47,320:qiskit.aqua.components.optimizers.spsa:DEBUG: Objective function at theta- for step # 59: 0.5882827\n",
      "2020-07-09 11:50:53,568:qiskit.aqua.algorithms.classifiers.vqc:DEBUG: Intermediate batch cost: 0.5883266485074163\n",
      "2020-07-09 11:51:00,132:qiskit.aqua.algorithms.classifiers.vqc:DEBUG: Intermediate batch cost: 0.5874835493603993\n",
      "2020-07-09 11:51:00,135:qiskit.aqua.components.optimizers.spsa:DEBUG: Objective function at theta+ for step # 60: 0.5883266\n",
      "2020-07-09 11:51:00,136:qiskit.aqua.components.optimizers.spsa:DEBUG: Objective function at theta- for step # 60: 0.5874835\n",
      "2020-07-09 11:51:06,779:qiskit.aqua.algorithms.classifiers.vqc:DEBUG: Intermediate batch cost: 0.5847788428996358\n",
      "2020-07-09 11:51:13,137:qiskit.aqua.algorithms.classifiers.vqc:DEBUG: Intermediate batch cost: 0.5866231839555844\n",
      "2020-07-09 11:51:13,140:qiskit.aqua.components.optimizers.spsa:DEBUG: Objective function at theta+ for step # 61: 0.5847788\n",
      "2020-07-09 11:51:13,141:qiskit.aqua.components.optimizers.spsa:DEBUG: Objective function at theta- for step # 61: 0.5866232\n",
      "2020-07-09 11:51:19,450:qiskit.aqua.algorithms.classifiers.vqc:DEBUG: Intermediate batch cost: 0.583498704786276\n",
      "2020-07-09 11:51:25,872:qiskit.aqua.algorithms.classifiers.vqc:DEBUG: Intermediate batch cost: 0.5855371893660615\n",
      "2020-07-09 11:51:25,874:qiskit.aqua.components.optimizers.spsa:DEBUG: Objective function at theta+ for step # 62: 0.5834987\n",
      "2020-07-09 11:51:25,878:qiskit.aqua.components.optimizers.spsa:DEBUG: Objective function at theta- for step # 62: 0.5855372\n",
      "2020-07-09 11:51:32,160:qiskit.aqua.algorithms.classifiers.vqc:DEBUG: Intermediate batch cost: 0.5899046348481085\n",
      "2020-07-09 11:51:38,514:qiskit.aqua.algorithms.classifiers.vqc:DEBUG: Intermediate batch cost: 0.5836084148448536\n",
      "2020-07-09 11:51:38,517:qiskit.aqua.components.optimizers.spsa:DEBUG: Objective function at theta+ for step # 63: 0.5899046\n",
      "2020-07-09 11:51:38,518:qiskit.aqua.components.optimizers.spsa:DEBUG: Objective function at theta- for step # 63: 0.5836084\n",
      "2020-07-09 11:51:44,893:qiskit.aqua.algorithms.classifiers.vqc:DEBUG: Intermediate batch cost: 0.5851555614603818\n",
      "2020-07-09 11:51:51,130:qiskit.aqua.algorithms.classifiers.vqc:DEBUG: Intermediate batch cost: 0.5834972302837979\n",
      "2020-07-09 11:51:51,133:qiskit.aqua.components.optimizers.spsa:DEBUG: Objective function at theta+ for step # 64: 0.5851556\n",
      "2020-07-09 11:51:51,135:qiskit.aqua.components.optimizers.spsa:DEBUG: Objective function at theta- for step # 64: 0.5834972\n",
      "2020-07-09 11:51:57,519:qiskit.aqua.algorithms.classifiers.vqc:DEBUG: Intermediate batch cost: 0.5876288939667429\n",
      "2020-07-09 11:52:03,744:qiskit.aqua.algorithms.classifiers.vqc:DEBUG: Intermediate batch cost: 0.588074150942864\n",
      "2020-07-09 11:52:03,746:qiskit.aqua.components.optimizers.spsa:DEBUG: Objective function at theta+ for step # 65: 0.5876289\n",
      "2020-07-09 11:52:03,747:qiskit.aqua.components.optimizers.spsa:DEBUG: Objective function at theta- for step # 65: 0.5880742\n",
      "2020-07-09 11:52:10,111:qiskit.aqua.algorithms.classifiers.vqc:DEBUG: Intermediate batch cost: 0.5858254582809687\n",
      "2020-07-09 11:52:16,391:qiskit.aqua.algorithms.classifiers.vqc:DEBUG: Intermediate batch cost: 0.5858310368972536\n",
      "2020-07-09 11:52:16,394:qiskit.aqua.components.optimizers.spsa:DEBUG: Objective function at theta+ for step # 66: 0.5858255\n",
      "2020-07-09 11:52:16,396:qiskit.aqua.components.optimizers.spsa:DEBUG: Objective function at theta- for step # 66: 0.5858310\n",
      "2020-07-09 11:52:22,627:qiskit.aqua.algorithms.classifiers.vqc:DEBUG: Intermediate batch cost: 0.5878309500541801\n",
      "2020-07-09 11:52:28,999:qiskit.aqua.algorithms.classifiers.vqc:DEBUG: Intermediate batch cost: 0.5795261881273682\n",
      "2020-07-09 11:52:29,002:qiskit.aqua.components.optimizers.spsa:DEBUG: Objective function at theta+ for step # 67: 0.5878310\n",
      "2020-07-09 11:52:29,002:qiskit.aqua.components.optimizers.spsa:DEBUG: Objective function at theta- for step # 67: 0.5795262\n",
      "2020-07-09 11:52:35,308:qiskit.aqua.algorithms.classifiers.vqc:DEBUG: Intermediate batch cost: 0.5842418834407362\n",
      "2020-07-09 11:52:41,493:qiskit.aqua.algorithms.classifiers.vqc:DEBUG: Intermediate batch cost: 0.5812660406233533\n",
      "2020-07-09 11:52:41,496:qiskit.aqua.components.optimizers.spsa:DEBUG: Objective function at theta+ for step # 68: 0.5842419\n",
      "2020-07-09 11:52:41,496:qiskit.aqua.components.optimizers.spsa:DEBUG: Objective function at theta- for step # 68: 0.5812660\n",
      "2020-07-09 11:52:47,882:qiskit.aqua.algorithms.classifiers.vqc:DEBUG: Intermediate batch cost: 0.5830947588274188\n",
      "2020-07-09 11:52:54,158:qiskit.aqua.algorithms.classifiers.vqc:DEBUG: Intermediate batch cost: 0.5854594429848429\n",
      "2020-07-09 11:52:54,161:qiskit.aqua.components.optimizers.spsa:DEBUG: Objective function at theta+ for step # 69: 0.5830948\n"
     ]
    },
    {
     "name": "stderr",
     "output_type": "stream",
     "text": [
      "2020-07-09 11:52:54,162:qiskit.aqua.components.optimizers.spsa:DEBUG: Objective function at theta- for step # 69: 0.5854594\n",
      "2020-07-09 11:53:00,476:qiskit.aqua.algorithms.classifiers.vqc:DEBUG: Intermediate batch cost: 0.5853732133781349\n",
      "2020-07-09 11:53:06,726:qiskit.aqua.algorithms.classifiers.vqc:DEBUG: Intermediate batch cost: 0.5892387101258667\n",
      "2020-07-09 11:53:06,729:qiskit.aqua.components.optimizers.spsa:DEBUG: Objective function at theta+ for step # 70: 0.5853732\n",
      "2020-07-09 11:53:06,730:qiskit.aqua.components.optimizers.spsa:DEBUG: Objective function at theta- for step # 70: 0.5892387\n",
      "2020-07-09 11:53:13,408:qiskit.aqua.algorithms.classifiers.vqc:DEBUG: Intermediate batch cost: 0.5860557644145721\n",
      "2020-07-09 11:53:20,888:qiskit.aqua.algorithms.classifiers.vqc:DEBUG: Intermediate batch cost: 0.5800534067599752\n",
      "2020-07-09 11:53:20,891:qiskit.aqua.components.optimizers.spsa:DEBUG: Objective function at theta+ for step # 71: 0.5860558\n",
      "2020-07-09 11:53:20,892:qiskit.aqua.components.optimizers.spsa:DEBUG: Objective function at theta- for step # 71: 0.5800534\n",
      "2020-07-09 11:53:28,319:qiskit.aqua.algorithms.classifiers.vqc:DEBUG: Intermediate batch cost: 0.5780043456938795\n",
      "2020-07-09 11:53:35,320:qiskit.aqua.algorithms.classifiers.vqc:DEBUG: Intermediate batch cost: 0.5867220943403272\n",
      "2020-07-09 11:53:35,322:qiskit.aqua.components.optimizers.spsa:DEBUG: Objective function at theta+ for step # 72: 0.5780043\n",
      "2020-07-09 11:53:35,323:qiskit.aqua.components.optimizers.spsa:DEBUG: Objective function at theta- for step # 72: 0.5867221\n",
      "2020-07-09 11:53:40,915:qiskit.aqua.algorithms.classifiers.vqc:DEBUG: Intermediate batch cost: 0.5882247362715912\n",
      "2020-07-09 11:53:46,520:qiskit.aqua.algorithms.classifiers.vqc:DEBUG: Intermediate batch cost: 0.5771361694568626\n",
      "2020-07-09 11:53:46,523:qiskit.aqua.components.optimizers.spsa:DEBUG: Objective function at theta+ for step # 73: 0.5882247\n",
      "2020-07-09 11:53:46,525:qiskit.aqua.components.optimizers.spsa:DEBUG: Objective function at theta- for step # 73: 0.5771362\n",
      "2020-07-09 11:53:52,153:qiskit.aqua.algorithms.classifiers.vqc:DEBUG: Intermediate batch cost: 0.580437158561783\n",
      "2020-07-09 11:53:57,878:qiskit.aqua.algorithms.classifiers.vqc:DEBUG: Intermediate batch cost: 0.5794590258277326\n",
      "2020-07-09 11:53:57,881:qiskit.aqua.components.optimizers.spsa:DEBUG: Objective function at theta+ for step # 74: 0.5804372\n",
      "2020-07-09 11:53:57,882:qiskit.aqua.components.optimizers.spsa:DEBUG: Objective function at theta- for step # 74: 0.5794590\n",
      "2020-07-09 11:54:03,558:qiskit.aqua.algorithms.classifiers.vqc:DEBUG: Intermediate batch cost: 0.5819281584514846\n",
      "2020-07-09 11:54:09,283:qiskit.aqua.algorithms.classifiers.vqc:DEBUG: Intermediate batch cost: 0.5806481420465318\n",
      "2020-07-09 11:54:09,286:qiskit.aqua.components.optimizers.spsa:DEBUG: Objective function at theta+ for step # 75: 0.5819282\n",
      "2020-07-09 11:54:09,288:qiskit.aqua.components.optimizers.spsa:DEBUG: Objective function at theta- for step # 75: 0.5806481\n",
      "2020-07-09 11:54:14,797:qiskit.aqua.algorithms.classifiers.vqc:DEBUG: Intermediate batch cost: 0.5798355084006422\n",
      "2020-07-09 11:54:20,329:qiskit.aqua.algorithms.classifiers.vqc:DEBUG: Intermediate batch cost: 0.5752745782199323\n",
      "2020-07-09 11:54:20,331:qiskit.aqua.components.optimizers.spsa:DEBUG: Objective function at theta+ for step # 76: 0.5798355\n",
      "2020-07-09 11:54:20,332:qiskit.aqua.components.optimizers.spsa:DEBUG: Objective function at theta- for step # 76: 0.5752746\n",
      "2020-07-09 11:54:25,903:qiskit.aqua.algorithms.classifiers.vqc:DEBUG: Intermediate batch cost: 0.5761550344605146\n",
      "2020-07-09 11:54:33,092:qiskit.aqua.algorithms.classifiers.vqc:DEBUG: Intermediate batch cost: 0.5817194869093502\n",
      "2020-07-09 11:54:33,095:qiskit.aqua.components.optimizers.spsa:DEBUG: Objective function at theta+ for step # 77: 0.5761550\n",
      "2020-07-09 11:54:33,118:qiskit.aqua.components.optimizers.spsa:DEBUG: Objective function at theta- for step # 77: 0.5817195\n",
      "2020-07-09 11:54:40,275:qiskit.aqua.algorithms.classifiers.vqc:DEBUG: Intermediate batch cost: 0.5770504203691457\n",
      "2020-07-09 11:54:45,889:qiskit.aqua.algorithms.classifiers.vqc:DEBUG: Intermediate batch cost: 0.5811893230258216\n",
      "2020-07-09 11:54:45,893:qiskit.aqua.components.optimizers.spsa:DEBUG: Objective function at theta+ for step # 78: 0.5770504\n",
      "2020-07-09 11:54:45,894:qiskit.aqua.components.optimizers.spsa:DEBUG: Objective function at theta- for step # 78: 0.5811893\n",
      "2020-07-09 11:54:52,055:qiskit.aqua.algorithms.classifiers.vqc:DEBUG: Intermediate batch cost: 0.5810888887184616\n",
      "2020-07-09 11:54:58,083:qiskit.aqua.algorithms.classifiers.vqc:DEBUG: Intermediate batch cost: 0.5777489345883516\n",
      "2020-07-09 11:54:58,087:qiskit.aqua.components.optimizers.spsa:DEBUG: Objective function at theta+ for step # 79: 0.5810889\n",
      "2020-07-09 11:54:58,089:qiskit.aqua.components.optimizers.spsa:DEBUG: Objective function at theta- for step # 79: 0.5777489\n",
      "2020-07-09 11:55:03,915:qiskit.aqua.algorithms.classifiers.vqc:DEBUG: Intermediate batch cost: 0.5822124356405686\n",
      "2020-07-09 11:55:09,861:qiskit.aqua.algorithms.classifiers.vqc:DEBUG: Intermediate batch cost: 0.5752648143132129\n",
      "2020-07-09 11:55:09,863:qiskit.aqua.components.optimizers.spsa:DEBUG: Objective function at theta+ for step # 80: 0.5822124\n",
      "2020-07-09 11:55:09,864:qiskit.aqua.components.optimizers.spsa:DEBUG: Objective function at theta- for step # 80: 0.5752648\n",
      "2020-07-09 11:55:15,836:qiskit.aqua.algorithms.classifiers.vqc:DEBUG: Intermediate batch cost: 0.5807438689722574\n",
      "2020-07-09 11:55:22,228:qiskit.aqua.algorithms.classifiers.vqc:DEBUG: Intermediate batch cost: 0.5767773168509219\n",
      "2020-07-09 11:55:22,230:qiskit.aqua.components.optimizers.spsa:DEBUG: Objective function at theta+ for step # 81: 0.5807439\n",
      "2020-07-09 11:55:22,233:qiskit.aqua.components.optimizers.spsa:DEBUG: Objective function at theta- for step # 81: 0.5767773\n",
      "2020-07-09 11:55:29,972:qiskit.aqua.algorithms.classifiers.vqc:DEBUG: Intermediate batch cost: 0.5817519915961236\n",
      "2020-07-09 11:55:36,756:qiskit.aqua.algorithms.classifiers.vqc:DEBUG: Intermediate batch cost: 0.5767629074879171\n",
      "2020-07-09 11:55:36,758:qiskit.aqua.components.optimizers.spsa:DEBUG: Objective function at theta+ for step # 82: 0.5817520\n",
      "2020-07-09 11:55:36,759:qiskit.aqua.components.optimizers.spsa:DEBUG: Objective function at theta- for step # 82: 0.5767629\n",
      "2020-07-09 11:55:43,684:qiskit.aqua.algorithms.classifiers.vqc:DEBUG: Intermediate batch cost: 0.5758110234689117\n",
      "2020-07-09 11:55:49,320:qiskit.aqua.algorithms.classifiers.vqc:DEBUG: Intermediate batch cost: 0.5762170349906552\n",
      "2020-07-09 11:55:49,323:qiskit.aqua.components.optimizers.spsa:DEBUG: Objective function at theta+ for step # 83: 0.5758110\n",
      "2020-07-09 11:55:49,323:qiskit.aqua.components.optimizers.spsa:DEBUG: Objective function at theta- for step # 83: 0.5762170\n",
      "2020-07-09 11:55:54,987:qiskit.aqua.algorithms.classifiers.vqc:DEBUG: Intermediate batch cost: 0.5763947585423974\n",
      "2020-07-09 11:56:00,852:qiskit.aqua.algorithms.classifiers.vqc:DEBUG: Intermediate batch cost: 0.575515700198162\n",
      "2020-07-09 11:56:00,855:qiskit.aqua.components.optimizers.spsa:DEBUG: Objective function at theta+ for step # 84: 0.5763948\n",
      "2020-07-09 11:56:00,855:qiskit.aqua.components.optimizers.spsa:DEBUG: Objective function at theta- for step # 84: 0.5755157\n",
      "2020-07-09 11:56:06,451:qiskit.aqua.algorithms.classifiers.vqc:DEBUG: Intermediate batch cost: 0.5756758362301908\n",
      "2020-07-09 11:56:12,010:qiskit.aqua.algorithms.classifiers.vqc:DEBUG: Intermediate batch cost: 0.5773106686782987\n",
      "2020-07-09 11:56:12,013:qiskit.aqua.components.optimizers.spsa:DEBUG: Objective function at theta+ for step # 85: 0.5756758\n",
      "2020-07-09 11:56:12,014:qiskit.aqua.components.optimizers.spsa:DEBUG: Objective function at theta- for step # 85: 0.5773107\n",
      "2020-07-09 11:56:17,611:qiskit.aqua.algorithms.classifiers.vqc:DEBUG: Intermediate batch cost: 0.5799409379327296\n",
      "2020-07-09 11:56:23,205:qiskit.aqua.algorithms.classifiers.vqc:DEBUG: Intermediate batch cost: 0.5761543294794308\n",
      "2020-07-09 11:56:23,207:qiskit.aqua.components.optimizers.spsa:DEBUG: Objective function at theta+ for step # 86: 0.5799409\n",
      "2020-07-09 11:56:23,208:qiskit.aqua.components.optimizers.spsa:DEBUG: Objective function at theta- for step # 86: 0.5761543\n"
     ]
    },
    {
     "name": "stderr",
     "output_type": "stream",
     "text": [
      "2020-07-09 11:56:28,775:qiskit.aqua.algorithms.classifiers.vqc:DEBUG: Intermediate batch cost: 0.57559830208877\n",
      "2020-07-09 11:56:34,349:qiskit.aqua.algorithms.classifiers.vqc:DEBUG: Intermediate batch cost: 0.5779928398408744\n",
      "2020-07-09 11:56:34,351:qiskit.aqua.components.optimizers.spsa:DEBUG: Objective function at theta+ for step # 87: 0.5755983\n",
      "2020-07-09 11:56:34,352:qiskit.aqua.components.optimizers.spsa:DEBUG: Objective function at theta- for step # 87: 0.5779928\n",
      "2020-07-09 11:56:40,079:qiskit.aqua.algorithms.classifiers.vqc:DEBUG: Intermediate batch cost: 0.5763472357000441\n",
      "2020-07-09 11:56:47,583:qiskit.aqua.algorithms.classifiers.vqc:DEBUG: Intermediate batch cost: 0.5772294046286555\n",
      "2020-07-09 11:56:47,586:qiskit.aqua.components.optimizers.spsa:DEBUG: Objective function at theta+ for step # 88: 0.5763472\n",
      "2020-07-09 11:56:47,587:qiskit.aqua.components.optimizers.spsa:DEBUG: Objective function at theta- for step # 88: 0.5772294\n",
      "2020-07-09 11:56:54,680:qiskit.aqua.algorithms.classifiers.vqc:DEBUG: Intermediate batch cost: 0.5805059871468936\n",
      "2020-07-09 11:57:01,985:qiskit.aqua.algorithms.classifiers.vqc:DEBUG: Intermediate batch cost: 0.5798598975361063\n",
      "2020-07-09 11:57:01,988:qiskit.aqua.components.optimizers.spsa:DEBUG: Objective function at theta+ for step # 89: 0.5805060\n",
      "2020-07-09 11:57:01,989:qiskit.aqua.components.optimizers.spsa:DEBUG: Objective function at theta- for step # 89: 0.5798599\n",
      "2020-07-09 11:57:07,747:qiskit.aqua.algorithms.classifiers.vqc:DEBUG: Intermediate batch cost: 0.5768298697854506\n",
      "2020-07-09 11:57:13,344:qiskit.aqua.algorithms.classifiers.vqc:DEBUG: Intermediate batch cost: 0.5793566398199391\n",
      "2020-07-09 11:57:13,346:qiskit.aqua.components.optimizers.spsa:DEBUG: Objective function at theta+ for step # 90: 0.5768299\n",
      "2020-07-09 11:57:13,347:qiskit.aqua.components.optimizers.spsa:DEBUG: Objective function at theta- for step # 90: 0.5793566\n",
      "2020-07-09 11:57:18,972:qiskit.aqua.algorithms.classifiers.vqc:DEBUG: Intermediate batch cost: 0.5766162033197955\n",
      "2020-07-09 11:57:24,490:qiskit.aqua.algorithms.classifiers.vqc:DEBUG: Intermediate batch cost: 0.5790935565081063\n",
      "2020-07-09 11:57:24,493:qiskit.aqua.components.optimizers.spsa:DEBUG: Objective function at theta+ for step # 91: 0.5766162\n",
      "2020-07-09 11:57:24,495:qiskit.aqua.components.optimizers.spsa:DEBUG: Objective function at theta- for step # 91: 0.5790936\n",
      "2020-07-09 11:57:30,074:qiskit.aqua.algorithms.classifiers.vqc:DEBUG: Intermediate batch cost: 0.5788552224749108\n",
      "2020-07-09 11:57:35,596:qiskit.aqua.algorithms.classifiers.vqc:DEBUG: Intermediate batch cost: 0.5748080640434492\n",
      "2020-07-09 11:57:35,599:qiskit.aqua.components.optimizers.spsa:DEBUG: Objective function at theta+ for step # 92: 0.5788552\n",
      "2020-07-09 11:57:35,599:qiskit.aqua.components.optimizers.spsa:DEBUG: Objective function at theta- for step # 92: 0.5748081\n",
      "2020-07-09 11:57:41,287:qiskit.aqua.algorithms.classifiers.vqc:DEBUG: Intermediate batch cost: 0.5780585025367219\n",
      "2020-07-09 11:57:46,809:qiskit.aqua.algorithms.classifiers.vqc:DEBUG: Intermediate batch cost: 0.5786295044979459\n",
      "2020-07-09 11:57:46,812:qiskit.aqua.components.optimizers.spsa:DEBUG: Objective function at theta+ for step # 93: 0.5780585\n",
      "2020-07-09 11:57:46,812:qiskit.aqua.components.optimizers.spsa:DEBUG: Objective function at theta- for step # 93: 0.5786295\n",
      "2020-07-09 11:57:52,272:qiskit.aqua.algorithms.classifiers.vqc:DEBUG: Intermediate batch cost: 0.5761106450412716\n",
      "2020-07-09 11:57:57,869:qiskit.aqua.algorithms.classifiers.vqc:DEBUG: Intermediate batch cost: 0.5777150435559525\n",
      "2020-07-09 11:57:57,871:qiskit.aqua.components.optimizers.spsa:DEBUG: Objective function at theta+ for step # 94: 0.5761106\n",
      "2020-07-09 11:57:57,872:qiskit.aqua.components.optimizers.spsa:DEBUG: Objective function at theta- for step # 94: 0.5777150\n",
      "2020-07-09 11:58:03,781:qiskit.aqua.algorithms.classifiers.vqc:DEBUG: Intermediate batch cost: 0.5778518268827849\n",
      "2020-07-09 11:58:11,466:qiskit.aqua.algorithms.classifiers.vqc:DEBUG: Intermediate batch cost: 0.5743458617134417\n",
      "2020-07-09 11:58:11,468:qiskit.aqua.components.optimizers.spsa:DEBUG: Objective function at theta+ for step # 95: 0.5778518\n",
      "2020-07-09 11:58:11,469:qiskit.aqua.components.optimizers.spsa:DEBUG: Objective function at theta- for step # 95: 0.5743459\n",
      "2020-07-09 11:58:20,537:qiskit.aqua.algorithms.classifiers.vqc:DEBUG: Intermediate batch cost: 0.5802309625534927\n",
      "2020-07-09 11:58:28,095:qiskit.aqua.algorithms.classifiers.vqc:DEBUG: Intermediate batch cost: 0.575115972282524\n",
      "2020-07-09 11:58:28,097:qiskit.aqua.components.optimizers.spsa:DEBUG: Objective function at theta+ for step # 96: 0.5802310\n",
      "2020-07-09 11:58:28,098:qiskit.aqua.components.optimizers.spsa:DEBUG: Objective function at theta- for step # 96: 0.5751160\n",
      "2020-07-09 11:58:34,617:qiskit.aqua.algorithms.classifiers.vqc:DEBUG: Intermediate batch cost: 0.5806557086107749\n",
      "2020-07-09 11:58:41,470:qiskit.aqua.algorithms.classifiers.vqc:DEBUG: Intermediate batch cost: 0.5727089885212584\n",
      "2020-07-09 11:58:41,473:qiskit.aqua.components.optimizers.spsa:DEBUG: Objective function at theta+ for step # 97: 0.5806557\n",
      "2020-07-09 11:58:41,474:qiskit.aqua.components.optimizers.spsa:DEBUG: Objective function at theta- for step # 97: 0.5727090\n",
      "2020-07-09 11:58:47,870:qiskit.aqua.algorithms.classifiers.vqc:DEBUG: Intermediate batch cost: 0.577982779295733\n",
      "2020-07-09 11:58:54,089:qiskit.aqua.algorithms.classifiers.vqc:DEBUG: Intermediate batch cost: 0.574434495217338\n",
      "2020-07-09 11:58:54,092:qiskit.aqua.components.optimizers.spsa:DEBUG: Objective function at theta+ for step # 98: 0.5779828\n",
      "2020-07-09 11:58:54,093:qiskit.aqua.components.optimizers.spsa:DEBUG: Objective function at theta- for step # 98: 0.5744345\n",
      "2020-07-09 11:58:59,677:qiskit.aqua.algorithms.classifiers.vqc:DEBUG: Intermediate batch cost: 0.5729985084725011\n",
      "2020-07-09 11:59:05,390:qiskit.aqua.algorithms.classifiers.vqc:DEBUG: Intermediate batch cost: 0.5757243975424495\n",
      "2020-07-09 11:59:05,393:qiskit.aqua.components.optimizers.spsa:DEBUG: Objective function at theta+ for step # 99: 0.5729985\n",
      "2020-07-09 11:59:05,393:qiskit.aqua.components.optimizers.spsa:DEBUG: Objective function at theta- for step # 99: 0.5757244\n",
      "2020-07-09 11:59:10,856:qiskit.aqua.algorithms.classifiers.vqc:DEBUG: Intermediate batch cost: 0.5708651138876153\n",
      "2020-07-09 11:59:10,858:qiskit.aqua.components.optimizers.spsa:DEBUG: Final objective function is: 0.5708651\n",
      "2020-07-09 11:59:10,860:qiskit.aqua.algorithms.classifiers.vqc:INFO: Optimization complete in 1534.7149600982666 seconds.\n",
      "Found opt_params [ 2.24243599 -0.96197597 -0.41476977  1.61820709 -2.20457435 -1.67499532\n",
      " -0.42804924 -1.43737531 -3.8274098  -1.95020636 -2.10192134  1.782085\n",
      "  1.02450141 -1.7118137  -1.31755113 -1.29824418  0.12164387  1.46958846\n",
      "  0.85306005  0.87039568 -0.45087907 -3.20395812 -1.64324501  1.61258522\n",
      " -0.27506399 -0.80918992 -0.22527734 -0.85513933  0.36583351 -0.95070445] in 241 evals\n"
     ]
    }
   ],
   "source": [
    "# \n",
    "\n",
    "seed = 10598\n",
    "\n",
    "vqc_encode_only_log = []\n",
    "def loss_history_callback(_, __, loss, ___):\n",
    "    vqc_encode_only_log.append(loss)\n",
    "\n",
    "qsvm_encode = VQC(SPSA(100), feature_map, var_form, training_input, callback=loss_history_callback)\n",
    "\n",
    "# provider = IBMQ.get_provider(hub='ibm-q-utokyo')\n",
    "# backend = provider.get_backend('ibmq_johannesburg')\n",
    "\n",
    "backend = BasicAer.get_backend('qasm_simulator')\n",
    "quantum_instance = QuantumInstance(backend, shots=1024, seed_simulator=seed, seed_transpiler=seed)\n",
    "\n",
    "\n",
    "result = qsvm_encode.run(quantum_instance)\n"
   ]
  },
  {
   "cell_type": "code",
   "execution_count": 88,
   "metadata": {
    "scrolled": true
   },
   "outputs": [
    {
     "name": "stderr",
     "output_type": "stream",
     "text": [
      "2020-07-09 11:59:10,874:qiskit.aqua.algorithms.classifiers.vqc:DEBUG: Predicting batch 0\n"
     ]
    },
    {
     "data": {
      "text/plain": [
       "(0.7324561403508771, 0.5673758865248227)"
      ]
     },
     "execution_count": 88,
     "metadata": {},
     "output_type": "execute_result"
    }
   ],
   "source": [
    "# Train acc\n",
    "\n",
    "y_pred = qsvm_encode.predict(df_train_encode)[1]\n",
    "\n",
    "np.mean(y_pred == y_train), f1_score(y_train, y_pred)"
   ]
  },
  {
   "cell_type": "code",
   "execution_count": 89,
   "metadata": {},
   "outputs": [
    {
     "name": "stderr",
     "output_type": "stream",
     "text": [
      "2020-07-09 11:59:15,235:qiskit.aqua.algorithms.classifiers.vqc:DEBUG: Predicting batch 0\n"
     ]
    },
    {
     "data": {
      "text/plain": [
       "(0.7241379310344828, 0.4666666666666667)"
      ]
     },
     "execution_count": 89,
     "metadata": {},
     "output_type": "execute_result"
    }
   ],
   "source": [
    "# Test acc\n",
    "\n",
    "y_pred = qsvm_encode.predict(df_test_encode)[1]\n",
    "\n",
    "np.mean(y_pred == y_test), f1_score(y_test, y_pred)"
   ]
  },
  {
   "cell_type": "code",
   "execution_count": 90,
   "metadata": {},
   "outputs": [],
   "source": [
    "qsvm_encode.save_model('models/VQC_just_encode_v2_model_4_rudy_feature')"
   ]
  },
  {
   "cell_type": "markdown",
   "metadata": {},
   "source": [
    "# Real machine"
   ]
  },
  {
   "cell_type": "code",
   "execution_count": 99,
   "metadata": {},
   "outputs": [],
   "source": [
    "training_input = {\n",
    "    0: df_train_encode[y_train == 0],\n",
    "    1: double(df_train_encode[y_train == 1])\n",
    "}\n",
    "\n",
    "test_input = {\n",
    "    0: df_test_encode[y_test == 0],\n",
    "    1: df_test_encode[y_test == 1]\n",
    "}"
   ]
  },
  {
   "cell_type": "code",
   "execution_count": 100,
   "metadata": {
    "scrolled": true
   },
   "outputs": [
    {
     "name": "stderr",
     "output_type": "stream",
     "text": [
      "/Users/barnrang/miniconda3/envs/liigo/lib/python3.6/site-packages/ipykernel_launcher.py:11: DeprecationWarning: The qiskit.aqua.components.variational_forms.RYRZ object is deprecated as of 0.7.0 and will be removed no sooner than 3 months after the release. You should use qiskit.circuit.library.EfficientSU2 (uses CX entangling) or qiskit.circuit.library.TwoLocal instead.\n",
      "  # This is added back by InteractiveShellApp.init_path()\n"
     ]
    },
    {
     "data": {
      "image/png": "[encoded data removed]",
      "text/plain": [
       "<Figure size 298.592x204.68 with 1 Axes>"
      ]
     },
     "execution_count": 100,
     "metadata": {},
     "output_type": "execute_result"
    }
   ],
   "source": [
    "# Make feature map with encoder\n",
    "from qiskit.circuit import QuantumCircuit, Parameter\n",
    "from qiskit.circuit.library import TwoLocal\n",
    "from qiskit.aqua.algorithms import VQC\n",
    "# from qiskit.aqua.compo\n",
    "# feature_map = ZZFeatureMap(feature_dimension=3, reps=2, entanglement='linear')\n",
    "\n",
    "\n",
    "X = [Parameter(f'x[{i}]') for i in range(data.shape[1])]\n",
    "\n",
    "var_form = variational_forms.RYRZ(data.shape[1] // 2, depth=4)\n",
    "\n",
    "qc = QuantumCircuit(data.shape[1] // 2)\n",
    "\n",
    "for i in range(data.shape[1] // 2):\n",
    "    qc.u3(X[2*i], X[2*i+1], 0, i) # Encoder\n",
    "\n",
    "feature_map = qc #+ tmp1 + tmp2 \n",
    "feature_map.draw('mpl')"
   ]
  },
  {
   "cell_type": "code",
   "execution_count": null,
   "metadata": {
    "scrolled": true
   },
   "outputs": [],
   "source": [
    "# \n",
    "\n",
    "seed = 10598\n",
    "\n",
    "vqc_encode_only_log = []\n",
    "def loss_history_callback(_, __, loss, ___):\n",
    "    vqc_encode_only_log.append(loss)\n",
    "\n",
    "qsvm_encode = VQC(SPSA(100), feature_map, var_form, training_input, callback=loss_history_callback)\n",
    "\n",
    "provider = IBMQ.get_provider(hub='ibm-q-utokyo', project='qc2020s')\n",
    "backend = provider.get_backend('ibmq_johannesburg')\n",
    "\n",
    "# backend = BasicAer.get_backend('qasm_simulator')\n",
    "quantum_instance = QuantumInstance(backend, shots=1024, seed_simulator=seed, seed_transpiler=seed)\n",
    "\n",
    "\n",
    "result = qsvm_encode.run(quantum_instance)\n"
   ]
  },
  {
   "cell_type": "code",
   "execution_count": 105,
   "metadata": {
    "scrolled": true
   },
   "outputs": [
    {
     "name": "stderr",
     "output_type": "stream",
     "text": [
      "2020-07-10 19:06:20,478:qiskit.aqua.algorithms.classifiers.vqc:DEBUG: Predicting batch 0\n",
      "2020-07-10 19:06:35,291:qiskit.aqua.utils.run_circuits:INFO: Backend status: <qiskit.providers.models.backendstatus.BackendStatus object at 0x7fa8ee21e7b8>\n",
      "2020-07-10 19:06:35,295:qiskit.aqua.utils.run_circuits:INFO: There are 1 jobs are submitted.\n",
      "2020-07-10 19:06:35,296:qiskit.aqua.utils.run_circuits:INFO: All job ids:\n",
      "['5f083da286d5b7001af63d96']\n",
      "2020-07-10 19:06:35,300:qiskit.aqua.utils.run_circuits:INFO: Running 0-th qobj, job id: 5f083da286d5b7001af63d96\n",
      "2020-07-10 19:06:36,301:qiskit.aqua.utils.run_circuits:INFO: Job id: 5f083da286d5b7001af63d96, status: JobStatus.VALIDATING\n",
      "2020-07-10 19:06:41,630:qiskit.aqua.utils.run_circuits:INFO: Job id: 5f083da286d5b7001af63d96, status: JobStatus.RUNNING\n",
      "2020-07-10 19:06:47,293:qiskit.aqua.utils.run_circuits:INFO: Job id: 5f083da286d5b7001af63d96, status: JobStatus.RUNNING\n",
      "2020-07-10 19:06:52,990:qiskit.aqua.utils.run_circuits:INFO: Job id: 5f083da286d5b7001af63d96, status: JobStatus.RUNNING\n",
      "2020-07-10 19:06:58,671:qiskit.aqua.utils.run_circuits:INFO: Job id: 5f083da286d5b7001af63d96, status: JobStatus.RUNNING\n",
      "2020-07-10 19:07:04,308:qiskit.aqua.utils.run_circuits:INFO: Job id: 5f083da286d5b7001af63d96, status: JobStatus.RUNNING\n",
      "2020-07-10 19:07:10,179:qiskit.aqua.utils.run_circuits:INFO: Job id: 5f083da286d5b7001af63d96, status: JobStatus.RUNNING\n",
      "2020-07-10 19:07:16,050:qiskit.aqua.utils.run_circuits:INFO: Job id: 5f083da286d5b7001af63d96, status: JobStatus.RUNNING\n",
      "2020-07-10 19:07:21,691:qiskit.aqua.utils.run_circuits:INFO: Job id: 5f083da286d5b7001af63d96, status: JobStatus.RUNNING\n",
      "2020-07-10 19:07:27,346:qiskit.aqua.utils.run_circuits:INFO: Job id: 5f083da286d5b7001af63d96, status: JobStatus.RUNNING\n",
      "2020-07-10 19:07:33,059:qiskit.aqua.utils.run_circuits:INFO: Job id: 5f083da286d5b7001af63d96, status: JobStatus.RUNNING\n",
      "2020-07-10 19:07:38,753:qiskit.aqua.utils.run_circuits:INFO: Job id: 5f083da286d5b7001af63d96, status: JobStatus.RUNNING\n",
      "2020-07-10 19:07:44,403:qiskit.aqua.utils.run_circuits:INFO: Job id: 5f083da286d5b7001af63d96, status: JobStatus.RUNNING\n",
      "2020-07-10 19:07:50,108:qiskit.aqua.utils.run_circuits:INFO: Job id: 5f083da286d5b7001af63d96, status: JobStatus.RUNNING\n",
      "2020-07-10 19:07:55,882:qiskit.aqua.utils.run_circuits:INFO: Job id: 5f083da286d5b7001af63d96, status: JobStatus.RUNNING\n",
      "2020-07-10 19:08:01,551:qiskit.aqua.utils.run_circuits:INFO: Job id: 5f083da286d5b7001af63d96, status: JobStatus.RUNNING\n",
      "2020-07-10 19:08:07,261:qiskit.aqua.utils.run_circuits:INFO: Job id: 5f083da286d5b7001af63d96, status: JobStatus.RUNNING\n",
      "2020-07-10 19:08:12,983:qiskit.aqua.utils.run_circuits:INFO: Job id: 5f083da286d5b7001af63d96, status: JobStatus.RUNNING\n",
      "2020-07-10 19:08:18,643:qiskit.aqua.utils.run_circuits:INFO: Job id: 5f083da286d5b7001af63d96, status: JobStatus.RUNNING\n",
      "2020-07-10 19:08:24,340:qiskit.aqua.utils.run_circuits:INFO: Job id: 5f083da286d5b7001af63d96, status: JobStatus.RUNNING\n",
      "2020-07-10 19:08:30,186:qiskit.aqua.utils.run_circuits:INFO: Job id: 5f083da286d5b7001af63d96, status: JobStatus.RUNNING\n",
      "2020-07-10 19:08:36,125:qiskit.aqua.utils.run_circuits:INFO: Job id: 5f083da286d5b7001af63d96, status: JobStatus.RUNNING\n",
      "2020-07-10 19:08:41,859:qiskit.aqua.utils.run_circuits:INFO: Job id: 5f083da286d5b7001af63d96, status: JobStatus.RUNNING\n",
      "2020-07-10 19:08:47,495:qiskit.aqua.utils.run_circuits:INFO: Job id: 5f083da286d5b7001af63d96, status: JobStatus.RUNNING\n",
      "2020-07-10 19:08:53,174:qiskit.aqua.utils.run_circuits:INFO: Job id: 5f083da286d5b7001af63d96, status: JobStatus.RUNNING\n",
      "2020-07-10 19:08:58,884:qiskit.aqua.utils.run_circuits:INFO: Job id: 5f083da286d5b7001af63d96, status: JobStatus.RUNNING\n",
      "2020-07-10 19:09:04,544:qiskit.aqua.utils.run_circuits:INFO: Job id: 5f083da286d5b7001af63d96, status: JobStatus.RUNNING\n",
      "2020-07-10 19:09:10,217:qiskit.aqua.utils.run_circuits:INFO: Job id: 5f083da286d5b7001af63d96, status: JobStatus.RUNNING\n",
      "2020-07-10 19:09:15,962:qiskit.aqua.utils.run_circuits:INFO: Job id: 5f083da286d5b7001af63d96, status: JobStatus.RUNNING\n",
      "2020-07-10 19:09:21,339:qiskit.aqua.utils.run_circuits:INFO: Job id: 5f083da286d5b7001af63d96, status: JobStatus.RUNNING\n",
      "2020-07-10 19:09:26,751:qiskit.aqua.utils.run_circuits:INFO: Job id: 5f083da286d5b7001af63d96, status: JobStatus.RUNNING\n",
      "2020-07-10 19:09:32,382:qiskit.aqua.utils.run_circuits:INFO: Job id: 5f083da286d5b7001af63d96, status: JobStatus.RUNNING\n",
      "2020-07-10 19:09:38,001:qiskit.aqua.utils.run_circuits:INFO: Job id: 5f083da286d5b7001af63d96, status: JobStatus.RUNNING\n",
      "2020-07-10 19:09:43,710:qiskit.aqua.utils.run_circuits:INFO: Job id: 5f083da286d5b7001af63d96, status: JobStatus.RUNNING\n",
      "2020-07-10 19:09:49,561:qiskit.aqua.utils.run_circuits:INFO: Job id: 5f083da286d5b7001af63d96, status: JobStatus.RUNNING\n",
      "2020-07-10 19:09:55,224:qiskit.aqua.utils.run_circuits:INFO: Job id: 5f083da286d5b7001af63d96, status: JobStatus.RUNNING\n",
      "2020-07-10 19:10:01,037:qiskit.aqua.utils.run_circuits:INFO: Job id: 5f083da286d5b7001af63d96, status: JobStatus.RUNNING\n",
      "2020-07-10 19:10:06,665:qiskit.aqua.utils.run_circuits:INFO: Job id: 5f083da286d5b7001af63d96, status: JobStatus.RUNNING\n",
      "2020-07-10 19:10:12,127:qiskit.aqua.utils.run_circuits:INFO: Job id: 5f083da286d5b7001af63d96, status: JobStatus.RUNNING\n",
      "2020-07-10 19:10:17,791:qiskit.aqua.utils.run_circuits:INFO: Job id: 5f083da286d5b7001af63d96, status: JobStatus.RUNNING\n",
      "2020-07-10 19:10:23,489:qiskit.aqua.utils.run_circuits:INFO: Job id: 5f083da286d5b7001af63d96, status: JobStatus.RUNNING\n",
      "2020-07-10 19:10:29,161:qiskit.aqua.utils.run_circuits:INFO: Job id: 5f083da286d5b7001af63d96, status: JobStatus.RUNNING\n",
      "2020-07-10 19:10:34,809:qiskit.aqua.utils.run_circuits:INFO: Job id: 5f083da286d5b7001af63d96, status: JobStatus.RUNNING\n",
      "2020-07-10 19:10:40,566:qiskit.aqua.utils.run_circuits:INFO: Job id: 5f083da286d5b7001af63d96, status: JobStatus.RUNNING\n",
      "2020-07-10 19:10:46,199:qiskit.aqua.utils.run_circuits:INFO: Job id: 5f083da286d5b7001af63d96, status: JobStatus.RUNNING\n",
      "2020-07-10 19:10:51,561:qiskit.aqua.utils.run_circuits:INFO: Job id: 5f083da286d5b7001af63d96, status: JobStatus.RUNNING\n",
      "2020-07-10 19:10:57,218:qiskit.aqua.utils.run_circuits:INFO: Job id: 5f083da286d5b7001af63d96, status: JobStatus.RUNNING\n",
      "2020-07-10 19:11:04,820:qiskit.aqua.utils.run_circuits:INFO: COMPLETED the 0-th qobj, job id: 5f083da286d5b7001af63d96\n"
     ]
    },
    {
     "data": {
      "text/plain": [
       "(0.7324561403508771, 0.5611510791366907)"
      ]
     },
     "execution_count": 105,
     "metadata": {},
     "output_type": "execute_result"
    }
   ],
   "source": [
    "# Train acc\n",
    "\n",
    "y_pred = qsvm_encode.predict(df_train_encode)[1]\n",
    "\n",
    "np.mean(y_pred == y_train), f1_score(y_train, y_pred)"
   ]
  },
  {
   "cell_type": "code",
   "execution_count": 106,
   "metadata": {},
   "outputs": [
    {
     "name": "stderr",
     "output_type": "stream",
     "text": [
      "2020-07-10 19:11:04,941:qiskit.aqua.algorithms.classifiers.vqc:DEBUG: Predicting batch 0\n",
      "2020-07-10 19:11:10,863:qiskit.aqua.utils.run_circuits:INFO: Backend status: <qiskit.providers.models.backendstatus.BackendStatus object at 0x7fa8ee02e898>\n",
      "2020-07-10 19:11:10,865:qiskit.aqua.utils.run_circuits:INFO: There are 1 jobs are submitted.\n",
      "2020-07-10 19:11:10,867:qiskit.aqua.utils.run_circuits:INFO: All job ids:\n",
      "['5f083eba44f86e0019f3a1ee']\n",
      "2020-07-10 19:11:10,869:qiskit.aqua.utils.run_circuits:INFO: Running 0-th qobj, job id: 5f083eba44f86e0019f3a1ee\n",
      "2020-07-10 19:11:11,236:qiskit.aqua.utils.run_circuits:INFO: Job id: 5f083eba44f86e0019f3a1ee, status: JobStatus.VALIDATING\n",
      "2020-07-10 19:11:16,892:qiskit.aqua.utils.run_circuits:INFO: Job id: 5f083eba44f86e0019f3a1ee, status: JobStatus.RUNNING\n",
      "2020-07-10 19:11:22,273:qiskit.aqua.utils.run_circuits:INFO: Job id: 5f083eba44f86e0019f3a1ee, status: JobStatus.RUNNING\n",
      "2020-07-10 19:11:28,066:qiskit.aqua.utils.run_circuits:INFO: Job id: 5f083eba44f86e0019f3a1ee, status: JobStatus.RUNNING\n",
      "2020-07-10 19:11:33,586:qiskit.aqua.utils.run_circuits:INFO: Job id: 5f083eba44f86e0019f3a1ee, status: JobStatus.RUNNING\n",
      "2020-07-10 19:11:38,973:qiskit.aqua.utils.run_circuits:INFO: Job id: 5f083eba44f86e0019f3a1ee, status: JobStatus.RUNNING\n",
      "2020-07-10 19:11:44,870:qiskit.aqua.utils.run_circuits:INFO: Job id: 5f083eba44f86e0019f3a1ee, status: JobStatus.RUNNING\n",
      "2020-07-10 19:11:50,515:qiskit.aqua.utils.run_circuits:INFO: Job id: 5f083eba44f86e0019f3a1ee, status: JobStatus.RUNNING\n",
      "2020-07-10 19:11:56,236:qiskit.aqua.utils.run_circuits:INFO: Job id: 5f083eba44f86e0019f3a1ee, status: JobStatus.RUNNING\n",
      "2020-07-10 19:12:02,256:qiskit.aqua.utils.run_circuits:INFO: Job id: 5f083eba44f86e0019f3a1ee, status: JobStatus.RUNNING\n",
      "2020-07-10 19:12:07,886:qiskit.aqua.utils.run_circuits:INFO: Job id: 5f083eba44f86e0019f3a1ee, status: JobStatus.RUNNING\n",
      "2020-07-10 19:12:13,597:qiskit.aqua.utils.run_circuits:INFO: Job id: 5f083eba44f86e0019f3a1ee, status: JobStatus.RUNNING\n",
      "2020-07-10 19:12:19,404:qiskit.aqua.utils.run_circuits:INFO: Job id: 5f083eba44f86e0019f3a1ee, status: JobStatus.RUNNING\n",
      "2020-07-10 19:12:24,801:qiskit.aqua.utils.run_circuits:INFO: Job id: 5f083eba44f86e0019f3a1ee, status: JobStatus.RUNNING\n",
      "2020-07-10 19:12:30,421:qiskit.aqua.utils.run_circuits:INFO: Job id: 5f083eba44f86e0019f3a1ee, status: JobStatus.RUNNING\n",
      "2020-07-10 19:12:35,782:qiskit.aqua.utils.run_circuits:INFO: Job id: 5f083eba44f86e0019f3a1ee, status: JobStatus.RUNNING\n",
      "2020-07-10 19:12:41,408:qiskit.aqua.utils.run_circuits:INFO: Job id: 5f083eba44f86e0019f3a1ee, status: JobStatus.RUNNING\n",
      "2020-07-10 19:12:47,055:qiskit.aqua.utils.run_circuits:INFO: Job id: 5f083eba44f86e0019f3a1ee, status: JobStatus.RUNNING\n",
      "2020-07-10 19:12:52,747:qiskit.aqua.utils.run_circuits:INFO: Job id: 5f083eba44f86e0019f3a1ee, status: JobStatus.RUNNING\n",
      "2020-07-10 19:12:58,822:qiskit.aqua.utils.run_circuits:INFO: Job id: 5f083eba44f86e0019f3a1ee, status: JobStatus.RUNNING\n",
      "2020-07-10 19:13:04,542:qiskit.aqua.utils.run_circuits:INFO: Job id: 5f083eba44f86e0019f3a1ee, status: JobStatus.RUNNING\n",
      "2020-07-10 19:13:10,243:qiskit.aqua.utils.run_circuits:INFO: Job id: 5f083eba44f86e0019f3a1ee, status: JobStatus.RUNNING\n",
      "2020-07-10 19:13:15,897:qiskit.aqua.utils.run_circuits:INFO: Job id: 5f083eba44f86e0019f3a1ee, status: JobStatus.RUNNING\n",
      "2020-07-10 19:13:21,307:qiskit.aqua.utils.run_circuits:INFO: Job id: 5f083eba44f86e0019f3a1ee, status: JobStatus.RUNNING\n",
      "2020-07-10 19:13:27,167:qiskit.aqua.utils.run_circuits:INFO: Job id: 5f083eba44f86e0019f3a1ee, status: JobStatus.RUNNING\n",
      "2020-07-10 19:13:34,643:qiskit.aqua.utils.run_circuits:INFO: COMPLETED the 0-th qobj, job id: 5f083eba44f86e0019f3a1ee\n"
     ]
    },
    {
     "data": {
      "text/plain": [
       "(0.7068965517241379, 0.48484848484848486)"
      ]
     },
     "execution_count": 106,
     "metadata": {},
     "output_type": "execute_result"
    }
   ],
   "source": [
    "# Test acc\n",
    "\n",
    "y_pred = qsvm_encode.predict(df_test_encode)[1]\n",
    "\n",
    "np.mean(y_pred == y_test), f1_score(y_test, y_pred)"
   ]
  },
  {
   "cell_type": "code",
   "execution_count": 107,
   "metadata": {},
   "outputs": [],
   "source": [
    "qsvm_encode.save_model('models/VQC_just_encode_v2_real_model_4_rudy_feature')"
   ]
  },
  {
   "cell_type": "code",
   "execution_count": 98,
   "metadata": {},
   "outputs": [
    {
     "data": {
      "text/plain": [
       "<matplotlib.legend.Legend at 0x7fa8eb9a62b0>"
      ]
     },
     "execution_count": 98,
     "metadata": {},
     "output_type": "execute_result"
    },
    {
     "data": {
      "image/png": "[encoded data removed]",
      "text/plain": [
       "<Figure size 432x288 with 1 Axes>"
      ]
     },
     "metadata": {},
     "output_type": "display_data"
    }
   ],
   "source": [
    "# Get some plot\n",
    "# Training loss\n",
    "x_plot = np.arange(1, 242)\n",
    "\n",
    "plt.plot(x_plot, vqc_ordinal_log, label='Ordinal')\n",
    "plt.plot(x_plot, vqc_encode_only_log, label='Encode only')\n",
    "# plt.plot(x_plot, vqc_encode_zz_log, label='Encode+ZZ')\n",
    "plt.legend()"
   ]
  },
  {
   "cell_type": "code",
   "execution_count": 58,
   "metadata": {
    "ExecuteTime": {
     "end_time": "2019-08-22T01:49:36.816822Z",
     "start_time": "2019-08-22T01:49:36.806994Z"
    },
    "scrolled": true
   },
   "outputs": [
    {
     "data": {
      "text/html": [
       "<h3>Version Information</h3><table><tr><th>Qiskit Software</th><th>Version</th></tr><tr><td>Qiskit</td><td>0.19.2</td></tr><tr><td>Terra</td><td>0.14.1</td></tr><tr><td>Aer</td><td>0.5.1</td></tr><tr><td>Ignis</td><td>0.3.0</td></tr><tr><td>Aqua</td><td>0.7.1</td></tr><tr><td>IBM Q Provider</td><td>0.7.1</td></tr><tr><th>System information</th></tr><tr><td>Python</td><td>3.6.8 |Anaconda, Inc.| (default, Dec 29 2018, 19:04:46) \n",
       "[GCC 4.2.1 Compatible Clang 4.0.1 (tags/RELEASE_401/final)]</td></tr><tr><td>OS</td><td>Darwin</td></tr><tr><td>CPUs</td><td>2</td></tr><tr><td>Memory (Gb)</td><td>8.0</td></tr><tr><td colspan='2'>Wed Jul 08 11:44:05 2020 JST</td></tr></table>"
      ],
      "text/plain": [
       "<IPython.core.display.HTML object>"
      ]
     },
     "metadata": {},
     "output_type": "display_data"
    },
    {
     "data": {
      "text/html": [
       "<div style='width: 100%; background-color:#d5d9e0;padding-left: 10px; padding-bottom: 10px; padding-right: 10px; padding-top: 5px'><h3>This code is a part of Qiskit</h3><p>&copy; Copyright IBM 2017, 2020.</p><p>This code is licensed under the Apache License, Version 2.0. You may<br>obtain a copy of this license in the LICENSE.txt file in the root directory<br> of this source tree or at http://www.apache.org/licenses/LICENSE-2.0.<p>Any modifications or derivative works of this code must retain this<br>copyright notice, and modified files need to carry a notice indicating<br>that they have been altered from the originals.</p></div>"
      ],
      "text/plain": [
       "<IPython.core.display.HTML object>"
      ]
     },
     "metadata": {},
     "output_type": "display_data"
    }
   ],
   "source": [
    "import qiskit.tools.jupyter\n",
    "%qiskit_version_table\n",
    "%qiskit_copyright"
   ]
  },
  {
   "cell_type": "code",
   "execution_count": null,
   "metadata": {},
   "outputs": [],
   "source": []
  }
 ],
 "metadata": {
  "kernelspec": {
   "display_name": "Python 3",
   "language": "python",
   "name": "python3"
  },
  "language_info": {
   "codemirror_mode": {
    "name": "ipython",
    "version": 3
   },
   "file_extension": ".py",
   "mimetype": "text/x-python",
   "name": "python",
   "nbconvert_exporter": "python",
   "pygments_lexer": "ipython3",
   "version": "3.6.8"
  },
  "varInspector": {
   "cols": {
    "lenName": 16,
    "lenType": 16,
    "lenVar": 40
   },
   "kernels_config": {
    "python": {
     "delete_cmd_postfix": "",
     "delete_cmd_prefix": "del ",
     "library": "var_list.py",
     "varRefreshCmd": "print(var_dic_list())"
    },
    "r": {
     "delete_cmd_postfix": ") ",
     "delete_cmd_prefix": "rm(",
     "library": "var_list.r",
     "varRefreshCmd": "cat(var_dic_list()) "
    }
   },
   "types_to_exclude": [
    "module",
    "function",
    "builtin_function_or_method",
    "instance",
    "_Feature"
   ],
   "window_display": false
  }
 },
 "nbformat": 4,
 "nbformat_minor": 1
}
