{
 "cells": [
  {
   "cell_type": "code",
   "execution_count": 1,
   "metadata": {},
   "outputs": [],
   "source": [
    "import numpy as np\n",
    "import pandas as pd\n",
    "from sklearn import preprocessing\n",
    "from sklearn.model_selection import train_test_split\n",
    "from sklearn.ensemble import RandomForestClassifier\n",
    "from sklearn.metrics import f1_score\n",
    "\n",
    "from qiskit import IBMQ, BasicAer\n",
    "from qiskit.circuit.library import ZZFeatureMap, TwoLocal\n",
    "from qiskit.aqua import QuantumInstance\n",
    "from qiskit.aqua.algorithms import VQC\n",
    "from qiskit.aqua.components import variational_forms\n",
    "from qiskit.aqua.components.optimizers import COBYLA, ADAM\n",
    "\n",
    "from data_provider import load_titanic_pd\n",
    "from utils import record_test_result_for_kaggle\n",
    "\n",
    "\n",
    "provider = IBMQ.load_account()\n"
   ]
  },
  {
   "cell_type": "code",
   "execution_count": 2,
   "metadata": {},
   "outputs": [
    {
     "name": "stderr",
     "output_type": "stream",
     "text": [
      "/Users/kyoma/Documents/Course/quantum/qc_group_project/data_provider.py:45: SettingWithCopyWarning: \n",
      "A value is trying to be set on a copy of a slice from a DataFrame\n",
      "\n",
      "See the caveats in the documentation: https://pandas.pydata.org/pandas-docs/stable/user_guide/indexing.html#returning-a-view-versus-a-copy\n",
      "  df[col][i] = numer_map[df[col][i]]\n",
      "/Users/kyoma/.local/lib/python3.8/site-packages/pandas/core/ops/array_ops.py:253: FutureWarning: elementwise comparison failed; returning scalar instead, but in the future will perform elementwise comparison\n",
      "  res_values = method(rvalues)\n",
      "/Users/kyoma/Documents/Course/quantum/qc_group_project/data_provider.py:105: SettingWithCopyWarning: \n",
      "A value is trying to be set on a copy of a slice from a DataFrame\n",
      "\n",
      "See the caveats in the documentation: https://pandas.pydata.org/pandas-docs/stable/user_guide/indexing.html#returning-a-view-versus-a-copy\n",
      "  df[col][i] = value\n"
     ]
    },
    {
     "name": "stdout",
     "output_type": "stream",
     "text": [
      "     Survived  Pclass Sex Age  SibSp  Parch     Fare Embarked\n",
      "0           0       3   0  22      1      0   7.2500        0\n",
      "1           1       1   1  38      1      0  71.2833        1\n",
      "2           1       3   1  26      0      0   7.9250        0\n",
      "3           1       1   1  35      1      0  53.1000        0\n",
      "4           0       3   0  35      0      0   8.0500        0\n",
      "..        ...     ...  ..  ..    ...    ...      ...      ...\n",
      "886         0       2   0  27      0      0  13.0000        0\n",
      "887         1       1   1  19      0      0  30.0000        0\n",
      "888         0       3   1  30      1      2  23.4500        0\n",
      "889         1       1   0  26      0      0  30.0000        1\n",
      "890         0       3   0  32      0      0   7.7500        2\n",
      "\n",
      "[891 rows x 8 columns]\n",
      "-----\n",
      "Full features:\n",
      "Final train score: 0.979798\n",
      "Final F1 score: 0.973373\n"
     ]
    },
    {
     "name": "stderr",
     "output_type": "stream",
     "text": [
      "/Users/kyoma/Documents/Course/quantum/qc_group_project/data_provider.py:100: SettingWithCopyWarning: \n",
      "A value is trying to be set on a copy of a slice from a DataFrame\n",
      "\n",
      "See the caveats in the documentation: https://pandas.pydata.org/pandas-docs/stable/user_guide/indexing.html#returning-a-view-versus-a-copy\n",
      "  df[col][i] = value\n"
     ]
    }
   ],
   "source": [
    "np.random.seed(123123)\n",
    "\n",
    "train_file = \"train.csv\"\n",
    "test_file = \"test.csv\"\n",
    "\n",
    "df_train, y_train, df_test = load_titanic_pd(train_file, test_file)\n",
    "\n",
    "# model\n",
    "print(\"-----\\nFull features:\")\n",
    "model = RandomForestClassifier()\n",
    "model.fit(df_train, y_train)\n",
    "# Train score\n",
    "print(\"Final train score: %f\" % model.score(df_train, y_train))\n",
    "# F1 score\n",
    "print(\"Final F1 score: %f\" % f1_score(y_train, model.predict(df_train)))\n",
    "\n"
   ]
  },
  {
   "cell_type": "code",
   "execution_count": 3,
   "metadata": {},
   "outputs": [
    {
     "name": "stdout",
     "output_type": "stream",
     "text": [
      "Selected features: Fare,Age\n"
     ]
    }
   ],
   "source": [
    "col_num = 2\n",
    "mvp_col = df_train.columns[sorted(range(len(model.feature_importances_)),\n",
    "                                  key=lambda x: model.feature_importances_[x],\n",
    "                                  reverse=True)[:col_num]].tolist()\n",
    "\n",
    "print(\"Selected features: %s\" % \",\".join(mvp_col))\n",
    "\n"
   ]
  },
  {
   "cell_type": "code",
   "execution_count": 4,
   "metadata": {},
   "outputs": [
    {
     "name": "stdout",
     "output_type": "stream",
     "text": [
      "Postive sample num: 342\n",
      "Negative sample num: 549\n"
     ]
    }
   ],
   "source": [
    "df_train_q = df_train[mvp_col].values\n",
    "df_test_q = df_test[mvp_col].values\n",
    "\n",
    "# Choose balance 50 sample\n",
    "# 25 pos, 25 neg\n",
    "\n",
    "np.random.seed(777)\n",
    "\n",
    "pos_sample = 100\n",
    "neg_sample = 100\n",
    "\n",
    "y_train = np.array(y_train)\n",
    "pos_label = np.argwhere(y_train == 1).reshape([-1])\n",
    "chosen_pos_label_idx = pos_label[np.random.permutation(len(pos_label))[:pos_sample]]\n",
    "\n",
    "neg_label = np.argwhere(y_train == 0).reshape([-1])\n",
    "chosen_neg_label_idx = neg_label[np.random.permutation(len(neg_label))[:neg_sample]]\n",
    "\n",
    "print(\"Postive sample num: %d\" % len(pos_label))\n",
    "print(\"Negative sample num: %d\" % len(neg_label))"
   ]
  },
  {
   "cell_type": "code",
   "execution_count": 5,
   "metadata": {},
   "outputs": [
    {
     "name": "stdout",
     "output_type": "stream",
     "text": [
      "data prepared.\n"
     ]
    }
   ],
   "source": [
    "# Construct dict to feed QSVM\n",
    "training_input = {\n",
    "    0: df_train_q[chosen_pos_label_idx],\n",
    "    1: df_train_q[chosen_neg_label_idx]\n",
    "}\n",
    "\n",
    "test_input = df_test_q\n",
    "\n",
    "###### data prepared\n",
    "print(\"data prepared.\")"
   ]
  },
  {
   "cell_type": "code",
   "execution_count": 18,
   "metadata": {},
   "outputs": [],
   "source": [
    "df_kyo = df_train[mvp_col]\n",
    "#df_kyo = df_train[[\"Age\"]]"
   ]
  },
  {
   "cell_type": "code",
   "execution_count": 19,
   "metadata": {},
   "outputs": [
    {
     "name": "stdout",
     "output_type": "stream",
     "text": [
      "<class 'float'>\n"
     ]
    }
   ],
   "source": [
    "print(type(df_kyo[\"Age\"][0]))"
   ]
  },
  {
   "cell_type": "code",
   "execution_count": 20,
   "metadata": {},
   "outputs": [
    {
     "name": "stdout",
     "output_type": "stream",
     "text": [
      "248 8\n",
      "88 7\n"
     ]
    }
   ],
   "source": [
    "data = []\n",
    "\n",
    "for col_name in df_kyo.columns:\n",
    "    num_cat = len(np.unique(df_kyo[col_name]))\n",
    "    num_bit = int(np.ceil(np.log2(num_cat)))\n",
    "    \n",
    "    print(num_cat, num_bit)\n",
    "    \n",
    "    # Padding to x3 \n",
    "    if num_bit % 3 != 0:\n",
    "        num_bit = num_bit + (3 - (num_bit % 3))\n",
    "        \n",
    "        \n",
    "    num_qubit = num_bit // 3\n",
    "\n",
    "    features = []\n",
    "    for size in df_kyo[col_name]:\n",
    "        size = int(size)\n",
    "        # Get last num_bit digit and reverse\n",
    "        # 11 --> 001  | 011 --> 110 | 100\n",
    "        all_b_st = f\"{size:010b}\"[-num_bit:][::-1]\n",
    "\n",
    "        var_list = []\n",
    "        for i in range(num_qubit):\n",
    "            b_st = all_b_st[i * 3: (i+1) * 3]\n",
    "            \n",
    "            # b_st = b_1, b_2, b_3 = \\sqrt{3}r_x, \\sqrt{3}r_y, \\sqrt{3}r_z\n",
    "\n",
    "            if b_st[0] == '1':\n",
    "                theta = np.arccos(1/np.sqrt(3))\n",
    "            else:\n",
    "                theta = np.arccos(-1/np.sqrt(3))\n",
    "\n",
    "            if b_st[1] == '1' and b_st[2] == '1':\n",
    "                varphi = np.pi / 4\n",
    "\n",
    "            if b_st[1] == '1' and b_st[2] == '0':\n",
    "                varphi = 3 * np.pi / 4\n",
    "\n",
    "            if b_st[1] == '0' and b_st[2] == '0':\n",
    "                varphi = -3 * np.pi / 4\n",
    "\n",
    "            if b_st[1] == '0' and b_st[2] == '1':\n",
    "                varphi = -np.pi / 4\n",
    "\n",
    "            var_list += [theta, varphi]\n",
    "\n",
    "        features.append(var_list)\n",
    "#         print(size, var_list)\n",
    "    data.append(np.array(features))\n",
    "    \n",
    "data = np.concatenate(data, axis=1)"
   ]
  },
  {
   "cell_type": "code",
   "execution_count": 21,
   "metadata": {},
   "outputs": [
    {
     "data": {
      "text/plain": [
       "(      Fare Age\n",
       " 0   7.2500  22\n",
       " 1  71.2833  38\n",
       " 2   7.9250  26\n",
       " 3  53.1000  35\n",
       " 4   8.0500  35,\n",
       " array([[ 0.95531662,  0.78539816,  2.18627604, -2.35619449,  2.18627604,\n",
       "         -2.35619449,  2.18627604,  0.78539816,  2.18627604,  2.35619449,\n",
       "          2.18627604, -2.35619449],\n",
       "        [ 0.95531662,  0.78539816,  2.18627604, -2.35619449,  0.95531662,\n",
       "         -2.35619449,  2.18627604,  0.78539816,  2.18627604, -0.78539816,\n",
       "          2.18627604, -2.35619449],\n",
       "        [ 0.95531662,  0.78539816,  2.18627604, -2.35619449,  2.18627604,\n",
       "         -2.35619449,  2.18627604,  2.35619449,  0.95531662,  2.35619449,\n",
       "          2.18627604, -2.35619449],\n",
       "        [ 0.95531662, -0.78539816,  2.18627604,  0.78539816,  2.18627604,\n",
       "         -2.35619449,  0.95531662,  2.35619449,  2.18627604, -0.78539816,\n",
       "          2.18627604, -2.35619449],\n",
       "        [ 2.18627604, -2.35619449,  0.95531662, -2.35619449,  2.18627604,\n",
       "         -2.35619449,  0.95531662,  2.35619449,  2.18627604, -0.78539816,\n",
       "          2.18627604, -2.35619449]]))"
      ]
     },
     "execution_count": 21,
     "metadata": {},
     "output_type": "execute_result"
    }
   ],
   "source": [
    "# Show ordinal data vs encoded\n",
    "df_kyo.iloc[:5],data[:5]"
   ]
  },
  {
   "cell_type": "code",
   "execution_count": 22,
   "metadata": {},
   "outputs": [
    {
     "data": {
      "text/plain": [
       "numpy.ndarray"
      ]
     },
     "execution_count": 22,
     "metadata": {},
     "output_type": "execute_result"
    }
   ],
   "source": [
    "type(y_train)"
   ]
  },
  {
   "cell_type": "code",
   "execution_count": 23,
   "metadata": {},
   "outputs": [],
   "source": [
    "# Features for encoding\n",
    "\n",
    "np.random.seed(123123)\n",
    "\n",
    "df_train_encode, df_test_encode, y_train, y_test = train_test_split(data, y_train, test_size=0.2)"
   ]
  },
  {
   "cell_type": "code",
   "execution_count": 24,
   "metadata": {},
   "outputs": [],
   "source": [
    "# Construct dict to feed QSVM\n",
    "\n",
    "# Choose balance 50 sample\n",
    "\n",
    "np.random.seed(777)\n",
    "\n",
    "pos_sample = 60\n",
    "neg_sample = 60\n",
    "\n",
    "pos_label = np.argwhere(y_train == 1).reshape([-1])\n",
    "chosen_pos_label_idx = pos_label[np.random.permutation(len(pos_label))[:pos_sample]]\n",
    "\n",
    "neg_label = np.argwhere(y_train == 0).reshape([-1])\n",
    "chosen_neg_label_idx = neg_label[np.random.permutation(len(neg_label))[:neg_sample]]\n",
    "\n",
    "\n",
    "training_input = {\n",
    "    0: df_train_encode[chosen_neg_label_idx],\n",
    "    1: df_train_encode[chosen_pos_label_idx]\n",
    "}\n",
    "\n",
    "test_input = {\n",
    "    0: df_test_encode[y_test == 0],\n",
    "    1: df_test_encode[y_test == 1]\n",
    "}\n",
    "\n"
   ]
  },
  {
   "cell_type": "code",
   "execution_count": 26,
   "metadata": {},
   "outputs": [],
   "source": [
    "def double(x):\n",
    "    return np.concatenate([x, x], axis=0)"
   ]
  },
  {
   "cell_type": "code",
   "execution_count": 27,
   "metadata": {},
   "outputs": [],
   "source": [
    "training_input = {\n",
    "    0: df_train_encode[y_train == 0],\n",
    "    1: double(df_train_encode[y_train == 1])\n",
    "}\n",
    "\n",
    "test_input = {\n",
    "    0: df_test_encode[y_test == 0],\n",
    "    1: df_test_encode[y_test == 1]\n",
    "}"
   ]
  },
  {
   "cell_type": "code",
   "execution_count": 28,
   "metadata": {},
   "outputs": [
    {
     "name": "stderr",
     "output_type": "stream",
     "text": [
      "<ipython-input-28-b0d6024b795b>:11: DeprecationWarning: The qiskit.aqua.components.variational_forms.RYRZ object is deprecated as of 0.7.0 and will be removed no sooner than 3 months after the release. You should use qiskit.circuit.library.EfficientSU2 (uses CX entangling) or qiskit.circuit.library.TwoLocal instead.\n",
      "  var_form = variational_forms.RYRZ(data.shape[1] // 2)\n"
     ]
    },
    {
     "data": {
      "image/png": "[encoded data removed]",
      "text/plain": [
       "<Figure size 298.592x385.28 with 1 Axes>"
      ]
     },
     "execution_count": 28,
     "metadata": {},
     "output_type": "execute_result"
    }
   ],
   "source": [
    "# Make feature map with encoder\n",
    "from qiskit.circuit import QuantumCircuit, Parameter\n",
    "from qiskit.circuit.library import TwoLocal\n",
    "from qiskit.aqua.algorithms import VQC\n",
    "# from qiskit.aqua.compo\n",
    "# feature_map = ZZFeatureMap(feature_dimension=3, reps=2, entanglement='linear')\n",
    "\n",
    "\n",
    "X = [Parameter(f'x[{i}]') for i in range(data.shape[1])]\n",
    "\n",
    "var_form = variational_forms.RYRZ(data.shape[1] // 2)\n",
    "\n",
    "qc = QuantumCircuit(data.shape[1] // 2)\n",
    "\n",
    "for i in range(data.shape[1] // 2):\n",
    "    qc.u3(X[2*i], X[2*i+1], 0, i) # Encoder\n",
    "\n",
    "feature_map = qc #+ tmp1 + tmp2 \n",
    "feature_map.draw('mpl')"
   ]
  },
  {
   "cell_type": "code",
   "execution_count": 29,
   "metadata": {},
   "outputs": [
    {
     "data": {
      "text/plain": [
       "(534, 12)"
      ]
     },
     "execution_count": 29,
     "metadata": {},
     "output_type": "execute_result"
    }
   ],
   "source": [
    "training_input[1].shape"
   ]
  },
  {
   "cell_type": "code",
   "execution_count": 31,
   "metadata": {},
   "outputs": [],
   "source": [
    "# setup aqua logging\n",
    "import logging\n",
    "from qiskit.aqua import set_qiskit_aqua_logging\n",
    "set_qiskit_aqua_logging(logging.DEBUG)  # choose INFO, DEBUG to see the log"
   ]
  },
  {
   "cell_type": "code",
   "execution_count": 32,
   "metadata": {},
   "outputs": [
    {
     "name": "stderr",
     "output_type": "stream",
     "text": [
      "<ipython-input-32-ec25b01d06bf>:7: DeprecationWarning: \n",
      "            The <class 'qiskit.circuit.quantumcircuit.QuantumCircuit'> object as input for the VQC is deprecated as of 0.7.0 and will\n",
      "            be removed no earlier than 3 months after the release.\n",
      "            You should pass a QuantumCircuit object instead.\n",
      "            See also qiskit.circuit.library.n_local for a collection\n",
      "            of suitable circuits.\n",
      "  qsvm_encode = VQC(COBYLA(100), feature_map, var_form, training_input, callback=loss_history_callback)\n",
      "2020-07-08 19:05:30,002:qiskit.aqua.quantum_instance:INFO: \n",
      "Qiskit Terra version: 0.14.1\n",
      "Backend: 'qasm_simulator (BasicAer)', with following setting:\n",
      "{'basis_gates': ['u1', 'u2', 'u3', 'cx', 'id', 'unitary'], 'coupling_map': None}\n",
      "{'pass_manager': None, 'initial_layout': None, 'seed_transpiler': 25252, 'optimization_level': None}\n",
      "RunConfig(max_credits=10, seed_simulator=25252, shots=1024)\n",
      "{'timeout': None}\n",
      "{}\n",
      "{}\n",
      "Measurement mitigation: None\n",
      "2020-07-08 19:05:30,003:qiskit.aqua.algorithms.vq_algorithm:INFO: Starting optimizer.\n",
      "bounds=[(-3.141592653589793, 3.141592653589793), (-3.141592653589793, 3.141592653589793), (-3.141592653589793, 3.141592653589793), (-3.141592653589793, 3.141592653589793), (-3.141592653589793, 3.141592653589793), (-3.141592653589793, 3.141592653589793), (-3.141592653589793, 3.141592653589793), (-3.141592653589793, 3.141592653589793), (-3.141592653589793, 3.141592653589793), (-3.141592653589793, 3.141592653589793), (-3.141592653589793, 3.141592653589793), (-3.141592653589793, 3.141592653589793), (-3.141592653589793, 3.141592653589793), (-3.141592653589793, 3.141592653589793), (-3.141592653589793, 3.141592653589793), (-3.141592653589793, 3.141592653589793), (-3.141592653589793, 3.141592653589793), (-3.141592653589793, 3.141592653589793), (-3.141592653589793, 3.141592653589793), (-3.141592653589793, 3.141592653589793), (-3.141592653589793, 3.141592653589793), (-3.141592653589793, 3.141592653589793), (-3.141592653589793, 3.141592653589793), (-3.141592653589793, 3.141592653589793), (-3.141592653589793, 3.141592653589793), (-3.141592653589793, 3.141592653589793), (-3.141592653589793, 3.141592653589793), (-3.141592653589793, 3.141592653589793), (-3.141592653589793, 3.141592653589793), (-3.141592653589793, 3.141592653589793), (-3.141592653589793, 3.141592653589793), (-3.141592653589793, 3.141592653589793), (-3.141592653589793, 3.141592653589793), (-3.141592653589793, 3.141592653589793), (-3.141592653589793, 3.141592653589793), (-3.141592653589793, 3.141592653589793), (-3.141592653589793, 3.141592653589793), (-3.141592653589793, 3.141592653589793), (-3.141592653589793, 3.141592653589793), (-3.141592653589793, 3.141592653589793), (-3.141592653589793, 3.141592653589793), (-3.141592653589793, 3.141592653589793), (-3.141592653589793, 3.141592653589793), (-3.141592653589793, 3.141592653589793), (-3.141592653589793, 3.141592653589793), (-3.141592653589793, 3.141592653589793), (-3.141592653589793, 3.141592653589793), (-3.141592653589793, 3.141592653589793)]\n",
      "initial point=[ 0.23044841 -0.36099571 -0.08058681 -1.02918482  0.33537865  1.41921097\n",
      " -0.81290536  1.41660967  0.20830824 -1.08800936  0.71868384  1.28362874\n",
      " -0.75279622  0.9090198   0.10463003  1.68305438 -1.19771903  0.18740059\n",
      " -0.31087447 -0.50851543  0.07288235  1.58000235 -0.51821481  1.48517604\n",
      "  0.31483282 -1.05763432 -0.40866638 -0.28277094 -1.91200023  0.04217446\n",
      "  0.95418928 -1.09515247 -0.14829292  0.2424587   0.22731546  0.02591123\n",
      "  0.67514302 -0.23445315 -1.34896345 -0.89166281 -0.48256886  0.13701974\n",
      "  1.60925852  1.47969546 -2.3583082   0.57875861 -0.702895    0.44127704]\n",
      "2020-07-08 19:05:30,005:qiskit.aqua.components.optimizers.optimizer:DEBUG: WARNING: COBYLA does not support bounds. It will be ignored.\n",
      "2020-07-08 19:05:55,562:qiskit.aqua.algorithms.classifiers.vqc:DEBUG: Intermediate batch cost: 0.6960751293065156\n",
      "2020-07-08 19:06:22,868:qiskit.aqua.algorithms.classifiers.vqc:DEBUG: Intermediate batch cost: 0.6949739773900361\n",
      "2020-07-08 19:06:48,085:qiskit.aqua.algorithms.classifiers.vqc:DEBUG: Intermediate batch cost: 0.6940521850724302\n",
      "2020-07-08 19:07:13,863:qiskit.aqua.algorithms.classifiers.vqc:DEBUG: Intermediate batch cost: 0.6938023107058858\n",
      "2020-07-08 19:07:40,119:qiskit.aqua.algorithms.classifiers.vqc:DEBUG: Intermediate batch cost: 0.6896920257163385\n",
      "2020-07-08 19:08:06,248:qiskit.aqua.algorithms.classifiers.vqc:DEBUG: Intermediate batch cost: 0.6990936175111022\n",
      "2020-07-08 19:08:31,493:qiskit.aqua.algorithms.classifiers.vqc:DEBUG: Intermediate batch cost: 0.6966720274588357\n",
      "2020-07-08 19:08:57,605:qiskit.aqua.algorithms.classifiers.vqc:DEBUG: Intermediate batch cost: 0.6873585963848695\n",
      "2020-07-08 19:09:23,950:qiskit.aqua.algorithms.classifiers.vqc:DEBUG: Intermediate batch cost: 0.6898301627192641\n",
      "2020-07-08 19:09:49,902:qiskit.aqua.algorithms.classifiers.vqc:DEBUG: Intermediate batch cost: 0.6861050866576646\n",
      "2020-07-08 19:10:16,589:qiskit.aqua.algorithms.classifiers.vqc:DEBUG: Intermediate batch cost: 0.6835780128770338\n",
      "2020-07-08 19:10:44,690:qiskit.aqua.algorithms.classifiers.vqc:DEBUG: Intermediate batch cost: 0.6846411267852158\n",
      "2020-07-08 19:11:10,844:qiskit.aqua.algorithms.classifiers.vqc:DEBUG: Intermediate batch cost: 0.6832981266324779\n",
      "2020-07-08 19:11:35,853:qiskit.aqua.algorithms.classifiers.vqc:DEBUG: Intermediate batch cost: 0.6815571725933365\n",
      "2020-07-08 19:12:01,257:qiskit.aqua.algorithms.classifiers.vqc:DEBUG: Intermediate batch cost: 0.6849722185428503\n",
      "2020-07-08 19:12:26,634:qiskit.aqua.algorithms.classifiers.vqc:DEBUG: Intermediate batch cost: 0.6909891291399245\n",
      "2020-07-08 19:12:50,553:qiskit.aqua.algorithms.classifiers.vqc:DEBUG: Intermediate batch cost: 0.6879663988060186\n",
      "2020-07-08 19:13:14,766:qiskit.aqua.algorithms.classifiers.vqc:DEBUG: Intermediate batch cost: 0.685820910905057\n",
      "2020-07-08 19:13:38,867:qiskit.aqua.algorithms.classifiers.vqc:DEBUG: Intermediate batch cost: 0.6838960733132098\n",
      "2020-07-08 19:14:03,398:qiskit.aqua.algorithms.classifiers.vqc:DEBUG: Intermediate batch cost: 0.6837929258254958\n",
      "2020-07-08 19:14:29,472:qiskit.aqua.algorithms.classifiers.vqc:DEBUG: Intermediate batch cost: 0.6815790263210099\n",
      "2020-07-08 19:14:53,439:qiskit.aqua.algorithms.classifiers.vqc:DEBUG: Intermediate batch cost: 0.6898444711624852\n",
      "2020-07-08 19:15:18,779:qiskit.aqua.algorithms.classifiers.vqc:DEBUG: Intermediate batch cost: 0.6880800102876173\n",
      "2020-07-08 19:15:43,659:qiskit.aqua.algorithms.classifiers.vqc:DEBUG: Intermediate batch cost: 0.6908260157755465\n",
      "2020-07-08 19:16:10,155:qiskit.aqua.algorithms.classifiers.vqc:DEBUG: Intermediate batch cost: 0.6808180925007979\n",
      "2020-07-08 19:16:35,932:qiskit.aqua.algorithms.classifiers.vqc:DEBUG: Intermediate batch cost: 0.6945216992595746\n",
      "2020-07-08 19:17:01,410:qiskit.aqua.algorithms.classifiers.vqc:DEBUG: Intermediate batch cost: 0.6793432780499412\n",
      "2020-07-08 19:17:28,493:qiskit.aqua.algorithms.classifiers.vqc:DEBUG: Intermediate batch cost: 0.6891067116665877\n",
      "2020-07-08 19:17:54,747:qiskit.aqua.algorithms.classifiers.vqc:DEBUG: Intermediate batch cost: 0.6857818738731445\n",
      "2020-07-08 19:18:19,492:qiskit.aqua.algorithms.classifiers.vqc:DEBUG: Intermediate batch cost: 0.6811029378646744\n",
      "2020-07-08 19:18:45,639:qiskit.aqua.algorithms.classifiers.vqc:DEBUG: Intermediate batch cost: 0.6856780575473098\n",
      "2020-07-08 19:19:13,808:qiskit.aqua.algorithms.classifiers.vqc:DEBUG: Intermediate batch cost: 0.6857652972358581\n",
      "2020-07-08 19:19:38,807:qiskit.aqua.algorithms.classifiers.vqc:DEBUG: Intermediate batch cost: 0.6853222594695942\n",
      "2020-07-08 19:20:05,213:qiskit.aqua.algorithms.classifiers.vqc:DEBUG: Intermediate batch cost: 0.690108392941391\n",
      "2020-07-08 19:20:29,848:qiskit.aqua.algorithms.classifiers.vqc:DEBUG: Intermediate batch cost: 0.6855331309337795\n",
      "2020-07-08 19:20:53,925:qiskit.aqua.algorithms.classifiers.vqc:DEBUG: Intermediate batch cost: 0.6822690588655727\n",
      "2020-07-08 19:21:20,261:qiskit.aqua.algorithms.classifiers.vqc:DEBUG: Intermediate batch cost: 0.6853798579411544\n",
      "2020-07-08 19:21:44,280:qiskit.aqua.algorithms.classifiers.vqc:DEBUG: Intermediate batch cost: 0.6949498949362896\n",
      "2020-07-08 19:22:08,271:qiskit.aqua.algorithms.classifiers.vqc:DEBUG: Intermediate batch cost: 0.6793432780499412\n"
     ]
    },
    {
     "name": "stderr",
     "output_type": "stream",
     "text": [
      "2020-07-08 19:22:33,564:qiskit.aqua.algorithms.classifiers.vqc:DEBUG: Intermediate batch cost: 0.6875450908306127\n",
      "2020-07-08 19:22:58,392:qiskit.aqua.algorithms.classifiers.vqc:DEBUG: Intermediate batch cost: 0.6793432780499412\n",
      "2020-07-08 19:23:23,003:qiskit.aqua.algorithms.classifiers.vqc:DEBUG: Intermediate batch cost: 0.6819560251589475\n",
      "2020-07-08 19:23:46,350:qiskit.aqua.algorithms.classifiers.vqc:DEBUG: Intermediate batch cost: 0.6793432780499412\n",
      "2020-07-08 19:24:10,422:qiskit.aqua.algorithms.classifiers.vqc:DEBUG: Intermediate batch cost: 0.6846883677840226\n",
      "2020-07-08 19:24:36,297:qiskit.aqua.algorithms.classifiers.vqc:DEBUG: Intermediate batch cost: 0.6793432780499412\n",
      "2020-07-08 19:25:02,917:qiskit.aqua.algorithms.classifiers.vqc:DEBUG: Intermediate batch cost: 0.6893950296175039\n",
      "2020-07-08 19:25:29,412:qiskit.aqua.algorithms.classifiers.vqc:DEBUG: Intermediate batch cost: 0.6793432780499412\n",
      "2020-07-08 19:25:54,324:qiskit.aqua.algorithms.classifiers.vqc:DEBUG: Intermediate batch cost: 0.6851654681555291\n",
      "2020-07-08 19:26:21,599:qiskit.aqua.algorithms.classifiers.vqc:DEBUG: Intermediate batch cost: 0.6793432780499412\n",
      "2020-07-08 19:26:47,693:qiskit.aqua.algorithms.classifiers.vqc:DEBUG: Intermediate batch cost: 0.6841197701551903\n",
      "2020-07-08 19:27:14,599:qiskit.aqua.algorithms.classifiers.vqc:DEBUG: Intermediate batch cost: 0.6800941723969125\n",
      "2020-07-08 19:27:44,545:qiskit.aqua.algorithms.classifiers.vqc:DEBUG: Intermediate batch cost: 0.6857825048577117\n",
      "2020-07-08 19:28:14,392:qiskit.aqua.algorithms.classifiers.vqc:DEBUG: Intermediate batch cost: 0.6810276913213306\n",
      "2020-07-08 19:28:46,989:qiskit.aqua.algorithms.classifiers.vqc:DEBUG: Intermediate batch cost: 0.6857008302371179\n",
      "2020-07-08 19:29:17,483:qiskit.aqua.algorithms.classifiers.vqc:DEBUG: Intermediate batch cost: 0.6789172806983229\n",
      "2020-07-08 19:29:46,438:qiskit.aqua.algorithms.classifiers.vqc:DEBUG: Intermediate batch cost: 0.6971371542030314\n",
      "2020-07-08 19:30:15,969:qiskit.aqua.algorithms.classifiers.vqc:DEBUG: Intermediate batch cost: 0.6823947350796926\n",
      "2020-07-08 19:30:45,480:qiskit.aqua.algorithms.classifiers.vqc:DEBUG: Intermediate batch cost: 0.6872762470387028\n",
      "2020-07-08 19:31:11,106:qiskit.aqua.algorithms.classifiers.vqc:DEBUG: Intermediate batch cost: 0.6836099543577528\n",
      "2020-07-08 19:31:37,297:qiskit.aqua.algorithms.classifiers.vqc:DEBUG: Intermediate batch cost: 0.6822722239113681\n",
      "2020-07-08 19:32:03,511:qiskit.aqua.algorithms.classifiers.vqc:DEBUG: Intermediate batch cost: 0.6828396382468572\n",
      "2020-07-08 19:32:31,346:qiskit.aqua.algorithms.classifiers.vqc:DEBUG: Intermediate batch cost: 0.6859542130736856\n",
      "2020-07-08 19:32:58,609:qiskit.aqua.algorithms.classifiers.vqc:DEBUG: Intermediate batch cost: 0.6823780293504164\n",
      "2020-07-08 19:33:28,741:qiskit.aqua.algorithms.classifiers.vqc:DEBUG: Intermediate batch cost: 0.6749338461912855\n",
      "2020-07-08 19:33:59,757:qiskit.aqua.algorithms.classifiers.vqc:DEBUG: Intermediate batch cost: 0.6786417854088173\n",
      "2020-07-08 19:34:26,547:qiskit.aqua.algorithms.classifiers.vqc:DEBUG: Intermediate batch cost: 0.6770366653856605\n",
      "2020-07-08 19:34:54,885:qiskit.aqua.algorithms.classifiers.vqc:DEBUG: Intermediate batch cost: 0.678520128230272\n",
      "2020-07-08 19:35:23,026:qiskit.aqua.algorithms.classifiers.vqc:DEBUG: Intermediate batch cost: 0.6755933837928711\n",
      "2020-07-08 19:35:49,939:qiskit.aqua.algorithms.classifiers.vqc:DEBUG: Intermediate batch cost: 0.6803864888602403\n",
      "2020-07-08 19:36:15,227:qiskit.aqua.algorithms.classifiers.vqc:DEBUG: Intermediate batch cost: 0.6749208735824693\n",
      "2020-07-08 19:36:41,952:qiskit.aqua.algorithms.classifiers.vqc:DEBUG: Intermediate batch cost: 0.678189823959718\n",
      "2020-07-08 19:37:10,834:qiskit.aqua.algorithms.classifiers.vqc:DEBUG: Intermediate batch cost: 0.675880333081273\n",
      "2020-07-08 19:37:39,068:qiskit.aqua.algorithms.classifiers.vqc:DEBUG: Intermediate batch cost: 0.6795151613657884\n",
      "2020-07-08 19:38:08,798:qiskit.aqua.algorithms.classifiers.vqc:DEBUG: Intermediate batch cost: 0.6733218536817327\n",
      "2020-07-08 19:38:44,144:qiskit.aqua.algorithms.classifiers.vqc:DEBUG: Intermediate batch cost: 0.6756667716299332\n",
      "2020-07-08 19:39:21,796:qiskit.aqua.algorithms.classifiers.vqc:DEBUG: Intermediate batch cost: 0.6749672072797664\n",
      "2020-07-08 19:39:54,355:qiskit.aqua.algorithms.classifiers.vqc:DEBUG: Intermediate batch cost: 0.6780533747858446\n",
      "2020-07-08 19:40:23,405:qiskit.aqua.algorithms.classifiers.vqc:DEBUG: Intermediate batch cost: 0.6750210059751659\n",
      "2020-07-08 19:40:50,203:qiskit.aqua.algorithms.classifiers.vqc:DEBUG: Intermediate batch cost: 0.6768187272969242\n",
      "2020-07-08 19:41:17,082:qiskit.aqua.algorithms.classifiers.vqc:DEBUG: Intermediate batch cost: 0.6745245133242986\n",
      "2020-07-08 19:41:42,540:qiskit.aqua.algorithms.classifiers.vqc:DEBUG: Intermediate batch cost: 0.6773215257229568\n",
      "2020-07-08 19:42:09,172:qiskit.aqua.algorithms.classifiers.vqc:DEBUG: Intermediate batch cost: 0.6762070473131979\n",
      "2020-07-08 19:42:35,085:qiskit.aqua.algorithms.classifiers.vqc:DEBUG: Intermediate batch cost: 0.6755650855900797\n",
      "2020-07-08 19:42:59,666:qiskit.aqua.algorithms.classifiers.vqc:DEBUG: Intermediate batch cost: 0.6729938325152871\n",
      "2020-07-08 19:43:23,015:qiskit.aqua.algorithms.classifiers.vqc:DEBUG: Intermediate batch cost: 0.6800402515088767\n",
      "2020-07-08 19:43:47,265:qiskit.aqua.algorithms.classifiers.vqc:DEBUG: Intermediate batch cost: 0.6737699941440136\n",
      "2020-07-08 19:44:11,445:qiskit.aqua.algorithms.classifiers.vqc:DEBUG: Intermediate batch cost: 0.6759166049262525\n",
      "2020-07-08 19:44:35,771:qiskit.aqua.algorithms.classifiers.vqc:DEBUG: Intermediate batch cost: 0.6766570452496451\n",
      "2020-07-08 19:44:59,625:qiskit.aqua.algorithms.classifiers.vqc:DEBUG: Intermediate batch cost: 0.6763585069844777\n",
      "2020-07-08 19:45:23,487:qiskit.aqua.algorithms.classifiers.vqc:DEBUG: Intermediate batch cost: 0.677699306684624\n",
      "2020-07-08 19:45:48,630:qiskit.aqua.algorithms.classifiers.vqc:DEBUG: Intermediate batch cost: 0.6769304796972984\n",
      "2020-07-08 19:46:15,583:qiskit.aqua.algorithms.classifiers.vqc:DEBUG: Intermediate batch cost: 0.6767286317044702\n",
      "2020-07-08 19:46:39,588:qiskit.aqua.algorithms.classifiers.vqc:DEBUG: Intermediate batch cost: 0.6771349695201729\n",
      "2020-07-08 19:47:03,232:qiskit.aqua.algorithms.classifiers.vqc:DEBUG: Intermediate batch cost: 0.6767546590611213\n",
      "2020-07-08 19:47:26,587:qiskit.aqua.algorithms.classifiers.vqc:DEBUG: Intermediate batch cost: 0.675894959588534\n",
      "2020-07-08 19:47:51,112:qiskit.aqua.algorithms.classifiers.vqc:DEBUG: Intermediate batch cost: 0.6753327791709995\n",
      "2020-07-08 19:48:24,293:qiskit.aqua.algorithms.classifiers.vqc:DEBUG: Intermediate batch cost: 0.675931174653331\n",
      "2020-07-08 19:48:50,094:qiskit.aqua.algorithms.classifiers.vqc:DEBUG: Intermediate batch cost: 0.673758448067115\n",
      "2020-07-08 19:49:15,595:qiskit.aqua.algorithms.classifiers.vqc:DEBUG: Intermediate batch cost: 0.6775789743516517\n",
      "2020-07-08 19:49:40,264:qiskit.aqua.algorithms.classifiers.vqc:DEBUG: Intermediate batch cost: 0.6737334957777544\n",
      "2020-07-08 19:49:40,267:qiskit.aqua.algorithms.classifiers.vqc:INFO: Optimization complete in 2650.263527870178 seconds.\n",
      "Found opt_params [ 1.56170388  0.93474191  1.81275097  0.23937112  0.41680679  1.21092789\n",
      "  0.12967935  1.27658381  1.09701279  0.09355706  0.78974296  2.30782253\n",
      "  0.16583613  0.94277581  0.03340675  1.48523142 -1.17866656  0.41306597\n",
      " -0.43684121 -0.4125282   0.0214902   1.73372763 -0.58661217  2.59434641\n",
      "  0.07741864 -0.21240148 -0.39752229 -0.03759227 -1.76216787  0.11274525\n",
      "  0.84610247 -1.01841767 -0.1545029   0.31554026  0.35694538  0.10164817\n",
      "  0.5850543  -0.05413559 -1.31076437 -0.71134525 -0.34751579  0.3173373\n",
      "  1.69697517  1.66001302 -2.3521592   0.75907617 -0.62344387  0.62159459] in 100 evals\n"
     ]
    }
   ],
   "source": [
    "\n",
    "seed = 25252\n",
    "\n",
    "vqc_encode_only_log = []\n",
    "def loss_history_callback(_, __, loss, ___):\n",
    "    vqc_encode_only_log.append(loss)\n",
    "\n",
    "qsvm_encode = VQC(COBYLA(100), feature_map, var_form, training_input, callback=loss_history_callback)\n",
    "\n",
    "# provider = IBMQ.get_provider(hub='ibm-q-utokyo')\n",
    "# backend = provider.get_backend('ibmq_johannesburg')\n",
    "\n",
    "backend = BasicAer.get_backend('qasm_simulator')\n",
    "quantum_instance = QuantumInstance(backend, shots=1024, seed_simulator=seed, seed_transpiler=seed)\n",
    "\n",
    "\n",
    "result = qsvm_encode.run(quantum_instance)\n"
   ]
  },
  {
   "cell_type": "code",
   "execution_count": 33,
   "metadata": {},
   "outputs": [
    {
     "name": "stderr",
     "output_type": "stream",
     "text": [
      "2020-07-08 19:50:11,986:qiskit.aqua.algorithms.classifiers.vqc:DEBUG: Predicting batch 0\n"
     ]
    },
    {
     "data": {
      "text/plain": [
       "(0.5912921348314607, 0.5125628140703518)"
      ]
     },
     "execution_count": 33,
     "metadata": {},
     "output_type": "execute_result"
    }
   ],
   "source": [
    "# Train acc\n",
    "\n",
    "y_pred = qsvm_encode.predict(df_train_encode)[1]\n",
    "\n",
    "np.mean(y_pred == y_train), f1_score(y_train, y_pred)"
   ]
  },
  {
   "cell_type": "code",
   "execution_count": null,
   "metadata": {},
   "outputs": [],
   "source": [
    "###### building quantum dude\n",
    "seed = 10598\n",
    "# seed = 1024\n",
    "var_form = variational_forms.RYRZ(2)\n",
    "feature_map = ZZFeatureMap(feature_dimension=len(mvp_col), reps=2, entanglement='linear')\n",
    "qsvm = VQC(ADAM(100), feature_map, var_form, training_input)\n",
    "backend = BasicAer.get_backend('qasm_simulator')\n",
    "quantum_instance = QuantumInstance(backend, shots=1024, seed_simulator=seed, seed_transpiler=seed, optimization_level=3)\n",
    "result = qsvm.run(quantum_instance)\n",
    "\n",
    "y_pred = qsvm.predict(df_train_q)[1]\n",
    "print(\"Final train acc: %f\\nFinal train F1:%f\" % (np.mean(y_pred == y_train), f1_score(y_pred, y_train)))\n",
    "\n",
    "y_pred = qsvm.predict(df_test_q)[1]\n",
    "# print(y_pred)\n",
    "\n",
    "record_test_result_for_kaggle(y_pred, submission_file=\"quantum_submission.csv\")"
   ]
  },
  {
   "cell_type": "code",
   "execution_count": 36,
   "metadata": {},
   "outputs": [
    {
     "name": "stderr",
     "output_type": "stream",
     "text": [
      "2020-07-08 19:54:38,793:qiskit.aqua.algorithms.classifiers.vqc:DEBUG: Predicting batch 0\n"
     ]
    }
   ],
   "source": [
    "y_pred = qsvm_encode.predict(df_train_encode)[1]\n",
    "# print(y_pred)\n",
    "\n",
    "record_test_result_for_kaggle(y_pred, submission_file=\"quantum_submission.csv\")"
   ]
  },
  {
   "cell_type": "code",
   "execution_count": null,
   "metadata": {},
   "outputs": [],
   "source": []
  }
 ],
 "metadata": {
  "kernelspec": {
   "display_name": "Python 3",
   "language": "python",
   "name": "python3"
  },
  "language_info": {
   "codemirror_mode": {
    "name": "ipython",
    "version": 3
   },
   "file_extension": ".py",
   "mimetype": "text/x-python",
   "name": "python",
   "nbconvert_exporter": "python",
   "pygments_lexer": "ipython3",
   "version": "3.8.2"
  }
 },
 "nbformat": 4,
 "nbformat_minor": 4
}
